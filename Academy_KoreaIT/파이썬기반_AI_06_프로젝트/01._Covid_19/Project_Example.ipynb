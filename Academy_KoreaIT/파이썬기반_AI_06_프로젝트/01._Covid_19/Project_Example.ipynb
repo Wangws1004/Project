{
 "cells": [
  {
   "cell_type": "code",
   "execution_count": 1,
   "id": "87e67311",
   "metadata": {},
   "outputs": [
    {
     "name": "stdout",
     "output_type": "stream",
     "text": [
      "Requirement already satisfied: opencv-python in c:\\users\\administrator\\appdata\\local\\programs\\python\\python38\\lib\\site-packages (4.7.0.72)\n",
      "Requirement already satisfied: numpy>=1.17.0; python_version >= \"3.7\" in c:\\users\\administrator\\appdata\\local\\programs\\python\\python38\\lib\\site-packages (from opencv-python) (1.24.2)\n"
     ]
    },
    {
     "name": "stderr",
     "output_type": "stream",
     "text": [
      "WARNING: You are using pip version 20.2.1; however, version 23.1.2 is available.\n",
      "You should consider upgrading via the 'c:\\users\\administrator\\appdata\\local\\programs\\python\\python38\\python.exe -m pip install --upgrade pip' command.\n"
     ]
    }
   ],
   "source": [
    "!pip install opencv-python"
   ]
  },
  {
   "cell_type": "code",
   "execution_count": 2,
   "id": "227e85c1",
   "metadata": {},
   "outputs": [
    {
     "name": "stdout",
     "output_type": "stream",
     "text": [
      "Requirement already satisfied: matplotlib in c:\\users\\administrator\\appdata\\local\\programs\\python\\python38\\lib\\site-packages (3.7.1)\n",
      "Requirement already satisfied: pyparsing>=2.3.1 in c:\\users\\administrator\\appdata\\local\\programs\\python\\python38\\lib\\site-packages (from matplotlib) (3.0.9)\n",
      "Requirement already satisfied: kiwisolver>=1.0.1 in c:\\users\\administrator\\appdata\\local\\programs\\python\\python38\\lib\\site-packages (from matplotlib) (1.4.4)\n",
      "Requirement already satisfied: python-dateutil>=2.7 in c:\\users\\administrator\\appdata\\local\\programs\\python\\python38\\lib\\site-packages (from matplotlib) (2.8.2)\n",
      "Requirement already satisfied: packaging>=20.0 in c:\\users\\administrator\\appdata\\local\\programs\\python\\python38\\lib\\site-packages (from matplotlib) (23.0)\n",
      "Requirement already satisfied: numpy>=1.20 in c:\\users\\administrator\\appdata\\local\\programs\\python\\python38\\lib\\site-packages (from matplotlib) (1.24.2)\n",
      "Requirement already satisfied: cycler>=0.10 in c:\\users\\administrator\\appdata\\local\\programs\\python\\python38\\lib\\site-packages (from matplotlib) (0.11.0)\n",
      "Requirement already satisfied: contourpy>=1.0.1 in c:\\users\\administrator\\appdata\\local\\programs\\python\\python38\\lib\\site-packages (from matplotlib) (1.0.7)\n",
      "Requirement already satisfied: importlib-resources>=3.2.0; python_version < \"3.10\" in c:\\users\\administrator\\appdata\\local\\programs\\python\\python38\\lib\\site-packages (from matplotlib) (5.12.0)\n",
      "Requirement already satisfied: pillow>=6.2.0 in c:\\users\\administrator\\appdata\\local\\programs\\python\\python38\\lib\\site-packages (from matplotlib) (9.5.0)\n",
      "Requirement already satisfied: fonttools>=4.22.0 in c:\\users\\administrator\\appdata\\local\\programs\\python\\python38\\lib\\site-packages (from matplotlib) (4.40.0)\n",
      "Requirement already satisfied: six>=1.5 in c:\\users\\administrator\\appdata\\local\\programs\\python\\python38\\lib\\site-packages (from python-dateutil>=2.7->matplotlib) (1.16.0)\n",
      "Requirement already satisfied: zipp>=3.1.0; python_version < \"3.10\" in c:\\users\\administrator\\appdata\\local\\programs\\python\\python38\\lib\\site-packages (from importlib-resources>=3.2.0; python_version < \"3.10\"->matplotlib) (3.15.0)\n"
     ]
    },
    {
     "name": "stderr",
     "output_type": "stream",
     "text": [
      "WARNING: You are using pip version 20.2.1; however, version 23.1.2 is available.\n",
      "You should consider upgrading via the 'c:\\users\\administrator\\appdata\\local\\programs\\python\\python38\\python.exe -m pip install --upgrade pip' command.\n"
     ]
    }
   ],
   "source": [
    "!pip install matplotlib"
   ]
  },
  {
   "cell_type": "code",
   "execution_count": 3,
   "id": "5874d4ec",
   "metadata": {},
   "outputs": [
    {
     "name": "stdout",
     "output_type": "stream",
     "text": [
      "Requirement already satisfied: torch in c:\\users\\administrator\\appdata\\local\\programs\\python\\python38\\lib\\site-packages (2.0.1)\n",
      "Requirement already satisfied: typing-extensions in c:\\users\\administrator\\appdata\\local\\programs\\python\\python38\\lib\\site-packages (from torch) (4.5.0)\n",
      "Requirement already satisfied: jinja2 in c:\\users\\administrator\\appdata\\local\\programs\\python\\python38\\lib\\site-packages (from torch) (3.1.2)\n",
      "Requirement already satisfied: sympy in c:\\users\\administrator\\appdata\\local\\programs\\python\\python38\\lib\\site-packages (from torch) (1.12)\n",
      "Requirement already satisfied: networkx in c:\\users\\administrator\\appdata\\local\\programs\\python\\python38\\lib\\site-packages (from torch) (3.1)\n",
      "Requirement already satisfied: filelock in c:\\users\\administrator\\appdata\\local\\programs\\python\\python38\\lib\\site-packages (from torch) (3.12.2)\n",
      "Requirement already satisfied: MarkupSafe>=2.0 in c:\\users\\administrator\\appdata\\local\\programs\\python\\python38\\lib\\site-packages (from jinja2->torch) (2.1.2)\n",
      "Requirement already satisfied: mpmath>=0.19 in c:\\users\\administrator\\appdata\\local\\programs\\python\\python38\\lib\\site-packages (from sympy->torch) (1.3.0)\n"
     ]
    },
    {
     "name": "stderr",
     "output_type": "stream",
     "text": [
      "WARNING: You are using pip version 20.2.1; however, version 23.1.2 is available.\n",
      "You should consider upgrading via the 'c:\\users\\administrator\\appdata\\local\\programs\\python\\python38\\python.exe -m pip install --upgrade pip' command.\n"
     ]
    }
   ],
   "source": [
    "!pip install torch"
   ]
  },
  {
   "cell_type": "code",
   "execution_count": 4,
   "id": "896f9a39",
   "metadata": {},
   "outputs": [
    {
     "name": "stdout",
     "output_type": "stream",
     "text": [
      "Requirement already satisfied: torchvision in c:\\users\\administrator\\appdata\\local\\programs\\python\\python38\\lib\\site-packages (0.15.2)\n",
      "Requirement already satisfied: pillow!=8.3.*,>=5.3.0 in c:\\users\\administrator\\appdata\\local\\programs\\python\\python38\\lib\\site-packages (from torchvision) (9.5.0)\n",
      "Requirement already satisfied: numpy in c:\\users\\administrator\\appdata\\local\\programs\\python\\python38\\lib\\site-packages (from torchvision) (1.24.2)\n",
      "Requirement already satisfied: torch==2.0.1 in c:\\users\\administrator\\appdata\\local\\programs\\python\\python38\\lib\\site-packages (from torchvision) (2.0.1)\n",
      "Requirement already satisfied: requests in c:\\users\\administrator\\appdata\\local\\programs\\python\\python38\\lib\\site-packages (from torchvision) (2.31.0)\n",
      "Requirement already satisfied: sympy in c:\\users\\administrator\\appdata\\local\\programs\\python\\python38\\lib\\site-packages (from torch==2.0.1->torchvision) (1.12)\n",
      "Requirement already satisfied: typing-extensions in c:\\users\\administrator\\appdata\\local\\programs\\python\\python38\\lib\\site-packages (from torch==2.0.1->torchvision) (4.5.0)\n",
      "Requirement already satisfied: networkx in c:\\users\\administrator\\appdata\\local\\programs\\python\\python38\\lib\\site-packages (from torch==2.0.1->torchvision) (3.1)\n",
      "Requirement already satisfied: jinja2 in c:\\users\\administrator\\appdata\\local\\programs\\python\\python38\\lib\\site-packages (from torch==2.0.1->torchvision) (3.1.2)\n",
      "Requirement already satisfied: filelock in c:\\users\\administrator\\appdata\\local\\programs\\python\\python38\\lib\\site-packages (from torch==2.0.1->torchvision) (3.12.2)\n",
      "Requirement already satisfied: idna<4,>=2.5 in c:\\users\\administrator\\appdata\\local\\programs\\python\\python38\\lib\\site-packages (from requests->torchvision) (3.4)\n",
      "Requirement already satisfied: charset-normalizer<4,>=2 in c:\\users\\administrator\\appdata\\local\\programs\\python\\python38\\lib\\site-packages (from requests->torchvision) (3.1.0)\n",
      "Requirement already satisfied: certifi>=2017.4.17 in c:\\users\\administrator\\appdata\\local\\programs\\python\\python38\\lib\\site-packages (from requests->torchvision) (2022.12.7)\n",
      "Requirement already satisfied: urllib3<3,>=1.21.1 in c:\\users\\administrator\\appdata\\local\\programs\\python\\python38\\lib\\site-packages (from requests->torchvision) (1.26.15)\n",
      "Requirement already satisfied: mpmath>=0.19 in c:\\users\\administrator\\appdata\\local\\programs\\python\\python38\\lib\\site-packages (from sympy->torch==2.0.1->torchvision) (1.3.0)\n",
      "Requirement already satisfied: MarkupSafe>=2.0 in c:\\users\\administrator\\appdata\\local\\programs\\python\\python38\\lib\\site-packages (from jinja2->torch==2.0.1->torchvision) (2.1.2)\n"
     ]
    },
    {
     "name": "stderr",
     "output_type": "stream",
     "text": [
      "WARNING: You are using pip version 20.2.1; however, version 23.1.2 is available.\n",
      "You should consider upgrading via the 'c:\\users\\administrator\\appdata\\local\\programs\\python\\python38\\python.exe -m pip install --upgrade pip' command.\n"
     ]
    }
   ],
   "source": [
    "!pip install torchvision"
   ]
  },
  {
   "cell_type": "code",
   "execution_count": 2,
   "id": "9d12151a",
   "metadata": {},
   "outputs": [],
   "source": [
    "import os\n",
    "import cv2\n",
    "import matplotlib.pyplot as plt\n",
    "import torch\n",
    "from ipywidgets import interact\n",
    "from torch.utils.data import Dataset, DataLoader\n",
    "from torchvision import transforms, models\n",
    "from torch import nn"
   ]
  },
  {
   "cell_type": "markdown",
   "id": "6bec8df9",
   "metadata": {},
   "source": [
    "# 1. 이미지 파일 경로 불러오기"
   ]
  },
  {
   "cell_type": "code",
   "execution_count": 7,
   "id": "7abcda17",
   "metadata": {},
   "outputs": [],
   "source": [
    "image_files = []\n",
    "\n",
    "# './Covid19-dataset/train/'\n",
    "# 'Normal'\n",
    "def list_image_file(data_dir, sub_dir):\n",
    "    image_format = ['jpeg', 'jpg', 'png']\n",
    "    image_files = []\n",
    "    image_dir = os.path.join(data_dir, sub_dir) # './Covid19-dataset/train/Normal'\n",
    "#     print(image_dir)  \n",
    "    for file_path in os.listdir(image_dir):\n",
    "#         print(file_path)\n",
    "        if file_path.split('.')[-1] in image_format:\n",
    "            image_files.append(os.path.join(sub_dir, file_path))\n",
    "    return image_files"
   ]
  },
  {
   "cell_type": "code",
   "execution_count": 8,
   "id": "250c4abb",
   "metadata": {},
   "outputs": [],
   "source": [
    "data_dir = './Covid19-dataset/train/'\n",
    "normals_list = list_image_file(data_dir, 'Normal')\n",
    "covids_list = list_image_file(data_dir, 'Covid')\n",
    "pneumonias_list = list_image_file(data_dir, 'Viral Pneumonia')"
   ]
  },
  {
   "cell_type": "code",
   "execution_count": 9,
   "id": "40304184",
   "metadata": {},
   "outputs": [
    {
     "name": "stdout",
     "output_type": "stream",
     "text": [
      "70\n",
      "111\n",
      "70\n"
     ]
    }
   ],
   "source": [
    "print(len(normals_list))\n",
    "print(len(covids_list))\n",
    "print(len(pneumonias_list))"
   ]
  },
  {
   "cell_type": "markdown",
   "id": "518b9018",
   "metadata": {},
   "source": [
    "# 2. 이미지 파일을 RGB 3차원 배열로 불러오기"
   ]
  },
  {
   "cell_type": "code",
   "execution_count": 10,
   "id": "eac81bc6",
   "metadata": {},
   "outputs": [],
   "source": [
    "def get_RGB_image(data_dir, file_name):\n",
    "    image_file = os.path.join(data_dir, file_name)\n",
    "    image = cv2.imread(image_file)\n",
    "    image = cv2.cvtColor(image, cv2.COLOR_BGR2RGB)\n",
    "    return image"
   ]
  },
  {
   "cell_type": "code",
   "execution_count": 11,
   "id": "ff201d06",
   "metadata": {},
   "outputs": [
    {
     "data": {
      "text/plain": [
       "70"
      ]
     },
     "execution_count": 11,
     "metadata": {},
     "output_type": "execute_result"
    }
   ],
   "source": [
    "min_num_files = min(len(normals_list), len(covids_list), len(pneumonias_list))\n",
    "min_num_files"
   ]
  },
  {
   "cell_type": "code",
   "execution_count": 12,
   "id": "d512a04d",
   "metadata": {},
   "outputs": [
    {
     "data": {
      "application/vnd.jupyter.widget-view+json": {
       "model_id": "25cd3650795f434fa298e988787402ef",
       "version_major": 2,
       "version_minor": 0
      },
      "text/plain": [
       "interactive(children=(IntSlider(value=0, description='index', max=69), Output()), _dom_classes=('widget-intera…"
      ]
     },
     "metadata": {},
     "output_type": "display_data"
    }
   ],
   "source": [
    "@interact(index=(0, min_num_files-1))\n",
    "def show_samples(index=0):\n",
    "    normal_image = get_RGB_image(data_dir, normals_list[index])\n",
    "    covid_image = get_RGB_image(data_dir, covids_list[index])\n",
    "    pneumonia_image = get_RGB_image(data_dir, pneumonias_list[index])\n",
    "    \n",
    "    plt.figure(figsize=(12, 8))\n",
    "    \n",
    "    plt.subplot(131)\n",
    "    plt.title('Normal')\n",
    "    plt.imshow(normal_image)\n",
    "    \n",
    "    plt.subplot(132)\n",
    "    plt.title('Covid')\n",
    "    plt.imshow(covid_image)\n",
    "    \n",
    "    plt.subplot(133)\n",
    "    plt.title('Pneumonia')\n",
    "    plt.imshow(pneumonia_image)\n",
    "    plt.tight_layout() # 자동으로 레이아웃을 맞춰주는 함수"
   ]
  },
  {
   "cell_type": "markdown",
   "id": "50ddaae5",
   "metadata": {},
   "source": [
    "# 3. 학습 데이터셋 클래스 만들기\n",
    "* 데이터셋: 데이터(샘플, 정답)을 저장한 것\n",
    "* 데이터로더: 데이터셋을 접근하기 쉽게 객체(Iterable)로 감싼 것"
   ]
  },
  {
   "cell_type": "code",
   "execution_count": 13,
   "id": "83352981",
   "metadata": {},
   "outputs": [],
   "source": [
    "train_data_dir = './Covid19-dataset/train/'\n",
    "class_list = ['Normal', 'Covid', 'Viral Pneumonia']"
   ]
  },
  {
   "cell_type": "code",
   "execution_count": 14,
   "id": "cc152b8e",
   "metadata": {},
   "outputs": [],
   "source": [
    "class Chest_dataset(Dataset):\n",
    "    def __init__(self, data_dir, transform=None):\n",
    "        self.data_dir = data_dir\n",
    "        normals = list_image_file(data_dir, 'Normal')\n",
    "        covids = list_image_file(data_dir, 'Covid')\n",
    "        pneumonias = list_image_file(data_dir, 'Viral Pneumonia')\n",
    "        self.files_path = normals + covids + pneumonias\n",
    "        self.transform = transform\n",
    "            \n",
    "    def __len__(self):\n",
    "        return len(self.files_path)\n",
    "        \n",
    "    \n",
    "    def __getitem__(self, index):\n",
    "        image_file = os.path.join(self.data_dir, self.files_path[index])\n",
    "        image = cv2.imread(image_file)\n",
    "        image = cv2.cvtColor(image, cv2.COLOR_BGR2RGB)\n",
    "        # os.sep: 디렉토리 분리 문자를 리턴(/), Normal/01.jpeg\n",
    "        target = class_list.index(self.files_path[index].split(os.sep)[-2])\n",
    "        if self.transform:\n",
    "            image = self.transform(image)\n",
    "            target = torch.Tensor([target]).long()\n",
    "\n",
    "        return {'image':image, 'target':target}          "
   ]
  },
  {
   "cell_type": "code",
   "execution_count": 15,
   "id": "1165b731",
   "metadata": {},
   "outputs": [],
   "source": [
    "dset = Chest_dataset(train_data_dir)"
   ]
  },
  {
   "cell_type": "code",
   "execution_count": 16,
   "id": "02b53b14",
   "metadata": {},
   "outputs": [
    {
     "data": {
      "text/plain": [
       "<matplotlib.image.AxesImage at 0x1566d9dea90>"
      ]
     },
     "execution_count": 16,
     "metadata": {},
     "output_type": "execute_result"
    },
    {
     "data": {
      "image/png": "[encoded data removed]",
      "text/plain": [
       "<Figure size 640x480 with 1 Axes>"
      ]
     },
     "metadata": {},
     "output_type": "display_data"
    }
   ],
   "source": [
    "index = 100\n",
    "plt.title(class_list[dset[index]['target']])\n",
    "plt.imshow(dset[index]['image'])"
   ]
  },
  {
   "cell_type": "markdown",
   "id": "cd19ea80",
   "metadata": {},
   "source": [
    "# 4. 배열에 연산 가능한 텐서로 변환하기"
   ]
  },
  {
   "cell_type": "code",
   "execution_count": 17,
   "id": "5dbb792e",
   "metadata": {},
   "outputs": [],
   "source": [
    "transformer = transforms.Compose([\n",
    "    transforms.ToTensor(),\n",
    "    transforms.Resize((224, 224)),\n",
    "    transforms.Normalize(mean=[0.5, 0.5, 0.5], std=[0.5, 0.5, 0.5])\n",
    "])"
   ]
  },
  {
   "cell_type": "code",
   "execution_count": 18,
   "id": "6d464966",
   "metadata": {},
   "outputs": [],
   "source": [
    "train_dset = Chest_dataset(train_data_dir, transformer)"
   ]
  },
  {
   "cell_type": "code",
   "execution_count": 19,
   "id": "230b405c",
   "metadata": {},
   "outputs": [
    {
     "name": "stdout",
     "output_type": "stream",
     "text": [
      "torch.Size([3, 224, 224]) tensor([1])\n"
     ]
    },
    {
     "name": "stderr",
     "output_type": "stream",
     "text": [
      "c:\\users\\administrator\\appdata\\local\\programs\\python\\python38\\lib\\site-packages\\torchvision\\transforms\\functional.py:1603: UserWarning: The default value of the antialias parameter of all the resizing transforms (Resize(), RandomResizedCrop(), etc.) will change from None to True in v0.17, in order to be consistent across the PIL and Tensor backends. To suppress this warning, directly pass antialias=True (recommended, future default), antialias=None (current default, which means False for Tensors and True for PIL), or antialias=False (only works on Tensors - PIL will still use antialiasing). This also applies if you are using the inference transforms from the models weights: update the call to weights.transforms(antialias=True).\n",
      "  warnings.warn(\n"
     ]
    }
   ],
   "source": [
    "index = 100\n",
    "image = train_dset[index]['image']\n",
    "label = train_dset[index]['target']\n",
    "print(image.shape, label)"
   ]
  },
  {
   "cell_type": "markdown",
   "id": "8e8ae8da",
   "metadata": {},
   "source": [
    "# 5. 데이터 로더 구현하기"
   ]
  },
  {
   "cell_type": "code",
   "execution_count": 20,
   "id": "9738feca",
   "metadata": {},
   "outputs": [],
   "source": [
    "def build_dataloader(train_data_dir, val_data_dir):\n",
    "    dataloaders = {}\n",
    "    train_dset = Chest_dataset(train_data_dir, transformer)\n",
    "    # {'train': ..... }\n",
    "    dataloaders['train'] = DataLoader(train_dset, batch_size=4, shuffle=True, drop_last=True)\n",
    "    val_dset = Chest_dataset(val_data_dir, transformer)\n",
    "    # {'val': .... }\n",
    "    dataloaders['val'] = DataLoader(val_dset, batch_size=1, shuffle=False, drop_last=False)\n",
    "    return dataloaders"
   ]
  },
  {
   "cell_type": "code",
   "execution_count": 21,
   "id": "015445bb",
   "metadata": {},
   "outputs": [],
   "source": [
    "train_data_dir = './Covid19-dataset/train/' # 학습 데이터\n",
    "val_data_dir = './Covid19-dataset/test/' # 테스트 데이터\n",
    "dataloaders = build_dataloader(train_data_dir, val_data_dir)"
   ]
  },
  {
   "cell_type": "code",
   "execution_count": 22,
   "id": "dc8563e4",
   "metadata": {},
   "outputs": [
    {
     "name": "stdout",
     "output_type": "stream",
     "text": [
      "{'image': tensor([[[[-1.0000, -1.0000, -1.0000,  ..., -1.0000, -1.0000, -1.0000],\n",
      "          [-1.0000, -1.0000, -1.0000,  ..., -1.0000, -1.0000, -1.0000],\n",
      "          [-1.0000, -1.0000, -1.0000,  ..., -1.0000, -1.0000, -1.0000],\n",
      "          ...,\n",
      "          [-1.0000, -1.0000, -0.8196,  ..., -1.0000, -1.0000, -1.0000],\n",
      "          [-1.0000, -1.0000, -0.8196,  ..., -1.0000, -1.0000, -1.0000],\n",
      "          [-1.0000, -1.0000, -0.8196,  ..., -1.0000, -1.0000, -1.0000]],\n",
      "\n",
      "         [[-1.0000, -1.0000, -1.0000,  ..., -1.0000, -1.0000, -1.0000],\n",
      "          [-1.0000, -1.0000, -1.0000,  ..., -1.0000, -1.0000, -1.0000],\n",
      "          [-1.0000, -1.0000, -1.0000,  ..., -1.0000, -1.0000, -1.0000],\n",
      "          ...,\n",
      "          [-1.0000, -1.0000, -0.8196,  ..., -1.0000, -1.0000, -1.0000],\n",
      "          [-1.0000, -1.0000, -0.8196,  ..., -1.0000, -1.0000, -1.0000],\n",
      "          [-1.0000, -1.0000, -0.8196,  ..., -1.0000, -1.0000, -1.0000]],\n",
      "\n",
      "         [[-1.0000, -1.0000, -1.0000,  ..., -1.0000, -1.0000, -1.0000],\n",
      "          [-1.0000, -1.0000, -1.0000,  ..., -1.0000, -1.0000, -1.0000],\n",
      "          [-1.0000, -1.0000, -1.0000,  ..., -1.0000, -1.0000, -1.0000],\n",
      "          ...,\n",
      "          [-1.0000, -1.0000, -0.8196,  ..., -1.0000, -1.0000, -1.0000],\n",
      "          [-1.0000, -1.0000, -0.8196,  ..., -1.0000, -1.0000, -1.0000],\n",
      "          [-1.0000, -1.0000, -0.8196,  ..., -1.0000, -1.0000, -1.0000]]],\n",
      "\n",
      "\n",
      "        [[[-1.0000, -1.0000, -1.0000,  ..., -1.0000, -1.0000, -1.0000],\n",
      "          [-1.0000, -1.0000, -1.0000,  ..., -1.0000, -1.0000, -1.0000],\n",
      "          [-1.0000, -1.0000, -1.0000,  ..., -1.0000, -1.0000, -1.0000],\n",
      "          ...,\n",
      "          [-1.0000, -1.0000, -1.0000,  ..., -1.0000, -1.0000, -1.0000],\n",
      "          [-1.0000, -1.0000, -1.0000,  ..., -1.0000, -1.0000, -1.0000],\n",
      "          [-1.0000, -1.0000, -1.0000,  ..., -1.0000, -1.0000, -1.0000]],\n",
      "\n",
      "         [[-1.0000, -1.0000, -1.0000,  ..., -1.0000, -1.0000, -1.0000],\n",
      "          [-1.0000, -1.0000, -1.0000,  ..., -1.0000, -1.0000, -1.0000],\n",
      "          [-1.0000, -1.0000, -1.0000,  ..., -1.0000, -1.0000, -1.0000],\n",
      "          ...,\n",
      "          [-1.0000, -1.0000, -1.0000,  ..., -1.0000, -1.0000, -1.0000],\n",
      "          [-1.0000, -1.0000, -1.0000,  ..., -1.0000, -1.0000, -1.0000],\n",
      "          [-1.0000, -1.0000, -1.0000,  ..., -1.0000, -1.0000, -1.0000]],\n",
      "\n",
      "         [[-1.0000, -1.0000, -1.0000,  ..., -1.0000, -1.0000, -1.0000],\n",
      "          [-1.0000, -1.0000, -1.0000,  ..., -1.0000, -1.0000, -1.0000],\n",
      "          [-1.0000, -1.0000, -1.0000,  ..., -1.0000, -1.0000, -1.0000],\n",
      "          ...,\n",
      "          [-1.0000, -1.0000, -1.0000,  ..., -1.0000, -1.0000, -1.0000],\n",
      "          [-1.0000, -1.0000, -1.0000,  ..., -1.0000, -1.0000, -1.0000],\n",
      "          [-1.0000, -1.0000, -1.0000,  ..., -1.0000, -1.0000, -1.0000]]],\n",
      "\n",
      "\n",
      "        [[[-0.9253, -0.9294, -0.9294,  ..., -0.9608, -0.9451, -0.9324],\n",
      "          [-0.9261, -0.9294, -0.9294,  ..., -0.9522, -0.9363, -0.9389],\n",
      "          [-0.9253, -0.9308, -0.9294,  ..., -0.9608, -0.9552, -0.9529],\n",
      "          ...,\n",
      "          [-0.9514, -0.9608, -0.9501,  ..., -0.9552, -0.9451, -0.9479],\n",
      "          [-0.9526, -0.9608, -0.9608,  ..., -0.9568, -0.9451, -0.9492],\n",
      "          [-0.9468, -0.9608, -0.9608,  ..., -0.9608, -0.9529, -0.9414]],\n",
      "\n",
      "         [[-0.9253, -0.9294, -0.9294,  ..., -0.9608, -0.9451, -0.9324],\n",
      "          [-0.9261, -0.9294, -0.9294,  ..., -0.9522, -0.9363, -0.9389],\n",
      "          [-0.9253, -0.9308, -0.9294,  ..., -0.9608, -0.9552, -0.9529],\n",
      "          ...,\n",
      "          [-0.9514, -0.9608, -0.9501,  ..., -0.9552, -0.9451, -0.9479],\n",
      "          [-0.9526, -0.9608, -0.9608,  ..., -0.9568, -0.9451, -0.9492],\n",
      "          [-0.9468, -0.9608, -0.9608,  ..., -0.9608, -0.9529, -0.9414]],\n",
      "\n",
      "         [[-0.9253, -0.9294, -0.9294,  ..., -0.9608, -0.9451, -0.9324],\n",
      "          [-0.9261, -0.9294, -0.9294,  ..., -0.9522, -0.9363, -0.9389],\n",
      "          [-0.9253, -0.9308, -0.9294,  ..., -0.9608, -0.9552, -0.9529],\n",
      "          ...,\n",
      "          [-0.9514, -0.9608, -0.9501,  ..., -0.9552, -0.9451, -0.9479],\n",
      "          [-0.9526, -0.9608, -0.9608,  ..., -0.9568, -0.9451, -0.9492],\n",
      "          [-0.9468, -0.9608, -0.9608,  ..., -0.9608, -0.9529, -0.9414]]],\n",
      "\n",
      "\n",
      "        [[[-0.9843, -0.9843, -0.9922,  ..., -0.9983, -1.0000, -0.9922],\n",
      "          [-0.9843, -0.9843, -0.9922,  ..., -1.0000, -0.9995, -1.0000],\n",
      "          [-0.9843, -0.9922, -0.9911,  ..., -1.0000, -0.9951, -0.9953],\n",
      "          ...,\n",
      "          [-0.8569, -0.4282, -0.4522,  ..., -0.9922, -0.9878, -0.9843],\n",
      "          [-0.7655, -0.6050, -0.5163,  ..., -0.9922, -0.9848, -0.9855],\n",
      "          [-0.7525, -0.6073, -0.4963,  ..., -0.9922, -0.9865, -0.9843]],\n",
      "\n",
      "         [[-0.9843, -0.9843, -0.9922,  ..., -0.9983, -1.0000, -0.9922],\n",
      "          [-0.9843, -0.9843, -0.9922,  ..., -1.0000, -0.9995, -1.0000],\n",
      "          [-0.9843, -0.9922, -0.9911,  ..., -1.0000, -0.9951, -0.9953],\n",
      "          ...,\n",
      "          [-0.8569, -0.4282, -0.4522,  ..., -0.9922, -0.9878, -0.9843],\n",
      "          [-0.7655, -0.6050, -0.5163,  ..., -0.9922, -0.9848, -0.9855],\n",
      "          [-0.7525, -0.6073, -0.4963,  ..., -0.9922, -0.9865, -0.9843]],\n",
      "\n",
      "         [[-0.9843, -0.9843, -0.9922,  ..., -0.9983, -1.0000, -0.9922],\n",
      "          [-0.9843, -0.9843, -0.9922,  ..., -1.0000, -0.9995, -1.0000],\n",
      "          [-0.9843, -0.9922, -0.9911,  ..., -1.0000, -0.9951, -0.9953],\n",
      "          ...,\n",
      "          [-0.8569, -0.4282, -0.4522,  ..., -0.9922, -0.9878, -0.9843],\n",
      "          [-0.7655, -0.6050, -0.5163,  ..., -0.9922, -0.9848, -0.9855],\n",
      "          [-0.7525, -0.6073, -0.4963,  ..., -0.9922, -0.9865, -0.9843]]]]), 'target': tensor([[0],\n",
      "        [0],\n",
      "        [0],\n",
      "        [1]])}\n"
     ]
    }
   ],
   "source": [
    "for i, d in enumerate(dataloaders['train']):\n",
    "    print(d)\n",
    "    if i == 0:\n",
    "        break"
   ]
  },
  {
   "cell_type": "code",
   "execution_count": 23,
   "id": "40a70717",
   "metadata": {},
   "outputs": [
    {
     "data": {
      "text/plain": [
       "torch.Size([4, 1])"
      ]
     },
     "execution_count": 23,
     "metadata": {},
     "output_type": "execute_result"
    }
   ],
   "source": [
    "d['target'].shape"
   ]
  },
  {
   "cell_type": "markdown",
   "id": "c35b29af",
   "metadata": {},
   "source": [
    "# 6. VGG19(classification) 모델 불러오기\n",
    "* VGG는 Visual Geometry Group의 약자\n",
    "* 다중 레이어가 있는 표준 심층 CNN(Convolutional Neural Network) 아키텍처\n",
    "* 딥\"은 16 및 19 컨볼루션 레이어로 구성된 VGG-16 또는 VGG-19가 있는 레이어의 수를 나타냄\n",
    "\n",
    "<img src=\"https://wikidocs.net/images/page/164796/vgg_Fig_01.png\" width=\"500px\">"
   ]
  },
  {
   "cell_type": "code",
   "execution_count": 24,
   "id": "da2460db",
   "metadata": {},
   "outputs": [],
   "source": [
    "# torchvision의 models 사용\n",
    "# pretrained=True: 미리 학습된 weight들을 가지고 옴\n",
    "model = models.vgg19(pretrained=True)"
   ]
  },
  {
   "cell_type": "code",
   "execution_count": 25,
   "id": "bd16933f",
   "metadata": {},
   "outputs": [
    {
     "name": "stdout",
     "output_type": "stream",
     "text": [
      "Requirement already satisfied: torchsummary in c:\\users\\administrator\\appdata\\local\\programs\\python\\python38\\lib\\site-packages (1.5.1)\n"
     ]
    },
    {
     "name": "stderr",
     "output_type": "stream",
     "text": [
      "WARNING: You are using pip version 20.2.1; however, version 23.1.2 is available.\n",
      "You should consider upgrading via the 'c:\\users\\administrator\\appdata\\local\\programs\\python\\python38\\python.exe -m pip install --upgrade pip' command.\n"
     ]
    }
   ],
   "source": [
    "# pytorch 모델을 summary 해주는 모듈\n",
    "!pip install torchsummary"
   ]
  },
  {
   "cell_type": "code",
   "execution_count": 26,
   "id": "f219c33a",
   "metadata": {},
   "outputs": [],
   "source": [
    "from torchsummary import summary"
   ]
  },
  {
   "cell_type": "code",
   "execution_count": 27,
   "id": "83a4d7b7",
   "metadata": {},
   "outputs": [
    {
     "name": "stdout",
     "output_type": "stream",
     "text": [
      "----------------------------------------------------------------\n",
      "        Layer (type)               Output Shape         Param #\n",
      "================================================================\n",
      "            Conv2d-1          [1, 64, 224, 224]           1,792\n",
      "              ReLU-2          [1, 64, 224, 224]               0\n",
      "            Conv2d-3          [1, 64, 224, 224]          36,928\n",
      "              ReLU-4          [1, 64, 224, 224]               0\n",
      "         MaxPool2d-5          [1, 64, 112, 112]               0\n",
      "            Conv2d-6         [1, 128, 112, 112]          73,856\n",
      "              ReLU-7         [1, 128, 112, 112]               0\n",
      "            Conv2d-8         [1, 128, 112, 112]         147,584\n",
      "              ReLU-9         [1, 128, 112, 112]               0\n",
      "        MaxPool2d-10           [1, 128, 56, 56]               0\n",
      "           Conv2d-11           [1, 256, 56, 56]         295,168\n",
      "             ReLU-12           [1, 256, 56, 56]               0\n",
      "           Conv2d-13           [1, 256, 56, 56]         590,080\n",
      "             ReLU-14           [1, 256, 56, 56]               0\n",
      "           Conv2d-15           [1, 256, 56, 56]         590,080\n",
      "             ReLU-16           [1, 256, 56, 56]               0\n",
      "           Conv2d-17           [1, 256, 56, 56]         590,080\n",
      "             ReLU-18           [1, 256, 56, 56]               0\n",
      "        MaxPool2d-19           [1, 256, 28, 28]               0\n",
      "           Conv2d-20           [1, 512, 28, 28]       1,180,160\n",
      "             ReLU-21           [1, 512, 28, 28]               0\n",
      "           Conv2d-22           [1, 512, 28, 28]       2,359,808\n",
      "             ReLU-23           [1, 512, 28, 28]               0\n",
      "           Conv2d-24           [1, 512, 28, 28]       2,359,808\n",
      "             ReLU-25           [1, 512, 28, 28]               0\n",
      "           Conv2d-26           [1, 512, 28, 28]       2,359,808\n",
      "             ReLU-27           [1, 512, 28, 28]               0\n",
      "        MaxPool2d-28           [1, 512, 14, 14]               0\n",
      "           Conv2d-29           [1, 512, 14, 14]       2,359,808\n",
      "             ReLU-30           [1, 512, 14, 14]               0\n",
      "           Conv2d-31           [1, 512, 14, 14]       2,359,808\n",
      "             ReLU-32           [1, 512, 14, 14]               0\n",
      "           Conv2d-33           [1, 512, 14, 14]       2,359,808\n",
      "             ReLU-34           [1, 512, 14, 14]               0\n",
      "           Conv2d-35           [1, 512, 14, 14]       2,359,808\n",
      "             ReLU-36           [1, 512, 14, 14]               0\n",
      "        MaxPool2d-37             [1, 512, 7, 7]               0\n",
      "AdaptiveAvgPool2d-38             [1, 512, 7, 7]               0\n",
      "           Linear-39                  [1, 4096]     102,764,544\n",
      "             ReLU-40                  [1, 4096]               0\n",
      "          Dropout-41                  [1, 4096]               0\n",
      "           Linear-42                  [1, 4096]      16,781,312\n",
      "             ReLU-43                  [1, 4096]               0\n",
      "          Dropout-44                  [1, 4096]               0\n",
      "           Linear-45                  [1, 1000]       4,097,000\n",
      "================================================================\n",
      "Total params: 143,667,240\n",
      "Trainable params: 143,667,240\n",
      "Non-trainable params: 0\n",
      "----------------------------------------------------------------\n",
      "Input size (MB): 0.57\n",
      "Forward/backward pass size (MB): 238.69\n",
      "Params size (MB): 548.05\n",
      "Estimated Total Size (MB): 787.31\n",
      "----------------------------------------------------------------\n"
     ]
    }
   ],
   "source": [
    "# Dropout: 오버피팅을 막기 위한 레이어, 학습중일 때 랜덤하게 값을 발생하여 학습을 방해함으로 \n",
    "# 학습용 데이터에 결과가 치우치는 것을 방지함\n",
    "summary(model, (3, 224, 224), batch_size=1, device='cuda')"
   ]
  },
  {
   "cell_type": "code",
   "execution_count": 28,
   "id": "a2f4cb37",
   "metadata": {},
   "outputs": [
    {
     "data": {
      "text/plain": [
       "VGG(\n",
       "  (features): Sequential(\n",
       "    (0): Conv2d(3, 64, kernel_size=(3, 3), stride=(1, 1), padding=(1, 1))\n",
       "    (1): ReLU(inplace=True)\n",
       "    (2): Conv2d(64, 64, kernel_size=(3, 3), stride=(1, 1), padding=(1, 1))\n",
       "    (3): ReLU(inplace=True)\n",
       "    (4): MaxPool2d(kernel_size=2, stride=2, padding=0, dilation=1, ceil_mode=False)\n",
       "    (5): Conv2d(64, 128, kernel_size=(3, 3), stride=(1, 1), padding=(1, 1))\n",
       "    (6): ReLU(inplace=True)\n",
       "    (7): Conv2d(128, 128, kernel_size=(3, 3), stride=(1, 1), padding=(1, 1))\n",
       "    (8): ReLU(inplace=True)\n",
       "    (9): MaxPool2d(kernel_size=2, stride=2, padding=0, dilation=1, ceil_mode=False)\n",
       "    (10): Conv2d(128, 256, kernel_size=(3, 3), stride=(1, 1), padding=(1, 1))\n",
       "    (11): ReLU(inplace=True)\n",
       "    (12): Conv2d(256, 256, kernel_size=(3, 3), stride=(1, 1), padding=(1, 1))\n",
       "    (13): ReLU(inplace=True)\n",
       "    (14): Conv2d(256, 256, kernel_size=(3, 3), stride=(1, 1), padding=(1, 1))\n",
       "    (15): ReLU(inplace=True)\n",
       "    (16): Conv2d(256, 256, kernel_size=(3, 3), stride=(1, 1), padding=(1, 1))\n",
       "    (17): ReLU(inplace=True)\n",
       "    (18): MaxPool2d(kernel_size=2, stride=2, padding=0, dilation=1, ceil_mode=False)\n",
       "    (19): Conv2d(256, 512, kernel_size=(3, 3), stride=(1, 1), padding=(1, 1))\n",
       "    (20): ReLU(inplace=True)\n",
       "    (21): Conv2d(512, 512, kernel_size=(3, 3), stride=(1, 1), padding=(1, 1))\n",
       "    (22): ReLU(inplace=True)\n",
       "    (23): Conv2d(512, 512, kernel_size=(3, 3), stride=(1, 1), padding=(1, 1))\n",
       "    (24): ReLU(inplace=True)\n",
       "    (25): Conv2d(512, 512, kernel_size=(3, 3), stride=(1, 1), padding=(1, 1))\n",
       "    (26): ReLU(inplace=True)\n",
       "    (27): MaxPool2d(kernel_size=2, stride=2, padding=0, dilation=1, ceil_mode=False)\n",
       "    (28): Conv2d(512, 512, kernel_size=(3, 3), stride=(1, 1), padding=(1, 1))\n",
       "    (29): ReLU(inplace=True)\n",
       "    (30): Conv2d(512, 512, kernel_size=(3, 3), stride=(1, 1), padding=(1, 1))\n",
       "    (31): ReLU(inplace=True)\n",
       "    (32): Conv2d(512, 512, kernel_size=(3, 3), stride=(1, 1), padding=(1, 1))\n",
       "    (33): ReLU(inplace=True)\n",
       "    (34): Conv2d(512, 512, kernel_size=(3, 3), stride=(1, 1), padding=(1, 1))\n",
       "    (35): ReLU(inplace=True)\n",
       "    (36): MaxPool2d(kernel_size=2, stride=2, padding=0, dilation=1, ceil_mode=False)\n",
       "  )\n",
       "  (avgpool): AdaptiveAvgPool2d(output_size=(7, 7))\n",
       "  (classifier): Sequential(\n",
       "    (0): Linear(in_features=25088, out_features=4096, bias=True)\n",
       "    (1): ReLU(inplace=True)\n",
       "    (2): Dropout(p=0.5, inplace=False)\n",
       "    (3): Linear(in_features=4096, out_features=4096, bias=True)\n",
       "    (4): ReLU(inplace=True)\n",
       "    (5): Dropout(p=0.5, inplace=False)\n",
       "    (6): Linear(in_features=4096, out_features=1000, bias=True)\n",
       "  )\n",
       ")"
      ]
     },
     "execution_count": 28,
     "metadata": {},
     "output_type": "execute_result"
    }
   ],
   "source": [
    "model"
   ]
  },
  {
   "cell_type": "markdown",
   "id": "cd698bc0",
   "metadata": {},
   "source": [
    "# 7. 데이터에 맞게 모델 Head 부분을 수정하기"
   ]
  },
  {
   "cell_type": "code",
   "execution_count": 29,
   "id": "9bd68007",
   "metadata": {},
   "outputs": [],
   "source": [
    "def build_vgg19_based_model(device_name='cpu'):\n",
    "    device = torch.device(device_name)\n",
    "    model = models.vgg19(pretrained=True)\n",
    "    model.avgpool = nn.AdaptiveAvgPool2d(output_size=(1, 1))\n",
    "    model.classifier = nn.Sequential(\n",
    "        nn.Flatten(),\n",
    "        nn.Linear(512, 256),\n",
    "        nn.ReLU(),\n",
    "        nn.Linear(256, len(class_list)),\n",
    "        nn.Softmax(dim=1)\n",
    "    )\n",
    "    return model.to(device)"
   ]
  },
  {
   "cell_type": "code",
   "execution_count": 30,
   "id": "b0b072ba",
   "metadata": {},
   "outputs": [],
   "source": [
    "model = build_vgg19_based_model(device_name='cpu')"
   ]
  },
  {
   "cell_type": "code",
   "execution_count": 31,
   "id": "099a6183",
   "metadata": {},
   "outputs": [
    {
     "name": "stdout",
     "output_type": "stream",
     "text": [
      "----------------------------------------------------------------\n",
      "        Layer (type)               Output Shape         Param #\n",
      "================================================================\n",
      "            Conv2d-1          [1, 64, 224, 224]           1,792\n",
      "              ReLU-2          [1, 64, 224, 224]               0\n",
      "            Conv2d-3          [1, 64, 224, 224]          36,928\n",
      "              ReLU-4          [1, 64, 224, 224]               0\n",
      "         MaxPool2d-5          [1, 64, 112, 112]               0\n",
      "            Conv2d-6         [1, 128, 112, 112]          73,856\n",
      "              ReLU-7         [1, 128, 112, 112]               0\n",
      "            Conv2d-8         [1, 128, 112, 112]         147,584\n",
      "              ReLU-9         [1, 128, 112, 112]               0\n",
      "        MaxPool2d-10           [1, 128, 56, 56]               0\n",
      "           Conv2d-11           [1, 256, 56, 56]         295,168\n",
      "             ReLU-12           [1, 256, 56, 56]               0\n",
      "           Conv2d-13           [1, 256, 56, 56]         590,080\n",
      "             ReLU-14           [1, 256, 56, 56]               0\n",
      "           Conv2d-15           [1, 256, 56, 56]         590,080\n",
      "             ReLU-16           [1, 256, 56, 56]               0\n",
      "           Conv2d-17           [1, 256, 56, 56]         590,080\n",
      "             ReLU-18           [1, 256, 56, 56]               0\n",
      "        MaxPool2d-19           [1, 256, 28, 28]               0\n",
      "           Conv2d-20           [1, 512, 28, 28]       1,180,160\n",
      "             ReLU-21           [1, 512, 28, 28]               0\n",
      "           Conv2d-22           [1, 512, 28, 28]       2,359,808\n",
      "             ReLU-23           [1, 512, 28, 28]               0\n",
      "           Conv2d-24           [1, 512, 28, 28]       2,359,808\n",
      "             ReLU-25           [1, 512, 28, 28]               0\n",
      "           Conv2d-26           [1, 512, 28, 28]       2,359,808\n",
      "             ReLU-27           [1, 512, 28, 28]               0\n",
      "        MaxPool2d-28           [1, 512, 14, 14]               0\n",
      "           Conv2d-29           [1, 512, 14, 14]       2,359,808\n",
      "             ReLU-30           [1, 512, 14, 14]               0\n",
      "           Conv2d-31           [1, 512, 14, 14]       2,359,808\n",
      "             ReLU-32           [1, 512, 14, 14]               0\n",
      "           Conv2d-33           [1, 512, 14, 14]       2,359,808\n",
      "             ReLU-34           [1, 512, 14, 14]               0\n",
      "           Conv2d-35           [1, 512, 14, 14]       2,359,808\n",
      "             ReLU-36           [1, 512, 14, 14]               0\n",
      "        MaxPool2d-37             [1, 512, 7, 7]               0\n",
      "AdaptiveAvgPool2d-38             [1, 512, 1, 1]               0\n",
      "          Flatten-39                   [1, 512]               0\n",
      "           Linear-40                   [1, 256]         131,328\n",
      "             ReLU-41                   [1, 256]               0\n",
      "           Linear-42                     [1, 3]             771\n",
      "          Softmax-43                     [1, 3]               0\n",
      "================================================================\n",
      "Total params: 20,156,483\n",
      "Trainable params: 20,156,483\n",
      "Non-trainable params: 0\n",
      "----------------------------------------------------------------\n",
      "Input size (MB): 0.57\n",
      "Forward/backward pass size (MB): 238.31\n",
      "Params size (MB): 76.89\n",
      "Estimated Total Size (MB): 315.78\n",
      "----------------------------------------------------------------\n"
     ]
    }
   ],
   "source": [
    "summary(model, (3, 224, 224), batch_size=1, device='cuda')"
   ]
  },
  {
   "cell_type": "markdown",
   "id": "d1449f6f",
   "metadata": {},
   "source": [
    "# 8. 손실함수 불러오기\n",
    "* input x에 대한 예측값과 실제값 사이의 오차를 계산하는 함수\n",
    "* cost function: 모든 input dataset에 대하여 계산하는 함수"
   ]
  },
  {
   "cell_type": "code",
   "execution_count": 32,
   "id": "ed9d5b7f",
   "metadata": {},
   "outputs": [],
   "source": [
    "loss_func = nn.CrossEntropyLoss(reduction='mean')"
   ]
  },
  {
   "cell_type": "markdown",
   "id": "d413348e",
   "metadata": {},
   "source": [
    "# 9. Gradient 최적화 함수 불러오기"
   ]
  },
  {
   "cell_type": "markdown",
   "id": "8af8a792",
   "metadata": {},
   "source": [
    "### 9-1. 경사 하강법의 종류\n",
    "* 배치 경사 하강법\n",
    "    - 가장 기본적인 경사 하강법(Vanilla Gradeient Descent)\n",
    "    - 데이터셋 전체를 고려하여 손실함수를 계산\n",
    "    - 한 번의 Epoch에 모든 파라미터 업데이트를 단 한번만 수행\n",
    "    - Batch의 갯수와 Iteration은 1이고, Batch size는 전체 데이터의 갯수\n",
    "    - 파라미터 업데이트할 때 한 번에 전체 데이터셋을 고려하기 때문에 모델 학습 시 많은 시간과 메모리가 필요하다는 단점\n",
    "    \n",
    "* 확률적 경사 하강법\n",
    "    - 확률적 경사 하강법(Stochastic Gradient Descent)은 배치 경사 하강법이 모델 학습 시 많은 시간과 메모리가 필요하다는 단점을 개선하기 위해 제안된 기법\n",
    "    - Batch size를 1로 설정하여 파라미터를 업데이트 하기 때문에 배치 경사 하강법보다 훨씬 빠르고 적은 메모리로 학습이 진행\n",
    "    - 파라미터 값의 업데이트 폭이 불안정하기 때문에 정확도가 낮은 경우가 생길 수 있음\n",
    "    \n",
    "* 미니 배치 경사 하강법\n",
    "    - 미니 배치 경사 하강법(Mini-Batch Gradient Descent)은 Batch size가 1도 아니고 전체 데이터 개수도 아닌 경우\n",
    "    - 일반적으로 Batch size를 32, 64, 128과 같이 2의 n제곱에 해당하는 값으로 설정하는 것이 보편적\n",
    "    - 딥러닝 분야에서 가장 많이 활용되는 경사 하강법\n",
    "    - 배치 경사 하강법보다 모델 학습 속도가 빠르고, 확률적 경사 하강법보다 안정적인 장점이 있음"
   ]
  },
  {
   "cell_type": "markdown",
   "id": "b1feb901",
   "metadata": {},
   "source": [
    "### 9-2. 경사하강법의 여러가지 기술들\n",
    "* 확률적 경사 하강법(SGD)\n",
    "    - 매개변수 값을 조정 시 전체 데이터가 아니라 랜덤으로 선택한 하나의 데이터에 대해서만 계산하는 방법 \n",
    "* 모멘텀(Momentum)\n",
    "    - 관성이라는 물리학의 법칙을 응용한 방법\n",
    "    - 경사하강법에 관성을 더 해줌\n",
    "    - 접선의 기울기에 한 시점 이전의 접선의 기울기값을 일정한 비율만큼 반영\n",
    "    - 언덕에서 공이 내려올 때 중간의 작은 웅덩이에 빠지더라도 관성의 힘으로 넘어서는 효과를 줄 수 있음\n",
    "* 아다그라드(Adagrad)\n",
    "    - 모든 매개변수에 동일한 학습률(learning rate)을 적용하는 것은 비효율적이라는 생각에서 만들어진 학습 방법\n",
    "    - 처음에는 크게 학습하다가 조금씩 작게 학습시킴\n",
    "* 아담(Adam)\n",
    "    - 모멘텀 + 아다그라드"
   ]
  },
  {
   "cell_type": "code",
   "execution_count": 33,
   "id": "899c3d09",
   "metadata": {},
   "outputs": [],
   "source": [
    "optimizer = torch.optim.SGD(model.parameters(), lr=1E-3, momentum=0.9)"
   ]
  },
  {
   "cell_type": "markdown",
   "id": "00a58f6a",
   "metadata": {},
   "source": [
    "# 10. 모델 검증을 위한 Accuracy 생성하기"
   ]
  },
  {
   "cell_type": "code",
   "execution_count": 34,
   "id": "8df91158",
   "metadata": {},
   "outputs": [],
   "source": [
    "@torch.no_grad()\n",
    "def get_accuracy(image, target, model):\n",
    "    batch_size = image.shape[0]\n",
    "    prediction = model(image)\n",
    "    _, pred_label = torch.max(prediction, dim=1)\n",
    "    is_correct = (pred_label == target)\n",
    "    return is_correct.cpu().numpy().sum() / batch_size"
   ]
  },
  {
   "cell_type": "markdown",
   "id": "9e567f56",
   "metadata": {},
   "source": [
    "# 11. 모델 학습을 위한 함수 구현하기"
   ]
  },
  {
   "cell_type": "code",
   "execution_count": 31,
   "id": "de5c4821",
   "metadata": {},
   "outputs": [],
   "source": [
    "def train_one_epoch(dataloaders, model, optimizer, loss_func, device):\n",
    "    losses = {}\n",
    "    accuracies = {}\n",
    "    \n",
    "    for tv in ['train', 'val']:\n",
    "        running_loss = 0.0\n",
    "        running_correct = 0\n",
    "        \n",
    "        if tv == 'train':\n",
    "            model.train()\n",
    "        else:\n",
    "            model.eval()\n",
    "        \n",
    "        for index, batch in enumerate(dataloaders[tv]):\n",
    "            image = batch['image'].to(device)\n",
    "            target = batch['target'].squeeze(dim=1).to(device)\n",
    "            \n",
    "            with torch.set_grad_enabled(tv == 'train'):\n",
    "                prediction = model(image)\n",
    "                loss = loss_func(prediction, target)\n",
    "                \n",
    "                if tv == 'train':\n",
    "                    optimizer.zero_grad()\n",
    "                    loss.backward()\n",
    "                    optimizer.step()\n",
    "                \n",
    "            \n",
    "            running_loss += loss.item()\n",
    "            running_correct += get_accuracy(image, target, model)\n",
    "            \n",
    "                \n",
    "            if tv == 'train':\n",
    "                if index % 10 == 0:\n",
    "                    print(f\"{index}/{len(dataloaders['train'])} - Running loss: {loss.item()}\")\n",
    "                    \n",
    "        losses[tv] = running_loss / len(dataloaders[tv])\n",
    "        accuracies[tv] = running_correct / len(dataloaders[tv])\n",
    "    return losses, accuracies        "
   ]
  },
  {
   "cell_type": "code",
   "execution_count": 32,
   "id": "03b098a7",
   "metadata": {},
   "outputs": [],
   "source": [
    "def save_best_model(model_state, model_name, save_dir='./trained_model'):\n",
    "    os.makedirs(save_dir, exist_ok=True)\n",
    "    torch.save(model_state, os.path.join(save_dir, model_name))"
   ]
  },
  {
   "cell_type": "markdown",
   "id": "a7088c94",
   "metadata": {},
   "source": [
    "# 12. 모델 학습 수행하기"
   ]
  },
  {
   "cell_type": "code",
   "execution_count": 39,
   "id": "750ac991",
   "metadata": {},
   "outputs": [],
   "source": [
    "device = torch.device('cpu')\n",
    "\n",
    "train_data_dir = './Covid19-dataset/train'\n",
    "val_data_dir = './Covid19-dataset/test'\n",
    "\n",
    "dataloaders = build_dataloader(train_data_dir, val_data_dir)\n",
    "model = build_vgg19_based_model(device_name=device)\n",
    "loss_func = nn.CrossEntropyLoss(reduction='mean')\n",
    "optimizer = torch.optim.SGD(model.parameters(), lr=1E-3, momentum=0.9)"
   ]
  },
  {
   "cell_type": "code",
   "execution_count": 40,
   "id": "1f540c79",
   "metadata": {},
   "outputs": [],
   "source": [
    "import copy"
   ]
  },
  {
   "cell_type": "code",
   "execution_count": 41,
   "id": "94f014e9",
   "metadata": {},
   "outputs": [
    {
     "name": "stdout",
     "output_type": "stream",
     "text": [
      "0/62 - Running loss: 1.095841646194458\n",
      "10/62 - Running loss: 1.085944414138794\n",
      "20/62 - Running loss: 1.0687891244888306\n",
      "30/62 - Running loss: 1.1037604808807373\n",
      "40/62 - Running loss: 1.0598045587539673\n",
      "50/62 - Running loss: 1.0945589542388916\n",
      "60/62 - Running loss: 1.046012043952942\n",
      "1/10 - Train_Loss:1.0763116575056506, Val_Loss:1.0220327693404574\n",
      "1/10 - Train_Accuracies:0.5241935483870968, Val_Accuracies:0.7272727272727273\n",
      "0/62 - Running loss: 1.041784644126892\n",
      "10/62 - Running loss: 0.9826701879501343\n",
      "20/62 - Running loss: 0.7838401794433594\n",
      "30/62 - Running loss: 0.814277172088623\n",
      "40/62 - Running loss: 0.7908036708831787\n",
      "50/62 - Running loss: 0.7760730981826782\n",
      "60/62 - Running loss: 0.7585586309432983\n",
      "2/10 - Train_Loss:0.8293782164973598, Val_Loss:0.7463562949137255\n",
      "2/10 - Train_Accuracies:0.8185483870967742, Val_Accuracies:0.7575757575757576\n",
      "0/62 - Running loss: 0.6896694898605347\n",
      "10/62 - Running loss: 0.7745862603187561\n",
      "20/62 - Running loss: 1.401180624961853\n",
      "30/62 - Running loss: 0.6763440370559692\n",
      "40/62 - Running loss: 0.6355332732200623\n",
      "50/62 - Running loss: 0.7688316106796265\n",
      "60/62 - Running loss: 0.5845018029212952\n",
      "3/10 - Train_Loss:0.7411642209176095, Val_Loss:0.7075807822473121\n",
      "3/10 - Train_Accuracies:0.8629032258064516, Val_Accuracies:0.8333333333333334\n",
      "0/62 - Running loss: 0.7849351167678833\n",
      "10/62 - Running loss: 0.7988560199737549\n",
      "20/62 - Running loss: 0.8567476868629456\n",
      "30/62 - Running loss: 1.2988265752792358\n",
      "40/62 - Running loss: 0.7505706548690796\n",
      "50/62 - Running loss: 0.7563833594322205\n",
      "60/62 - Running loss: 1.0442674160003662\n",
      "4/10 - Train_Loss:0.9043013588074715, Val_Loss:1.1290039817492168\n",
      "4/10 - Train_Accuracies:0.6653225806451613, Val_Accuracies:0.30303030303030304\n",
      "0/62 - Running loss: 1.0244708061218262\n",
      "10/62 - Running loss: 0.9257732033729553\n",
      "20/62 - Running loss: 1.1669926643371582\n",
      "30/62 - Running loss: 0.916168212890625\n",
      "40/62 - Running loss: 0.9129886031150818\n",
      "50/62 - Running loss: 0.8994964957237244\n",
      "60/62 - Running loss: 0.5988335609436035\n",
      "5/10 - Train_Loss:0.9393766503180226, Val_Loss:0.7362366598663908\n",
      "5/10 - Train_Accuracies:0.6733870967741935, Val_Accuracies:0.8787878787878788\n",
      "0/62 - Running loss: 0.7260099649429321\n",
      "10/62 - Running loss: 0.5520123839378357\n",
      "20/62 - Running loss: 0.551752507686615\n",
      "30/62 - Running loss: 0.6385273933410645\n",
      "40/62 - Running loss: 0.5522433519363403\n",
      "50/62 - Running loss: 0.551978588104248\n",
      "60/62 - Running loss: 0.7509000301361084\n",
      "6/10 - Train_Loss:0.6904100679582165, Val_Loss:0.672347318945509\n",
      "6/10 - Train_Accuracies:0.9112903225806451, Val_Accuracies:0.9090909090909091\n",
      "0/62 - Running loss: 0.587490439414978\n",
      "10/62 - Running loss: 0.796425998210907\n",
      "20/62 - Running loss: 0.811945378780365\n",
      "30/62 - Running loss: 0.5516563653945923\n",
      "40/62 - Running loss: 0.8007669448852539\n",
      "50/62 - Running loss: 0.5814709663391113\n",
      "60/62 - Running loss: 0.6002740263938904\n",
      "7/10 - Train_Loss:0.6911165791173135, Val_Loss:0.6858495320334579\n",
      "7/10 - Train_Accuracies:0.8911290322580645, Val_Accuracies:0.8333333333333334\n",
      "0/62 - Running loss: 0.5569252967834473\n",
      "10/62 - Running loss: 0.5646802186965942\n",
      "20/62 - Running loss: 0.7856763601303101\n",
      "30/62 - Running loss: 0.6287489533424377\n",
      "40/62 - Running loss: 0.5515314340591431\n",
      "50/62 - Running loss: 0.5518068075180054\n",
      "60/62 - Running loss: 0.5515035390853882\n",
      "8/10 - Train_Loss:0.6451071356573412, Val_Loss:0.8138563054980654\n",
      "8/10 - Train_Accuracies:0.9274193548387096, Val_Accuracies:0.7272727272727273\n",
      "0/62 - Running loss: 0.5541063547134399\n",
      "10/62 - Running loss: 0.8051422834396362\n",
      "20/62 - Running loss: 0.6317017078399658\n",
      "30/62 - Running loss: 0.8112679719924927\n",
      "40/62 - Running loss: 0.7592644095420837\n",
      "50/62 - Running loss: 0.8653022646903992\n",
      "60/62 - Running loss: 0.5534830093383789\n",
      "9/10 - Train_Loss:0.6482302815683426, Val_Loss:0.8346506086262789\n",
      "9/10 - Train_Accuracies:0.9233870967741935, Val_Accuracies:0.696969696969697\n",
      "0/62 - Running loss: 0.5519726276397705\n",
      "10/62 - Running loss: 0.5521857738494873\n",
      "20/62 - Running loss: 0.5625701546669006\n",
      "30/62 - Running loss: 0.566764235496521\n",
      "40/62 - Running loss: 0.5522169470787048\n",
      "50/62 - Running loss: 0.5803323984146118\n",
      "60/62 - Running loss: 0.5517233610153198\n",
      "10/10 - Train_Loss:0.6215784472803916, Val_Loss:0.6028109454747402\n",
      "10/10 - Train_Accuracies:0.9475806451612904, Val_Accuracies:0.9545454545454546\n",
      "Best Accracy: 0.9545454545454546\n"
     ]
    }
   ],
   "source": [
    "num_epochs = 10\n",
    "best_acc = 0.0\n",
    "train_loss, train_accuracy = [], []\n",
    "val_loss, val_accuracy = [], []\n",
    "\n",
    "for epoch in range(num_epochs):\n",
    "    losses, accuracies = train_one_epoch(dataloaders, model, optimizer, loss_func, device)\n",
    "    train_loss.append(losses['train'])\n",
    "    val_loss.append(losses['val'])\n",
    "    train_accuracy.append(accuracies['train'])\n",
    "    val_accuracy.append(accuracies['val'])\n",
    "    \n",
    "    print(f\"{epoch+1}/{num_epochs} - Train_Loss:{losses['train']}, Val_Loss:{losses['val']}\")\n",
    "    print(f\"{epoch+1}/{num_epochs} - Train_Accuracies:{accuracies['train']}, Val_Accuracies:{accuracies['val']}\")\n",
    "\n",
    "    if(epoch > 3) and (accuracies['val'] > best_acc):\n",
    "        best_acc = accuracies['val']\n",
    "        best_model = copy.deepcopy(model.state_dict())\n",
    "        save_best_model(best_model, f'model_{epoch+1:02d}.pth')\n",
    "\n",
    "print(f'Best Accracy: {best_acc}')"
   ]
  },
  {
   "cell_type": "code",
   "execution_count": 42,
   "id": "7cc7d9e9",
   "metadata": {},
   "outputs": [
    {
     "data": {
      "image/png": "[encoded data removed]",
      "text/plain": [
       "<Figure size 600x500 with 2 Axes>"
      ]
     },
     "metadata": {},
     "output_type": "display_data"
    }
   ],
   "source": [
    "plt.figure(figsize=(6, 5))\n",
    "plt.subplot(211)\n",
    "plt.plot(train_loss, label='train')\n",
    "plt.plot(val_loss, label='val')\n",
    "plt.xlabel('epoch')\n",
    "plt.ylabel('loss')\n",
    "plt.grid('on')\n",
    "plt.legend()\n",
    "plt.subplot(212)\n",
    "plt.plot(train_accuracy, label='train')\n",
    "plt.plot(val_accuracy, label='val')\n",
    "plt.xlabel('epoch')\n",
    "plt.ylabel('accuracy')\n",
    "plt.grid('on')\n",
    "plt.legend()\n",
    "plt.tight_layout()"
   ]
  },
  {
   "cell_type": "code",
   "execution_count": 35,
   "id": "a6883d43",
   "metadata": {},
   "outputs": [],
   "source": [
    "def preprocess_image(image):\n",
    "    transformer = transforms.Compose([\n",
    "        transforms.ToTensor(),\n",
    "        transforms.Resize((224, 224)),\n",
    "        transforms.Normalize(mean=[0.5, 0.5, 0.5],\n",
    "                            std=[0.5, 0.5, 0.5])\n",
    "    ])\n",
    "    \n",
    "    tensor_image = transformer(image) # C, H, W\n",
    "    tensor_image = tensor_image.unsqueeze(0) # B, C, H, W\n",
    "    return tensor_image"
   ]
  },
  {
   "cell_type": "code",
   "execution_count": 44,
   "id": "fe406167",
   "metadata": {},
   "outputs": [],
   "source": [
    "def model_predict(image, model):\n",
    "    tensor_image = preprocess_image(image)\n",
    "    prediction = model(tensor_image)\n",
    "    \n",
    "    _, pred_label = torch.max(prediction.detach(), dim=1)\n",
    "    print('prediction.detach(): ', prediction.detach())\n",
    "    print('pred_label: ', pred_label)\n",
    "    pred_label = pred_label.squeeze(0)\n",
    "    return pred_label.item()"
   ]
  },
  {
   "cell_type": "code",
   "execution_count": 5,
   "id": "76eab4d2",
   "metadata": {},
   "outputs": [
    {
     "name": "stderr",
     "output_type": "stream",
     "text": [
      "c:\\users\\administrator\\appdata\\local\\programs\\python\\python38\\lib\\site-packages\\torchvision\\models\\_utils.py:208: UserWarning: The parameter 'pretrained' is deprecated since 0.13 and may be removed in the future, please use 'weights' instead.\n",
      "  warnings.warn(\n",
      "c:\\users\\administrator\\appdata\\local\\programs\\python\\python38\\lib\\site-packages\\torchvision\\models\\_utils.py:223: UserWarning: Arguments other than a weight enum or `None` for 'weights' are deprecated since 0.13 and may be removed in the future. The current behavior is equivalent to passing `weights=VGG19_Weights.IMAGENET1K_V1`. You can also use `weights=VGG19_Weights.DEFAULT` to get the most up-to-date weights.\n",
      "  warnings.warn(msg)\n"
     ]
    },
    {
     "ename": "NameError",
     "evalue": "name 'class_list' is not defined",
     "output_type": "error",
     "traceback": [
      "\u001b[1;31m-------------------------------------------------------------\u001b[0m",
      "\u001b[1;31mNameError\u001b[0m                   Traceback (most recent call last)",
      "Cell \u001b[1;32mIn[5], line 2\u001b[0m\n\u001b[0;32m      1\u001b[0m ckpt \u001b[38;5;241m=\u001b[39m torch\u001b[38;5;241m.\u001b[39mload(\u001b[38;5;124m'\u001b[39m\u001b[38;5;124m./trained_model/model_10.pth\u001b[39m\u001b[38;5;124m'\u001b[39m)\n\u001b[1;32m----> 2\u001b[0m model \u001b[38;5;241m=\u001b[39m \u001b[43mbuild_vgg19_based_model\u001b[49m\u001b[43m(\u001b[49m\u001b[43m)\u001b[49m\n\u001b[0;32m      3\u001b[0m model\u001b[38;5;241m.\u001b[39mload_state_dict(ckpt)\n\u001b[0;32m      4\u001b[0m model\u001b[38;5;241m.\u001b[39meval()\n",
      "Cell \u001b[1;32mIn[4], line 9\u001b[0m, in \u001b[0;36mbuild_vgg19_based_model\u001b[1;34m(device_name)\u001b[0m\n\u001b[0;32m      3\u001b[0m model \u001b[38;5;241m=\u001b[39m models\u001b[38;5;241m.\u001b[39mvgg19(pretrained\u001b[38;5;241m=\u001b[39m\u001b[38;5;28;01mTrue\u001b[39;00m)\n\u001b[0;32m      4\u001b[0m model\u001b[38;5;241m.\u001b[39mavgpool \u001b[38;5;241m=\u001b[39m nn\u001b[38;5;241m.\u001b[39mAdaptiveAvgPool2d(output_size\u001b[38;5;241m=\u001b[39m(\u001b[38;5;241m1\u001b[39m, \u001b[38;5;241m1\u001b[39m))\n\u001b[0;32m      5\u001b[0m model\u001b[38;5;241m.\u001b[39mclassifier \u001b[38;5;241m=\u001b[39m nn\u001b[38;5;241m.\u001b[39mSequential(\n\u001b[0;32m      6\u001b[0m     nn\u001b[38;5;241m.\u001b[39mFlatten(),\n\u001b[0;32m      7\u001b[0m     nn\u001b[38;5;241m.\u001b[39mLinear(\u001b[38;5;241m512\u001b[39m, \u001b[38;5;241m256\u001b[39m),\n\u001b[0;32m      8\u001b[0m     nn\u001b[38;5;241m.\u001b[39mReLU(),\n\u001b[1;32m----> 9\u001b[0m     nn\u001b[38;5;241m.\u001b[39mLinear(\u001b[38;5;241m256\u001b[39m, \u001b[38;5;28mlen\u001b[39m(\u001b[43mclass_list\u001b[49m)),\n\u001b[0;32m     10\u001b[0m     nn\u001b[38;5;241m.\u001b[39mSoftmax(dim\u001b[38;5;241m=\u001b[39m\u001b[38;5;241m1\u001b[39m)\n\u001b[0;32m     11\u001b[0m )\n\u001b[0;32m     12\u001b[0m \u001b[38;5;28;01mreturn\u001b[39;00m model\u001b[38;5;241m.\u001b[39mto(device)\n",
      "\u001b[1;31mNameError\u001b[0m: name 'class_list' is not defined"
     ]
    }
   ],
   "source": [
    "ckpt = torch.load('./trained_model/model_10.pth')\n",
    "model = build_vgg19_based_model()\n",
    "model.load_state_dict(ckpt)\n",
    "model.eval()"
   ]
  },
  {
   "cell_type": "code",
   "execution_count": 6,
   "id": "72bc1c43",
   "metadata": {},
   "outputs": [
    {
     "ename": "NameError",
     "evalue": "name 'list_image_file' is not defined",
     "output_type": "error",
     "traceback": [
      "\u001b[1;31m-------------------------------------------------------------\u001b[0m",
      "\u001b[1;31mNameError\u001b[0m                   Traceback (most recent call last)",
      "Cell \u001b[1;32mIn[6], line 4\u001b[0m\n\u001b[0;32m      1\u001b[0m data_dir \u001b[38;5;241m=\u001b[39m \u001b[38;5;124m'\u001b[39m\u001b[38;5;124m./Covid19-dataset/test/\u001b[39m\u001b[38;5;124m'\u001b[39m\n\u001b[0;32m      2\u001b[0m class_list \u001b[38;5;241m=\u001b[39m [\u001b[38;5;124m'\u001b[39m\u001b[38;5;124mNormal\u001b[39m\u001b[38;5;124m'\u001b[39m, \u001b[38;5;124m'\u001b[39m\u001b[38;5;124mCovid\u001b[39m\u001b[38;5;124m'\u001b[39m, \u001b[38;5;124m'\u001b[39m\u001b[38;5;124mViral Pneumonia\u001b[39m\u001b[38;5;124m'\u001b[39m]\n\u001b[1;32m----> 4\u001b[0m test_normals_list \u001b[38;5;241m=\u001b[39m \u001b[43mlist_image_file\u001b[49m(data_dir, \u001b[38;5;124m'\u001b[39m\u001b[38;5;124mNormal\u001b[39m\u001b[38;5;124m'\u001b[39m)\n\u001b[0;32m      5\u001b[0m test_covids_list \u001b[38;5;241m=\u001b[39m list_image_file(data_dir, \u001b[38;5;124m'\u001b[39m\u001b[38;5;124mCovid\u001b[39m\u001b[38;5;124m'\u001b[39m)\n\u001b[0;32m      6\u001b[0m test_pneumonias_list \u001b[38;5;241m=\u001b[39m list_image_file(data_dir, \u001b[38;5;124m'\u001b[39m\u001b[38;5;124mViral Pneumonia\u001b[39m\u001b[38;5;124m'\u001b[39m)\n",
      "\u001b[1;31mNameError\u001b[0m: name 'list_image_file' is not defined"
     ]
    }
   ],
   "source": [
    "data_dir = './Covid19-dataset/test/'\n",
    "class_list = ['Normal', 'Covid', 'Viral Pneumonia']\n",
    "\n",
    "test_normals_list = list_image_file(data_dir, 'Normal')\n",
    "test_covids_list = list_image_file(data_dir, 'Covid')\n",
    "test_pneumonias_list = list_image_file(data_dir, 'Viral Pneumonia')"
   ]
  },
  {
   "cell_type": "code",
   "execution_count": 50,
   "id": "da9e040f",
   "metadata": {},
   "outputs": [
    {
     "data": {
      "application/vnd.jupyter.widget-view+json": {
       "model_id": "820e2c0baa564751a8a920b494af576d",
       "version_major": 2,
       "version_minor": 0
      },
      "text/plain": [
       "interactive(children=(IntSlider(value=0, description='index', max=69), Output()), _dom_classes=('widget-intera…"
      ]
     },
     "metadata": {},
     "output_type": "display_data"
    }
   ],
   "source": [
    "min_num_files = min(len(normals_list), len(covids_list), len(pneumonias_list))\n",
    "\n",
    "@interact(index=(0, min_num_files-1))\n",
    "def show_result(index=0):\n",
    "    normal_image = get_RGB_image(data_dir, test_normals_list[index])\n",
    "    covid_image = get_RGB_image(data_dir, test_covids_list[index])\n",
    "    pneumonia_image = get_RGB_image(data_dir, test_pneumonias_list[index])\n",
    "    \n",
    "    prediction_1 = model_predict(normal_image, model)\n",
    "    prediction_2 = model_predict(covid_image, model)\n",
    "    prediction_3 = model_predict(pneumonia_image, model)\n",
    "    \n",
    "    \n",
    "    plt.figure(figsize=(12, 8))\n",
    "    \n",
    "    plt.subplot(131)\n",
    "    plt.title(f'Pred:{class_list[prediction_1]} | GT:Normal')\n",
    "    plt.imshow(normal_image)\n",
    "    \n",
    "    plt.subplot(132)\n",
    "    plt.title(f'Pred:{class_list[prediction_2]} | GT:Covid')\n",
    "    plt.imshow(covid_image)\n",
    "    \n",
    "    plt.subplot(133)\n",
    "    plt.title(f'Pred:{class_list[prediction_3]} | GT:Pneumonia')\n",
    "    plt.imshow(pneumonia_image)\n",
    "    plt.tight_layout()"
   ]
  },
  {
   "cell_type": "code",
   "execution_count": null,
   "id": "10f139f1",
   "metadata": {},
   "outputs": [],
   "source": []
  }
 ],
 "metadata": {
  "kernelspec": {
   "display_name": "Python 3 (ipykernel)",
   "language": "python",
   "name": "python3"
  },
  "language_info": {
   "codemirror_mode": {
    "name": "ipython",
    "version": 3
   },
   "file_extension": ".py",
   "mimetype": "text/x-python",
   "name": "python",
   "nbconvert_exporter": "python",
   "pygments_lexer": "ipython3",
   "version": "3.8.6"
  }
 },
 "nbformat": 4,
 "nbformat_minor": 5
}
