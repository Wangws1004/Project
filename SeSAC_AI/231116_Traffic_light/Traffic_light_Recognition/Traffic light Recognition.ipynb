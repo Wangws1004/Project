{
 "cells": [
  {
   "cell_type": "code",
   "execution_count": 1,
   "id": "ff83737d",
   "metadata": {},
   "outputs": [
    {
     "name": "stdout",
     "output_type": "stream",
     "text": [
      "Thu Nov  9 07:37:11 2023       \n",
      "+-----------------------------------------------------------------------------+\n",
      "| NVIDIA-SMI 515.65.01    Driver Version: 515.65.01    CUDA Version: 11.7     |\n",
      "|-------------------------------+----------------------+----------------------+\n",
      "| GPU  Name        Persistence-M| Bus-Id        Disp.A | Volatile Uncorr. ECC |\n",
      "| Fan  Temp  Perf  Pwr:Usage/Cap|         Memory-Usage | GPU-Util  Compute M. |\n",
      "|                               |                      |               MIG M. |\n",
      "|===============================+======================+======================|\n",
      "|   0  Tesla T4            On   | 00000000:00:1E.0 Off |                    0 |\n",
      "| N/A   27C    P8    14W /  70W |      2MiB / 15360MiB |      0%      Default |\n",
      "|                               |                      |                  N/A |\n",
      "+-------------------------------+----------------------+----------------------+\n",
      "                                                                               \n",
      "+-----------------------------------------------------------------------------+\n",
      "| Processes:                                                                  |\n",
      "|  GPU   GI   CI        PID   Type   Process name                  GPU Memory |\n",
      "|        ID   ID                                                   Usage      |\n",
      "|=============================================================================|\n",
      "|  No running processes found                                                 |\n",
      "+-----------------------------------------------------------------------------+\n"
     ]
    }
   ],
   "source": [
    "!nvidia-smi"
   ]
  },
  {
   "cell_type": "code",
   "execution_count": 2,
   "id": "5d86141f",
   "metadata": {},
   "outputs": [],
   "source": [
    "# pip install ultralytics"
   ]
  },
  {
   "cell_type": "code",
   "execution_count": 3,
   "id": "8143a96d",
   "metadata": {},
   "outputs": [],
   "source": [
    "# pip install roboflow"
   ]
  },
  {
   "cell_type": "code",
   "execution_count": 4,
   "id": "3b69baf4",
   "metadata": {},
   "outputs": [],
   "source": [
    "# pip install --upgrade ipython"
   ]
  },
  {
   "cell_type": "code",
   "execution_count": 5,
   "id": "7cd8592f",
   "metadata": {},
   "outputs": [
    {
     "name": "stdout",
     "output_type": "stream",
     "text": [
      "Requirement already satisfied: ultralytics==8.0.73 in /home/ubuntu/anaconda3/lib/python3.10/site-packages (8.0.73)\n",
      "Requirement already satisfied: pandas>=1.1.4 in /home/ubuntu/anaconda3/lib/python3.10/site-packages (from ultralytics==8.0.73) (1.5.3)\n",
      "Requirement already satisfied: matplotlib>=3.2.2 in /home/ubuntu/anaconda3/lib/python3.10/site-packages (from ultralytics==8.0.73) (3.8.1)\n",
      "Requirement already satisfied: torch>=1.7.0 in /home/ubuntu/anaconda3/lib/python3.10/site-packages (from ultralytics==8.0.73) (2.0.1)\n",
      "Requirement already satisfied: numpy>=1.21.6 in /home/ubuntu/anaconda3/lib/python3.10/site-packages (from ultralytics==8.0.73) (1.23.5)\n",
      "Requirement already satisfied: PyYAML>=5.3.1 in /home/ubuntu/anaconda3/lib/python3.10/site-packages (from ultralytics==8.0.73) (6.0)\n",
      "Requirement already satisfied: torchvision>=0.8.1 in /home/ubuntu/anaconda3/lib/python3.10/site-packages (from ultralytics==8.0.73) (0.15.2)\n",
      "Requirement already satisfied: opencv-python>=4.6.0 in /home/ubuntu/anaconda3/lib/python3.10/site-packages (from ultralytics==8.0.73) (4.7.0.72)\n",
      "Requirement already satisfied: seaborn>=0.11.0 in /home/ubuntu/anaconda3/lib/python3.10/site-packages (from ultralytics==8.0.73) (0.12.2)\n",
      "Requirement already satisfied: tqdm>=4.64.0 in /home/ubuntu/anaconda3/lib/python3.10/site-packages (from ultralytics==8.0.73) (4.64.1)\n",
      "Requirement already satisfied: scipy>=1.4.1 in /home/ubuntu/anaconda3/lib/python3.10/site-packages (from ultralytics==8.0.73) (1.10.0)\n",
      "Requirement already satisfied: thop>=0.1.1 in /home/ubuntu/anaconda3/lib/python3.10/site-packages (from ultralytics==8.0.73) (0.1.1.post2209072238)\n",
      "Requirement already satisfied: Pillow>=7.1.2 in /home/ubuntu/anaconda3/lib/python3.10/site-packages (from ultralytics==8.0.73) (9.4.0)\n",
      "Requirement already satisfied: requests>=2.23.0 in /home/ubuntu/anaconda3/lib/python3.10/site-packages (from ultralytics==8.0.73) (2.28.1)\n",
      "Requirement already satisfied: psutil in /home/ubuntu/anaconda3/lib/python3.10/site-packages (from ultralytics==8.0.73) (5.9.0)\n",
      "Requirement already satisfied: sentry-sdk in /home/ubuntu/anaconda3/lib/python3.10/site-packages (from ultralytics==8.0.73) (1.34.0)\n",
      "Requirement already satisfied: contourpy>=1.0.1 in /home/ubuntu/anaconda3/lib/python3.10/site-packages (from matplotlib>=3.2.2->ultralytics==8.0.73) (1.0.5)\n",
      "Requirement already satisfied: kiwisolver>=1.3.1 in /home/ubuntu/anaconda3/lib/python3.10/site-packages (from matplotlib>=3.2.2->ultralytics==8.0.73) (1.4.4)\n",
      "Requirement already satisfied: packaging>=20.0 in /home/ubuntu/anaconda3/lib/python3.10/site-packages (from matplotlib>=3.2.2->ultralytics==8.0.73) (22.0)\n",
      "Requirement already satisfied: python-dateutil>=2.7 in /home/ubuntu/anaconda3/lib/python3.10/site-packages (from matplotlib>=3.2.2->ultralytics==8.0.73) (2.8.2)\n",
      "Requirement already satisfied: pyparsing>=2.3.1 in /home/ubuntu/anaconda3/lib/python3.10/site-packages (from matplotlib>=3.2.2->ultralytics==8.0.73) (2.4.7)\n",
      "Requirement already satisfied: cycler>=0.10 in /home/ubuntu/anaconda3/lib/python3.10/site-packages (from matplotlib>=3.2.2->ultralytics==8.0.73) (0.10.0)\n",
      "Requirement already satisfied: fonttools>=4.22.0 in /home/ubuntu/anaconda3/lib/python3.10/site-packages (from matplotlib>=3.2.2->ultralytics==8.0.73) (4.25.0)\n",
      "Requirement already satisfied: pytz>=2020.1 in /home/ubuntu/anaconda3/lib/python3.10/site-packages (from pandas>=1.1.4->ultralytics==8.0.73) (2022.7)\n",
      "Requirement already satisfied: idna<4,>=2.5 in /home/ubuntu/anaconda3/lib/python3.10/site-packages (from requests>=2.23.0->ultralytics==8.0.73) (2.10)\n",
      "Requirement already satisfied: charset-normalizer<3,>=2 in /home/ubuntu/anaconda3/lib/python3.10/site-packages (from requests>=2.23.0->ultralytics==8.0.73) (2.0.4)\n",
      "Requirement already satisfied: urllib3<1.27,>=1.21.1 in /home/ubuntu/anaconda3/lib/python3.10/site-packages (from requests>=2.23.0->ultralytics==8.0.73) (1.26.14)\n",
      "Requirement already satisfied: certifi>=2017.4.17 in /home/ubuntu/anaconda3/lib/python3.10/site-packages (from requests>=2.23.0->ultralytics==8.0.73) (2023.7.22)\n",
      "Requirement already satisfied: filelock in /home/ubuntu/anaconda3/lib/python3.10/site-packages (from torch>=1.7.0->ultralytics==8.0.73) (3.9.0)\n",
      "Requirement already satisfied: typing-extensions in /home/ubuntu/anaconda3/lib/python3.10/site-packages (from torch>=1.7.0->ultralytics==8.0.73) (4.4.0)\n",
      "Requirement already satisfied: sympy in /home/ubuntu/anaconda3/lib/python3.10/site-packages (from torch>=1.7.0->ultralytics==8.0.73) (1.11.1)\n",
      "Requirement already satisfied: networkx in /home/ubuntu/anaconda3/lib/python3.10/site-packages (from torch>=1.7.0->ultralytics==8.0.73) (2.8.4)\n",
      "Requirement already satisfied: jinja2 in /home/ubuntu/anaconda3/lib/python3.10/site-packages (from torch>=1.7.0->ultralytics==8.0.73) (3.1.2)\n",
      "Requirement already satisfied: six in /home/ubuntu/anaconda3/lib/python3.10/site-packages (from cycler>=0.10->matplotlib>=3.2.2->ultralytics==8.0.73) (1.16.0)\n",
      "Requirement already satisfied: MarkupSafe>=2.0 in /home/ubuntu/anaconda3/lib/python3.10/site-packages (from jinja2->torch>=1.7.0->ultralytics==8.0.73) (2.1.1)\n",
      "Requirement already satisfied: mpmath>=0.19 in /home/ubuntu/anaconda3/lib/python3.10/site-packages/mpmath-1.2.1-py3.10.egg (from sympy->torch>=1.7.0->ultralytics==8.0.73) (1.2.1)\n",
      "Note: you may need to restart the kernel to use updated packages.\n"
     ]
    }
   ],
   "source": [
    "pip install ultralytics==8.0.73"
   ]
  },
  {
   "cell_type": "code",
   "execution_count": 6,
   "id": "0e3a438d",
   "metadata": {},
   "outputs": [
    {
     "name": "stdout",
     "output_type": "stream",
     "text": [
      "Requirement already satisfied: wandb in /home/ubuntu/anaconda3/lib/python3.10/site-packages (0.15.3)\n",
      "Requirement already satisfied: setproctitle in /home/ubuntu/anaconda3/lib/python3.10/site-packages (from wandb) (1.3.3)\n",
      "Requirement already satisfied: PyYAML in /home/ubuntu/anaconda3/lib/python3.10/site-packages (from wandb) (6.0)\n",
      "Requirement already satisfied: requests<3,>=2.0.0 in /home/ubuntu/anaconda3/lib/python3.10/site-packages (from wandb) (2.28.1)\n",
      "Requirement already satisfied: setuptools in /home/ubuntu/anaconda3/lib/python3.10/site-packages (from wandb) (65.6.3)\n",
      "Requirement already satisfied: appdirs>=1.4.3 in /home/ubuntu/anaconda3/lib/python3.10/site-packages (from wandb) (1.4.4)\n",
      "Requirement already satisfied: protobuf!=4.21.0,<5,>=3.19.0 in /home/ubuntu/anaconda3/lib/python3.10/site-packages (from wandb) (4.23.4)\n",
      "Requirement already satisfied: GitPython!=3.1.29,>=1.0.0 in /home/ubuntu/anaconda3/lib/python3.10/site-packages (from wandb) (3.1.40)\n",
      "Requirement already satisfied: sentry-sdk>=1.0.0 in /home/ubuntu/anaconda3/lib/python3.10/site-packages (from wandb) (1.34.0)\n",
      "Requirement already satisfied: Click!=8.0.0,>=7.0 in /home/ubuntu/anaconda3/lib/python3.10/site-packages (from wandb) (8.0.4)\n",
      "Requirement already satisfied: psutil>=5.0.0 in /home/ubuntu/anaconda3/lib/python3.10/site-packages (from wandb) (5.9.0)\n",
      "Requirement already satisfied: docker-pycreds>=0.4.0 in /home/ubuntu/anaconda3/lib/python3.10/site-packages (from wandb) (0.4.0)\n",
      "Requirement already satisfied: pathtools in /home/ubuntu/anaconda3/lib/python3.10/site-packages (from wandb) (0.1.2)\n",
      "Requirement already satisfied: six>=1.4.0 in /home/ubuntu/anaconda3/lib/python3.10/site-packages (from docker-pycreds>=0.4.0->wandb) (1.16.0)\n",
      "Requirement already satisfied: gitdb<5,>=4.0.1 in /home/ubuntu/anaconda3/lib/python3.10/site-packages (from GitPython!=3.1.29,>=1.0.0->wandb) (4.0.11)\n",
      "Requirement already satisfied: urllib3<1.27,>=1.21.1 in /home/ubuntu/anaconda3/lib/python3.10/site-packages (from requests<3,>=2.0.0->wandb) (1.26.14)\n",
      "Requirement already satisfied: charset-normalizer<3,>=2 in /home/ubuntu/anaconda3/lib/python3.10/site-packages (from requests<3,>=2.0.0->wandb) (2.0.4)\n",
      "Requirement already satisfied: idna<4,>=2.5 in /home/ubuntu/anaconda3/lib/python3.10/site-packages (from requests<3,>=2.0.0->wandb) (2.10)\n",
      "Requirement already satisfied: certifi>=2017.4.17 in /home/ubuntu/anaconda3/lib/python3.10/site-packages (from requests<3,>=2.0.0->wandb) (2023.7.22)\n",
      "Requirement already satisfied: smmap<6,>=3.0.1 in /home/ubuntu/anaconda3/lib/python3.10/site-packages (from gitdb<5,>=4.0.1->GitPython!=3.1.29,>=1.0.0->wandb) (5.0.1)\n",
      "Note: you may need to restart the kernel to use updated packages.\n"
     ]
    }
   ],
   "source": [
    "pip install wandb"
   ]
  },
  {
   "cell_type": "code",
   "execution_count": 7,
   "id": "d2aad8e6",
   "metadata": {},
   "outputs": [
    {
     "name": "stdout",
     "output_type": "stream",
     "text": [
      "/bin/bash: line 1: wandb: command not found\r\n"
     ]
    }
   ],
   "source": [
    "!wandb login"
   ]
  },
  {
   "cell_type": "code",
   "execution_count": 8,
   "id": "459d6b62",
   "metadata": {},
   "outputs": [],
   "source": [
    "# import wandb\n",
    "# import random\n",
    "\n",
    "# # start a new wandb run to track this script\n",
    "# wandb.init(\n",
    "#     # set the wandb project where this run will be logged\n",
    "#     project=\"my-awesome-project\",\n",
    "    \n",
    "#     # track hyperparameters and run metadata\n",
    "#     config={\n",
    "#     \"learning_rate\": 0.02,\n",
    "#     \"architecture\": \"CNN\",\n",
    "#     \"dataset\": \"CIFAR-100\",\n",
    "#     \"epochs\": 10,\n",
    "#     }\n",
    "# )\n",
    "\n",
    "# # simulate training\n",
    "# epochs = 10\n",
    "# offset = random.random() / 5\n",
    "# for epoch in range(2, epochs):\n",
    "#     acc = 1 - 2 ** -epoch - random.random() / epoch - offset\n",
    "#     loss = 2 ** -epoch + random.random() / epoch + offset\n",
    "    \n",
    "#     # log metrics to wandb\n",
    "#     wandb.log({\"acc\": acc, \"loss\": loss})\n",
    "    \n",
    "# # [optional] finish the wandb run, necessary in notebooks\n",
    "# wandb.finish()"
   ]
  },
  {
   "cell_type": "code",
   "execution_count": 9,
   "id": "467e11b4",
   "metadata": {},
   "outputs": [],
   "source": [
    "from IPython import display\n",
    "from IPython.display import display, Image\n",
    "from ultralytics import YOLO\n",
    "\n",
    "# display.clear_output()\n",
    "\n",
    "# YOLO 객체 생성\n",
    "# yolo = YOLO()\n",
    "\n",
    "# verify 메서드 실행\n",
    "# yolo.check()"
   ]
  },
  {
   "cell_type": "code",
   "execution_count": 10,
   "id": "019d7afb",
   "metadata": {},
   "outputs": [
    {
     "name": "stdout",
     "output_type": "stream",
     "text": [
      "/content\n"
     ]
    }
   ],
   "source": [
    "import os\n",
    "HOME = os.getcwd()\n",
    "print(HOME)"
   ]
  },
  {
   "cell_type": "code",
   "execution_count": 11,
   "id": "dac75a7b",
   "metadata": {},
   "outputs": [
    {
     "name": "stderr",
     "output_type": "stream",
     "text": [
      "Ultralytics YOLOv8.0.73 🚀 Python-3.10.9 torch-2.0.1 CUDA:0 (Tesla T4, 14972MiB)\n",
      "Setup complete ✅ (8 CPUs, 30.9 GB RAM, 66.7/96.7 GB disk)\n"
     ]
    }
   ],
   "source": [
    "# Pip install method (recommended)\n",
    "\n",
    "from IPython import display\n",
    "display.clear_output()\n",
    "\n",
    "import ultralytics\n",
    "ultralytics.checks()"
   ]
  },
  {
   "cell_type": "code",
   "execution_count": 12,
   "id": "ae63a0fe",
   "metadata": {},
   "outputs": [],
   "source": [
    "from ultralytics import YOLO\n",
    "from IPython.display import display, Image"
   ]
  },
  {
   "cell_type": "code",
   "execution_count": 1,
   "id": "307c4e85",
   "metadata": {},
   "outputs": [
    {
     "data": {
      "text/plain": [
       "'\\nfrom roboflow import Roboflow\\nrf = Roboflow(api_key=\"\")\\nproject = rf.workspace(\"trafficlightdetect\").project(\"traffic-light-ke5b5\")\\ndataset = project.version(10).download(\"yolov8\")\\n'"
      ]
     },
     "execution_count": 1,
     "metadata": {},
     "output_type": "execute_result"
    }
   ],
   "source": [
    "\"\"\"\n",
    "from roboflow import Roboflow\n",
    "rf = Roboflow(api_key=\"\")\n",
    "project = rf.workspace(\"trafficlightdetect\").project(\"traffic-light-ke5b5\")\n",
    "dataset = project.version(10).download(\"yolov8\")\n",
    "\"\"\""
   ]
  },
  {
   "cell_type": "code",
   "execution_count": 2,
   "id": "aea6d953",
   "metadata": {},
   "outputs": [
    {
     "data": {
      "text/plain": [
       "'\\n↓ Pre-Trained Model download\\n\\nfrom roboflow import Roboflow\\nrf = Roboflow(api_key=\"\")\\nproject = rf.workspace().project(\"traffic-light-ke5b5\")\\nmodel = project.version(8).model\\n'"
      ]
     },
     "execution_count": 2,
     "metadata": {},
     "output_type": "execute_result"
    }
   ],
   "source": [
    "\"\"\"\n",
    "↓ Pre-Trained Model download\n",
    "\n",
    "from roboflow import Roboflow\n",
    "rf = Roboflow(api_key=\"\")\n",
    "project = rf.workspace().project(\"traffic-light-ke5b5\")\n",
    "model = project.version(8).model\n",
    "\"\"\""
   ]
  },
  {
   "cell_type": "code",
   "execution_count": 15,
   "id": "30adbdbd",
   "metadata": {},
   "outputs": [],
   "source": [
    "import yaml\n",
    "import torch\n",
    "from torchvision import transforms\n",
    "from PIL import Image as PILImage\n",
    "from tqdm import tqdm\n",
    "from PIL import Image"
   ]
  },
  {
   "cell_type": "code",
   "execution_count": 16,
   "id": "352ec71a",
   "metadata": {},
   "outputs": [],
   "source": [
    "# # 원래 이미지가 RGBA 형식인지 RGB 형식인지 판별하는 코드\n",
    "# original_image_path = '/content/Traffic_light/train/images/-3-_jpg.rf.04a86cd5626655ea5bb84f86189cea46.jpg'  # 원래 이미지 파일 경로 설정\n",
    "# original_image = Image.open(original_image_path)\n",
    "# image_mode = original_image.mode  # 이미지의 모드를 가져옵니다. 'RGBA' 또는 'RGB'일 수 있습니다.\n",
    "# print(f\"원래 이미지의 모드: {image_mode}\")"
   ]
  },
  {
   "cell_type": "code",
   "execution_count": 17,
   "id": "caf74730",
   "metadata": {},
   "outputs": [],
   "source": [
    "# 데이터 증강을 위한 변환 정의\n",
    "transform = transforms.Compose([\n",
    "    transforms.RandomResizedCrop(640),  # 이미지 크기를 무작위로 자르고 640x640 크기로 조절합니다.\n",
    "    transforms.RandomHorizontalFlip(),  # 50% 확률로 좌우 반전을 수행합니다.\n",
    "    transforms.ColorJitter(brightness=0.2, contrast=0.2, saturation=0.2, hue=0.1),  # 색상, 대비, 채도 및 색조를 무작위로 조절합니다.\n",
    "    transforms.RandomRotation(10),  # 최대 10도까지 무작위로 회전시킵니다.\n",
    "    transforms.RandomAffine(degrees=0, translate=(0.1, 0.1), scale=(0.9, 1.1), shear=10),  # 무작위로 이동, 크기 조절, 기울임 변환을 수행합니다.\n",
    "    transforms.GaussianBlur(kernel_size=3),  # 가우시안 블러를 적용합니다.\n",
    "    transforms.ToTensor(),  # 이미지를 텐서로 변환합니다.\n",
    "])"
   ]
  },
  {
   "cell_type": "code",
   "execution_count": 18,
   "id": "c6a3deba",
   "metadata": {},
   "outputs": [],
   "source": [
    "# 원본 이미지 경로 및 증강된 이미지 저장 경로 설정\n",
    "original_data_dir = '/content/Traffic_light/train/images'\n",
    "augmented_data_dir = '/content/Traffic_light/augmented_images'\n",
    "\n",
    "# 기존 'data.yaml' 파일의 경로\n",
    "data_yaml_path = '/content/Traffic_light/data.yaml'"
   ]
  },
  {
   "cell_type": "code",
   "execution_count": 20,
   "id": "a878a768",
   "metadata": {},
   "outputs": [
    {
     "name": "stderr",
     "output_type": "stream",
     "text": [
      "Augmenting Images: 100%|██████████| 701/701 [06:13<00:00,  1.88it/s]\n"
     ]
    },
    {
     "name": "stdout",
     "output_type": "stream",
     "text": [
      "Augmented data saved to /content/Traffic_light/augmented_images\n",
      "Updated paths in /content/Traffic_light/data.yaml\n"
     ]
    }
   ],
   "source": [
    "# 기존 'data.yaml' 파일을 로드합니다.\n",
    "with open(data_yaml_path, 'r') as file:\n",
    "    data_yaml = yaml.safe_load(file)\n",
    "\n",
    "# 'train' 섹션에 이미지 경로를 추가합니다.\n",
    "data_yaml['train'] = []  # 'train' 섹션을 빈 리스트로 초기화합니다.\n",
    "\n",
    "for image_file in tqdm(os.listdir(original_data_dir), desc='Augmenting Images'):\n",
    "    original_image_path = os.path.join(original_data_dir, image_file)\n",
    "    original_image = Image.open(original_image_path).convert(\"RGB\")\n",
    "    \n",
    "    # 6가지의 데이터 증강 방법을 적용하여 이미지를 6번 증강합니다.\n",
    "    for i in range(6):\n",
    "        augmented_image = transform(original_image)\n",
    "        augmented_image_path = os.path.join(augmented_data_dir, f\"{os.path.splitext(image_file)[0]}_{i}.jpg\")\n",
    "        augmented_image_pil = transforms.ToPILImage()(augmented_image)\n",
    "        augmented_image_pil.save(augmented_image_path)\n",
    "        \n",
    "        # 업데이트된 이미지 경로를 'train' 섹션에 추가합니다.\n",
    "        data_yaml['train'].append(os.path.relpath(augmented_image_path, '/content/Traffic_light'))\n",
    "\n",
    "# 업데이트된 'data.yaml' 파일을 저장합니다.\n",
    "with open(data_yaml_path, 'w') as file:\n",
    "    yaml.dump(data_yaml, file, default_flow_style=False)\n",
    "\n",
    "print(f\"Augmented data saved to {augmented_data_dir}\")\n",
    "print(f\"Updated paths in {data_yaml_path}\")"
   ]
  },
  {
   "cell_type": "code",
   "execution_count": null,
   "id": "e8104e40",
   "metadata": {
    "scrolled": true
   },
   "outputs": [],
   "source": [
    "# # data.yaml에서 'train' 키의 값을 리스트로 초기화\n",
    "# data_yaml['train'] = []\n",
    "\n",
    "# # 데이터 증강 및 저장\n",
    "# for image_file in tqdm(image_files, desc='데이터 증강 중', unit='이미지'):\n",
    "#     # 원본 이미지 불러오기\n",
    "#     original_image_path = os.path.join(original_data_dir, image_file)\n",
    "#     original_image = Image.open(original_image_path).convert(\"RGB\")\n",
    "    \n",
    "#     # 변환 적용\n",
    "#     augmented_image = transform(original_image)\n",
    "    \n",
    "#     # 저장할 경로 설정\n",
    "#     augmented_image_filename = f\"augmented_{image_file}\"\n",
    "#     augmented_image_path = os.path.join(augmented_data_dir, augmented_image_filename)\n",
    "    \n",
    "#     # 이미지 저장\n",
    "#     transforms.ToPILImage()(augmented_image).save(augmented_image_path)\n",
    "    \n",
    "#     # data.yaml 파일 업데이트 (증강된 이미지 경로 추가)\n",
    "#     data_yaml['train'].append(os.path.relpath(augmented_image_path, '/content/Traffic_light'))\n",
    "\n",
    "# # 업데이트된 data.yaml 파일 저장\n",
    "# with open(data_yaml_path, 'w') as file:\n",
    "#     yaml.dump(data_yaml, file, default_flow_style=False)\n",
    "\n",
    "# print(f\"Updated data.yaml with augmented images.\")"
   ]
  },
  {
   "cell_type": "code",
   "execution_count": 21,
   "id": "b8e0abab",
   "metadata": {},
   "outputs": [
    {
     "name": "stdout",
     "output_type": "stream",
     "text": [
      "Updated paths in /content/Traffic_light/data.yaml\n"
     ]
    }
   ],
   "source": [
    "# data.yaml 파일의 경로를 업데이트합니다.\n",
    "new_paths = {\n",
    "    'test': '/content/Traffic_light/test/images',  # 테스트 이미지의 저장 경로를 설정합니다.\n",
    "    'train': '/content/Traffic_light/train/images',  # 훈련 이미지의 저장 경로를 설정합니다.\n",
    "    'val': '/content/Traffic_light/valid/images'  # 검증 이미지의 저장 경로를 설정합니다.\n",
    "}\n",
    "\n",
    "# data.yaml 파일을 읽어옵니다.\n",
    "with open(data_yaml_path, 'r') as file:\n",
    "    data_yaml = yaml.safe_load(file)\n",
    "\n",
    "# 이미지 저장 경로를 업데이트합니다.\n",
    "data_yaml['test'] = new_paths['test']\n",
    "data_yaml['train'] = new_paths['train']\n",
    "data_yaml['val'] = new_paths['val']\n",
    "\n",
    "# 업데이트된 data.yaml 파일을 저장합니다.\n",
    "with open(data_yaml_path, 'w') as file:\n",
    "    yaml.dump(data_yaml, file, default_flow_style=False)\n",
    "\n",
    "print(f\"Updated paths in {data_yaml_path}\")  # 업데이트된 data.yaml 파일의 경로를 출력합니다."
   ]
  },
  {
   "cell_type": "code",
   "execution_count": 22,
   "id": "9877b1ea",
   "metadata": {},
   "outputs": [],
   "source": [
    "# # Define the new paths relative to the location of data.yaml\n",
    "# new_paths = {\n",
    "#     'test': '/content/Traffic_light/test/images',\n",
    "#     'train': '/content/Traffic_light/train/images',\n",
    "#     'val': '/content/Traffic_light/valid/images'\n",
    "# }\n",
    "\n",
    "# # Path to your data.yaml file\n",
    "# data_yaml_path = '/content/Traffic_light/data.yaml'\n",
    "\n",
    "# # Read in the existing data.yaml file\n",
    "# with open(data_yaml_path, 'r') as file:\n",
    "#     data_yaml = yaml.safe_load(file)\n",
    "\n",
    "# # Update the paths\n",
    "# data_yaml['test'] = new_paths['test']\n",
    "# data_yaml['train'] = new_paths['train']\n",
    "# data_yaml['val'] = new_paths['val']\n",
    "\n",
    "# # Write the updated data.yaml back to the file\n",
    "# with open(data_yaml_path, 'w') as file:\n",
    "#     yaml.dump(data_yaml, file, default_flow_style=False)\n",
    "\n",
    "# print(f\"Updated paths in {data_yaml_path}\")"
   ]
  },
  {
   "cell_type": "code",
   "execution_count": 23,
   "id": "37bf1700",
   "metadata": {},
   "outputs": [
    {
     "ename": "NameError",
     "evalue": "name 'stop' is not defined",
     "output_type": "error",
     "traceback": [
      "\u001b[0;31m---------------------------------------------------------------------------\u001b[0m",
      "\u001b[0;31mNameError\u001b[0m                                 Traceback (most recent call last)",
      "Cell \u001b[0;32mIn[23], line 1\u001b[0m\n\u001b[0;32m----> 1\u001b[0m \u001b[43mstop\u001b[49m\n",
      "\u001b[0;31mNameError\u001b[0m: name 'stop' is not defined"
     ]
    }
   ],
   "source": [
    "stop"
   ]
  },
  {
   "cell_type": "code",
   "execution_count": 24,
   "id": "38e939b8",
   "metadata": {},
   "outputs": [],
   "source": [
    "import wandb"
   ]
  },
  {
   "cell_type": "code",
   "execution_count": 26,
   "id": "2fb08f55",
   "metadata": {},
   "outputs": [
    {
     "name": "stdout",
     "output_type": "stream",
     "text": [
      "Error in callback <bound method _WandbInit._resume_backend of <wandb.sdk.wandb_init._WandbInit object at 0x7fcd70391150>> (for pre_run_cell), with arguments args (<ExecutionInfo object at 7fcd72eebb20, raw_cell=\"# WandB 초기화\n",
      "wandb.init(project='awesome_project_tr..\" store_history=True silent=False shell_futures=True cell_id=None>,),kwargs {}:\n"
     ]
    },
    {
     "ename": "TypeError",
     "evalue": "_WandbInit._resume_backend() takes 1 positional argument but 2 were given",
     "output_type": "error",
     "traceback": [
      "\u001b[0;31m---------------------------------------------------------------------------\u001b[0m",
      "\u001b[0;31mTypeError\u001b[0m                                 Traceback (most recent call last)",
      "\u001b[0;31mTypeError\u001b[0m: _WandbInit._resume_backend() takes 1 positional argument but 2 were given"
     ]
    },
    {
     "data": {
      "text/html": [
       "Finishing last run (ID:tlc6ueda) before initializing another..."
      ],
      "text/plain": [
       "<IPython.core.display.HTML object>"
      ]
     },
     "metadata": {},
     "output_type": "display_data"
    },
    {
     "data": {
      "text/html": [
       "Waiting for W&B process to finish... <strong style=\"color:green\">(success).</strong>"
      ],
      "text/plain": [
       "<IPython.core.display.HTML object>"
      ]
     },
     "metadata": {},
     "output_type": "display_data"
    },
    {
     "data": {
      "application/vnd.jupyter.widget-view+json": {
       "model_id": "6e4e55e1b26845f2a97e65c12104487e",
       "version_major": 2,
       "version_minor": 0
      },
      "text/plain": [
       "VBox(children=(Label(value='0.002 MB of 0.002 MB uploaded (0.000 MB deduped)\\r'), FloatProgress(value=1.0, max…"
      ]
     },
     "metadata": {},
     "output_type": "display_data"
    },
    {
     "data": {
      "text/html": [
       " View run <strong style=\"color:#cdcd00\">warm-firefly-2</strong> at: <a href='https://wandb.ai/buzz__/awesome_project_try2/runs/tlc6ueda' target=\"_blank\">https://wandb.ai/buzz__/awesome_project_try2/runs/tlc6ueda</a><br/>Synced 5 W&B file(s), 0 media file(s), 0 artifact file(s) and 0 other file(s)"
      ],
      "text/plain": [
       "<IPython.core.display.HTML object>"
      ]
     },
     "metadata": {},
     "output_type": "display_data"
    },
    {
     "data": {
      "text/html": [
       "Find logs at: <code>./wandb/run-20231109_074844-tlc6ueda/logs</code>"
      ],
      "text/plain": [
       "<IPython.core.display.HTML object>"
      ]
     },
     "metadata": {},
     "output_type": "display_data"
    },
    {
     "data": {
      "text/html": [
       "Successfully finished last run (ID:tlc6ueda). Initializing new run:<br/>"
      ],
      "text/plain": [
       "<IPython.core.display.HTML object>"
      ]
     },
     "metadata": {},
     "output_type": "display_data"
    },
    {
     "data": {
      "application/vnd.jupyter.widget-view+json": {
       "model_id": "eaefaf13c70544ab8fc6006a706ac71d",
       "version_major": 2,
       "version_minor": 0
      },
      "text/plain": [
       "VBox(children=(Label(value='Waiting for wandb.init()...\\r'), FloatProgress(value=0.01666839266666405, max=1.0)…"
      ]
     },
     "metadata": {},
     "output_type": "display_data"
    },
    {
     "data": {
      "text/html": [
       "wandb version 0.16.0 is available!  To upgrade, please run:\n",
       " $ pip install wandb --upgrade"
      ],
      "text/plain": [
       "<IPython.core.display.HTML object>"
      ]
     },
     "metadata": {},
     "output_type": "display_data"
    },
    {
     "data": {
      "text/html": [
       "Tracking run with wandb version 0.15.3"
      ],
      "text/plain": [
       "<IPython.core.display.HTML object>"
      ]
     },
     "metadata": {},
     "output_type": "display_data"
    },
    {
     "data": {
      "text/html": [
       "Run data is saved locally in <code>/content/wandb/run-20231109_074927-frihf9fa</code>"
      ],
      "text/plain": [
       "<IPython.core.display.HTML object>"
      ]
     },
     "metadata": {},
     "output_type": "display_data"
    },
    {
     "data": {
      "text/html": [
       "Syncing run <strong><a href='https://wandb.ai/buzz__/awesome_project_try2/runs/frihf9fa' target=\"_blank\">lemon-monkey-3</a></strong> to <a href='https://wandb.ai/buzz__/awesome_project_try2' target=\"_blank\">Weights & Biases</a> (<a href='https://wandb.me/run' target=\"_blank\">docs</a>)<br/>"
      ],
      "text/plain": [
       "<IPython.core.display.HTML object>"
      ]
     },
     "metadata": {},
     "output_type": "display_data"
    },
    {
     "data": {
      "text/html": [
       " View project at <a href='https://wandb.ai/buzz__/awesome_project_try2' target=\"_blank\">https://wandb.ai/buzz__/awesome_project_try2</a>"
      ],
      "text/plain": [
       "<IPython.core.display.HTML object>"
      ]
     },
     "metadata": {},
     "output_type": "display_data"
    },
    {
     "data": {
      "text/html": [
       " View run at <a href='https://wandb.ai/buzz__/awesome_project_try2/runs/frihf9fa' target=\"_blank\">https://wandb.ai/buzz__/awesome_project_try2/runs/frihf9fa</a>"
      ],
      "text/plain": [
       "<IPython.core.display.HTML object>"
      ]
     },
     "metadata": {},
     "output_type": "display_data"
    },
    {
     "data": {
      "text/html": [
       "<button onClick=\"this.nextSibling.style.display='block';this.style.display='none';\">Display W&B run</button><iframe src='https://wandb.ai/buzz__/awesome_project_try2/runs/frihf9fa?jupyter=true' style='border:none;width:100%;height:420px;display:none;'></iframe>"
      ],
      "text/plain": [
       "<wandb.sdk.wandb_run.Run at 0x7fcd4eff9930>"
      ]
     },
     "execution_count": 26,
     "metadata": {},
     "output_type": "execute_result"
    }
   ],
   "source": [
    "# WandB 초기화\n",
    "wandb.init(project='awesome_project_try2')"
   ]
  },
  {
   "cell_type": "code",
   "execution_count": 27,
   "id": "45be6ba7",
   "metadata": {},
   "outputs": [],
   "source": [
    "lrf = 0.001  # final layer의 학습률 조정\n",
    "batch = 32  # 배치 크기 조정\n",
    "epochs = 200  # 에폭 수 조정"
   ]
  },
  {
   "cell_type": "code",
   "execution_count": 28,
   "id": "ad401789",
   "metadata": {},
   "outputs": [],
   "source": [
    "# WandB에 학습 파라미터 기록\n",
    "wandb.config.lr = lrf\n",
    "wandb.config.batch_size = batch\n",
    "wandb.config.epochs = epochs"
   ]
  },
  {
   "cell_type": "code",
   "execution_count": 29,
   "id": "6a5cdb3c",
   "metadata": {},
   "outputs": [
    {
     "name": "stdout",
     "output_type": "stream",
     "text": [
      "Requirement already satisfied: wandb==0.15.3 in /home/ubuntu/anaconda3/lib/python3.10/site-packages (0.15.3)\n",
      "Requirement already satisfied: pathtools in /home/ubuntu/anaconda3/lib/python3.10/site-packages (from wandb==0.15.3) (0.1.2)\n",
      "Requirement already satisfied: docker-pycreds>=0.4.0 in /home/ubuntu/anaconda3/lib/python3.10/site-packages (from wandb==0.15.3) (0.4.0)\n",
      "Requirement already satisfied: GitPython!=3.1.29,>=1.0.0 in /home/ubuntu/anaconda3/lib/python3.10/site-packages (from wandb==0.15.3) (3.1.40)\n",
      "Requirement already satisfied: protobuf!=4.21.0,<5,>=3.19.0 in /home/ubuntu/anaconda3/lib/python3.10/site-packages (from wandb==0.15.3) (4.23.4)\n",
      "Requirement already satisfied: sentry-sdk>=1.0.0 in /home/ubuntu/anaconda3/lib/python3.10/site-packages (from wandb==0.15.3) (1.34.0)\n",
      "Requirement already satisfied: requests<3,>=2.0.0 in /home/ubuntu/anaconda3/lib/python3.10/site-packages (from wandb==0.15.3) (2.28.1)\n",
      "Requirement already satisfied: setproctitle in /home/ubuntu/anaconda3/lib/python3.10/site-packages (from wandb==0.15.3) (1.3.3)\n",
      "Requirement already satisfied: Click!=8.0.0,>=7.0 in /home/ubuntu/anaconda3/lib/python3.10/site-packages (from wandb==0.15.3) (8.0.4)\n",
      "Requirement already satisfied: appdirs>=1.4.3 in /home/ubuntu/anaconda3/lib/python3.10/site-packages (from wandb==0.15.3) (1.4.4)\n",
      "Requirement already satisfied: psutil>=5.0.0 in /home/ubuntu/anaconda3/lib/python3.10/site-packages (from wandb==0.15.3) (5.9.0)\n",
      "Requirement already satisfied: PyYAML in /home/ubuntu/anaconda3/lib/python3.10/site-packages (from wandb==0.15.3) (6.0)\n",
      "Requirement already satisfied: setuptools in /home/ubuntu/anaconda3/lib/python3.10/site-packages (from wandb==0.15.3) (65.6.3)\n",
      "Requirement already satisfied: six>=1.4.0 in /home/ubuntu/anaconda3/lib/python3.10/site-packages (from docker-pycreds>=0.4.0->wandb==0.15.3) (1.16.0)\n",
      "Requirement already satisfied: gitdb<5,>=4.0.1 in /home/ubuntu/anaconda3/lib/python3.10/site-packages (from GitPython!=3.1.29,>=1.0.0->wandb==0.15.3) (4.0.11)\n",
      "Requirement already satisfied: charset-normalizer<3,>=2 in /home/ubuntu/anaconda3/lib/python3.10/site-packages (from requests<3,>=2.0.0->wandb==0.15.3) (2.0.4)\n",
      "Requirement already satisfied: urllib3<1.27,>=1.21.1 in /home/ubuntu/anaconda3/lib/python3.10/site-packages (from requests<3,>=2.0.0->wandb==0.15.3) (1.26.14)\n",
      "Requirement already satisfied: certifi>=2017.4.17 in /home/ubuntu/anaconda3/lib/python3.10/site-packages (from requests<3,>=2.0.0->wandb==0.15.3) (2023.7.22)\n",
      "Requirement already satisfied: idna<4,>=2.5 in /home/ubuntu/anaconda3/lib/python3.10/site-packages (from requests<3,>=2.0.0->wandb==0.15.3) (2.10)\n",
      "Requirement already satisfied: smmap<6,>=3.0.1 in /home/ubuntu/anaconda3/lib/python3.10/site-packages (from gitdb<5,>=4.0.1->GitPython!=3.1.29,>=1.0.0->wandb==0.15.3) (5.0.1)\n",
      "Note: you may need to restart the kernel to use updated packages.\n"
     ]
    }
   ],
   "source": [
    "pip install wandb==0.15.3"
   ]
  },
  {
   "cell_type": "code",
   "execution_count": 30,
   "id": "98b5d047",
   "metadata": {},
   "outputs": [],
   "source": [
    "from ultralytics.yolo.engine.model import YOLO"
   ]
  },
  {
   "cell_type": "code",
   "execution_count": 31,
   "id": "090c42fc",
   "metadata": {},
   "outputs": [],
   "source": [
    "from wandb.integration.yolov8 import add_callbacks as add_wandb_callbacks"
   ]
  },
  {
   "cell_type": "code",
   "execution_count": 32,
   "id": "115c7d7f",
   "metadata": {},
   "outputs": [
    {
     "name": "stderr",
     "output_type": "stream",
     "text": [
      "\u001b[34m\u001b[1mwandb\u001b[0m: \u001b[33mWARNING\u001b[0m The wandb callback is currently in beta and is subject to change based on updates to `ultralytics yolov8`.\n",
      "\u001b[34m\u001b[1mwandb\u001b[0m: \u001b[33mWARNING\u001b[0m         The callback is tested and supported for ultralytics v8.0.43 and above.\n",
      "\u001b[34m\u001b[1mwandb\u001b[0m: \u001b[33mWARNING\u001b[0m         Please report any issues to https://github.com/wandb/wandb/issues with the tag `yolov8`.\n",
      "\u001b[34m\u001b[1mwandb\u001b[0m: \u001b[33mWARNING\u001b[0m         \n",
      "New https://pypi.org/project/ultralytics/8.0.208 available 😃 Update with 'pip install -U ultralytics'\n",
      "Ultralytics YOLOv8.0.73 🚀 Python-3.10.9 torch-2.0.1 CUDA:0 (Tesla T4, 14972MiB)\n",
      "\u001b[34m\u001b[1myolo/engine/trainer: \u001b[0mtask=detect, mode=train, model=yolov8m.pt, data=/content/Traffic_light/data.yaml, epochs=200, patience=50, batch=32, imgsz=640, save=True, save_period=-1, cache=False, device=None, workers=8, project=None, name=None, exist_ok=False, pretrained=False, optimizer=SGD, verbose=True, seed=0, deterministic=True, single_cls=False, image_weights=False, rect=False, cos_lr=False, close_mosaic=0, resume=False, amp=True, overlap_mask=True, mask_ratio=4, dropout=0.0, val=True, split=val, save_json=False, save_hybrid=False, conf=None, iou=0.7, max_det=300, half=False, dnn=False, plots=True, source=None, show=False, save_txt=False, save_conf=False, save_crop=False, show_labels=True, show_conf=True, vid_stride=1, line_thickness=3, visualize=False, augment=False, agnostic_nms=False, classes=None, retina_masks=False, boxes=True, format=torchscript, keras=False, optimize=False, int8=False, dynamic=False, simplify=False, opset=None, workspace=4, nms=False, lr0=0.01, lrf=0.001, momentum=0.937, weight_decay=0.0005, warmup_epochs=3.0, warmup_momentum=0.8, warmup_bias_lr=0.1, box=7.5, cls=0.5, dfl=1.5, pose=12.0, kobj=1.0, label_smoothing=0.0, nbs=64, hsv_h=0.015, hsv_s=0.7, hsv_v=0.4, degrees=0.0, translate=0.1, scale=0.5, shear=0.0, perspective=0.0, flipud=0.0, fliplr=0.5, mosaic=1.0, mixup=0.0, copy_paste=0.0, cfg=None, v5loader=False, tracker=botsort.yaml, save_dir=runs/detect/train21\n",
      "Overriding model.yaml nc=80 with nc=4\n",
      "\n",
      "                   from  n    params  module                                       arguments                     \n",
      "  0                  -1  1      1392  ultralytics.nn.modules.Conv                  [3, 48, 3, 2]                 \n",
      "  1                  -1  1     41664  ultralytics.nn.modules.Conv                  [48, 96, 3, 2]                \n",
      "  2                  -1  2    111360  ultralytics.nn.modules.C2f                   [96, 96, 2, True]             \n",
      "  3                  -1  1    166272  ultralytics.nn.modules.Conv                  [96, 192, 3, 2]               \n",
      "  4                  -1  4    813312  ultralytics.nn.modules.C2f                   [192, 192, 4, True]           \n",
      "  5                  -1  1    664320  ultralytics.nn.modules.Conv                  [192, 384, 3, 2]              \n",
      "  6                  -1  4   3248640  ultralytics.nn.modules.C2f                   [384, 384, 4, True]           \n",
      "  7                  -1  1   1991808  ultralytics.nn.modules.Conv                  [384, 576, 3, 2]              \n",
      "  8                  -1  2   3985920  ultralytics.nn.modules.C2f                   [576, 576, 2, True]           \n",
      "  9                  -1  1    831168  ultralytics.nn.modules.SPPF                  [576, 576, 5]                 \n",
      " 10                  -1  1         0  torch.nn.modules.upsampling.Upsample         [None, 2, 'nearest']          \n",
      " 11             [-1, 6]  1         0  ultralytics.nn.modules.Concat                [1]                           \n",
      " 12                  -1  2   1993728  ultralytics.nn.modules.C2f                   [960, 384, 2]                 \n",
      " 13                  -1  1         0  torch.nn.modules.upsampling.Upsample         [None, 2, 'nearest']          \n",
      " 14             [-1, 4]  1         0  ultralytics.nn.modules.Concat                [1]                           \n",
      " 15                  -1  2    517632  ultralytics.nn.modules.C2f                   [576, 192, 2]                 \n",
      " 16                  -1  1    332160  ultralytics.nn.modules.Conv                  [192, 192, 3, 2]              \n",
      " 17            [-1, 12]  1         0  ultralytics.nn.modules.Concat                [1]                           \n",
      " 18                  -1  2   1846272  ultralytics.nn.modules.C2f                   [576, 384, 2]                 \n",
      " 19                  -1  1   1327872  ultralytics.nn.modules.Conv                  [384, 384, 3, 2]              \n",
      " 20             [-1, 9]  1         0  ultralytics.nn.modules.Concat                [1]                           \n",
      " 21                  -1  2   4207104  ultralytics.nn.modules.C2f                   [960, 576, 2]                 \n",
      " 22        [15, 18, 21]  1   3778012  ultralytics.nn.modules.Detect                [4, [192, 384, 576]]          \n",
      "Model summary: 295 layers, 25858636 parameters, 25858620 gradients, 79.1 GFLOPs\n",
      "\n",
      "Transferred 469/475 items from pretrained weights\n",
      "\u001b[34m\u001b[1mTensorBoard: \u001b[0mStart with 'tensorboard --logdir runs/detect/train21', view at http://localhost:6006/\n",
      "\u001b[34m\u001b[1mAMP: \u001b[0mrunning Automatic Mixed Precision (AMP) checks with YOLOv8n...\n",
      "\u001b[34m\u001b[1mAMP: \u001b[0mchecks passed ✅\n",
      "\u001b[34m\u001b[1moptimizer:\u001b[0m SGD(lr=0.01) with parameter groups 77 weight(decay=0.0), 84 weight(decay=0.0005), 83 bias\n",
      "\u001b[34m\u001b[1mtrain: \u001b[0mScanning /content/Traffic_light/train/labels.cache... 701 images, 12 backgrounds, 0 corrupt: 100%|██████████| 701/701 [00:00<?, ?it/s]\n",
      "\u001b[34m\u001b[1mval: \u001b[0mScanning /content/Traffic_light/valid/labels.cache... 199 images, 4 backgrounds, 0 corrupt: 100%|██████████| 199/199 [00:00<?, ?it/s]\n",
      "WARNING ⚠️ Box and segment counts should be equal, but got len(segments) = 3, len(boxes) = 495. To resolve this only boxes will be used and all segments will be removed. To avoid this please supply either a detect or segment dataset, not a detect-segment mixed dataset.\n",
      "Plotting labels to runs/detect/train21/labels.jpg... \n",
      "Image sizes 640 train, 640 val\n",
      "Using 8 dataloader workers\n",
      "Logging results to \u001b[1mruns/detect/train21\u001b[0m\n",
      "Starting training for 200 epochs...\n",
      "\n",
      "      Epoch    GPU_mem   box_loss   cls_loss   dfl_loss  Instances       Size\n",
      "      1/200      12.6G      2.357       15.3      1.325        122        640: 100%|██████████| 22/22 [00:20<00:00,  1.07it/s]\n",
      "                 Class     Images  Instances      Box(P          R      mAP50  mAP50-95): 100%|██████████| 4/4 [00:01<00:00,  2.05it/s]\n",
      "                   all        199        495      0.194      0.192      0.154     0.0688\n",
      "\n",
      "      Epoch    GPU_mem   box_loss   cls_loss   dfl_loss  Instances       Size\n",
      "      2/200      12.7G      1.812      2.126     0.9989        106        640: 100%|██████████| 22/22 [00:19<00:00,  1.12it/s]\n",
      "                 Class     Images  Instances      Box(P          R      mAP50  mAP50-95): 100%|██████████| 4/4 [00:01<00:00,  2.16it/s]\n",
      "                   all        199        495      0.564      0.435      0.469       0.22\n",
      "\n",
      "      Epoch    GPU_mem   box_loss   cls_loss   dfl_loss  Instances       Size\n",
      "      3/200      12.7G      1.823      1.479     0.9783        137        640: 100%|██████████| 22/22 [00:19<00:00,  1.12it/s]\n",
      "                 Class     Images  Instances      Box(P          R      mAP50  mAP50-95): 100%|██████████| 4/4 [00:01<00:00,  2.20it/s]\n",
      "                   all        199        495      0.669      0.398       0.45      0.206\n",
      "\n",
      "      Epoch    GPU_mem   box_loss   cls_loss   dfl_loss  Instances       Size\n",
      "      4/200      12.6G      1.878       1.56      1.023        128        640: 100%|██████████| 22/22 [00:19<00:00,  1.13it/s]\n",
      "                 Class     Images  Instances      Box(P          R      mAP50  mAP50-95): 100%|██████████| 4/4 [00:01<00:00,  2.24it/s]\n",
      "                   all        199        495      0.508      0.359      0.339      0.142\n",
      "\n",
      "      Epoch    GPU_mem   box_loss   cls_loss   dfl_loss  Instances       Size\n",
      "      5/200      12.7G      1.909      1.538     0.9958        135        640: 100%|██████████| 22/22 [00:19<00:00,  1.12it/s]\n",
      "                 Class     Images  Instances      Box(P          R      mAP50  mAP50-95): 100%|██████████| 4/4 [00:01<00:00,  2.22it/s]\n",
      "                   all        199        495      0.551      0.396       0.42       0.18\n"
     ]
    },
    {
     "name": "stderr",
     "output_type": "stream",
     "text": [
      "\n",
      "      Epoch    GPU_mem   box_loss   cls_loss   dfl_loss  Instances       Size\n",
      "      6/200      12.6G      1.899      1.381      1.034        147        640: 100%|██████████| 22/22 [00:19<00:00,  1.12it/s]\n",
      "                 Class     Images  Instances      Box(P          R      mAP50  mAP50-95): 100%|██████████| 4/4 [00:01<00:00,  2.20it/s]\n",
      "                   all        199        495      0.667      0.425      0.463        0.2\n",
      "\n",
      "      Epoch    GPU_mem   box_loss   cls_loss   dfl_loss  Instances       Size\n",
      "      7/200      12.6G      1.929      1.306      1.044         98        640: 100%|██████████| 22/22 [00:19<00:00,  1.12it/s]\n",
      "                 Class     Images  Instances      Box(P          R      mAP50  mAP50-95): 100%|██████████| 4/4 [00:01<00:00,  2.20it/s]\n",
      "                   all        199        495      0.513      0.428      0.424      0.185\n",
      "\n",
      "      Epoch    GPU_mem   box_loss   cls_loss   dfl_loss  Instances       Size\n",
      "      8/200      12.6G      1.893      1.295      1.082        128        640: 100%|██████████| 22/22 [00:19<00:00,  1.12it/s]\n",
      "                 Class     Images  Instances      Box(P          R      mAP50  mAP50-95): 100%|██████████| 4/4 [00:01<00:00,  2.23it/s]\n",
      "                   all        199        495      0.474      0.452      0.401       0.16\n",
      "\n",
      "      Epoch    GPU_mem   box_loss   cls_loss   dfl_loss  Instances       Size\n",
      "      9/200      12.6G      1.919      1.173      1.055        132        640: 100%|██████████| 22/22 [00:19<00:00,  1.12it/s]\n",
      "                 Class     Images  Instances      Box(P          R      mAP50  mAP50-95): 100%|██████████| 4/4 [00:01<00:00,  2.25it/s]\n",
      "                   all        199        495      0.438      0.397      0.346      0.146\n",
      "\n",
      "      Epoch    GPU_mem   box_loss   cls_loss   dfl_loss  Instances       Size\n",
      "     10/200      12.6G      1.769      1.163      1.004         87        640: 100%|██████████| 22/22 [00:19<00:00,  1.12it/s]\n",
      "                 Class     Images  Instances      Box(P          R      mAP50  mAP50-95): 100%|██████████| 4/4 [00:01<00:00,  2.20it/s]\n",
      "                   all        199        495      0.626      0.409      0.429       0.19\n",
      "\n",
      "      Epoch    GPU_mem   box_loss   cls_loss   dfl_loss  Instances       Size\n",
      "     11/200      12.5G      1.827      1.104      1.024        127        640: 100%|██████████| 22/22 [00:19<00:00,  1.12it/s]\n",
      "                 Class     Images  Instances      Box(P          R      mAP50  mAP50-95): 100%|██████████| 4/4 [00:01<00:00,  2.23it/s]\n",
      "                   all        199        495      0.645      0.496       0.49      0.195\n",
      "\n",
      "      Epoch    GPU_mem   box_loss   cls_loss   dfl_loss  Instances       Size\n",
      "     12/200      12.6G      1.765      1.082      1.034        102        640: 100%|██████████| 22/22 [00:19<00:00,  1.12it/s]\n",
      "                 Class     Images  Instances      Box(P          R      mAP50  mAP50-95): 100%|██████████| 4/4 [00:01<00:00,  2.22it/s]\n",
      "                   all        199        495      0.614      0.494      0.473      0.198\n",
      "\n",
      "      Epoch    GPU_mem   box_loss   cls_loss   dfl_loss  Instances       Size\n",
      "     13/200      12.6G      1.753      1.034      1.024         95        640: 100%|██████████| 22/22 [00:19<00:00,  1.12it/s]\n",
      "                 Class     Images  Instances      Box(P          R      mAP50  mAP50-95): 100%|██████████| 4/4 [00:01<00:00,  2.23it/s]\n",
      "                   all        199        495      0.658      0.473        0.5      0.206\n",
      "\n",
      "      Epoch    GPU_mem   box_loss   cls_loss   dfl_loss  Instances       Size\n",
      "     14/200      12.6G      1.792      1.052      1.011        100        640: 100%|██████████| 22/22 [00:19<00:00,  1.12it/s]\n",
      "                 Class     Images  Instances      Box(P          R      mAP50  mAP50-95): 100%|██████████| 4/4 [00:01<00:00,  2.24it/s]\n",
      "                   all        199        495      0.746      0.522      0.563      0.225\n",
      "\n",
      "      Epoch    GPU_mem   box_loss   cls_loss   dfl_loss  Instances       Size\n",
      "     15/200      12.6G      1.756      1.053      1.013        127        640: 100%|██████████| 22/22 [00:19<00:00,  1.12it/s]\n",
      "                 Class     Images  Instances      Box(P          R      mAP50  mAP50-95): 100%|██████████| 4/4 [00:01<00:00,  2.23it/s]\n",
      "                   all        199        495      0.632      0.501      0.545      0.236\n",
      "\n",
      "      Epoch    GPU_mem   box_loss   cls_loss   dfl_loss  Instances       Size\n",
      "     16/200      12.6G      1.773      1.015     0.9993        122        640: 100%|██████████| 22/22 [00:19<00:00,  1.12it/s]\n",
      "                 Class     Images  Instances      Box(P          R      mAP50  mAP50-95): 100%|██████████| 4/4 [00:01<00:00,  2.23it/s]\n",
      "                   all        199        495      0.611      0.477      0.483      0.212\n",
      "\n",
      "      Epoch    GPU_mem   box_loss   cls_loss   dfl_loss  Instances       Size\n",
      "     17/200      12.6G      1.658      1.001     0.9852        105        640: 100%|██████████| 22/22 [00:19<00:00,  1.12it/s]\n",
      "                 Class     Images  Instances      Box(P          R      mAP50  mAP50-95): 100%|██████████| 4/4 [00:01<00:00,  2.25it/s]\n",
      "                   all        199        495      0.584      0.466      0.496       0.22\n",
      "\n",
      "      Epoch    GPU_mem   box_loss   cls_loss   dfl_loss  Instances       Size\n",
      "     18/200      12.6G      1.661     0.9528      1.003        137        640: 100%|██████████| 22/22 [00:19<00:00,  1.12it/s]\n",
      "                 Class     Images  Instances      Box(P          R      mAP50  mAP50-95): 100%|██████████| 4/4 [00:01<00:00,  2.25it/s]\n",
      "                   all        199        495      0.627      0.495      0.469      0.218\n",
      "\n",
      "      Epoch    GPU_mem   box_loss   cls_loss   dfl_loss  Instances       Size\n",
      "     19/200      12.6G      1.634     0.9184     0.9929        128        640: 100%|██████████| 22/22 [00:19<00:00,  1.12it/s]\n",
      "                 Class     Images  Instances      Box(P          R      mAP50  mAP50-95): 100%|██████████| 4/4 [00:01<00:00,  2.22it/s]\n",
      "                   all        199        495      0.643      0.557      0.552      0.252\n",
      "\n",
      "      Epoch    GPU_mem   box_loss   cls_loss   dfl_loss  Instances       Size\n",
      "     20/200      12.6G      1.635     0.9122     0.9651        169        640: 100%|██████████| 22/22 [00:19<00:00,  1.12it/s]\n",
      "                 Class     Images  Instances      Box(P          R      mAP50  mAP50-95): 100%|██████████| 4/4 [00:01<00:00,  2.23it/s]\n",
      "                   all        199        495      0.711      0.459      0.553      0.255\n",
      "\n",
      "      Epoch    GPU_mem   box_loss   cls_loss   dfl_loss  Instances       Size\n",
      "     21/200      12.6G      1.579      0.871     0.9689        115        640: 100%|██████████| 22/22 [00:19<00:00,  1.13it/s]\n",
      "                 Class     Images  Instances      Box(P          R      mAP50  mAP50-95): 100%|██████████| 4/4 [00:01<00:00,  2.22it/s]\n",
      "                   all        199        495      0.744      0.551      0.602       0.29\n",
      "\n",
      "      Epoch    GPU_mem   box_loss   cls_loss   dfl_loss  Instances       Size\n",
      "     22/200      12.6G      1.627     0.9429     0.9625        114        640: 100%|██████████| 22/22 [00:19<00:00,  1.13it/s]\n",
      "                 Class     Images  Instances      Box(P          R      mAP50  mAP50-95): 100%|██████████| 4/4 [00:01<00:00,  2.23it/s]\n",
      "                   all        199        495      0.695       0.55      0.569      0.285\n",
      "\n",
      "      Epoch    GPU_mem   box_loss   cls_loss   dfl_loss  Instances       Size\n",
      "     23/200      12.6G      1.557      0.891     0.9828        145        640: 100%|██████████| 22/22 [00:19<00:00,  1.13it/s]\n",
      "                 Class     Images  Instances      Box(P          R      mAP50  mAP50-95): 100%|██████████| 4/4 [00:01<00:00,  2.23it/s]\n",
      "                   all        199        495      0.738      0.541        0.6      0.283\n",
      "\n",
      "      Epoch    GPU_mem   box_loss   cls_loss   dfl_loss  Instances       Size\n",
      "     24/200      12.6G      1.633     0.9308     0.9519        111        640: 100%|██████████| 22/22 [00:19<00:00,  1.12it/s]\n",
      "                 Class     Images  Instances      Box(P          R      mAP50  mAP50-95): 100%|██████████| 4/4 [00:01<00:00,  2.20it/s]\n",
      "                   all        199        495      0.744      0.487       0.57       0.27\n",
      "\n",
      "      Epoch    GPU_mem   box_loss   cls_loss   dfl_loss  Instances       Size\n"
     ]
    },
    {
     "name": "stderr",
     "output_type": "stream",
     "text": [
      "     25/200      12.6G      1.618     0.9145     0.9726        104        640: 100%|██████████| 22/22 [00:19<00:00,  1.12it/s]\n",
      "                 Class     Images  Instances      Box(P          R      mAP50  mAP50-95): 100%|██████████| 4/4 [00:01<00:00,  2.22it/s]\n",
      "                   all        199        495       0.72      0.527      0.575      0.282\n",
      "\n",
      "      Epoch    GPU_mem   box_loss   cls_loss   dfl_loss  Instances       Size\n",
      "     26/200      12.6G       1.49     0.8546     0.9516        122        640: 100%|██████████| 22/22 [00:19<00:00,  1.12it/s]\n",
      "                 Class     Images  Instances      Box(P          R      mAP50  mAP50-95): 100%|██████████| 4/4 [00:01<00:00,  2.19it/s]\n",
      "                   all        199        495      0.703      0.567      0.576       0.28\n",
      "\n",
      "      Epoch    GPU_mem   box_loss   cls_loss   dfl_loss  Instances       Size\n",
      "     27/200      12.6G      1.571     0.8665      0.955        108        640: 100%|██████████| 22/22 [00:19<00:00,  1.12it/s]\n",
      "                 Class     Images  Instances      Box(P          R      mAP50  mAP50-95): 100%|██████████| 4/4 [00:01<00:00,  2.20it/s]\n",
      "                   all        199        495      0.701      0.541      0.553      0.264\n",
      "\n",
      "      Epoch    GPU_mem   box_loss   cls_loss   dfl_loss  Instances       Size\n",
      "     28/200      12.6G      1.534     0.8606     0.9652        124        640: 100%|██████████| 22/22 [00:19<00:00,  1.13it/s]\n",
      "                 Class     Images  Instances      Box(P          R      mAP50  mAP50-95): 100%|██████████| 4/4 [00:01<00:00,  2.20it/s]\n",
      "                   all        199        495      0.692       0.58       0.62      0.309\n",
      "\n",
      "      Epoch    GPU_mem   box_loss   cls_loss   dfl_loss  Instances       Size\n",
      "     29/200      12.6G      1.557     0.8435     0.9429        107        640: 100%|██████████| 22/22 [00:19<00:00,  1.12it/s]\n",
      "                 Class     Images  Instances      Box(P          R      mAP50  mAP50-95): 100%|██████████| 4/4 [00:01<00:00,  2.23it/s]\n",
      "                   all        199        495      0.721      0.621      0.623      0.317\n",
      "\n",
      "      Epoch    GPU_mem   box_loss   cls_loss   dfl_loss  Instances       Size\n",
      "     30/200      12.6G      1.486     0.8274     0.9445        137        640: 100%|██████████| 22/22 [00:19<00:00,  1.12it/s]\n",
      "                 Class     Images  Instances      Box(P          R      mAP50  mAP50-95): 100%|██████████| 4/4 [00:01<00:00,  2.22it/s]\n",
      "                   all        199        495      0.696      0.571       0.59      0.297\n",
      "\n",
      "      Epoch    GPU_mem   box_loss   cls_loss   dfl_loss  Instances       Size\n",
      "     31/200      12.6G      1.491     0.8047     0.9324        116        640: 100%|██████████| 22/22 [00:19<00:00,  1.13it/s]\n",
      "                 Class     Images  Instances      Box(P          R      mAP50  mAP50-95): 100%|██████████| 4/4 [00:01<00:00,  2.22it/s]\n",
      "                   all        199        495      0.712      0.575      0.616      0.315\n",
      "\n",
      "      Epoch    GPU_mem   box_loss   cls_loss   dfl_loss  Instances       Size\n",
      "     32/200      12.5G      1.446     0.7785     0.9391        131        640: 100%|██████████| 22/22 [00:19<00:00,  1.13it/s]\n",
      "                 Class     Images  Instances      Box(P          R      mAP50  mAP50-95): 100%|██████████| 4/4 [00:01<00:00,  2.21it/s]\n",
      "                   all        199        495      0.677      0.538      0.565       0.27\n",
      "\n",
      "      Epoch    GPU_mem   box_loss   cls_loss   dfl_loss  Instances       Size\n",
      "     33/200      12.6G       1.52     0.8471     0.9425        126        640: 100%|██████████| 22/22 [00:19<00:00,  1.12it/s]\n",
      "                 Class     Images  Instances      Box(P          R      mAP50  mAP50-95): 100%|██████████| 4/4 [00:01<00:00,  2.22it/s]\n",
      "                   all        199        495       0.65      0.531       0.54      0.271\n",
      "\n",
      "      Epoch    GPU_mem   box_loss   cls_loss   dfl_loss  Instances       Size\n",
      "     34/200      12.6G      1.488     0.8385     0.9327        114        640: 100%|██████████| 22/22 [00:19<00:00,  1.12it/s]\n",
      "                 Class     Images  Instances      Box(P          R      mAP50  mAP50-95): 100%|██████████| 4/4 [00:01<00:00,  2.25it/s]\n",
      "                   all        199        495       0.69      0.473      0.535      0.216\n",
      "\n",
      "      Epoch    GPU_mem   box_loss   cls_loss   dfl_loss  Instances       Size\n",
      "     35/200      12.6G      1.472     0.8258     0.9131        139        640: 100%|██████████| 22/22 [00:19<00:00,  1.12it/s]\n",
      "                 Class     Images  Instances      Box(P          R      mAP50  mAP50-95): 100%|██████████| 4/4 [00:01<00:00,  2.18it/s]\n",
      "                   all        199        495      0.753      0.576      0.606      0.305\n",
      "\n",
      "      Epoch    GPU_mem   box_loss   cls_loss   dfl_loss  Instances       Size\n",
      "     36/200      12.6G      1.445     0.7646     0.9257        124        640: 100%|██████████| 22/22 [00:19<00:00,  1.12it/s]\n",
      "                 Class     Images  Instances      Box(P          R      mAP50  mAP50-95): 100%|██████████| 4/4 [00:01<00:00,  2.22it/s]\n",
      "                   all        199        495      0.789       0.54      0.622      0.306\n",
      "\n",
      "      Epoch    GPU_mem   box_loss   cls_loss   dfl_loss  Instances       Size\n",
      "     37/200      12.6G      1.453     0.7868      0.934        142        640: 100%|██████████| 22/22 [00:19<00:00,  1.12it/s]\n",
      "                 Class     Images  Instances      Box(P          R      mAP50  mAP50-95): 100%|██████████| 4/4 [00:01<00:00,  2.21it/s]\n",
      "                   all        199        495      0.762      0.557      0.624      0.313\n",
      "\n",
      "      Epoch    GPU_mem   box_loss   cls_loss   dfl_loss  Instances       Size\n",
      "     38/200      12.6G      1.444     0.7993     0.9246        129        640: 100%|██████████| 22/22 [00:19<00:00,  1.12it/s]\n",
      "                 Class     Images  Instances      Box(P          R      mAP50  mAP50-95): 100%|██████████| 4/4 [00:01<00:00,  2.20it/s]\n",
      "                   all        199        495      0.737      0.614       0.66      0.334\n",
      "\n",
      "      Epoch    GPU_mem   box_loss   cls_loss   dfl_loss  Instances       Size\n",
      "     39/200      12.6G      1.447     0.7879      0.937        124        640: 100%|██████████| 22/22 [00:19<00:00,  1.12it/s]\n",
      "                 Class     Images  Instances      Box(P          R      mAP50  mAP50-95): 100%|██████████| 4/4 [00:01<00:00,  2.22it/s]\n",
      "                   all        199        495      0.751      0.616      0.661      0.337\n",
      "\n",
      "      Epoch    GPU_mem   box_loss   cls_loss   dfl_loss  Instances       Size\n",
      "     40/200      12.6G      1.374      0.758     0.9157        143        640: 100%|██████████| 22/22 [00:19<00:00,  1.12it/s]\n",
      "                 Class     Images  Instances      Box(P          R      mAP50  mAP50-95): 100%|██████████| 4/4 [00:01<00:00,  2.19it/s]\n",
      "                   all        199        495      0.817      0.572      0.639      0.313\n",
      "\n",
      "      Epoch    GPU_mem   box_loss   cls_loss   dfl_loss  Instances       Size\n",
      "     41/200      12.6G      1.394     0.7494     0.9186        127        640: 100%|██████████| 22/22 [00:19<00:00,  1.13it/s]\n",
      "                 Class     Images  Instances      Box(P          R      mAP50  mAP50-95): 100%|██████████| 4/4 [00:01<00:00,  2.22it/s]\n",
      "                   all        199        495      0.849      0.523      0.623      0.334\n",
      "\n",
      "      Epoch    GPU_mem   box_loss   cls_loss   dfl_loss  Instances       Size\n",
      "     42/200      12.6G      1.402     0.7712     0.9125        121        640: 100%|██████████| 22/22 [00:19<00:00,  1.13it/s]\n",
      "                 Class     Images  Instances      Box(P          R      mAP50  mAP50-95): 100%|██████████| 4/4 [00:01<00:00,  2.19it/s]\n",
      "                   all        199        495      0.834      0.597      0.675      0.352\n",
      "\n",
      "      Epoch    GPU_mem   box_loss   cls_loss   dfl_loss  Instances       Size\n",
      "     43/200      12.6G      1.409     0.7998     0.9173        130        640: 100%|██████████| 22/22 [00:19<00:00,  1.13it/s]\n",
      "                 Class     Images  Instances      Box(P          R      mAP50  mAP50-95): 100%|██████████| 4/4 [00:01<00:00,  2.20it/s]\n",
      "                   all        199        495      0.766      0.588      0.632      0.325\n",
      "\n",
      "      Epoch    GPU_mem   box_loss   cls_loss   dfl_loss  Instances       Size\n",
      "     44/200      12.6G      1.359     0.7505      0.928        104        640: 100%|██████████| 22/22 [00:19<00:00,  1.13it/s]\n",
      "                 Class     Images  Instances      Box(P          R      mAP50  mAP50-95): 100%|██████████| 4/4 [00:01<00:00,  2.18it/s]\n",
      "                   all        199        495      0.769      0.609      0.657      0.355\n",
      "\n",
      "      Epoch    GPU_mem   box_loss   cls_loss   dfl_loss  Instances       Size\n",
      "     45/200      12.6G      1.358     0.7337     0.9137        128        640: 100%|██████████| 22/22 [00:19<00:00,  1.13it/s]\n",
      "                 Class     Images  Instances      Box(P          R      mAP50  mAP50-95): 100%|██████████| 4/4 [00:01<00:00,  2.21it/s]\n",
      "                   all        199        495      0.791      0.655       0.67      0.353\n",
      "\n",
      "      Epoch    GPU_mem   box_loss   cls_loss   dfl_loss  Instances       Size\n",
      "     46/200      12.6G      1.325     0.7125     0.9095        115        640: 100%|██████████| 22/22 [00:19<00:00,  1.12it/s]\n",
      "                 Class     Images  Instances      Box(P          R      mAP50  mAP50-95): 100%|██████████| 4/4 [00:01<00:00,  2.23it/s]\n",
      "                   all        199        495      0.803       0.65      0.672       0.34\n",
      "\n",
      "      Epoch    GPU_mem   box_loss   cls_loss   dfl_loss  Instances       Size\n",
      "     47/200      12.6G      1.365     0.7178     0.9147        119        640: 100%|██████████| 22/22 [00:19<00:00,  1.13it/s]\n",
      "                 Class     Images  Instances      Box(P          R      mAP50  mAP50-95): 100%|██████████| 4/4 [00:01<00:00,  2.19it/s]\n",
      "                   all        199        495      0.725      0.586      0.617      0.323\n",
      "\n",
      "      Epoch    GPU_mem   box_loss   cls_loss   dfl_loss  Instances       Size\n",
      "     48/200      12.6G      1.317     0.7112     0.9178        123        640: 100%|██████████| 22/22 [00:19<00:00,  1.13it/s]\n",
      "                 Class     Images  Instances      Box(P          R      mAP50  mAP50-95): 100%|██████████| 4/4 [00:01<00:00,  2.21it/s]\n",
      "                   all        199        495      0.785      0.557      0.606      0.291\n",
      "\n",
      "      Epoch    GPU_mem   box_loss   cls_loss   dfl_loss  Instances       Size\n",
      "     49/200      12.6G      1.345     0.7389     0.8966        129        640: 100%|██████████| 22/22 [00:19<00:00,  1.13it/s]\n",
      "                 Class     Images  Instances      Box(P          R      mAP50  mAP50-95): 100%|██████████| 4/4 [00:01<00:00,  2.19it/s]\n",
      "                   all        199        495      0.778      0.614      0.657      0.337\n",
      "\n",
      "      Epoch    GPU_mem   box_loss   cls_loss   dfl_loss  Instances       Size\n",
      "     50/200      12.6G      1.377     0.7372     0.8874        107        640: 100%|██████████| 22/22 [00:19<00:00,  1.12it/s]\n",
      "                 Class     Images  Instances      Box(P          R      mAP50  mAP50-95): 100%|██████████| 4/4 [00:01<00:00,  2.19it/s]\n",
      "                   all        199        495      0.786      0.649      0.691      0.348\n",
      "\n",
      "      Epoch    GPU_mem   box_loss   cls_loss   dfl_loss  Instances       Size\n",
      "     51/200      12.6G      1.348     0.7175     0.9043        132        640: 100%|██████████| 22/22 [00:19<00:00,  1.12it/s]\n",
      "                 Class     Images  Instances      Box(P          R      mAP50  mAP50-95): 100%|██████████| 4/4 [00:01<00:00,  2.21it/s]\n",
      "                   all        199        495      0.792      0.662      0.679      0.353\n",
      "\n",
      "      Epoch    GPU_mem   box_loss   cls_loss   dfl_loss  Instances       Size\n",
      "     52/200      12.6G      1.335     0.7076     0.9133        122        640: 100%|██████████| 22/22 [00:19<00:00,  1.13it/s]\n",
      "                 Class     Images  Instances      Box(P          R      mAP50  mAP50-95): 100%|██████████| 4/4 [00:01<00:00,  2.21it/s]\n",
      "                   all        199        495       0.76      0.646      0.663      0.356\n",
      "\n",
      "      Epoch    GPU_mem   box_loss   cls_loss   dfl_loss  Instances       Size\n",
      "     53/200      12.5G      1.255     0.6601     0.8816        142        640: 100%|██████████| 22/22 [00:19<00:00,  1.13it/s]\n",
      "                 Class     Images  Instances      Box(P          R      mAP50  mAP50-95): 100%|██████████| 4/4 [00:01<00:00,  2.19it/s]\n",
      "                   all        199        495      0.694      0.669      0.637      0.339\n",
      "\n",
      "      Epoch    GPU_mem   box_loss   cls_loss   dfl_loss  Instances       Size\n",
      "     54/200      12.6G      1.373     0.7061      0.902        107        640: 100%|██████████| 22/22 [00:19<00:00,  1.12it/s]\n",
      "                 Class     Images  Instances      Box(P          R      mAP50  mAP50-95): 100%|██████████| 4/4 [00:01<00:00,  2.20it/s]\n",
      "                   all        199        495      0.759       0.62      0.644      0.348\n",
      "\n",
      "      Epoch    GPU_mem   box_loss   cls_loss   dfl_loss  Instances       Size\n",
      "     55/200      12.6G      1.321     0.6817      0.884        107        640: 100%|██████████| 22/22 [00:19<00:00,  1.13it/s]\n",
      "                 Class     Images  Instances      Box(P          R      mAP50  mAP50-95): 100%|██████████| 4/4 [00:01<00:00,  2.23it/s]\n",
      "                   all        199        495      0.733      0.579      0.618      0.316\n",
      "\n",
      "      Epoch    GPU_mem   box_loss   cls_loss   dfl_loss  Instances       Size\n",
      "     56/200      12.6G      1.266     0.6731     0.8803        141        640: 100%|██████████| 22/22 [00:19<00:00,  1.13it/s]\n",
      "                 Class     Images  Instances      Box(P          R      mAP50  mAP50-95): 100%|██████████| 4/4 [00:01<00:00,  2.23it/s]\n",
      "                   all        199        495      0.801      0.598      0.653      0.345\n",
      "\n",
      "      Epoch    GPU_mem   box_loss   cls_loss   dfl_loss  Instances       Size\n",
      "     57/200      12.6G      1.272     0.6659     0.8937        116        640: 100%|██████████| 22/22 [00:19<00:00,  1.13it/s]\n",
      "                 Class     Images  Instances      Box(P          R      mAP50  mAP50-95): 100%|██████████| 4/4 [00:01<00:00,  2.21it/s]\n",
      "                   all        199        495      0.748      0.628      0.667      0.349\n",
      "\n",
      "      Epoch    GPU_mem   box_loss   cls_loss   dfl_loss  Instances       Size\n",
      "     58/200      12.6G      1.302     0.6822     0.8938        110        640: 100%|██████████| 22/22 [00:19<00:00,  1.13it/s]\n",
      "                 Class     Images  Instances      Box(P          R      mAP50  mAP50-95): 100%|██████████| 4/4 [00:01<00:00,  2.20it/s]\n",
      "                   all        199        495      0.808       0.61      0.681      0.361\n",
      "\n",
      "      Epoch    GPU_mem   box_loss   cls_loss   dfl_loss  Instances       Size\n",
      "     59/200      12.6G      1.259      0.657     0.8998        141        640: 100%|██████████| 22/22 [00:19<00:00,  1.13it/s]\n",
      "                 Class     Images  Instances      Box(P          R      mAP50  mAP50-95): 100%|██████████| 4/4 [00:01<00:00,  2.19it/s]\n",
      "                   all        199        495      0.716      0.674      0.672      0.356\n",
      "\n",
      "      Epoch    GPU_mem   box_loss   cls_loss   dfl_loss  Instances       Size\n",
      "     60/200      12.6G      1.251      0.663     0.8833        138        640: 100%|██████████| 22/22 [00:19<00:00,  1.12it/s]\n",
      "                 Class     Images  Instances      Box(P          R      mAP50  mAP50-95): 100%|██████████| 4/4 [00:01<00:00,  2.21it/s]\n",
      "                   all        199        495      0.771      0.606      0.654      0.346\n",
      "\n",
      "      Epoch    GPU_mem   box_loss   cls_loss   dfl_loss  Instances       Size\n",
      "     61/200      12.6G      1.276     0.6697     0.8914        111        640: 100%|██████████| 22/22 [00:19<00:00,  1.13it/s]\n",
      "                 Class     Images  Instances      Box(P          R      mAP50  mAP50-95): 100%|██████████| 4/4 [00:01<00:00,  2.21it/s]\n",
      "                   all        199        495      0.782      0.693        0.7      0.373\n",
      "\n",
      "      Epoch    GPU_mem   box_loss   cls_loss   dfl_loss  Instances       Size\n",
      "     62/200      12.6G      1.261     0.6563     0.8881        129        640: 100%|██████████| 22/22 [00:19<00:00,  1.13it/s]\n",
      "                 Class     Images  Instances      Box(P          R      mAP50  mAP50-95): 100%|██████████| 4/4 [00:01<00:00,  2.21it/s]\n",
      "                   all        199        495      0.737      0.638      0.648       0.33\n",
      "\n",
      "      Epoch    GPU_mem   box_loss   cls_loss   dfl_loss  Instances       Size\n"
     ]
    },
    {
     "name": "stderr",
     "output_type": "stream",
     "text": [
      "     63/200      12.6G      1.226     0.6258     0.8704        108        640: 100%|██████████| 22/22 [00:19<00:00,  1.13it/s]\n",
      "                 Class     Images  Instances      Box(P          R      mAP50  mAP50-95): 100%|██████████| 4/4 [00:01<00:00,  2.19it/s]\n",
      "                   all        199        495      0.816      0.573      0.661      0.367\n",
      "\n",
      "      Epoch    GPU_mem   box_loss   cls_loss   dfl_loss  Instances       Size\n",
      "     64/200      12.6G      1.215      0.643     0.8769        104        640: 100%|██████████| 22/22 [00:19<00:00,  1.12it/s]\n",
      "                 Class     Images  Instances      Box(P          R      mAP50  mAP50-95): 100%|██████████| 4/4 [00:01<00:00,  2.21it/s]\n",
      "                   all        199        495       0.79       0.63      0.682      0.361\n",
      "\n",
      "      Epoch    GPU_mem   box_loss   cls_loss   dfl_loss  Instances       Size\n",
      "     65/200      12.5G      1.243     0.6609     0.8907        152        640: 100%|██████████| 22/22 [00:19<00:00,  1.13it/s]\n",
      "                 Class     Images  Instances      Box(P          R      mAP50  mAP50-95): 100%|██████████| 4/4 [00:01<00:00,  2.22it/s]\n",
      "                   all        199        495      0.804       0.61      0.675      0.367\n",
      "\n",
      "      Epoch    GPU_mem   box_loss   cls_loss   dfl_loss  Instances       Size\n",
      "     66/200      12.6G      1.234     0.6557     0.8752        114        640: 100%|██████████| 22/22 [00:19<00:00,  1.11it/s]\n",
      "                 Class     Images  Instances      Box(P          R      mAP50  mAP50-95): 100%|██████████| 4/4 [00:01<00:00,  2.20it/s]\n",
      "                   all        199        495      0.806      0.645      0.687      0.361\n",
      "\n",
      "      Epoch    GPU_mem   box_loss   cls_loss   dfl_loss  Instances       Size\n",
      "     67/200      12.6G      1.215     0.6346     0.8802        122        640: 100%|██████████| 22/22 [00:19<00:00,  1.13it/s]\n",
      "                 Class     Images  Instances      Box(P          R      mAP50  mAP50-95): 100%|██████████| 4/4 [00:01<00:00,  2.21it/s]\n",
      "                   all        199        495      0.798      0.643      0.686      0.373\n",
      "\n",
      "      Epoch    GPU_mem   box_loss   cls_loss   dfl_loss  Instances       Size\n",
      "     68/200      12.5G      1.215     0.6205     0.8808        111        640: 100%|██████████| 22/22 [00:19<00:00,  1.13it/s]\n",
      "                 Class     Images  Instances      Box(P          R      mAP50  mAP50-95): 100%|██████████| 4/4 [00:01<00:00,  2.18it/s]\n",
      "                   all        199        495      0.845      0.609      0.684      0.364\n",
      "\n",
      "      Epoch    GPU_mem   box_loss   cls_loss   dfl_loss  Instances       Size\n",
      "     69/200      12.6G      1.194     0.6402     0.8958        103        640: 100%|██████████| 22/22 [00:19<00:00,  1.12it/s]\n",
      "                 Class     Images  Instances      Box(P          R      mAP50  mAP50-95): 100%|██████████| 4/4 [00:01<00:00,  2.21it/s]\n",
      "                   all        199        495      0.801      0.601      0.669      0.358\n",
      "\n",
      "      Epoch    GPU_mem   box_loss   cls_loss   dfl_loss  Instances       Size\n",
      "     70/200      12.5G      1.221     0.6533     0.8833        116        640: 100%|██████████| 22/22 [00:19<00:00,  1.13it/s]\n",
      "                 Class     Images  Instances      Box(P          R      mAP50  mAP50-95): 100%|██████████| 4/4 [00:01<00:00,  2.19it/s]\n",
      "                   all        199        495      0.796      0.626      0.676      0.366\n",
      "\n",
      "      Epoch    GPU_mem   box_loss   cls_loss   dfl_loss  Instances       Size\n",
      "     71/200      12.6G      1.136     0.5945     0.8807        113        640: 100%|██████████| 22/22 [00:19<00:00,  1.12it/s]\n",
      "                 Class     Images  Instances      Box(P          R      mAP50  mAP50-95): 100%|██████████| 4/4 [00:01<00:00,  2.20it/s]\n",
      "                   all        199        495      0.842      0.627      0.703      0.374\n",
      "\n",
      "      Epoch    GPU_mem   box_loss   cls_loss   dfl_loss  Instances       Size\n",
      "     72/200      12.6G      1.144     0.5989     0.8709        117        640: 100%|██████████| 22/22 [00:19<00:00,  1.13it/s]\n",
      "                 Class     Images  Instances      Box(P          R      mAP50  mAP50-95): 100%|██████████| 4/4 [00:01<00:00,  2.19it/s]\n",
      "                   all        199        495       0.87      0.601        0.7      0.387\n",
      "\n",
      "      Epoch    GPU_mem   box_loss   cls_loss   dfl_loss  Instances       Size\n",
      "     73/200      12.6G       1.19     0.5935     0.8634        117        640: 100%|██████████| 22/22 [00:19<00:00,  1.13it/s]\n",
      "                 Class     Images  Instances      Box(P          R      mAP50  mAP50-95): 100%|██████████| 4/4 [00:01<00:00,  2.21it/s]\n",
      "                   all        199        495      0.796      0.653      0.692      0.377\n",
      "\n",
      "      Epoch    GPU_mem   box_loss   cls_loss   dfl_loss  Instances       Size\n",
      "     74/200      12.6G      1.174       0.62     0.8765        125        640: 100%|██████████| 22/22 [00:19<00:00,  1.12it/s]\n",
      "                 Class     Images  Instances      Box(P          R      mAP50  mAP50-95): 100%|██████████| 4/4 [00:01<00:00,  2.18it/s]\n",
      "                   all        199        495      0.802      0.632      0.685      0.363\n",
      "\n",
      "      Epoch    GPU_mem   box_loss   cls_loss   dfl_loss  Instances       Size\n",
      "     75/200      12.6G      1.166     0.6209     0.8732        117        640: 100%|██████████| 22/22 [00:19<00:00,  1.13it/s]\n",
      "                 Class     Images  Instances      Box(P          R      mAP50  mAP50-95): 100%|██████████| 4/4 [00:02<00:00,  2.00it/s]\n",
      "                   all        199        495      0.721      0.656      0.694      0.379\n",
      "\n",
      "      Epoch    GPU_mem   box_loss   cls_loss   dfl_loss  Instances       Size\n",
      "     76/200      12.5G      1.105     0.5932      0.869        113        640: 100%|██████████| 22/22 [00:19<00:00,  1.13it/s]\n",
      "                 Class     Images  Instances      Box(P          R      mAP50  mAP50-95): 100%|██████████| 4/4 [00:01<00:00,  2.20it/s]\n",
      "                   all        199        495      0.805      0.686      0.693      0.379\n",
      "\n",
      "      Epoch    GPU_mem   box_loss   cls_loss   dfl_loss  Instances       Size\n",
      "     77/200      12.6G      1.138     0.5819      0.872        145        640: 100%|██████████| 22/22 [00:19<00:00,  1.13it/s]\n",
      "                 Class     Images  Instances      Box(P          R      mAP50  mAP50-95): 100%|██████████| 4/4 [00:01<00:00,  2.19it/s]\n",
      "                   all        199        495      0.781      0.638      0.661      0.354\n",
      "\n",
      "      Epoch    GPU_mem   box_loss   cls_loss   dfl_loss  Instances       Size\n",
      "     78/200      12.6G      1.148     0.5921     0.8682         99        640: 100%|██████████| 22/22 [00:19<00:00,  1.12it/s]\n",
      "                 Class     Images  Instances      Box(P          R      mAP50  mAP50-95): 100%|██████████| 4/4 [00:01<00:00,  2.18it/s]\n",
      "                   all        199        495      0.775      0.674      0.703      0.387\n",
      "\n",
      "      Epoch    GPU_mem   box_loss   cls_loss   dfl_loss  Instances       Size\n",
      "     79/200      12.6G      1.163     0.5995     0.8639        158        640: 100%|██████████| 22/22 [00:19<00:00,  1.13it/s]\n",
      "                 Class     Images  Instances      Box(P          R      mAP50  mAP50-95): 100%|██████████| 4/4 [00:01<00:00,  2.17it/s]\n",
      "                   all        199        495      0.854      0.651      0.702      0.377\n",
      "\n",
      "      Epoch    GPU_mem   box_loss   cls_loss   dfl_loss  Instances       Size\n",
      "     80/200      12.5G      1.122     0.5857     0.8652        125        640: 100%|██████████| 22/22 [00:19<00:00,  1.12it/s]\n",
      "                 Class     Images  Instances      Box(P          R      mAP50  mAP50-95): 100%|██████████| 4/4 [00:01<00:00,  2.18it/s]\n",
      "                   all        199        495      0.816      0.656      0.713      0.389\n",
      "\n",
      "      Epoch    GPU_mem   box_loss   cls_loss   dfl_loss  Instances       Size\n",
      "     81/200      12.7G      1.162     0.6065     0.8776        123        640: 100%|██████████| 22/22 [00:19<00:00,  1.13it/s]\n",
      "                 Class     Images  Instances      Box(P          R      mAP50  mAP50-95): 100%|██████████| 4/4 [00:01<00:00,  2.17it/s]\n",
      "                   all        199        495      0.821      0.664      0.702      0.382\n",
      "\n",
      "      Epoch    GPU_mem   box_loss   cls_loss   dfl_loss  Instances       Size\n",
      "     82/200      12.6G      1.111     0.5834      0.857        156        640: 100%|██████████| 22/22 [00:19<00:00,  1.13it/s]\n",
      "                 Class     Images  Instances      Box(P          R      mAP50  mAP50-95): 100%|██████████| 4/4 [00:01<00:00,  2.16it/s]\n",
      "                   all        199        495      0.759      0.663      0.677      0.374\n",
      "\n",
      "      Epoch    GPU_mem   box_loss   cls_loss   dfl_loss  Instances       Size\n",
      "     83/200      12.6G      1.112     0.5872     0.8559        109        640: 100%|██████████| 22/22 [00:19<00:00,  1.13it/s]\n",
      "                 Class     Images  Instances      Box(P          R      mAP50  mAP50-95): 100%|██████████| 4/4 [00:01<00:00,  2.18it/s]\n",
      "                   all        199        495      0.824      0.631      0.693      0.371\n",
      "\n",
      "      Epoch    GPU_mem   box_loss   cls_loss   dfl_loss  Instances       Size\n",
      "     84/200      12.5G       1.07     0.5595      0.865        118        640: 100%|██████████| 22/22 [00:19<00:00,  1.13it/s]\n",
      "                 Class     Images  Instances      Box(P          R      mAP50  mAP50-95): 100%|██████████| 4/4 [00:01<00:00,  2.18it/s]\n",
      "                   all        199        495      0.827      0.656      0.701      0.373\n",
      "\n",
      "      Epoch    GPU_mem   box_loss   cls_loss   dfl_loss  Instances       Size\n",
      "     85/200      12.5G      1.112     0.5698     0.8573        135        640: 100%|██████████| 22/22 [00:19<00:00,  1.12it/s]\n",
      "                 Class     Images  Instances      Box(P          R      mAP50  mAP50-95): 100%|██████████| 4/4 [00:01<00:00,  2.18it/s]\n",
      "                   all        199        495      0.778      0.627      0.666      0.367\n",
      "\n",
      "      Epoch    GPU_mem   box_loss   cls_loss   dfl_loss  Instances       Size\n",
      "     86/200      12.6G      1.062     0.5653     0.8548        122        640: 100%|██████████| 22/22 [00:19<00:00,  1.13it/s]\n",
      "                 Class     Images  Instances      Box(P          R      mAP50  mAP50-95): 100%|██████████| 4/4 [00:01<00:00,  2.18it/s]\n",
      "                   all        199        495      0.788      0.649      0.681      0.369\n",
      "\n",
      "      Epoch    GPU_mem   box_loss   cls_loss   dfl_loss  Instances       Size\n",
      "     87/200      12.6G       1.09     0.5858     0.8598        139        640: 100%|██████████| 22/22 [00:19<00:00,  1.13it/s]\n",
      "                 Class     Images  Instances      Box(P          R      mAP50  mAP50-95): 100%|██████████| 4/4 [00:01<00:00,  2.17it/s]\n",
      "                   all        199        495      0.816      0.652      0.707       0.38\n",
      "\n",
      "      Epoch    GPU_mem   box_loss   cls_loss   dfl_loss  Instances       Size\n",
      "     88/200      12.6G      1.049     0.5541     0.8455        118        640: 100%|██████████| 22/22 [00:19<00:00,  1.13it/s]\n",
      "                 Class     Images  Instances      Box(P          R      mAP50  mAP50-95): 100%|██████████| 4/4 [00:01<00:00,  2.17it/s]\n",
      "                   all        199        495       0.81      0.679      0.709        0.4\n",
      "\n",
      "      Epoch    GPU_mem   box_loss   cls_loss   dfl_loss  Instances       Size\n",
      "     89/200      12.5G      1.095     0.5558     0.8578        111        640: 100%|██████████| 22/22 [00:19<00:00,  1.13it/s]\n",
      "                 Class     Images  Instances      Box(P          R      mAP50  mAP50-95): 100%|██████████| 4/4 [00:01<00:00,  2.21it/s]\n",
      "                   all        199        495      0.821      0.652      0.723      0.417\n",
      "\n",
      "      Epoch    GPU_mem   box_loss   cls_loss   dfl_loss  Instances       Size\n",
      "     90/200      12.6G      1.044     0.5399     0.8592        121        640: 100%|██████████| 22/22 [00:19<00:00,  1.12it/s]\n",
      "                 Class     Images  Instances      Box(P          R      mAP50  mAP50-95): 100%|██████████| 4/4 [00:01<00:00,  2.20it/s]\n",
      "                   all        199        495      0.828      0.662      0.735      0.409\n",
      "\n",
      "      Epoch    GPU_mem   box_loss   cls_loss   dfl_loss  Instances       Size\n",
      "     91/200      12.6G      1.018      0.539     0.8504        141        640: 100%|██████████| 22/22 [00:19<00:00,  1.13it/s]\n",
      "                 Class     Images  Instances      Box(P          R      mAP50  mAP50-95): 100%|██████████| 4/4 [00:01<00:00,  2.20it/s]\n",
      "                   all        199        495      0.744      0.677       0.71      0.393\n",
      "\n",
      "      Epoch    GPU_mem   box_loss   cls_loss   dfl_loss  Instances       Size\n",
      "     92/200      12.6G      1.039     0.5327     0.8442        104        640: 100%|██████████| 22/22 [00:19<00:00,  1.13it/s]\n",
      "                 Class     Images  Instances      Box(P          R      mAP50  mAP50-95): 100%|██████████| 4/4 [00:01<00:00,  2.19it/s]\n",
      "                   all        199        495      0.814      0.655      0.727      0.394\n",
      "\n",
      "      Epoch    GPU_mem   box_loss   cls_loss   dfl_loss  Instances       Size\n",
      "     93/200      12.6G      1.071     0.5713     0.8552        139        640: 100%|██████████| 22/22 [00:19<00:00,  1.13it/s]\n",
      "                 Class     Images  Instances      Box(P          R      mAP50  mAP50-95): 100%|██████████| 4/4 [00:01<00:00,  2.17it/s]\n",
      "                   all        199        495      0.718      0.637      0.682      0.374\n",
      "\n",
      "      Epoch    GPU_mem   box_loss   cls_loss   dfl_loss  Instances       Size\n",
      "     94/200      12.5G      1.068      0.553     0.8439        112        640: 100%|██████████| 22/22 [00:19<00:00,  1.13it/s]\n",
      "                 Class     Images  Instances      Box(P          R      mAP50  mAP50-95): 100%|██████████| 4/4 [00:01<00:00,  2.20it/s]\n",
      "                   all        199        495      0.828      0.611      0.682      0.366\n",
      "\n",
      "      Epoch    GPU_mem   box_loss   cls_loss   dfl_loss  Instances       Size\n",
      "     95/200      12.6G      1.046     0.5399     0.8533        133        640: 100%|██████████| 22/22 [00:19<00:00,  1.13it/s]\n",
      "                 Class     Images  Instances      Box(P          R      mAP50  mAP50-95): 100%|██████████| 4/4 [00:01<00:00,  2.19it/s]\n",
      "                   all        199        495      0.794      0.662      0.709       0.39\n",
      "\n",
      "      Epoch    GPU_mem   box_loss   cls_loss   dfl_loss  Instances       Size\n",
      "     96/200      12.5G      1.047     0.5524      0.841        125        640: 100%|██████████| 22/22 [00:19<00:00,  1.13it/s]\n",
      "                 Class     Images  Instances      Box(P          R      mAP50  mAP50-95): 100%|██████████| 4/4 [00:01<00:00,  2.20it/s]\n",
      "                   all        199        495      0.809      0.625       0.69      0.382\n",
      "\n",
      "      Epoch    GPU_mem   box_loss   cls_loss   dfl_loss  Instances       Size\n",
      "     97/200      12.6G      1.019     0.5431     0.8505        136        640: 100%|██████████| 22/22 [00:19<00:00,  1.13it/s]\n",
      "                 Class     Images  Instances      Box(P          R      mAP50  mAP50-95): 100%|██████████| 4/4 [00:01<00:00,  2.18it/s]\n",
      "                   all        199        495      0.828      0.639      0.698      0.396\n",
      "\n",
      "      Epoch    GPU_mem   box_loss   cls_loss   dfl_loss  Instances       Size\n",
      "     98/200      12.6G      1.059     0.5437     0.8429        131        640: 100%|██████████| 22/22 [00:19<00:00,  1.12it/s]\n",
      "                 Class     Images  Instances      Box(P          R      mAP50  mAP50-95): 100%|██████████| 4/4 [00:01<00:00,  2.18it/s]\n",
      "                   all        199        495      0.794      0.643      0.709      0.399\n",
      "\n",
      "      Epoch    GPU_mem   box_loss   cls_loss   dfl_loss  Instances       Size\n",
      "     99/200      12.6G      1.043     0.5433     0.8494        128        640: 100%|██████████| 22/22 [00:19<00:00,  1.13it/s]\n",
      "                 Class     Images  Instances      Box(P          R      mAP50  mAP50-95): 100%|██████████| 4/4 [00:01<00:00,  2.17it/s]\n",
      "                   all        199        495      0.808      0.648       0.71      0.404\n",
      "\n",
      "      Epoch    GPU_mem   box_loss   cls_loss   dfl_loss  Instances       Size\n",
      "    100/200      12.6G     0.9899     0.5102     0.8276        120        640: 100%|██████████| 22/22 [00:19<00:00,  1.12it/s]\n",
      "                 Class     Images  Instances      Box(P          R      mAP50  mAP50-95): 100%|██████████| 4/4 [00:01<00:00,  2.17it/s]\n",
      "                   all        199        495      0.803      0.621      0.701      0.396\n",
      "\n",
      "      Epoch    GPU_mem   box_loss   cls_loss   dfl_loss  Instances       Size\n"
     ]
    },
    {
     "name": "stderr",
     "output_type": "stream",
     "text": [
      "    101/200      12.6G      1.124     0.5812     0.8592        108        640: 100%|██████████| 22/22 [00:19<00:00,  1.13it/s]\n",
      "                 Class     Images  Instances      Box(P          R      mAP50  mAP50-95): 100%|██████████| 4/4 [00:01<00:00,  2.15it/s]\n",
      "                   all        199        495       0.78       0.63      0.694      0.393\n",
      "\n",
      "      Epoch    GPU_mem   box_loss   cls_loss   dfl_loss  Instances       Size\n",
      "    102/200      12.5G       1.02     0.5225     0.8412        162        640: 100%|██████████| 22/22 [00:19<00:00,  1.13it/s]\n",
      "                 Class     Images  Instances      Box(P          R      mAP50  mAP50-95): 100%|██████████| 4/4 [00:01<00:00,  2.19it/s]\n",
      "                   all        199        495      0.804      0.616      0.678      0.379\n",
      "\n",
      "      Epoch    GPU_mem   box_loss   cls_loss   dfl_loss  Instances       Size\n",
      "    103/200      12.6G     0.9835     0.5133     0.8438        121        640: 100%|██████████| 22/22 [00:19<00:00,  1.13it/s]\n",
      "                 Class     Images  Instances      Box(P          R      mAP50  mAP50-95): 100%|██████████| 4/4 [00:01<00:00,  2.18it/s]\n",
      "                   all        199        495      0.822      0.607      0.694      0.386\n",
      "\n",
      "      Epoch    GPU_mem   box_loss   cls_loss   dfl_loss  Instances       Size\n",
      "    104/200      12.6G      1.015     0.5471     0.8492        128        640: 100%|██████████| 22/22 [00:19<00:00,  1.13it/s]\n",
      "                 Class     Images  Instances      Box(P          R      mAP50  mAP50-95): 100%|██████████| 4/4 [00:01<00:00,  2.19it/s]\n",
      "                   all        199        495      0.807      0.638      0.677      0.376\n",
      "\n",
      "      Epoch    GPU_mem   box_loss   cls_loss   dfl_loss  Instances       Size\n",
      "    105/200      12.6G      1.028     0.5233     0.8402        127        640: 100%|██████████| 22/22 [00:19<00:00,  1.13it/s]\n",
      "                 Class     Images  Instances      Box(P          R      mAP50  mAP50-95): 100%|██████████| 4/4 [00:01<00:00,  2.16it/s]\n",
      "                   all        199        495      0.796      0.656      0.706      0.388\n",
      "\n",
      "      Epoch    GPU_mem   box_loss   cls_loss   dfl_loss  Instances       Size\n",
      "    106/200      12.6G     0.9648     0.4998     0.8355        118        640: 100%|██████████| 22/22 [00:19<00:00,  1.13it/s]\n",
      "                 Class     Images  Instances      Box(P          R      mAP50  mAP50-95): 100%|██████████| 4/4 [00:01<00:00,  2.17it/s]\n",
      "                   all        199        495        0.8      0.665      0.706      0.395\n",
      "\n",
      "      Epoch    GPU_mem   box_loss   cls_loss   dfl_loss  Instances       Size\n",
      "    107/200      12.6G      1.001     0.5073      0.846        139        640: 100%|██████████| 22/22 [00:19<00:00,  1.13it/s]\n",
      "                 Class     Images  Instances      Box(P          R      mAP50  mAP50-95): 100%|██████████| 4/4 [00:01<00:00,  2.16it/s]\n",
      "                   all        199        495      0.794      0.657      0.696      0.398\n",
      "\n",
      "      Epoch    GPU_mem   box_loss   cls_loss   dfl_loss  Instances       Size\n",
      "    108/200      12.6G      1.029     0.5269     0.8453        125        640: 100%|██████████| 22/22 [00:19<00:00,  1.13it/s]\n",
      "                 Class     Images  Instances      Box(P          R      mAP50  mAP50-95): 100%|██████████| 4/4 [00:01<00:00,  2.19it/s]\n",
      "                   all        199        495      0.773      0.664      0.703      0.403\n",
      "\n",
      "      Epoch    GPU_mem   box_loss   cls_loss   dfl_loss  Instances       Size\n",
      "    109/200      12.6G     0.9751     0.5031     0.8437        108        640: 100%|██████████| 22/22 [00:19<00:00,  1.13it/s]\n",
      "                 Class     Images  Instances      Box(P          R      mAP50  mAP50-95): 100%|██████████| 4/4 [00:01<00:00,  2.17it/s]\n",
      "                   all        199        495      0.774      0.654      0.691      0.396\n",
      "\n",
      "      Epoch    GPU_mem   box_loss   cls_loss   dfl_loss  Instances       Size\n",
      "    110/200      12.6G     0.9617     0.4927     0.8326        118        640: 100%|██████████| 22/22 [00:19<00:00,  1.13it/s]\n",
      "                 Class     Images  Instances      Box(P          R      mAP50  mAP50-95): 100%|██████████| 4/4 [00:01<00:00,  2.20it/s]\n",
      "                   all        199        495      0.824      0.631        0.7      0.403\n",
      "\n",
      "      Epoch    GPU_mem   box_loss   cls_loss   dfl_loss  Instances       Size\n",
      "    111/200      12.6G     0.9547     0.5105     0.8456        119        640: 100%|██████████| 22/22 [00:19<00:00,  1.12it/s]\n",
      "                 Class     Images  Instances      Box(P          R      mAP50  mAP50-95): 100%|██████████| 4/4 [00:01<00:00,  2.20it/s]\n",
      "                   all        199        495      0.808      0.645      0.694      0.388\n",
      "\n",
      "      Epoch    GPU_mem   box_loss   cls_loss   dfl_loss  Instances       Size\n",
      "    112/200      12.5G     0.9403     0.4751     0.8314         96        640: 100%|██████████| 22/22 [00:19<00:00,  1.13it/s]\n",
      "                 Class     Images  Instances      Box(P          R      mAP50  mAP50-95): 100%|██████████| 4/4 [00:01<00:00,  2.21it/s]\n",
      "                   all        199        495       0.79      0.652      0.702      0.405\n",
      "\n",
      "      Epoch    GPU_mem   box_loss   cls_loss   dfl_loss  Instances       Size\n",
      "    113/200      12.6G     0.9673     0.4932     0.8346        134        640: 100%|██████████| 22/22 [00:19<00:00,  1.13it/s]\n",
      "                 Class     Images  Instances      Box(P          R      mAP50  mAP50-95): 100%|██████████| 4/4 [00:01<00:00,  2.17it/s]\n",
      "                   all        199        495      0.844      0.643      0.701      0.397\n",
      "\n",
      "      Epoch    GPU_mem   box_loss   cls_loss   dfl_loss  Instances       Size\n",
      "    114/200      12.6G     0.9892     0.5144     0.8292        114        640: 100%|██████████| 22/22 [00:19<00:00,  1.13it/s]\n",
      "                 Class     Images  Instances      Box(P          R      mAP50  mAP50-95): 100%|██████████| 4/4 [00:01<00:00,  2.20it/s]\n",
      "                   all        199        495      0.822      0.645      0.693      0.387\n",
      "\n",
      "      Epoch    GPU_mem   box_loss   cls_loss   dfl_loss  Instances       Size\n",
      "    115/200      12.5G     0.9339     0.4802     0.8259        134        640: 100%|██████████| 22/22 [00:19<00:00,  1.13it/s]\n",
      "                 Class     Images  Instances      Box(P          R      mAP50  mAP50-95): 100%|██████████| 4/4 [00:01<00:00,  2.20it/s]\n",
      "                   all        199        495      0.825      0.633       0.68      0.373\n",
      "\n",
      "      Epoch    GPU_mem   box_loss   cls_loss   dfl_loss  Instances       Size\n",
      "    116/200      12.5G     0.9648     0.5022     0.8383        124        640: 100%|██████████| 22/22 [00:19<00:00,  1.13it/s]\n",
      "                 Class     Images  Instances      Box(P          R      mAP50  mAP50-95): 100%|██████████| 4/4 [00:01<00:00,  2.20it/s]\n",
      "                   all        199        495      0.855      0.625      0.713      0.398\n",
      "\n",
      "      Epoch    GPU_mem   box_loss   cls_loss   dfl_loss  Instances       Size\n",
      "    117/200      12.6G     0.9707     0.4991     0.8346        120        640: 100%|██████████| 22/22 [00:19<00:00,  1.12it/s]\n",
      "                 Class     Images  Instances      Box(P          R      mAP50  mAP50-95): 100%|██████████| 4/4 [00:01<00:00,  2.20it/s]\n",
      "                   all        199        495      0.853      0.634      0.711      0.396\n",
      "\n",
      "      Epoch    GPU_mem   box_loss   cls_loss   dfl_loss  Instances       Size\n",
      "    118/200      12.6G     0.9371       0.48     0.8278        166        640: 100%|██████████| 22/22 [00:19<00:00,  1.13it/s]\n",
      "                 Class     Images  Instances      Box(P          R      mAP50  mAP50-95): 100%|██████████| 4/4 [00:01<00:00,  2.18it/s]\n",
      "                   all        199        495      0.826      0.639      0.705       0.41\n",
      "\n",
      "      Epoch    GPU_mem   box_loss   cls_loss   dfl_loss  Instances       Size\n",
      "    119/200      12.6G     0.9711     0.5051     0.8281        118        640: 100%|██████████| 22/22 [00:19<00:00,  1.13it/s]\n",
      "                 Class     Images  Instances      Box(P          R      mAP50  mAP50-95): 100%|██████████| 4/4 [00:01<00:00,  2.17it/s]\n",
      "                   all        199        495      0.779      0.627      0.684      0.393\n",
      "\n",
      "      Epoch    GPU_mem   box_loss   cls_loss   dfl_loss  Instances       Size\n",
      "    120/200      12.5G     0.9028     0.4745     0.8349         96        640: 100%|██████████| 22/22 [00:19<00:00,  1.13it/s]\n",
      "                 Class     Images  Instances      Box(P          R      mAP50  mAP50-95): 100%|██████████| 4/4 [00:01<00:00,  2.19it/s]\n",
      "                   all        199        495      0.811      0.617      0.688      0.389\n",
      "\n",
      "      Epoch    GPU_mem   box_loss   cls_loss   dfl_loss  Instances       Size\n",
      "    121/200      12.6G     0.9192     0.4702     0.8267        108        640: 100%|██████████| 22/22 [00:19<00:00,  1.13it/s]\n",
      "                 Class     Images  Instances      Box(P          R      mAP50  mAP50-95): 100%|██████████| 4/4 [00:01<00:00,  2.18it/s]\n",
      "                   all        199        495      0.851      0.605      0.708      0.395\n",
      "\n",
      "      Epoch    GPU_mem   box_loss   cls_loss   dfl_loss  Instances       Size\n",
      "    122/200      12.6G      0.942     0.4861     0.8273        108        640: 100%|██████████| 22/22 [00:19<00:00,  1.13it/s]\n",
      "                 Class     Images  Instances      Box(P          R      mAP50  mAP50-95): 100%|██████████| 4/4 [00:01<00:00,  2.19it/s]\n",
      "                   all        199        495      0.792      0.628      0.685      0.387\n",
      "\n",
      "      Epoch    GPU_mem   box_loss   cls_loss   dfl_loss  Instances       Size\n",
      "    123/200      12.6G     0.9127     0.4729     0.8331        103        640: 100%|██████████| 22/22 [00:19<00:00,  1.13it/s]\n",
      "                 Class     Images  Instances      Box(P          R      mAP50  mAP50-95): 100%|██████████| 4/4 [00:01<00:00,  2.20it/s]\n",
      "                   all        199        495      0.801      0.631      0.679      0.384\n",
      "\n",
      "      Epoch    GPU_mem   box_loss   cls_loss   dfl_loss  Instances       Size\n",
      "    124/200      12.6G     0.9002     0.4624     0.8351        115        640: 100%|██████████| 22/22 [00:19<00:00,  1.12it/s]\n",
      "                 Class     Images  Instances      Box(P          R      mAP50  mAP50-95): 100%|██████████| 4/4 [00:01<00:00,  2.17it/s]\n",
      "                   all        199        495      0.851      0.592      0.694      0.395\n",
      "\n",
      "      Epoch    GPU_mem   box_loss   cls_loss   dfl_loss  Instances       Size\n",
      "    125/200      12.6G     0.9181     0.4692     0.8273        110        640: 100%|██████████| 22/22 [00:19<00:00,  1.13it/s]\n",
      "                 Class     Images  Instances      Box(P          R      mAP50  mAP50-95): 100%|██████████| 4/4 [00:01<00:00,  2.18it/s]\n",
      "                   all        199        495      0.801      0.635      0.714      0.399\n",
      "\n",
      "      Epoch    GPU_mem   box_loss   cls_loss   dfl_loss  Instances       Size\n",
      "    126/200      12.6G     0.8528     0.4498     0.8164        148        640: 100%|██████████| 22/22 [00:19<00:00,  1.13it/s]\n",
      "                 Class     Images  Instances      Box(P          R      mAP50  mAP50-95): 100%|██████████| 4/4 [00:01<00:00,  2.20it/s]\n",
      "                   all        199        495      0.795      0.643       0.71      0.407\n",
      "\n",
      "      Epoch    GPU_mem   box_loss   cls_loss   dfl_loss  Instances       Size\n",
      "    127/200      12.5G     0.8982     0.4589     0.8276        125        640: 100%|██████████| 22/22 [00:19<00:00,  1.13it/s]\n",
      "                 Class     Images  Instances      Box(P          R      mAP50  mAP50-95): 100%|██████████| 4/4 [00:01<00:00,  2.20it/s]\n",
      "                   all        199        495      0.789      0.633      0.709      0.406\n",
      "\n",
      "      Epoch    GPU_mem   box_loss   cls_loss   dfl_loss  Instances       Size\n",
      "    128/200      12.6G      0.892     0.4668     0.8285        104        640: 100%|██████████| 22/22 [00:19<00:00,  1.13it/s]\n",
      "                 Class     Images  Instances      Box(P          R      mAP50  mAP50-95): 100%|██████████| 4/4 [00:01<00:00,  2.21it/s]\n",
      "                   all        199        495      0.823      0.594       0.68       0.37\n",
      "\n",
      "      Epoch    GPU_mem   box_loss   cls_loss   dfl_loss  Instances       Size\n",
      "    129/200      12.6G     0.8644     0.4609     0.8237        108        640: 100%|██████████| 22/22 [00:19<00:00,  1.13it/s]\n",
      "                 Class     Images  Instances      Box(P          R      mAP50  mAP50-95): 100%|██████████| 4/4 [00:01<00:00,  2.20it/s]\n",
      "                   all        199        495      0.871      0.578      0.711      0.389\n",
      "\n",
      "      Epoch    GPU_mem   box_loss   cls_loss   dfl_loss  Instances       Size\n",
      "    130/200      12.6G     0.8793     0.4503     0.8224        116        640: 100%|██████████| 22/22 [00:19<00:00,  1.13it/s]\n",
      "                 Class     Images  Instances      Box(P          R      mAP50  mAP50-95): 100%|██████████| 4/4 [00:01<00:00,  2.18it/s]\n",
      "                   all        199        495      0.772      0.618      0.699      0.387\n",
      "\n",
      "      Epoch    GPU_mem   box_loss   cls_loss   dfl_loss  Instances       Size\n",
      "    131/200      12.6G     0.8791      0.457     0.8259         89        640: 100%|██████████| 22/22 [00:19<00:00,  1.13it/s]\n",
      "                 Class     Images  Instances      Box(P          R      mAP50  mAP50-95): 100%|██████████| 4/4 [00:01<00:00,  2.19it/s]\n",
      "                   all        199        495      0.766       0.65      0.715      0.403\n",
      "\n",
      "      Epoch    GPU_mem   box_loss   cls_loss   dfl_loss  Instances       Size\n",
      "    132/200      12.6G      0.874     0.4499     0.8342        103        640: 100%|██████████| 22/22 [00:19<00:00,  1.13it/s]\n",
      "                 Class     Images  Instances      Box(P          R      mAP50  mAP50-95): 100%|██████████| 4/4 [00:01<00:00,  2.17it/s]\n",
      "                   all        199        495      0.825      0.588      0.709      0.414\n",
      "\n",
      "      Epoch    GPU_mem   box_loss   cls_loss   dfl_loss  Instances       Size\n",
      "    133/200      12.6G     0.8584     0.4499     0.8202        119        640: 100%|██████████| 22/22 [00:19<00:00,  1.12it/s]\n",
      "                 Class     Images  Instances      Box(P          R      mAP50  mAP50-95): 100%|██████████| 4/4 [00:01<00:00,  2.17it/s]\n",
      "                   all        199        495      0.788      0.652      0.711      0.417\n",
      "\n",
      "      Epoch    GPU_mem   box_loss   cls_loss   dfl_loss  Instances       Size\n",
      "    134/200      12.6G     0.8563     0.4404     0.8061        133        640: 100%|██████████| 22/22 [00:19<00:00,  1.13it/s]\n",
      "                 Class     Images  Instances      Box(P          R      mAP50  mAP50-95): 100%|██████████| 4/4 [00:01<00:00,  2.20it/s]\n",
      "                   all        199        495      0.774       0.67      0.708      0.408\n",
      "\n",
      "      Epoch    GPU_mem   box_loss   cls_loss   dfl_loss  Instances       Size\n",
      "    135/200      12.6G     0.8527     0.4454      0.824        133        640: 100%|██████████| 22/22 [00:19<00:00,  1.13it/s]\n",
      "                 Class     Images  Instances      Box(P          R      mAP50  mAP50-95): 100%|██████████| 4/4 [00:01<00:00,  2.19it/s]\n",
      "                   all        199        495      0.782      0.653      0.711      0.409\n",
      "\n",
      "      Epoch    GPU_mem   box_loss   cls_loss   dfl_loss  Instances       Size\n",
      "    136/200      12.6G     0.8431     0.4432     0.8156        119        640: 100%|██████████| 22/22 [00:19<00:00,  1.13it/s]\n",
      "                 Class     Images  Instances      Box(P          R      mAP50  mAP50-95): 100%|██████████| 4/4 [00:01<00:00,  2.17it/s]\n",
      "                   all        199        495      0.793      0.655      0.707      0.402\n",
      "\n",
      "      Epoch    GPU_mem   box_loss   cls_loss   dfl_loss  Instances       Size\n",
      "    137/200      12.6G     0.8604     0.4523     0.8313        100        640: 100%|██████████| 22/22 [00:19<00:00,  1.13it/s]\n",
      "                 Class     Images  Instances      Box(P          R      mAP50  mAP50-95): 100%|██████████| 4/4 [00:01<00:00,  2.21it/s]\n",
      "                   all        199        495      0.821       0.64       0.71      0.411\n",
      "\n",
      "      Epoch    GPU_mem   box_loss   cls_loss   dfl_loss  Instances       Size\n",
      "    138/200      12.5G     0.8302     0.4314     0.8261        106        640: 100%|██████████| 22/22 [00:19<00:00,  1.13it/s]\n",
      "                 Class     Images  Instances      Box(P          R      mAP50  mAP50-95): 100%|██████████| 4/4 [00:01<00:00,  2.16it/s]\n",
      "                   all        199        495      0.846      0.614      0.708      0.409\n",
      "\n",
      "      Epoch    GPU_mem   box_loss   cls_loss   dfl_loss  Instances       Size\n"
     ]
    },
    {
     "name": "stderr",
     "output_type": "stream",
     "text": [
      "    139/200      12.6G     0.8541      0.439     0.8189        129        640: 100%|██████████| 22/22 [00:19<00:00,  1.13it/s]\n",
      "                 Class     Images  Instances      Box(P          R      mAP50  mAP50-95): 100%|██████████| 4/4 [00:02<00:00,  1.46it/s]\n",
      "                   all        199        495      0.797      0.667       0.72      0.416\n",
      "Stopping training early as no improvement observed in last 50 epochs. Best results observed at epoch 89, best model saved as best.pt.\n",
      "To update EarlyStopping(patience=50) pass a new patience value, i.e. `patience=300` or use `patience=0` to disable EarlyStopping.\n",
      "\n",
      "139 epochs completed in 0.967 hours.\n",
      "Optimizer stripped from runs/detect/train21/weights/last.pt, 52.0MB\n",
      "Optimizer stripped from runs/detect/train21/weights/best.pt, 52.0MB\n",
      "\n",
      "Validating runs/detect/train21/weights/best.pt...\n",
      "Ultralytics YOLOv8.0.73 🚀 Python-3.10.9 torch-2.0.1 CUDA:0 (Tesla T4, 14972MiB)\n",
      "Model summary (fused): 218 layers, 25842076 parameters, 0 gradients, 78.7 GFLOPs\n",
      "                 Class     Images  Instances      Box(P          R      mAP50  mAP50-95): 100%|██████████| 4/4 [00:02<00:00,  1.50it/s]\n",
      "                   all        199        495      0.821      0.652      0.723      0.417\n",
      "           Green Light        199        260      0.863      0.748      0.783      0.425\n",
      "             Left turn        199         65      0.841      0.646      0.727      0.435\n",
      "             Red Light        199        135       0.74      0.607      0.645      0.352\n",
      "          Yellow Light        199         35      0.841      0.605      0.737      0.457\n",
      "Speed: 1.4ms preprocess, 5.0ms inference, 0.0ms loss, 0.8ms postprocess per image\n",
      "Results saved to \u001b[1mruns/detect/train21\u001b[0m\n",
      "WARNING:root:Images sizes do not match. This will causes images to be display incorrectly in the UI.\n"
     ]
    },
    {
     "data": {
      "text/html": [
       "Waiting for W&B process to finish... <strong style=\"color:green\">(success).</strong>"
      ],
      "text/plain": [
       "<IPython.core.display.HTML object>"
      ]
     },
     "metadata": {},
     "output_type": "display_data"
    },
    {
     "data": {
      "text/html": [
       "<style>\n",
       "    table.wandb td:nth-child(1) { padding: 0 10px; text-align: left ; width: auto;} td:nth-child(2) {text-align: left ; width: 100%}\n",
       "    .wandb-row { display: flex; flex-direction: row; flex-wrap: wrap; justify-content: flex-start; width: 100% }\n",
       "    .wandb-col { display: flex; flex-direction: column; flex-basis: 100%; flex: 1; padding: 10px; }\n",
       "    </style>\n",
       "<div class=\"wandb-row\"><div class=\"wandb-col\"><h3>Run history:</h3><br/><table class=\"wandb\"><tr><td>epoch</td><td>▁▁▁▂▂▂▂▂▂▃▃▃▃▃▃▄▄▄▄▄▅▅▅▅▅▅▆▆▆▆▆▇▇▇▇▇▇███</td></tr><tr><td>lr/pg0</td><td>█▃▂▂▂▂▂▂▂▂▂▂▂▂▂▂▁▁▁▁▁▁▁▁▁▁▁▁▁▁▁▁▁▁▁▁▁▁▁▁</td></tr><tr><td>lr/pg1</td><td>▂▇███▇▇▇▇▇▆▆▆▆▆▆▅▅▅▅▅▄▄▄▄▄▃▃▃▃▃▃▂▂▂▂▂▁▁▁</td></tr><tr><td>lr/pg2</td><td>▂▇███▇▇▇▇▇▆▆▆▆▆▆▅▅▅▅▅▄▄▄▄▄▃▃▃▃▃▃▂▂▂▂▂▁▁▁</td></tr><tr><td>metrics/mAP50(B)</td><td>▁▅▄▅▅▅▇▆▆▇▇▇▇▇▇▇▇▇▇█▇█▇█████████████████</td></tr><tr><td>metrics/mAP50-95(B)</td><td>▁▄▃▄▄▄▅▅▅▆▆▆▆▇▆▆▆▇▇▇▇▇▇▇▇▇█▇██▇█▇▇█▇█▇██</td></tr><tr><td>metrics/precision(B)</td><td>▁▆▄▆▆▅▇▆▆▆▇▇█▇▇▆▇▆▇▇▇▇▇▇█▇▇▇█▇▇▇▇█▇▇▇█▇▇</td></tr><tr><td>metrics/recall(B)</td><td>▁▄▄▅▅▅▆▆▆▇▇▇▆█▇█▇█▇█▇█▇█▇███▇▇███▇▇▇▇▇█▇</td></tr><tr><td>train/box_loss</td><td>▇██▇▇▆▆▅▆▅▅▅▅▄▅▅▄▄▄▄▄▃▃▃▃▂▂▂▃▂▂▂▂▂▁▁▁▁▁▁</td></tr><tr><td>train/cls_loss</td><td>█▆▅▄▄▃▃▃▃▂▂▂▂▂▂▂▂▂▂▂▂▂▂▂▂▂▁▁▁▁▁▁▁▁▁▁▁▁▁▁</td></tr><tr><td>train/dfl_loss</td><td>▆▇█▇▆▆▅▅▅▄▄▄▄▄▃▃▃▃▃▃▃▃▃▂▂▂▂▂▂▂▂▂▂▂▂▂▁▁▁▂</td></tr><tr><td>val/box_loss</td><td>▅▆██▆▇▅▄▄▄▅▃▃▃▃▂▃▃▂▃▃▂▃▂▂▂▂▂▂▂▂▂▂▂▁▁▁▁▁▁</td></tr><tr><td>val/cls_loss</td><td>█▃▃▃▃▄▂▃▂▂▂▂▂▂▂▁▂▁▁▁▁▁▁▁▁▁▁▁▁▁▁▁▁▁▁▁▁▁▁▁</td></tr><tr><td>val/dfl_loss</td><td>▁▂█▇▆▆▄▃▄▄▃▃▂▃▃▂▁▂▂▂▂▃▂▂▂▂▂▂▃▂▁▁▂▂▂▂▁▂▂▃</td></tr></table><br/></div><div class=\"wandb-col\"><h3>Run summary:</h3><br/><table class=\"wandb\"><tr><td>best/epoch</td><td>89</td></tr><tr><td>best/metrics/mAP50(B)</td><td>0.72294</td></tr><tr><td>best/metrics/mAP50-95(B)</td><td>0.41729</td></tr><tr><td>best/metrics/precision(B)</td><td>0.82105</td></tr><tr><td>best/metrics/recall(B)</td><td>0.65161</td></tr><tr><td>best/val/box_loss</td><td>1.4894</td></tr><tr><td>best/val/cls_loss</td><td>0.92139</td></tr><tr><td>best/val/dfl_loss</td><td>0.98424</td></tr><tr><td>epoch</td><td>139</td></tr><tr><td>model/GFLOPs</td><td>79.075</td></tr><tr><td>model/parameters</td><td>25858636</td></tr><tr><td>model/speed(ms/img)</td><td>5.43</td></tr></table><br/></div></div>"
      ],
      "text/plain": [
       "<IPython.core.display.HTML object>"
      ]
     },
     "metadata": {},
     "output_type": "display_data"
    },
    {
     "data": {
      "text/html": [
       " View run <strong style=\"color:#cdcd00\">lemon-monkey-3</strong> at: <a href='https://wandb.ai/buzz__/awesome_project_try2/runs/frihf9fa' target=\"_blank\">https://wandb.ai/buzz__/awesome_project_try2/runs/frihf9fa</a><br/>Synced 5 W&B file(s), 429 media file(s), 140 artifact file(s) and 0 other file(s)"
      ],
      "text/plain": [
       "<IPython.core.display.HTML object>"
      ]
     },
     "metadata": {},
     "output_type": "display_data"
    },
    {
     "data": {
      "text/html": [
       "Find logs at: <code>./wandb/run-20231109_074927-frihf9fa/logs</code>"
      ],
      "text/plain": [
       "<IPython.core.display.HTML object>"
      ]
     },
     "metadata": {},
     "output_type": "display_data"
    }
   ],
   "source": [
    "model = YOLO('yolov8m.pt')  # 미리 학습된 모델 로드 (학습에 권장됨)\n",
    "add_wandb_callbacks(model, project='awesome_project_try2')\n",
    "\n",
    "results = model.train(data='/content/Traffic_light/data.yaml', epochs=epochs, imgsz=640, batch=batch, lrf=lrf)"
   ]
  },
  {
   "cell_type": "code",
   "execution_count": null,
   "id": "60e81cfe",
   "metadata": {},
   "outputs": [],
   "source": []
  }
 ],
 "metadata": {
  "kernelspec": {
   "display_name": "Python 3 (ipykernel)",
   "language": "python",
   "name": "python3"
  },
  "language_info": {
   "codemirror_mode": {
    "name": "ipython",
    "version": 3
   },
   "file_extension": ".py",
   "mimetype": "text/x-python",
   "name": "python",
   "nbconvert_exporter": "python",
   "pygments_lexer": "ipython3",
   "version": "3.11.4"
  }
 },
 "nbformat": 4,
 "nbformat_minor": 5
}
