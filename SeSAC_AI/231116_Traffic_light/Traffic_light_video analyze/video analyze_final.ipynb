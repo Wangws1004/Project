{
 "cells": [
  {
   "cell_type": "code",
   "execution_count": null,
   "id": "38f21e98",
   "metadata": {},
   "outputs": [],
   "source": [
    "\"\"\"\n",
    "사용 전 !!!\n",
    "YOLO 모델 로드 경로 수정 !\n",
    "아래 입,출력 동영상 파일 경로 수정 !\n",
    "\"\"\"\n",
    "# # YOLO 모델 로드\n",
    "# path = 'D:/Men-in-Black/Traffic_Light/best_model.pt'\n",
    "# model = YOLO(path)\n",
    "\n",
    "# # 입력 동영상 파일 경로\n",
    "# input_video_path = 'D:/Men-in-Black/Traffic_Light/input_video_test(1).mp4'\n",
    "\n",
    "# # 출력 동영상 파일 경로\n",
    "# output_video_path = 'D:/Men-in-Black/Traffic_Light/output_video.mp4'"
   ]
  },
  {
   "cell_type": "code",
   "execution_count": 4,
   "id": "90543db3",
   "metadata": {},
   "outputs": [],
   "source": [
    "!pip install opencv-python"
   ]
  },
  {
   "cell_type": "code",
   "execution_count": 5,
   "id": "ab1f8ebe",
   "metadata": {},
   "outputs": [],
   "source": [
    "pip install ultralytics==8.0.73"
   ]
  },
  {
   "cell_type": "code",
   "execution_count": 7,
   "id": "8308bfb4",
   "metadata": {},
   "outputs": [],
   "source": [
    "from IPython import display\n",
    "from IPython.display import display, Image\n",
    "from ultralytics import YOLO\n",
    "\n",
    "# display.clear_output()\n",
    "\n",
    "# YOLO 객체 생성\n",
    "# yolo = YOLO()\n",
    "\n",
    "# verify 메서드 실행\n",
    "# yolo.check()"
   ]
  },
  {
   "cell_type": "code",
   "execution_count": 8,
   "id": "e7bd2d57",
   "metadata": {},
   "outputs": [
    {
     "name": "stdout",
     "output_type": "stream",
     "text": [
      "D:\\Men-in-Black\\Traffic_Light\n"
     ]
    }
   ],
   "source": [
    "import os\n",
    "HOME = os.getcwd()\n",
    "print(HOME)"
   ]
  },
  {
   "cell_type": "code",
   "execution_count": 9,
   "id": "f07d73f8",
   "metadata": {},
   "outputs": [
    {
     "name": "stderr",
     "output_type": "stream",
     "text": [
      "Ultralytics YOLOv8.0.73  Python-3.11.5 torch-2.0.1+cpu CPU\n",
      "Setup complete  (8 CPUs, 16.0 GB RAM, 644.5/931.5 GB disk)\n"
     ]
    }
   ],
   "source": [
    "# Pip install method (recommended)\n",
    "\n",
    "from IPython import display\n",
    "display.clear_output()\n",
    "\n",
    "import ultralytics\n",
    "ultralytics.checks()"
   ]
  },
  {
   "cell_type": "code",
   "execution_count": 10,
   "id": "4707dd0d",
   "metadata": {},
   "outputs": [],
   "source": [
    "import yaml\n",
    "import torch\n",
    "from torchvision import transforms\n",
    "from PIL import Image as PILImage\n",
    "from tqdm import tqdm\n",
    "from PIL import Image\n",
    "from ultralytics.yolo.engine.model import YOLO"
   ]
  },
  {
   "cell_type": "code",
   "execution_count": 12,
   "id": "b70a822d",
   "metadata": {},
   "outputs": [],
   "source": [
    "# model = YOLO('D:/Men-in-Black/Traffic_Light/yolov8m.pt')"
   ]
  },
  {
   "cell_type": "code",
   "execution_count": 21,
   "id": "b46f810c",
   "metadata": {},
   "outputs": [],
   "source": [
    "import cv2\n",
    "from ultralytics.yolo.engine.model import YOLO\n",
    "from concurrent.futures import ThreadPoolExecutor\n",
    "from tqdm import tqdm\n",
    "\n",
    "# YOLO 모델 로드\n",
    "path = 'D:/Men-in-Black/Traffic_Light/best_model.pt'\n",
    "model = YOLO(path)\n",
    "\n",
    "# 입력 동영상 파일 경로\n",
    "input_video_path = 'D:/Men-in-Black/Traffic_Light/input_video_test(1).mp4'\n",
    "\n",
    "# 출력 동영상 파일 경로\n",
    "output_video_path = 'D:/Men-in-Black/Traffic_Light/output_video.mp4'\n",
    "\n",
    "# 입력 동영상의 프레임 크기 및 fps 가져오기\n",
    "width = int(cap.get(cv2.CAP_PROP_FRAME_WIDTH))\n",
    "height = int(cap.get(cv2.CAP_PROP_FRAME_HEIGHT))\n",
    "fps = cap.get(cv2.CAP_PROP_FPS)\n",
    "\n",
    "\n",
    "# # 입력 동영상 캡처\n",
    "# cap = cv2.VideoCapture(input_video_path)\n",
    "\n",
    "# # 출력 동영상 코덱 및 VideoWriter 설정\n",
    "# fourcc = cv2.VideoWriter_fourcc(*'mp4v')  # 또는 'XVID'\n",
    "# out = cv2.VideoWriter(output_video_path, fourcc, fps, (640, 640))"
   ]
  },
  {
   "cell_type": "code",
   "execution_count": 94,
   "id": "477a481a",
   "metadata": {
    "scrolled": true
   },
   "outputs": [
    {
     "name": "stderr",
     "output_type": "stream",
     "text": [
      "\n",
      "\n",
      "\n",
      "  0%|                                                                                       | 0/276 [00:00<?, ?frame/s]\u001b[A\u001b[A\u001b[A\n",
      "0: 640x640 1 Green Light, 423.7ms\n",
      "Speed: 1.0ms preprocess, 423.7ms inference, 0.0ms postprocess per image at shape (1, 3, 640, 640)\n",
      "\n",
      "\n",
      "\n",
      "  0%|▎                                                                              | 1/276 [00:00<02:01,  2.27frame/s]\u001b[A\u001b[A\u001b[A\n"
     ]
    },
    {
     "name": "stdout",
     "output_type": "stream",
     "text": [
      "[290.7869873046875, 331.91253662109375, 298.12890625, 341.99761962890625]\n"
     ]
    },
    {
     "name": "stderr",
     "output_type": "stream",
     "text": [
      "0: 640x640 1 Green Light, 437.0ms\n",
      "Speed: 4.8ms preprocess, 437.0ms inference, 0.0ms postprocess per image at shape (1, 3, 640, 640)\n",
      "\n",
      "\n",
      "\n",
      "  1%|▌                                                                              | 2/276 [00:00<02:02,  2.24frame/s]\u001b[A\u001b[A\u001b[A\n"
     ]
    },
    {
     "name": "stdout",
     "output_type": "stream",
     "text": [
      "[290.7840270996094, 331.915771484375, 298.1399230957031, 341.9996337890625]\n"
     ]
    },
    {
     "name": "stderr",
     "output_type": "stream",
     "text": [
      "0: 640x640 1 Green Light, 473.6ms\n",
      "Speed: 1.6ms preprocess, 473.6ms inference, 1.0ms postprocess per image at shape (1, 3, 640, 640)\n",
      "\n",
      "\n",
      "\n",
      "  1%|▊                                                                              | 3/276 [00:01<02:07,  2.15frame/s]\u001b[A\u001b[A\u001b[A\n"
     ]
    },
    {
     "name": "stdout",
     "output_type": "stream",
     "text": [
      "[289.3324279785156, 329.7492370605469, 297.1556701660156, 340.1286926269531]\n"
     ]
    },
    {
     "name": "stderr",
     "output_type": "stream",
     "text": [
      "0: 640x640 (no detections), 449.9ms\n",
      "Speed: 0.0ms preprocess, 449.9ms inference, 0.0ms postprocess per image at shape (1, 3, 640, 640)\n",
      "\n",
      "\n",
      "\n",
      "  1%|█▏                                                                             | 4/276 [00:01<02:06,  2.15frame/s]\u001b[A\u001b[A\u001b[A\n",
      "0: 640x640 (no detections), 428.3ms\n",
      "Speed: 1.2ms preprocess, 428.3ms inference, 1.0ms postprocess per image at shape (1, 3, 640, 640)\n",
      "\n",
      "\n",
      "\n",
      "  2%|█▍                                                                             | 5/276 [00:02<02:03,  2.19frame/s]\u001b[A\u001b[A\u001b[A\n",
      "0: 640x640 1 Green Light, 416.8ms\n",
      "Speed: 0.0ms preprocess, 416.8ms inference, 0.0ms postprocess per image at shape (1, 3, 640, 640)\n",
      "\n",
      "\n",
      "\n",
      "  2%|█▋                                                                             | 6/276 [00:02<02:00,  2.23frame/s]\u001b[A\u001b[A\u001b[A\n"
     ]
    },
    {
     "name": "stdout",
     "output_type": "stream",
     "text": [
      "[286.4088134765625, 321.97479248046875, 293.3978271484375, 332.54620361328125]\n"
     ]
    },
    {
     "name": "stderr",
     "output_type": "stream",
     "text": [
      "0: 640x640 (no detections), 420.0ms\n",
      "Speed: 0.0ms preprocess, 420.0ms inference, 0.0ms postprocess per image at shape (1, 3, 640, 640)\n",
      "\n",
      "\n",
      "\n",
      "  3%|██                                                                             | 7/276 [00:03<01:59,  2.26frame/s]\u001b[A\u001b[A\u001b[A\n",
      "0: 640x640 1 Green Light, 424.0ms\n",
      "Speed: 0.0ms preprocess, 424.0ms inference, 0.0ms postprocess per image at shape (1, 3, 640, 640)\n",
      "\n",
      "\n",
      "\n",
      "  3%|██▎                                                                            | 8/276 [00:03<01:58,  2.26frame/s]\u001b[A\u001b[A\u001b[A\n"
     ]
    },
    {
     "name": "stdout",
     "output_type": "stream",
     "text": [
      "[331.5071716308594, 314.7616271972656, 339.1194152832031, 324.2873229980469]\n"
     ]
    },
    {
     "name": "stderr",
     "output_type": "stream",
     "text": [
      "0: 640x640 1 Green Light, 404.4ms\n",
      "Speed: 2.0ms preprocess, 404.4ms inference, 0.0ms postprocess per image at shape (1, 3, 640, 640)\n",
      "\n",
      "\n",
      "\n",
      "  3%|██▌                                                                            | 9/276 [00:04<01:57,  2.27frame/s]\u001b[A\u001b[A\u001b[A\n"
     ]
    },
    {
     "name": "stdout",
     "output_type": "stream",
     "text": [
      "[331.51788330078125, 311.7365417480469, 338.67041015625, 321.2508239746094]\n"
     ]
    },
    {
     "name": "stderr",
     "output_type": "stream",
     "text": [
      "0: 640x640 1 Green Light, 419.9ms\n",
      "Speed: 1.0ms preprocess, 419.9ms inference, 0.0ms postprocess per image at shape (1, 3, 640, 640)\n",
      "\n",
      "\n",
      "\n",
      "  4%|██▊                                                                           | 10/276 [00:04<01:57,  2.27frame/s]\u001b[A\u001b[A\u001b[A\n"
     ]
    },
    {
     "name": "stdout",
     "output_type": "stream",
     "text": [
      "[331.1791076660156, 308.128173828125, 338.4692687988281, 318.51141357421875]\n"
     ]
    },
    {
     "name": "stderr",
     "output_type": "stream",
     "text": [
      "0: 640x640 1 Green Light, 415.0ms\n",
      "Speed: 0.0ms preprocess, 415.0ms inference, 0.0ms postprocess per image at shape (1, 3, 640, 640)\n",
      "\n",
      "\n",
      "\n",
      "  4%|███                                                                           | 11/276 [00:04<01:55,  2.29frame/s]\u001b[A\u001b[A\u001b[A\n"
     ]
    },
    {
     "name": "stdout",
     "output_type": "stream",
     "text": [
      "[331.27734375, 304.98468017578125, 338.52783203125, 315.47259521484375]\n"
     ]
    },
    {
     "name": "stderr",
     "output_type": "stream",
     "text": [
      "0: 640x640 2 Green Lights, 420.7ms\n",
      "Speed: 0.0ms preprocess, 420.7ms inference, 0.0ms postprocess per image at shape (1, 3, 640, 640)\n",
      "\n",
      "\n",
      "\n",
      "  4%|███▍                                                                          | 12/276 [00:05<01:55,  2.28frame/s]\u001b[A\u001b[A\u001b[A\n"
     ]
    },
    {
     "name": "stdout",
     "output_type": "stream",
     "text": [
      "[330.89727783203125, 301.09100341796875, 338.27142333984375, 312.11053466796875]\n",
      "[278.93798828125, 303.91217041015625, 286.3189697265625, 314.48687744140625]\n"
     ]
    },
    {
     "name": "stderr",
     "output_type": "stream",
     "text": [
      "0: 640x640 1 Green Light, 415.2ms\n",
      "Speed: 0.0ms preprocess, 415.2ms inference, 0.0ms postprocess per image at shape (1, 3, 640, 640)\n",
      "\n",
      "\n",
      "\n",
      "  5%|███▋                                                                          | 13/276 [00:05<01:55,  2.29frame/s]\u001b[A\u001b[A\u001b[A\n"
     ]
    },
    {
     "name": "stdout",
     "output_type": "stream",
     "text": [
      "[330.24468994140625, 297.0739440917969, 338.39324951171875, 308.3054504394531]\n"
     ]
    },
    {
     "name": "stderr",
     "output_type": "stream",
     "text": [
      "0: 640x640 2 Green Lights, 430.1ms\n",
      "Speed: 0.0ms preprocess, 430.1ms inference, 0.0ms postprocess per image at shape (1, 3, 640, 640)\n",
      "\n",
      "\n",
      "\n",
      "  5%|███▉                                                                          | 14/276 [00:06<01:54,  2.28frame/s]\u001b[A\u001b[A\u001b[A\n"
     ]
    },
    {
     "name": "stdout",
     "output_type": "stream",
     "text": [
      "[329.73895263671875, 292.67120361328125, 338.06475830078125, 304.54888916015625]\n",
      "[275.23394775390625, 296.63623046875, 283.17205810546875, 307.66845703125]\n"
     ]
    },
    {
     "name": "stderr",
     "output_type": "stream",
     "text": [
      "0: 640x640 2 Green Lights, 418.8ms\n",
      "Speed: 0.0ms preprocess, 418.8ms inference, 0.0ms postprocess per image at shape (1, 3, 640, 640)\n",
      "\n",
      "\n",
      "\n",
      "  5%|████▏                                                                         | 15/276 [00:06<01:54,  2.27frame/s]\u001b[A\u001b[A\u001b[A\n"
     ]
    },
    {
     "name": "stdout",
     "output_type": "stream",
     "text": [
      "[329.6417236328125, 288.54486083984375, 338.25714111328125, 300.37078857421875]\n",
      "[272.8683166503906, 291.8962097167969, 281.7187805175781, 303.9933166503906]\n"
     ]
    },
    {
     "name": "stderr",
     "output_type": "stream",
     "text": [
      "0: 640x640 2 Green Lights, 491.6ms\n",
      "Speed: 0.0ms preprocess, 491.6ms inference, 0.0ms postprocess per image at shape (1, 3, 640, 640)\n",
      "\n",
      "\n",
      "\n",
      "  6%|████▌                                                                         | 16/276 [00:07<01:59,  2.17frame/s]\u001b[A\u001b[A\u001b[A\n"
     ]
    },
    {
     "name": "stdout",
     "output_type": "stream",
     "text": [
      "[271.7680969238281, 287.58843994140625, 280.2548522949219, 299.49566650390625]\n",
      "[329.26092529296875, 284.241943359375, 337.77362060546875, 296.03167724609375]\n"
     ]
    },
    {
     "name": "stderr",
     "output_type": "stream",
     "text": [
      "0: 640x640 1 Green Light, 419.9ms\n",
      "Speed: 0.0ms preprocess, 419.9ms inference, 0.0ms postprocess per image at shape (1, 3, 640, 640)\n",
      "\n",
      "\n",
      "\n",
      "  6%|████▊                                                                         | 17/276 [00:07<01:57,  2.21frame/s]\u001b[A\u001b[A\u001b[A\n"
     ]
    },
    {
     "name": "stdout",
     "output_type": "stream",
     "text": [
      "[328.97943115234375, 278.9085693359375, 338.00579833984375, 290.9822998046875]\n"
     ]
    },
    {
     "name": "stderr",
     "output_type": "stream",
     "text": [
      "0: 640x640 2 Green Lights, 415.7ms\n",
      "Speed: 0.0ms preprocess, 415.7ms inference, 0.0ms postprocess per image at shape (1, 3, 640, 640)\n",
      "\n",
      "\n",
      "\n",
      "  7%|█████                                                                         | 18/276 [00:08<01:55,  2.24frame/s]\u001b[A\u001b[A\u001b[A\n"
     ]
    },
    {
     "name": "stdout",
     "output_type": "stream",
     "text": [
      "[328.6061706542969, 272.90032958984375, 337.5747375488281, 285.65826416015625]\n",
      "[267.74957275390625, 277.323974609375, 276.77667236328125, 289.9359130859375]\n"
     ]
    },
    {
     "name": "stderr",
     "output_type": "stream",
     "text": [
      "0: 640x640 2 Green Lights, 436.6ms\n",
      "Speed: 0.0ms preprocess, 436.6ms inference, 0.0ms postprocess per image at shape (1, 3, 640, 640)\n",
      "\n",
      "\n",
      "\n",
      "  7%|█████▎                                                                        | 19/276 [00:08<01:55,  2.22frame/s]\u001b[A\u001b[A\u001b[A\n"
     ]
    },
    {
     "name": "stdout",
     "output_type": "stream",
     "text": [
      "[266.170654296875, 272.3779296875, 275.08123779296875, 284.767822265625]\n",
      "[328.1568603515625, 267.8424072265625, 337.5557861328125, 280.765625]\n"
     ]
    },
    {
     "name": "stderr",
     "output_type": "stream",
     "text": [
      "0: 640x640 2 Green Lights, 391.9ms\n",
      "Speed: 6.7ms preprocess, 391.9ms inference, 14.0ms postprocess per image at shape (1, 3, 640, 640)\n",
      "\n",
      "\n",
      "\n",
      "  7%|█████▋                                                                        | 20/276 [00:08<01:52,  2.27frame/s]\u001b[A\u001b[A\u001b[A\n"
     ]
    },
    {
     "name": "stdout",
     "output_type": "stream",
     "text": [
      "[327.89031982421875, 261.6767883300781, 337.16522216796875, 274.9826965332031]\n",
      "[263.39892578125, 266.7420654296875, 272.9942626953125, 280.174560546875]\n"
     ]
    },
    {
     "name": "stderr",
     "output_type": "stream",
     "text": [
      "0: 640x640 2 Green Lights, 419.0ms\n",
      "Speed: 0.6ms preprocess, 419.0ms inference, 0.0ms postprocess per image at shape (1, 3, 640, 640)\n",
      "\n",
      "\n",
      "\n",
      "  8%|█████▉                                                                        | 21/276 [00:09<01:52,  2.27frame/s]\u001b[A\u001b[A\u001b[A\n"
     ]
    },
    {
     "name": "stdout",
     "output_type": "stream",
     "text": [
      "[262.30511474609375, 260.49664306640625, 271.02423095703125, 274.09381103515625]\n",
      "[327.7098083496094, 255.38201904296875, 336.8486633300781, 269.22222900390625]\n"
     ]
    },
    {
     "name": "stderr",
     "output_type": "stream",
     "text": [
      "0: 640x640 2 Green Lights, 405.9ms\n",
      "Speed: 0.0ms preprocess, 405.9ms inference, 0.0ms postprocess per image at shape (1, 3, 640, 640)\n",
      "\n",
      "\n",
      "\n",
      "  8%|██████▏                                                                       | 22/276 [00:09<01:50,  2.31frame/s]\u001b[A\u001b[A\u001b[A\n"
     ]
    },
    {
     "name": "stdout",
     "output_type": "stream",
     "text": [
      "[259.60101318359375, 255.0013427734375, 269.06488037109375, 267.8643798828125]\n",
      "[327.1604919433594, 248.75592041015625, 336.8385314941406, 262.9801940917969]\n"
     ]
    },
    {
     "name": "stderr",
     "output_type": "stream",
     "text": [
      "0: 640x640 2 Green Lights, 418.4ms\n",
      "Speed: 0.0ms preprocess, 418.4ms inference, 0.0ms postprocess per image at shape (1, 3, 640, 640)\n",
      "\n",
      "\n",
      "\n",
      "  8%|██████▌                                                                       | 23/276 [00:10<01:49,  2.31frame/s]\u001b[A\u001b[A\u001b[A\n"
     ]
    },
    {
     "name": "stdout",
     "output_type": "stream",
     "text": [
      "[257.05548095703125, 247.40151977539062, 266.30987548828125, 261.7641296386719]\n",
      "[326.91522216796875, 241.89385986328125, 336.67327880859375, 256.02691650390625]\n"
     ]
    },
    {
     "name": "stderr",
     "output_type": "stream",
     "text": [
      "0: 640x640 2 Green Lights, 417.0ms\n",
      "Speed: 0.0ms preprocess, 417.0ms inference, 0.0ms postprocess per image at shape (1, 3, 640, 640)\n",
      "\n",
      "\n",
      "\n",
      "  9%|██████▊                                                                       | 24/276 [00:10<01:49,  2.31frame/s]\u001b[A\u001b[A\u001b[A\n"
     ]
    },
    {
     "name": "stdout",
     "output_type": "stream",
     "text": [
      "[326.780517578125, 234.95230102539062, 336.1798095703125, 249.12295532226562]\n",
      "[254.76010131835938, 240.85562133789062, 263.7189025878906, 254.65054321289062]\n"
     ]
    },
    {
     "name": "stderr",
     "output_type": "stream",
     "text": [
      "0: 640x640 2 Green Lights, 415.5ms\n",
      "Speed: 0.0ms preprocess, 415.5ms inference, 0.0ms postprocess per image at shape (1, 3, 640, 640)\n",
      "\n",
      "\n",
      "\n",
      "  9%|███████                                                                       | 25/276 [00:11<01:48,  2.31frame/s]\u001b[A\u001b[A\u001b[A\n"
     ]
    },
    {
     "name": "stdout",
     "output_type": "stream",
     "text": [
      "[326.4833068847656, 227.453369140625, 336.4828796386719, 242.34353637695312]\n",
      "[252.01043701171875, 232.92153930664062, 261.9073486328125, 248.27352905273438]\n"
     ]
    },
    {
     "name": "stderr",
     "output_type": "stream",
     "text": [
      "0: 640x640 2 Green Lights, 402.7ms\n",
      "Speed: 1.0ms preprocess, 402.7ms inference, 0.0ms postprocess per image at shape (1, 3, 640, 640)\n",
      "\n",
      "\n",
      "\n",
      "  9%|███████▎                                                                      | 26/276 [00:11<01:47,  2.32frame/s]\u001b[A\u001b[A\u001b[A\n"
     ]
    },
    {
     "name": "stdout",
     "output_type": "stream",
     "text": [
      "[325.96514892578125, 219.4890594482422, 336.05767822265625, 234.93540954589844]\n",
      "[248.65084838867188, 225.19375610351562, 259.1333312988281, 240.86947631835938]\n"
     ]
    },
    {
     "name": "stderr",
     "output_type": "stream",
     "text": [
      "0: 640x640 2 Green Lights, 405.9ms\n",
      "Speed: 1.0ms preprocess, 405.9ms inference, 0.0ms postprocess per image at shape (1, 3, 640, 640)\n",
      "\n",
      "\n",
      "\n",
      " 10%|███████▋                                                                      | 27/276 [00:11<01:47,  2.33frame/s]\u001b[A\u001b[A\u001b[A\n"
     ]
    },
    {
     "name": "stdout",
     "output_type": "stream",
     "text": [
      "[325.47125244140625, 211.19998168945312, 335.9873046875, 226.95864868164062]\n",
      "[246.05606079101562, 217.364013671875, 255.9765625, 232.4691162109375]\n"
     ]
    },
    {
     "name": "stderr",
     "output_type": "stream",
     "text": [
      "0: 640x640 2 Green Lights, 412.1ms\n",
      "Speed: 1.0ms preprocess, 412.1ms inference, 0.0ms postprocess per image at shape (1, 3, 640, 640)\n",
      "\n",
      "\n",
      "\n",
      " 10%|███████▉                                                                      | 28/276 [00:12<01:46,  2.33frame/s]\u001b[A\u001b[A\u001b[A\n"
     ]
    },
    {
     "name": "stdout",
     "output_type": "stream",
     "text": [
      "[324.96893310546875, 202.11495971679688, 335.9158935546875, 218.48831176757812]\n",
      "[242.62176513671875, 208.48809814453125, 252.69815063476562, 224.53070068359375]\n"
     ]
    },
    {
     "name": "stderr",
     "output_type": "stream",
     "text": [
      "0: 640x640 (no detections), 401.4ms\n",
      "Speed: 0.0ms preprocess, 401.4ms inference, 0.0ms postprocess per image at shape (1, 3, 640, 640)\n",
      "\n",
      "\n",
      "\n",
      " 11%|████████▏                                                                     | 29/276 [00:12<01:45,  2.33frame/s]\u001b[A\u001b[A\u001b[A\n",
      "0: 640x640 1 Yellow Light, 410.0ms\n",
      "Speed: 1.0ms preprocess, 410.0ms inference, 0.0ms postprocess per image at shape (1, 3, 640, 640)\n",
      "\n",
      "\n",
      "\n",
      " 11%|████████▍                                                                     | 30/276 [00:13<01:46,  2.32frame/s]\u001b[A\u001b[A\u001b[A\n"
     ]
    },
    {
     "name": "stdout",
     "output_type": "stream",
     "text": [
      "[313.5001525878906, 182.4656982421875, 324.7134094238281, 199.4459228515625]\n"
     ]
    },
    {
     "name": "stderr",
     "output_type": "stream",
     "text": [
      "0: 640x640 2 Yellow Lights, 400.9ms\n",
      "Speed: 0.8ms preprocess, 400.9ms inference, 15.6ms postprocess per image at shape (1, 3, 640, 640)\n",
      "\n",
      "\n",
      "\n",
      " 11%|████████▊                                                                     | 31/276 [00:13<01:45,  2.32frame/s]\u001b[A\u001b[A\u001b[A\n"
     ]
    },
    {
     "name": "stdout",
     "output_type": "stream",
     "text": [
      "[221.06454467773438, 179.1300811767578, 232.51571655273438, 196.67103576660156]\n",
      "[311.14520263671875, 171.06936645507812, 324.33038330078125, 190.284423828125]\n"
     ]
    },
    {
     "name": "stderr",
     "output_type": "stream",
     "text": [
      "0: 640x640 2 Yellow Lights, 404.0ms\n",
      "Speed: 2.0ms preprocess, 404.0ms inference, 0.0ms postprocess per image at shape (1, 3, 640, 640)\n",
      "\n",
      "\n",
      "\n",
      " 12%|█████████                                                                     | 32/276 [00:14<01:44,  2.32frame/s]\u001b[A\u001b[A\u001b[A\n"
     ]
    },
    {
     "name": "stdout",
     "output_type": "stream",
     "text": [
      "[310.9044189453125, 159.52523803710938, 323.599853515625, 178.22183227539062]\n",
      "[216.1128692626953, 169.4236602783203, 227.6000518798828, 186.29344177246094]\n"
     ]
    },
    {
     "name": "stderr",
     "output_type": "stream",
     "text": [
      "0: 640x640 2 Yellow Lights, 400.7ms\n",
      "Speed: 0.0ms preprocess, 400.7ms inference, 0.0ms postprocess per image at shape (1, 3, 640, 640)\n",
      "\n",
      "\n",
      "\n",
      " 12%|█████████▎                                                                    | 33/276 [00:14<01:44,  2.34frame/s]\u001b[A\u001b[A\u001b[A\n"
     ]
    },
    {
     "name": "stdout",
     "output_type": "stream",
     "text": [
      "[212.2186737060547, 156.55636596679688, 223.45606994628906, 174.06417846679688]\n",
      "[310.1531982421875, 146.43777465820312, 323.739990234375, 166.35275268554688]\n"
     ]
    },
    {
     "name": "stderr",
     "output_type": "stream",
     "text": [
      "0: 640x640 2 Yellow Lights, 398.4ms\n",
      "Speed: 1.0ms preprocess, 398.4ms inference, 7.0ms postprocess per image at shape (1, 3, 640, 640)\n",
      "\n",
      "\n",
      "\n",
      " 12%|█████████▌                                                                    | 34/276 [00:14<01:43,  2.35frame/s]\u001b[A\u001b[A\u001b[A\n"
     ]
    },
    {
     "name": "stdout",
     "output_type": "stream",
     "text": [
      "[206.26699829101562, 142.96450805664062, 218.64987182617188, 162.04708862304688]\n",
      "[308.9535827636719, 132.04615783691406, 322.9327697753906, 153.2079315185547]\n"
     ]
    },
    {
     "name": "stderr",
     "output_type": "stream",
     "text": [
      "0: 640x640 2 Yellow Lights, 439.4ms\n",
      "Speed: 0.0ms preprocess, 439.4ms inference, 0.0ms postprocess per image at shape (1, 3, 640, 640)\n",
      "\n",
      "\n",
      "\n",
      " 13%|█████████▉                                                                    | 35/276 [00:15<01:45,  2.29frame/s]\u001b[A\u001b[A\u001b[A\n"
     ]
    },
    {
     "name": "stdout",
     "output_type": "stream",
     "text": [
      "[307.7994384765625, 117.57112121582031, 321.1644287109375, 138.64918518066406]\n",
      "[200.70620727539062, 129.55056762695312, 213.73519897460938, 150.02761840820312]\n"
     ]
    },
    {
     "name": "stderr",
     "output_type": "stream",
     "text": [
      "0: 640x640 1 Yellow Light, 418.4ms\n",
      "Speed: 1.0ms preprocess, 418.4ms inference, 0.0ms postprocess per image at shape (1, 3, 640, 640)\n",
      "\n",
      "\n",
      "\n",
      " 13%|██████████▏                                                                   | 36/276 [00:15<01:45,  2.28frame/s]\u001b[A\u001b[A\u001b[A\n"
     ]
    },
    {
     "name": "stdout",
     "output_type": "stream",
     "text": [
      "[195.72238159179688, 116.14840698242188, 206.91741943359375, 135.48777770996094]\n"
     ]
    },
    {
     "name": "stderr",
     "output_type": "stream",
     "text": [
      "0: 640x640 (no detections), 417.9ms\n",
      "Speed: 0.0ms preprocess, 417.9ms inference, 0.0ms postprocess per image at shape (1, 3, 640, 640)\n",
      "\n",
      "\n",
      "\n",
      " 13%|██████████▍                                                                   | 37/276 [00:16<01:44,  2.30frame/s]\u001b[A\u001b[A\u001b[A\n",
      "0: 640x640 1 Yellow Light, 412.2ms\n",
      "Speed: 0.0ms preprocess, 412.2ms inference, 0.0ms postprocess per image at shape (1, 3, 640, 640)\n",
      "\n",
      "\n",
      "\n",
      " 14%|██████████▋                                                                   | 38/276 [00:16<01:43,  2.30frame/s]\u001b[A\u001b[A\u001b[A\n"
     ]
    },
    {
     "name": "stdout",
     "output_type": "stream",
     "text": [
      "[180.55014038085938, 82.17552947998047, 196.84835815429688, 104.1161117553711]\n"
     ]
    },
    {
     "name": "stderr",
     "output_type": "stream",
     "text": [
      "0: 640x640 (no detections), 420.6ms\n",
      "Speed: 0.0ms preprocess, 420.6ms inference, 0.0ms postprocess per image at shape (1, 3, 640, 640)\n",
      "\n",
      "\n",
      "\n",
      " 14%|███████████                                                                   | 39/276 [00:17<01:42,  2.30frame/s]\u001b[A\u001b[A\u001b[A\n",
      "0: 640x640 (no detections), 429.3ms\n",
      "Speed: 0.0ms preprocess, 429.3ms inference, 0.0ms postprocess per image at shape (1, 3, 640, 640)\n",
      "\n",
      "\n",
      "\n",
      " 14%|███████████▎                                                                  | 40/276 [00:17<01:42,  2.30frame/s]\u001b[A\u001b[A\u001b[A\n",
      "0: 640x640 (no detections), 408.3ms\n",
      "Speed: 0.0ms preprocess, 408.3ms inference, 0.0ms postprocess per image at shape (1, 3, 640, 640)\n",
      "\n",
      "\n",
      "\n",
      " 15%|███████████▌                                                                  | 41/276 [00:17<01:41,  2.31frame/s]\u001b[A\u001b[A\u001b[A\n",
      "0: 640x640 (no detections), 407.6ms\n",
      "Speed: 0.0ms preprocess, 407.6ms inference, 11.5ms postprocess per image at shape (1, 3, 640, 640)\n",
      "\n",
      "\n",
      "\n",
      " 15%|███████████▊                                                                  | 42/276 [00:18<01:41,  2.31frame/s]\u001b[A\u001b[A\u001b[A\n",
      "0: 640x640 (no detections), 409.0ms\n",
      "Speed: 1.0ms preprocess, 409.0ms inference, 0.0ms postprocess per image at shape (1, 3, 640, 640)\n",
      "\n",
      "\n",
      "\n",
      " 16%|████████████▏                                                                 | 43/276 [00:18<01:40,  2.31frame/s]\u001b[A\u001b[A\u001b[A\n",
      "0: 640x640 (no detections), 411.4ms\n",
      "Speed: 2.0ms preprocess, 411.4ms inference, 0.0ms postprocess per image at shape (1, 3, 640, 640)\n",
      "\n",
      "\n",
      "\n",
      " 16%|████████████▍                                                                 | 44/276 [00:19<01:40,  2.31frame/s]\u001b[A\u001b[A\u001b[A\n",
      "0: 640x640 (no detections), 409.8ms\n",
      "Speed: 2.0ms preprocess, 409.8ms inference, 0.0ms postprocess per image at shape (1, 3, 640, 640)\n",
      "\n",
      "\n",
      "\n",
      " 16%|████████████▋                                                                 | 45/276 [00:19<01:39,  2.32frame/s]\u001b[A\u001b[A\u001b[A\n",
      "0: 640x640 (no detections), 404.3ms\n",
      "Speed: 0.0ms preprocess, 404.3ms inference, 0.0ms postprocess per image at shape (1, 3, 640, 640)\n",
      "\n",
      "\n",
      "\n",
      " 17%|█████████████                                                                 | 46/276 [00:20<01:38,  2.35frame/s]\u001b[A\u001b[A\u001b[A\n",
      "0: 640x640 (no detections), 420.5ms\n",
      "Speed: 0.0ms preprocess, 420.5ms inference, 0.0ms postprocess per image at shape (1, 3, 640, 640)\n",
      "\n",
      "\n",
      "\n",
      " 17%|█████████████▎                                                                | 47/276 [00:20<01:38,  2.34frame/s]\u001b[A\u001b[A\u001b[A\n",
      "0: 640x640 (no detections), 406.9ms\n",
      "Speed: 0.0ms preprocess, 406.9ms inference, 0.0ms postprocess per image at shape (1, 3, 640, 640)\n",
      "\n",
      "\n",
      "\n",
      " 17%|█████████████▌                                                                | 48/276 [00:20<01:37,  2.33frame/s]\u001b[A\u001b[A\u001b[A\n",
      "0: 640x640 (no detections), 409.1ms\n",
      "Speed: 0.0ms preprocess, 409.1ms inference, 0.0ms postprocess per image at shape (1, 3, 640, 640)\n",
      "\n",
      "\n",
      "\n",
      " 18%|█████████████▊                                                                | 49/276 [00:21<01:37,  2.33frame/s]\u001b[A\u001b[A\u001b[A\n",
      "0: 640x640 (no detections), 409.0ms\n",
      "Speed: 0.0ms preprocess, 409.0ms inference, 0.0ms postprocess per image at shape (1, 3, 640, 640)\n",
      "\n",
      "\n",
      "\n",
      " 18%|██████████████▏                                                               | 50/276 [00:21<01:36,  2.34frame/s]\u001b[A\u001b[A\u001b[A\n",
      "0: 640x640 (no detections), 501.2ms\n",
      "Speed: 0.0ms preprocess, 501.2ms inference, 0.0ms postprocess per image at shape (1, 3, 640, 640)\n",
      "\n",
      "\n",
      "\n",
      " 18%|██████████████▍                                                               | 51/276 [00:22<01:42,  2.20frame/s]\u001b[A\u001b[A\u001b[A\n",
      "0: 640x640 (no detections), 400.8ms\n",
      "Speed: 0.0ms preprocess, 400.8ms inference, 0.0ms postprocess per image at shape (1, 3, 640, 640)\n",
      "\n",
      "\n",
      "\n",
      " 19%|██████████████▋                                                               | 52/276 [00:22<01:39,  2.26frame/s]\u001b[A\u001b[A\u001b[A\n",
      "0: 640x640 (no detections), 403.0ms\n",
      "Speed: 0.0ms preprocess, 403.0ms inference, 0.0ms postprocess per image at shape (1, 3, 640, 640)\n",
      "\n",
      "\n",
      "\n",
      " 19%|██████████████▉                                                               | 53/276 [00:23<01:37,  2.29frame/s]\u001b[A\u001b[A\u001b[A\n",
      "0: 640x640 (no detections), 400.1ms\n",
      "Speed: 0.0ms preprocess, 400.1ms inference, 0.0ms postprocess per image at shape (1, 3, 640, 640)\n",
      "\n",
      "\n",
      "\n",
      " 20%|███████████████▎                                                              | 54/276 [00:23<01:35,  2.32frame/s]\u001b[A\u001b[A\u001b[A\n",
      "0: 640x640 (no detections), 394.3ms\n",
      "Speed: 2.0ms preprocess, 394.3ms inference, 0.0ms postprocess per image at shape (1, 3, 640, 640)\n",
      "\n",
      "\n",
      "\n",
      " 20%|███████████████▌                                                              | 55/276 [00:24<01:34,  2.33frame/s]\u001b[A\u001b[A\u001b[A\n",
      "0: 640x640 (no detections), 404.8ms\n",
      "Speed: 2.0ms preprocess, 404.8ms inference, 0.0ms postprocess per image at shape (1, 3, 640, 640)\n",
      "\n",
      "\n",
      "\n",
      " 20%|███████████████▊                                                              | 56/276 [00:24<01:34,  2.34frame/s]\u001b[A\u001b[A\u001b[A\n",
      "0: 640x640 (no detections), 396.0ms\n",
      "Speed: 1.0ms preprocess, 396.0ms inference, 0.0ms postprocess per image at shape (1, 3, 640, 640)\n",
      "\n",
      "\n",
      "\n",
      " 21%|████████████████                                                              | 57/276 [00:24<01:33,  2.35frame/s]\u001b[A\u001b[A\u001b[A\n",
      "0: 640x640 (no detections), 412.0ms\n",
      "Speed: 0.0ms preprocess, 412.0ms inference, 0.0ms postprocess per image at shape (1, 3, 640, 640)\n",
      "\n",
      "\n",
      "\n",
      " 21%|████████████████▍                                                             | 58/276 [00:25<01:33,  2.34frame/s]\u001b[A\u001b[A\u001b[A\n",
      "0: 640x640 (no detections), 411.6ms\n",
      "Speed: 1.0ms preprocess, 411.6ms inference, 0.0ms postprocess per image at shape (1, 3, 640, 640)\n",
      "\n",
      "\n",
      "\n",
      " 21%|████████████████▋                                                             | 59/276 [00:25<01:32,  2.34frame/s]\u001b[A\u001b[A\u001b[A\n",
      "0: 640x640 (no detections), 404.9ms\n",
      "Speed: 0.0ms preprocess, 404.9ms inference, 0.0ms postprocess per image at shape (1, 3, 640, 640)\n",
      "\n",
      "\n",
      "\n",
      " 22%|████████████████▉                                                             | 60/276 [00:26<01:32,  2.34frame/s]\u001b[A\u001b[A\u001b[A\n",
      "0: 640x640 (no detections), 410.7ms\n",
      "Speed: 0.0ms preprocess, 410.7ms inference, 0.0ms postprocess per image at shape (1, 3, 640, 640)\n",
      "\n",
      "\n",
      "\n",
      " 22%|█████████████████▏                                                            | 61/276 [00:26<01:31,  2.34frame/s]\u001b[A\u001b[A\u001b[A\n",
      "0: 640x640 (no detections), 406.7ms\n",
      "Speed: 4.5ms preprocess, 406.7ms inference, 0.0ms postprocess per image at shape (1, 3, 640, 640)\n",
      "\n",
      "\n",
      "\n",
      " 22%|█████████████████▌                                                            | 62/276 [00:27<01:31,  2.35frame/s]\u001b[A\u001b[A\u001b[A\n",
      "0: 640x640 (no detections), 412.9ms\n",
      "Speed: 0.0ms preprocess, 412.9ms inference, 0.0ms postprocess per image at shape (1, 3, 640, 640)\n",
      "\n",
      "\n",
      "\n",
      " 23%|█████████████████▊                                                            | 63/276 [00:27<01:30,  2.35frame/s]\u001b[A\u001b[A\u001b[A\n",
      "0: 640x640 (no detections), 401.7ms\n",
      "Speed: 0.0ms preprocess, 401.7ms inference, 0.0ms postprocess per image at shape (1, 3, 640, 640)\n",
      "\n",
      "\n",
      "\n",
      " 23%|██████████████████                                                            | 64/276 [00:27<01:30,  2.35frame/s]\u001b[A\u001b[A\u001b[A\n",
      "0: 640x640 (no detections), 410.4ms\n",
      "Speed: 0.0ms preprocess, 410.4ms inference, 0.0ms postprocess per image at shape (1, 3, 640, 640)\n",
      "\n",
      "\n",
      "\n",
      " 24%|██████████████████▎                                                           | 65/276 [00:28<01:30,  2.34frame/s]\u001b[A\u001b[A\u001b[A\n",
      "0: 640x640 (no detections), 410.9ms\n",
      "Speed: 1.0ms preprocess, 410.9ms inference, 0.0ms postprocess per image at shape (1, 3, 640, 640)\n",
      "\n",
      "\n",
      "\n",
      " 24%|██████████████████▋                                                           | 66/276 [00:28<01:30,  2.33frame/s]\u001b[A\u001b[A\u001b[A\n",
      "0: 640x640 (no detections), 394.3ms\n",
      "Speed: 1.0ms preprocess, 394.3ms inference, 0.0ms postprocess per image at shape (1, 3, 640, 640)\n",
      "\n",
      "\n",
      "\n",
      " 24%|██████████████████▉                                                           | 67/276 [00:29<01:29,  2.34frame/s]\u001b[A\u001b[A\u001b[A\n",
      "0: 640x640 (no detections), 402.4ms\n",
      "Speed: 1.0ms preprocess, 402.4ms inference, 0.0ms postprocess per image at shape (1, 3, 640, 640)\n",
      "\n",
      "\n",
      "\n",
      " 25%|███████████████████▏                                                          | 68/276 [00:29<01:29,  2.33frame/s]\u001b[A\u001b[A\u001b[A\n",
      "0: 640x640 (no detections), 406.9ms\n",
      "Speed: 0.0ms preprocess, 406.9ms inference, 0.0ms postprocess per image at shape (1, 3, 640, 640)\n",
      "\n",
      "\n",
      "\n",
      " 25%|███████████████████▌                                                          | 69/276 [00:30<01:28,  2.33frame/s]\u001b[A\u001b[A\u001b[A\n",
      "0: 640x640 (no detections), 409.4ms\n",
      "Speed: 1.0ms preprocess, 409.4ms inference, 0.0ms postprocess per image at shape (1, 3, 640, 640)\n",
      "\n",
      "\n",
      "\n",
      " 25%|███████████████████▊                                                          | 70/276 [00:30<01:28,  2.33frame/s]\u001b[A\u001b[A\u001b[A\n",
      "0: 640x640 (no detections), 434.4ms\n",
      "Speed: 0.0ms preprocess, 434.4ms inference, 0.0ms postprocess per image at shape (1, 3, 640, 640)\n",
      "\n",
      "\n",
      "\n",
      " 26%|████████████████████                                                          | 71/276 [00:30<01:28,  2.31frame/s]\u001b[A\u001b[A\u001b[A\n",
      "0: 640x640 (no detections), 436.9ms\n",
      "Speed: 0.0ms preprocess, 436.9ms inference, 1.0ms postprocess per image at shape (1, 3, 640, 640)\n",
      "\n",
      "\n",
      "\n",
      " 26%|████████████████████▎                                                         | 72/276 [00:31<01:29,  2.29frame/s]\u001b[A\u001b[A\u001b[A\n",
      "0: 640x640 (no detections), 440.2ms\n",
      "Speed: 0.0ms preprocess, 440.2ms inference, 0.0ms postprocess per image at shape (1, 3, 640, 640)\n",
      "\n",
      "\n",
      "\n",
      " 26%|████████████████████▋                                                         | 73/276 [00:31<01:30,  2.26frame/s]\u001b[A\u001b[A\u001b[A\n",
      "0: 640x640 (no detections), 450.4ms\n",
      "Speed: 0.0ms preprocess, 450.4ms inference, 1.0ms postprocess per image at shape (1, 3, 640, 640)\n",
      "\n",
      "\n",
      "\n",
      " 27%|████████████████████▉                                                         | 74/276 [00:32<01:30,  2.23frame/s]\u001b[A\u001b[A\u001b[A\n",
      "0: 640x640 (no detections), 508.9ms\n",
      "Speed: 0.0ms preprocess, 508.9ms inference, 1.0ms postprocess per image at shape (1, 3, 640, 640)\n",
      "\n",
      "\n",
      "\n",
      " 27%|█████████████████████▏                                                        | 75/276 [00:32<01:34,  2.13frame/s]\u001b[A\u001b[A\u001b[A\n",
      "0: 640x640 (no detections), 415.5ms\n",
      "Speed: 0.0ms preprocess, 415.5ms inference, 15.6ms postprocess per image at shape (1, 3, 640, 640)\n",
      "\n",
      "\n",
      "\n",
      " 28%|█████████████████████▍                                                        | 76/276 [00:33<01:31,  2.18frame/s]\u001b[A\u001b[A\u001b[A\n",
      "0: 640x640 (no detections), 429.5ms\n",
      "Speed: 0.0ms preprocess, 429.5ms inference, 0.0ms postprocess per image at shape (1, 3, 640, 640)\n",
      "\n",
      "\n",
      "\n",
      " 28%|█████████████████████▊                                                        | 77/276 [00:33<01:30,  2.21frame/s]\u001b[A\u001b[A\u001b[A\n",
      "0: 640x640 (no detections), 427.4ms\n",
      "Speed: 1.0ms preprocess, 427.4ms inference, 0.0ms postprocess per image at shape (1, 3, 640, 640)\n",
      "\n",
      "\n",
      "\n",
      " 28%|██████████████████████                                                        | 78/276 [00:34<01:28,  2.23frame/s]\u001b[A\u001b[A\u001b[A\n",
      "0: 640x640 (no detections), 413.8ms\n",
      "Speed: 1.0ms preprocess, 413.8ms inference, 0.0ms postprocess per image at shape (1, 3, 640, 640)\n",
      "\n",
      "\n",
      "\n",
      " 29%|██████████████████████▎                                                       | 79/276 [00:34<01:27,  2.24frame/s]\u001b[A\u001b[A\u001b[A\n",
      "0: 640x640 (no detections), 417.9ms\n",
      "Speed: 0.0ms preprocess, 417.9ms inference, 0.0ms postprocess per image at shape (1, 3, 640, 640)\n",
      "\n",
      "\n",
      "\n",
      " 29%|██████████████████████▌                                                       | 80/276 [00:34<01:26,  2.27frame/s]\u001b[A\u001b[A\u001b[A\n",
      "0: 640x640 (no detections), 401.8ms\n",
      "Speed: 1.8ms preprocess, 401.8ms inference, 0.0ms postprocess per image at shape (1, 3, 640, 640)\n",
      "\n",
      "\n",
      "\n",
      " 29%|██████████████████████▉                                                       | 81/276 [00:35<01:25,  2.29frame/s]\u001b[A\u001b[A\u001b[A\n",
      "0: 640x640 (no detections), 426.8ms\n",
      "Speed: 0.0ms preprocess, 426.8ms inference, 1.0ms postprocess per image at shape (1, 3, 640, 640)\n",
      "\n",
      "\n",
      "\n",
      " 30%|███████████████████████▏                                                      | 82/276 [00:35<01:24,  2.30frame/s]\u001b[A\u001b[A\u001b[A\n",
      "0: 640x640 (no detections), 416.5ms\n",
      "Speed: 1.0ms preprocess, 416.5ms inference, 0.0ms postprocess per image at shape (1, 3, 640, 640)\n",
      "\n",
      "\n",
      "\n",
      " 30%|███████████████████████▍                                                      | 83/276 [00:36<01:24,  2.29frame/s]\u001b[A\u001b[A\u001b[A\n",
      "0: 640x640 (no detections), 409.0ms\n",
      "Speed: 1.0ms preprocess, 409.0ms inference, 0.0ms postprocess per image at shape (1, 3, 640, 640)\n",
      "\n",
      "\n",
      "\n",
      " 30%|███████████████████████▋                                                      | 84/276 [00:36<01:23,  2.29frame/s]\u001b[A\u001b[A\u001b[A\n",
      "0: 640x640 (no detections), 410.1ms\n",
      "Speed: 0.0ms preprocess, 410.1ms inference, 0.0ms postprocess per image at shape (1, 3, 640, 640)\n",
      "\n",
      "\n",
      "\n",
      " 31%|████████████████████████                                                      | 85/276 [00:37<01:22,  2.32frame/s]\u001b[A\u001b[A\u001b[A\n",
      "0: 640x640 1 Yellow Light, 408.1ms\n",
      "Speed: 0.0ms preprocess, 408.1ms inference, 0.0ms postprocess per image at shape (1, 3, 640, 640)\n",
      "\n",
      "\n",
      "\n",
      " 31%|████████████████████████▎                                                     | 86/276 [00:37<01:21,  2.32frame/s]\u001b[A\u001b[A\u001b[A\n"
     ]
    },
    {
     "name": "stdout",
     "output_type": "stream",
     "text": [
      "[343.9905090332031, 341.4791259765625, 351.2414855957031, 349.1790771484375]\n"
     ]
    },
    {
     "name": "stderr",
     "output_type": "stream",
     "text": [
      "0: 640x640 (no detections), 402.9ms\n",
      "Speed: 1.0ms preprocess, 402.9ms inference, 0.0ms postprocess per image at shape (1, 3, 640, 640)\n",
      "\n",
      "\n",
      "\n",
      " 32%|████████████████████████▌                                                     | 87/276 [00:37<01:21,  2.33frame/s]\u001b[A\u001b[A\u001b[A\n",
      "0: 640x640 1 Yellow Light, 405.6ms\n",
      "Speed: 0.0ms preprocess, 405.6ms inference, 0.0ms postprocess per image at shape (1, 3, 640, 640)\n",
      "\n",
      "\n",
      "\n",
      " 32%|████████████████████████▊                                                     | 88/276 [00:38<01:19,  2.35frame/s]\u001b[A\u001b[A\u001b[A\n"
     ]
    },
    {
     "name": "stdout",
     "output_type": "stream",
     "text": [
      "[343.82342529296875, 338.6246337890625, 350.62353515625, 346.8634033203125]\n"
     ]
    },
    {
     "name": "stderr",
     "output_type": "stream",
     "text": [
      "0: 640x640 1 Yellow Light, 401.2ms\n",
      "Speed: 0.0ms preprocess, 401.2ms inference, 0.0ms postprocess per image at shape (1, 3, 640, 640)\n",
      "\n",
      "\n",
      "\n",
      " 32%|█████████████████████████▏                                                    | 89/276 [00:38<01:19,  2.36frame/s]\u001b[A\u001b[A\u001b[A\n"
     ]
    },
    {
     "name": "stdout",
     "output_type": "stream",
     "text": [
      "[343.2452392578125, 337.31640625, 349.9833984375, 345.3682861328125]\n"
     ]
    },
    {
     "name": "stderr",
     "output_type": "stream",
     "text": [
      "0: 640x640 (no detections), 414.5ms\n",
      "Speed: 0.0ms preprocess, 414.5ms inference, 0.0ms postprocess per image at shape (1, 3, 640, 640)\n",
      "\n",
      "\n",
      "\n",
      " 33%|█████████████████████████▍                                                    | 90/276 [00:39<01:19,  2.35frame/s]\u001b[A\u001b[A\u001b[A\n",
      "0: 640x640 (no detections), 394.8ms\n",
      "Speed: 10.8ms preprocess, 394.8ms inference, 0.0ms postprocess per image at shape (1, 3, 640, 640)\n",
      "\n",
      "\n",
      "\n",
      " 33%|█████████████████████████▋                                                    | 91/276 [00:39<01:18,  2.35frame/s]\u001b[A\u001b[A\u001b[A\n",
      "0: 640x640 1 Yellow Light, 393.9ms\n",
      "Speed: 0.0ms preprocess, 393.9ms inference, 0.0ms postprocess per image at shape (1, 3, 640, 640)\n",
      "\n",
      "\n",
      "\n",
      " 33%|██████████████████████████                                                    | 92/276 [00:40<01:17,  2.36frame/s]\u001b[A\u001b[A\u001b[A\n"
     ]
    },
    {
     "name": "stdout",
     "output_type": "stream",
     "text": [
      "[342.8227844238281, 332.3463134765625, 349.7456359863281, 341.28955078125]\n"
     ]
    },
    {
     "name": "stderr",
     "output_type": "stream",
     "text": [
      "0: 640x640 1 Yellow Light, 420.8ms\n",
      "Speed: 0.0ms preprocess, 420.8ms inference, 0.0ms postprocess per image at shape (1, 3, 640, 640)\n",
      "\n",
      "\n",
      "\n",
      " 34%|██████████████████████████▎                                                   | 93/276 [00:40<01:17,  2.35frame/s]\u001b[A\u001b[A\u001b[A\n"
     ]
    },
    {
     "name": "stdout",
     "output_type": "stream",
     "text": [
      "[342.5657958984375, 330.8765869140625, 349.337646484375, 339.8037109375]\n"
     ]
    },
    {
     "name": "stderr",
     "output_type": "stream",
     "text": [
      "0: 640x640 (no detections), 402.3ms\n",
      "Speed: 0.0ms preprocess, 402.3ms inference, 0.0ms postprocess per image at shape (1, 3, 640, 640)\n",
      "\n",
      "\n",
      "\n",
      " 34%|██████████████████████████▌                                                   | 94/276 [00:40<01:17,  2.35frame/s]\u001b[A\u001b[A\u001b[A\n",
      "0: 640x640 (no detections), 406.7ms\n",
      "Speed: 0.0ms preprocess, 406.7ms inference, 0.0ms postprocess per image at shape (1, 3, 640, 640)\n",
      "\n",
      "\n",
      "\n",
      " 34%|██████████████████████████▊                                                   | 95/276 [00:41<01:17,  2.34frame/s]\u001b[A\u001b[A\u001b[A\n",
      "0: 640x640 (no detections), 408.0ms\n",
      "Speed: 0.0ms preprocess, 408.0ms inference, 0.0ms postprocess per image at shape (1, 3, 640, 640)\n",
      "\n",
      "\n",
      "\n",
      " 35%|███████████████████████████▏                                                  | 96/276 [00:41<01:16,  2.36frame/s]\u001b[A\u001b[A\u001b[A\n",
      "0: 640x640 1 Yellow Light, 405.4ms\n",
      "Speed: 0.0ms preprocess, 405.4ms inference, 15.6ms postprocess per image at shape (1, 3, 640, 640)\n",
      "\n",
      "\n",
      "\n",
      " 35%|███████████████████████████▍                                                  | 97/276 [00:42<01:16,  2.35frame/s]\u001b[A\u001b[A\u001b[A\n"
     ]
    },
    {
     "name": "stdout",
     "output_type": "stream",
     "text": [
      "[340.4100341796875, 325.138671875, 348.595703125, 333.80517578125]\n"
     ]
    },
    {
     "name": "stderr",
     "output_type": "stream",
     "text": [
      "0: 640x640 1 Yellow Light, 406.6ms\n",
      "Speed: 0.0ms preprocess, 406.6ms inference, 0.0ms postprocess per image at shape (1, 3, 640, 640)\n",
      "\n",
      "\n",
      "\n",
      " 36%|███████████████████████████▋                                                  | 98/276 [00:42<01:15,  2.35frame/s]\u001b[A\u001b[A\u001b[A\n"
     ]
    },
    {
     "name": "stdout",
     "output_type": "stream",
     "text": [
      "[340.27313232421875, 322.87750244140625, 348.37420654296875, 331.99383544921875]\n"
     ]
    },
    {
     "name": "stderr",
     "output_type": "stream",
     "text": [
      "0: 640x640 1 Yellow Light, 413.4ms\n",
      "Speed: 0.0ms preprocess, 413.4ms inference, 0.0ms postprocess per image at shape (1, 3, 640, 640)\n",
      "\n",
      "\n",
      "\n",
      " 36%|███████████████████████████▉                                                  | 99/276 [00:43<01:15,  2.35frame/s]\u001b[A\u001b[A\u001b[A\n"
     ]
    },
    {
     "name": "stdout",
     "output_type": "stream",
     "text": [
      "[340.05194091796875, 320.93475341796875, 347.96624755859375, 329.958984375]\n"
     ]
    },
    {
     "name": "stderr",
     "output_type": "stream",
     "text": [
      "0: 640x640 (no detections), 449.1ms\n",
      "Speed: 0.0ms preprocess, 449.1ms inference, 0.0ms postprocess per image at shape (1, 3, 640, 640)\n",
      "\n",
      "\n",
      "\n",
      " 36%|███████████████████████████▉                                                 | 100/276 [00:43<01:16,  2.29frame/s]\u001b[A\u001b[A\u001b[A\n",
      "0: 640x640 (no detections), 409.1ms\n",
      "Speed: 1.0ms preprocess, 409.1ms inference, 0.0ms postprocess per image at shape (1, 3, 640, 640)\n",
      "\n",
      "\n",
      "\n",
      " 37%|████████████████████████████▏                                                | 101/276 [00:43<01:15,  2.31frame/s]\u001b[A\u001b[A\u001b[A\n",
      "0: 640x640 1 Yellow Light, 420.9ms\n",
      "Speed: 0.0ms preprocess, 420.9ms inference, 0.0ms postprocess per image at shape (1, 3, 640, 640)\n",
      "\n",
      "\n",
      "\n",
      " 37%|████████████████████████████▍                                                | 102/276 [00:44<01:15,  2.31frame/s]\u001b[A\u001b[A\u001b[A\n"
     ]
    },
    {
     "name": "stdout",
     "output_type": "stream",
     "text": [
      "[339.0340576171875, 315.614501953125, 347.300048828125, 325.55078125]\n"
     ]
    },
    {
     "name": "stderr",
     "output_type": "stream",
     "text": [
      "0: 640x640 (no detections), 423.0ms\n",
      "Speed: 0.0ms preprocess, 423.0ms inference, 0.0ms postprocess per image at shape (1, 3, 640, 640)\n",
      "\n",
      "\n",
      "\n",
      " 37%|████████████████████████████▋                                                | 103/276 [00:44<01:14,  2.32frame/s]\u001b[A\u001b[A\u001b[A\n",
      "0: 640x640 (no detections), 408.0ms\n",
      "Speed: 1.9ms preprocess, 408.0ms inference, 0.0ms postprocess per image at shape (1, 3, 640, 640)\n",
      "\n",
      "\n",
      "\n",
      " 38%|█████████████████████████████                                                | 104/276 [00:45<01:13,  2.33frame/s]\u001b[A\u001b[A\u001b[A\n",
      "0: 640x640 (no detections), 407.6ms\n",
      "Speed: 0.0ms preprocess, 407.6ms inference, 0.0ms postprocess per image at shape (1, 3, 640, 640)\n",
      "\n",
      "\n",
      "\n",
      " 38%|█████████████████████████████▎                                               | 105/276 [00:45<01:13,  2.34frame/s]\u001b[A\u001b[A\u001b[A\n",
      "0: 640x640 (no detections), 410.9ms\n",
      "Speed: 1.0ms preprocess, 410.9ms inference, 0.0ms postprocess per image at shape (1, 3, 640, 640)\n",
      "\n",
      "\n",
      "\n",
      " 38%|█████████████████████████████▌                                               | 106/276 [00:46<01:12,  2.35frame/s]\u001b[A\u001b[A\u001b[A\n",
      "0: 640x640 (no detections), 408.0ms\n",
      "Speed: 0.0ms preprocess, 408.0ms inference, 0.0ms postprocess per image at shape (1, 3, 640, 640)\n",
      "\n",
      "\n",
      "\n",
      " 39%|█████████████████████████████▊                                               | 107/276 [00:46<01:12,  2.33frame/s]\u001b[A\u001b[A\u001b[A\n",
      "0: 640x640 (no detections), 411.4ms\n",
      "Speed: 0.0ms preprocess, 411.4ms inference, 0.0ms postprocess per image at shape (1, 3, 640, 640)\n",
      "\n",
      "\n",
      "\n",
      " 39%|██████████████████████████████▏                                              | 108/276 [00:46<01:11,  2.34frame/s]\u001b[A\u001b[A\u001b[A\n",
      "0: 640x640 (no detections), 410.9ms\n",
      "Speed: 1.0ms preprocess, 410.9ms inference, 0.0ms postprocess per image at shape (1, 3, 640, 640)\n",
      "\n",
      "\n",
      "\n",
      " 39%|██████████████████████████████▍                                              | 109/276 [00:47<01:11,  2.33frame/s]\u001b[A\u001b[A\u001b[A\n",
      "0: 640x640 1 Yellow Light, 396.2ms\n",
      "Speed: 5.0ms preprocess, 396.2ms inference, 0.0ms postprocess per image at shape (1, 3, 640, 640)\n",
      "\n",
      "\n",
      "\n",
      " 40%|██████████████████████████████▋                                              | 110/276 [00:47<01:10,  2.34frame/s]\u001b[A\u001b[A\u001b[A\n"
     ]
    },
    {
     "name": "stdout",
     "output_type": "stream",
     "text": [
      "[335.7484130859375, 298.4850769042969, 345.27447509765625, 309.0224914550781]\n"
     ]
    },
    {
     "name": "stderr",
     "output_type": "stream",
     "text": [
      "0: 640x640 1 Yellow Light, 421.0ms\n",
      "Speed: 0.0ms preprocess, 421.0ms inference, 0.0ms postprocess per image at shape (1, 3, 640, 640)\n",
      "\n",
      "\n",
      "\n",
      " 40%|██████████████████████████████▉                                              | 111/276 [00:48<01:10,  2.33frame/s]\u001b[A\u001b[A\u001b[A\n"
     ]
    },
    {
     "name": "stdout",
     "output_type": "stream",
     "text": [
      "[335.464111328125, 295.5100402832031, 344.80609130859375, 305.9796447753906]\n"
     ]
    },
    {
     "name": "stderr",
     "output_type": "stream",
     "text": [
      "0: 640x640 1 Yellow Light, 450.5ms\n",
      "Speed: 0.0ms preprocess, 450.5ms inference, 0.0ms postprocess per image at shape (1, 3, 640, 640)\n",
      "\n",
      "\n",
      "\n",
      " 41%|███████████████████████████████▏                                             | 112/276 [00:48<01:12,  2.26frame/s]\u001b[A\u001b[A\u001b[A\n"
     ]
    },
    {
     "name": "stdout",
     "output_type": "stream",
     "text": [
      "[334.60980224609375, 292.34576416015625, 344.5615234375, 303.68499755859375]\n"
     ]
    },
    {
     "name": "stderr",
     "output_type": "stream",
     "text": [
      "0: 640x640 1 Yellow Light, 414.8ms\n",
      "Speed: 0.0ms preprocess, 414.8ms inference, 0.0ms postprocess per image at shape (1, 3, 640, 640)\n",
      "\n",
      "\n",
      "\n",
      " 41%|███████████████████████████████▌                                             | 113/276 [00:49<01:11,  2.29frame/s]\u001b[A\u001b[A\u001b[A\n"
     ]
    },
    {
     "name": "stdout",
     "output_type": "stream",
     "text": [
      "[334.2364196777344, 290.22100830078125, 343.9668273925781, 301.70751953125]\n"
     ]
    },
    {
     "name": "stderr",
     "output_type": "stream",
     "text": [
      "0: 640x640 1 Yellow Light, 418.0ms\n",
      "Speed: 0.0ms preprocess, 418.0ms inference, 0.0ms postprocess per image at shape (1, 3, 640, 640)\n",
      "\n",
      "\n",
      "\n",
      " 41%|███████████████████████████████▊                                             | 114/276 [00:49<01:11,  2.28frame/s]\u001b[A\u001b[A\u001b[A\n"
     ]
    },
    {
     "name": "stdout",
     "output_type": "stream",
     "text": [
      "[333.79193115234375, 286.9610900878906, 343.5655517578125, 298.4662780761719]\n"
     ]
    },
    {
     "name": "stderr",
     "output_type": "stream",
     "text": [
      "0: 640x640 1 Yellow Light, 413.5ms\n",
      "Speed: 0.0ms preprocess, 413.5ms inference, 0.0ms postprocess per image at shape (1, 3, 640, 640)\n",
      "\n",
      "\n",
      "\n",
      " 42%|████████████████████████████████                                             | 115/276 [00:49<01:09,  2.30frame/s]\u001b[A\u001b[A\u001b[A\n"
     ]
    },
    {
     "name": "stdout",
     "output_type": "stream",
     "text": [
      "[333.64239501953125, 283.79962158203125, 343.47076416015625, 295.43328857421875]\n"
     ]
    },
    {
     "name": "stderr",
     "output_type": "stream",
     "text": [
      "0: 640x640 1 Yellow Light, 453.3ms\n",
      "Speed: 0.0ms preprocess, 453.3ms inference, 0.0ms postprocess per image at shape (1, 3, 640, 640)\n",
      "\n",
      "\n",
      "\n",
      " 42%|████████████████████████████████▎                                            | 116/276 [00:50<01:10,  2.25frame/s]\u001b[A\u001b[A\u001b[A\n"
     ]
    },
    {
     "name": "stdout",
     "output_type": "stream",
     "text": [
      "[333.0982666015625, 280.87811279296875, 343.47686767578125, 292.88446044921875]\n"
     ]
    },
    {
     "name": "stderr",
     "output_type": "stream",
     "text": [
      "0: 640x640 1 Yellow Light, 418.2ms\n",
      "Speed: 0.8ms preprocess, 418.2ms inference, 0.0ms postprocess per image at shape (1, 3, 640, 640)\n",
      "\n",
      "\n",
      "\n",
      " 42%|████████████████████████████████▋                                            | 117/276 [00:50<01:10,  2.27frame/s]\u001b[A\u001b[A\u001b[A\n"
     ]
    },
    {
     "name": "stdout",
     "output_type": "stream",
     "text": [
      "[332.61663818359375, 277.215576171875, 343.06805419921875, 289.92724609375]\n"
     ]
    },
    {
     "name": "stderr",
     "output_type": "stream",
     "text": [
      "0: 640x640 1 Yellow Light, 416.9ms\n",
      "Speed: 0.0ms preprocess, 416.9ms inference, 0.0ms postprocess per image at shape (1, 3, 640, 640)\n",
      "\n",
      "\n",
      "\n",
      " 43%|████████████████████████████████▉                                            | 118/276 [00:51<01:09,  2.27frame/s]\u001b[A\u001b[A\u001b[A\n"
     ]
    },
    {
     "name": "stdout",
     "output_type": "stream",
     "text": [
      "[332.6005859375, 274.24554443359375, 342.08355712890625, 286.489501953125]\n"
     ]
    },
    {
     "name": "stderr",
     "output_type": "stream",
     "text": [
      "0: 640x640 1 Yellow Light, 412.8ms\n",
      "Speed: 0.0ms preprocess, 412.8ms inference, 0.0ms postprocess per image at shape (1, 3, 640, 640)\n",
      "\n",
      "\n",
      "\n",
      " 43%|█████████████████████████████████▏                                           | 119/276 [00:51<01:08,  2.28frame/s]\u001b[A\u001b[A\u001b[A\n"
     ]
    },
    {
     "name": "stdout",
     "output_type": "stream",
     "text": [
      "[332.1141357421875, 270.8252258300781, 342.38177490234375, 283.2294616699219]\n"
     ]
    },
    {
     "name": "stderr",
     "output_type": "stream",
     "text": [
      "0: 640x640 1 Yellow Light, 405.7ms\n",
      "Speed: 6.4ms preprocess, 405.7ms inference, 0.0ms postprocess per image at shape (1, 3, 640, 640)\n",
      "\n",
      "\n",
      "\n",
      " 43%|█████████████████████████████████▍                                           | 120/276 [00:52<01:08,  2.28frame/s]\u001b[A\u001b[A\u001b[A\n"
     ]
    },
    {
     "name": "stdout",
     "output_type": "stream",
     "text": [
      "[331.9225158691406, 266.6626892089844, 341.9760437011719, 279.5755310058594]\n"
     ]
    },
    {
     "name": "stderr",
     "output_type": "stream",
     "text": [
      "0: 640x640 1 Yellow Light, 418.7ms\n",
      "Speed: 1.0ms preprocess, 418.7ms inference, 0.0ms postprocess per image at shape (1, 3, 640, 640)\n",
      "\n",
      "\n",
      "\n",
      " 44%|█████████████████████████████████▊                                           | 121/276 [00:52<01:07,  2.29frame/s]\u001b[A\u001b[A\u001b[A\n"
     ]
    },
    {
     "name": "stdout",
     "output_type": "stream",
     "text": [
      "[331.14697265625, 263.05609130859375, 342.1234130859375, 275.79803466796875]\n"
     ]
    },
    {
     "name": "stderr",
     "output_type": "stream",
     "text": [
      "0: 640x640 1 Yellow Light, 496.6ms\n",
      "Speed: 1.0ms preprocess, 496.6ms inference, 0.0ms postprocess per image at shape (1, 3, 640, 640)\n",
      "\n",
      "\n",
      "\n",
      " 44%|██████████████████████████████████                                           | 122/276 [00:53<01:11,  2.16frame/s]\u001b[A\u001b[A\u001b[A\n"
     ]
    },
    {
     "name": "stdout",
     "output_type": "stream",
     "text": [
      "[330.2331237792969, 258.23651123046875, 341.4840393066406, 272.267578125]\n"
     ]
    },
    {
     "name": "stderr",
     "output_type": "stream",
     "text": [
      "0: 640x640 1 Yellow Light, 401.3ms\n",
      "Speed: 0.0ms preprocess, 401.3ms inference, 0.0ms postprocess per image at shape (1, 3, 640, 640)\n",
      "\n",
      "\n",
      "\n",
      " 45%|██████████████████████████████████▎                                          | 123/276 [00:53<01:08,  2.22frame/s]\u001b[A\u001b[A\u001b[A\n"
     ]
    },
    {
     "name": "stdout",
     "output_type": "stream",
     "text": [
      "[329.64532470703125, 254.13656616210938, 341.41156005859375, 267.5666198730469]\n"
     ]
    },
    {
     "name": "stderr",
     "output_type": "stream",
     "text": [
      "0: 640x640 1 Yellow Light, 399.7ms\n",
      "Speed: 0.0ms preprocess, 399.7ms inference, 0.0ms postprocess per image at shape (1, 3, 640, 640)\n",
      "\n",
      "\n",
      "\n",
      " 45%|██████████████████████████████████▌                                          | 124/276 [00:53<01:07,  2.26frame/s]\u001b[A\u001b[A\u001b[A\n"
     ]
    },
    {
     "name": "stdout",
     "output_type": "stream",
     "text": [
      "[329.114990234375, 248.35223388671875, 341.5762939453125, 262.86370849609375]\n"
     ]
    },
    {
     "name": "stderr",
     "output_type": "stream",
     "text": [
      "0: 640x640 1 Yellow Light, 408.8ms\n",
      "Speed: 2.0ms preprocess, 408.8ms inference, 0.0ms postprocess per image at shape (1, 3, 640, 640)\n",
      "\n",
      "\n",
      "\n",
      " 45%|██████████████████████████████████▊                                          | 125/276 [00:54<01:06,  2.28frame/s]\u001b[A\u001b[A\u001b[A\n"
     ]
    },
    {
     "name": "stdout",
     "output_type": "stream",
     "text": [
      "[328.4082336425781, 243.3780517578125, 341.0627136230469, 257.9102783203125]\n"
     ]
    },
    {
     "name": "stderr",
     "output_type": "stream",
     "text": [
      "0: 640x640 1 Yellow Light, 403.9ms\n",
      "Speed: 1.0ms preprocess, 403.9ms inference, 0.0ms postprocess per image at shape (1, 3, 640, 640)\n",
      "\n",
      "\n",
      "\n",
      " 46%|███████████████████████████████████▏                                         | 126/276 [00:54<01:05,  2.29frame/s]\u001b[A\u001b[A\u001b[A\n"
     ]
    },
    {
     "name": "stdout",
     "output_type": "stream",
     "text": [
      "[328.25152587890625, 237.82745361328125, 340.30694580078125, 252.66943359375]\n"
     ]
    },
    {
     "name": "stderr",
     "output_type": "stream",
     "text": [
      "0: 640x640 1 Yellow Light, 434.7ms\n",
      "Speed: 1.0ms preprocess, 434.7ms inference, 0.0ms postprocess per image at shape (1, 3, 640, 640)\n",
      "\n",
      "\n",
      "\n",
      " 46%|███████████████████████████████████▍                                         | 127/276 [00:55<01:05,  2.27frame/s]\u001b[A\u001b[A\u001b[A\n"
     ]
    },
    {
     "name": "stdout",
     "output_type": "stream",
     "text": [
      "[327.76971435546875, 231.6038818359375, 340.12469482421875, 246.6046142578125]\n"
     ]
    },
    {
     "name": "stderr",
     "output_type": "stream",
     "text": [
      "0: 640x640 1 Yellow Light, 429.8ms\n",
      "Speed: 1.0ms preprocess, 429.8ms inference, 0.0ms postprocess per image at shape (1, 3, 640, 640)\n",
      "\n",
      "\n",
      "\n",
      " 46%|███████████████████████████████████▋                                         | 128/276 [00:55<01:05,  2.27frame/s]\u001b[A\u001b[A\u001b[A\n"
     ]
    },
    {
     "name": "stdout",
     "output_type": "stream",
     "text": [
      "[329.49346923828125, 253.9835205078125, 341.47064208984375, 267.56494140625]\n"
     ]
    },
    {
     "name": "stderr",
     "output_type": "stream",
     "text": [
      "0: 640x640 1 Yellow Light, 427.9ms\n",
      "Speed: 1.0ms preprocess, 427.9ms inference, 1.0ms postprocess per image at shape (1, 3, 640, 640)\n",
      "\n",
      "\n",
      "\n",
      " 47%|███████████████████████████████████▉                                         | 129/276 [00:56<01:05,  2.25frame/s]\u001b[A\u001b[A\u001b[A\n"
     ]
    },
    {
     "name": "stdout",
     "output_type": "stream",
     "text": [
      "[329.50146484375, 253.99258422851562, 341.4580078125, 267.5626525878906]\n"
     ]
    },
    {
     "name": "stderr",
     "output_type": "stream",
     "text": [
      "0: 640x640 1 Yellow Light, 410.5ms\n",
      "Speed: 2.0ms preprocess, 410.5ms inference, 0.0ms postprocess per image at shape (1, 3, 640, 640)\n",
      "\n",
      "\n",
      "\n",
      " 47%|████████████████████████████████████▎                                        | 130/276 [00:56<01:04,  2.27frame/s]\u001b[A\u001b[A\u001b[A\n"
     ]
    },
    {
     "name": "stdout",
     "output_type": "stream",
     "text": [
      "[329.49908447265625, 253.991943359375, 341.46038818359375, 267.5626220703125]\n"
     ]
    },
    {
     "name": "stderr",
     "output_type": "stream",
     "text": [
      "0: 640x640 1 Yellow Light, 425.0ms\n",
      "Speed: 0.0ms preprocess, 425.0ms inference, 0.0ms postprocess per image at shape (1, 3, 640, 640)\n",
      "\n",
      "\n",
      "\n",
      " 47%|████████████████████████████████████▌                                        | 131/276 [00:57<01:04,  2.26frame/s]\u001b[A\u001b[A\u001b[A\n"
     ]
    },
    {
     "name": "stdout",
     "output_type": "stream",
     "text": [
      "[329.49908447265625, 253.991943359375, 341.46038818359375, 267.5626220703125]\n"
     ]
    },
    {
     "name": "stderr",
     "output_type": "stream",
     "text": [
      "0: 640x640 1 Yellow Light, 422.5ms\n",
      "Speed: 0.0ms preprocess, 422.5ms inference, 0.0ms postprocess per image at shape (1, 3, 640, 640)\n",
      "\n",
      "\n",
      "\n",
      " 48%|████████████████████████████████████▊                                        | 132/276 [00:57<01:03,  2.27frame/s]\u001b[A\u001b[A\u001b[A\n"
     ]
    },
    {
     "name": "stdout",
     "output_type": "stream",
     "text": [
      "[329.5306091308594, 254.00405883789062, 341.4614562988281, 267.5440368652344]\n"
     ]
    },
    {
     "name": "stderr",
     "output_type": "stream",
     "text": [
      "0: 640x640 1 Yellow Light, 406.0ms\n",
      "Speed: 0.0ms preprocess, 406.0ms inference, 0.0ms postprocess per image at shape (1, 3, 640, 640)\n",
      "\n",
      "\n",
      "\n",
      " 48%|█████████████████████████████████████                                        | 133/276 [00:57<01:02,  2.30frame/s]\u001b[A\u001b[A\u001b[A\n"
     ]
    },
    {
     "name": "stdout",
     "output_type": "stream",
     "text": [
      "[329.5728759765625, 254.0435791015625, 341.4361572265625, 267.55572509765625]\n"
     ]
    },
    {
     "name": "stderr",
     "output_type": "stream",
     "text": [
      "0: 640x640 1 Yellow Light, 417.9ms\n",
      "Speed: 0.0ms preprocess, 417.9ms inference, 0.0ms postprocess per image at shape (1, 3, 640, 640)\n",
      "\n",
      "\n",
      "\n",
      " 49%|█████████████████████████████████████▍                                       | 134/276 [00:58<01:01,  2.31frame/s]\u001b[A\u001b[A\u001b[A\n"
     ]
    },
    {
     "name": "stdout",
     "output_type": "stream",
     "text": [
      "[329.53887939453125, 254.05322265625, 341.41290283203125, 267.57470703125]\n"
     ]
    },
    {
     "name": "stderr",
     "output_type": "stream",
     "text": [
      "0: 640x640 1 Yellow Light, 432.3ms\n",
      "Speed: 0.0ms preprocess, 432.3ms inference, 0.0ms postprocess per image at shape (1, 3, 640, 640)\n",
      "\n",
      "\n",
      "\n",
      " 49%|█████████████████████████████████████▋                                       | 135/276 [00:58<01:01,  2.30frame/s]\u001b[A\u001b[A\u001b[A\n"
     ]
    },
    {
     "name": "stdout",
     "output_type": "stream",
     "text": [
      "[329.566650390625, 254.0643768310547, 341.38421630859375, 267.55865478515625]\n"
     ]
    },
    {
     "name": "stderr",
     "output_type": "stream",
     "text": [
      "0: 640x640 1 Yellow Light, 415.2ms\n",
      "Speed: 0.0ms preprocess, 415.2ms inference, 0.0ms postprocess per image at shape (1, 3, 640, 640)\n",
      "\n",
      "\n",
      "\n",
      " 49%|█████████████████████████████████████▉                                       | 136/276 [00:59<01:00,  2.30frame/s]\u001b[A\u001b[A\u001b[A\n"
     ]
    },
    {
     "name": "stdout",
     "output_type": "stream",
     "text": [
      "[329.4921875, 254.05361938476562, 341.44537353515625, 267.5691223144531]\n"
     ]
    },
    {
     "name": "stderr",
     "output_type": "stream",
     "text": [
      "0: 640x640 1 Yellow Light, 416.8ms\n",
      "Speed: 0.0ms preprocess, 416.8ms inference, 0.0ms postprocess per image at shape (1, 3, 640, 640)\n",
      "\n",
      "\n",
      "\n",
      " 50%|██████████████████████████████████████▏                                      | 137/276 [00:59<01:00,  2.32frame/s]\u001b[A\u001b[A\u001b[A\n"
     ]
    },
    {
     "name": "stdout",
     "output_type": "stream",
     "text": [
      "[329.4089660644531, 254.037109375, 341.5118103027344, 267.58221435546875]\n"
     ]
    },
    {
     "name": "stderr",
     "output_type": "stream",
     "text": [
      "0: 640x640 1 Yellow Light, 405.1ms\n",
      "Speed: 2.0ms preprocess, 405.1ms inference, 0.0ms postprocess per image at shape (1, 3, 640, 640)\n",
      "\n",
      "\n",
      "\n",
      " 50%|██████████████████████████████████████▌                                      | 138/276 [01:00<00:59,  2.32frame/s]\u001b[A\u001b[A\u001b[A\n"
     ]
    },
    {
     "name": "stdout",
     "output_type": "stream",
     "text": [
      "[329.41302490234375, 254.04183959960938, 341.50970458984375, 267.5872497558594]\n"
     ]
    },
    {
     "name": "stderr",
     "output_type": "stream",
     "text": [
      "0: 640x640 1 Yellow Light, 417.7ms\n",
      "Speed: 1.0ms preprocess, 417.7ms inference, 0.0ms postprocess per image at shape (1, 3, 640, 640)\n",
      "\n",
      "\n",
      "\n",
      " 50%|██████████████████████████████████████▊                                      | 139/276 [01:00<00:59,  2.31frame/s]\u001b[A\u001b[A\u001b[A\n"
     ]
    },
    {
     "name": "stdout",
     "output_type": "stream",
     "text": [
      "[329.4375, 254.0522918701172, 341.5032958984375, 267.58868408203125]\n"
     ]
    },
    {
     "name": "stderr",
     "output_type": "stream",
     "text": [
      "0: 640x640 1 Yellow Light, 434.8ms\n",
      "Speed: 0.8ms preprocess, 434.8ms inference, 0.0ms postprocess per image at shape (1, 3, 640, 640)\n",
      "\n",
      "\n",
      "\n",
      " 51%|███████████████████████████████████████                                      | 140/276 [01:00<00:59,  2.28frame/s]\u001b[A\u001b[A\u001b[A\n"
     ]
    },
    {
     "name": "stdout",
     "output_type": "stream",
     "text": [
      "[329.4483337402344, 254.0558624267578, 341.4939270019531, 267.58746337890625]\n"
     ]
    },
    {
     "name": "stderr",
     "output_type": "stream",
     "text": [
      "0: 640x640 1 Yellow Light, 421.0ms\n",
      "Speed: 0.0ms preprocess, 421.0ms inference, 0.0ms postprocess per image at shape (1, 3, 640, 640)\n",
      "\n",
      "\n",
      "\n",
      " 51%|███████████████████████████████████████▎                                     | 141/276 [01:01<00:59,  2.28frame/s]\u001b[A\u001b[A\u001b[A\n"
     ]
    },
    {
     "name": "stdout",
     "output_type": "stream",
     "text": [
      "[329.44866943359375, 254.05601501464844, 341.4935302734375, 267.58740234375]\n"
     ]
    },
    {
     "name": "stderr",
     "output_type": "stream",
     "text": [
      "0: 640x640 1 Yellow Light, 417.7ms\n",
      "Speed: 0.0ms preprocess, 417.7ms inference, 0.0ms postprocess per image at shape (1, 3, 640, 640)\n",
      "\n",
      "\n",
      "\n",
      " 51%|███████████████████████████████████████▌                                     | 142/276 [01:01<00:58,  2.28frame/s]\u001b[A\u001b[A\u001b[A\n"
     ]
    },
    {
     "name": "stdout",
     "output_type": "stream",
     "text": [
      "[329.42364501953125, 254.02598571777344, 341.50213623046875, 267.5860595703125]\n"
     ]
    },
    {
     "name": "stderr",
     "output_type": "stream",
     "text": [
      "0: 640x640 1 Yellow Light, 412.3ms\n",
      "Speed: 0.0ms preprocess, 412.3ms inference, 0.0ms postprocess per image at shape (1, 3, 640, 640)\n",
      "\n",
      "\n",
      "\n",
      " 52%|███████████████████████████████████████▉                                     | 143/276 [01:02<00:57,  2.29frame/s]\u001b[A\u001b[A\u001b[A\n"
     ]
    },
    {
     "name": "stdout",
     "output_type": "stream",
     "text": [
      "[329.42864990234375, 254.02330017089844, 341.50054931640625, 267.5858154296875]\n"
     ]
    },
    {
     "name": "stderr",
     "output_type": "stream",
     "text": [
      "0: 640x640 1 Yellow Light, 416.8ms\n",
      "Speed: 0.0ms preprocess, 416.8ms inference, 0.0ms postprocess per image at shape (1, 3, 640, 640)\n",
      "\n",
      "\n",
      "\n",
      " 52%|████████████████████████████████████████▏                                    | 144/276 [01:02<00:57,  2.31frame/s]\u001b[A\u001b[A\u001b[A\n"
     ]
    },
    {
     "name": "stdout",
     "output_type": "stream",
     "text": [
      "[329.4119567871094, 254.01498413085938, 341.5021057128906, 267.5835266113281]\n"
     ]
    },
    {
     "name": "stderr",
     "output_type": "stream",
     "text": [
      "0: 640x640 1 Yellow Light, 422.2ms\n",
      "Speed: 0.0ms preprocess, 422.2ms inference, 1.0ms postprocess per image at shape (1, 3, 640, 640)\n",
      "\n",
      "\n",
      "\n",
      " 53%|████████████████████████████████████████▍                                    | 145/276 [01:03<00:56,  2.31frame/s]\u001b[A\u001b[A\u001b[A\n"
     ]
    },
    {
     "name": "stdout",
     "output_type": "stream",
     "text": [
      "[329.42205810546875, 254.02029418945312, 341.48785400390625, 267.5831604003906]\n"
     ]
    },
    {
     "name": "stderr",
     "output_type": "stream",
     "text": [
      "0: 640x640 1 Yellow Light, 420.3ms\n",
      "Speed: 0.0ms preprocess, 420.3ms inference, 0.0ms postprocess per image at shape (1, 3, 640, 640)\n",
      "\n",
      "\n",
      "\n",
      " 53%|████████████████████████████████████████▋                                    | 146/276 [01:03<00:56,  2.29frame/s]\u001b[A\u001b[A\u001b[A\n"
     ]
    },
    {
     "name": "stdout",
     "output_type": "stream",
     "text": [
      "[329.4393310546875, 254.04922485351562, 341.461669921875, 267.5791931152344]\n"
     ]
    },
    {
     "name": "stderr",
     "output_type": "stream",
     "text": [
      "0: 640x640 1 Yellow Light, 419.0ms\n",
      "Speed: 4.4ms preprocess, 419.0ms inference, 0.0ms postprocess per image at shape (1, 3, 640, 640)\n",
      "\n",
      "\n",
      "\n",
      " 53%|█████████████████████████████████████████                                    | 147/276 [01:04<00:55,  2.31frame/s]\u001b[A\u001b[A\u001b[A\n"
     ]
    },
    {
     "name": "stdout",
     "output_type": "stream",
     "text": [
      "[329.43499755859375, 254.04566955566406, 341.46038818359375, 267.5767822265625]\n"
     ]
    },
    {
     "name": "stderr",
     "output_type": "stream",
     "text": [
      "0: 640x640 1 Yellow Light, 416.6ms\n",
      "Speed: 0.0ms preprocess, 416.6ms inference, 0.0ms postprocess per image at shape (1, 3, 640, 640)\n",
      "\n",
      "\n",
      "\n",
      " 54%|█████████████████████████████████████████▎                                   | 148/276 [01:04<00:56,  2.28frame/s]\u001b[A\u001b[A\u001b[A\n"
     ]
    },
    {
     "name": "stdout",
     "output_type": "stream",
     "text": [
      "[329.438720703125, 254.04908752441406, 341.459716796875, 267.5787353515625]\n"
     ]
    },
    {
     "name": "stderr",
     "output_type": "stream",
     "text": [
      "0: 640x640 1 Yellow Light, 417.4ms\n",
      "Speed: 0.0ms preprocess, 417.4ms inference, 0.0ms postprocess per image at shape (1, 3, 640, 640)\n",
      "\n",
      "\n",
      "\n",
      " 54%|█████████████████████████████████████████▌                                   | 149/276 [01:04<00:55,  2.30frame/s]\u001b[A\u001b[A\u001b[A\n"
     ]
    },
    {
     "name": "stdout",
     "output_type": "stream",
     "text": [
      "[329.434814453125, 254.04556274414062, 341.4605712890625, 267.5768737792969]\n"
     ]
    },
    {
     "name": "stderr",
     "output_type": "stream",
     "text": [
      "0: 640x640 1 Yellow Light, 439.0ms\n",
      "Speed: 0.0ms preprocess, 439.0ms inference, 1.0ms postprocess per image at shape (1, 3, 640, 640)\n",
      "\n",
      "\n",
      "\n",
      " 54%|█████████████████████████████████████████▊                                   | 150/276 [01:05<00:55,  2.28frame/s]\u001b[A\u001b[A\u001b[A\n"
     ]
    },
    {
     "name": "stdout",
     "output_type": "stream",
     "text": [
      "[329.4039306640625, 254.04443359375, 341.46875, 267.5855712890625]\n"
     ]
    },
    {
     "name": "stderr",
     "output_type": "stream",
     "text": [
      "0: 640x640 1 Yellow Light, 422.0ms\n",
      "Speed: 1.0ms preprocess, 422.0ms inference, 0.0ms postprocess per image at shape (1, 3, 640, 640)\n",
      "\n",
      "\n",
      "\n",
      " 55%|██████████████████████████████████████████▏                                  | 151/276 [01:05<00:55,  2.26frame/s]\u001b[A\u001b[A\u001b[A\n"
     ]
    },
    {
     "name": "stdout",
     "output_type": "stream",
     "text": [
      "[329.415283203125, 254.04708862304688, 341.45654296875, 267.5824890136719]\n"
     ]
    },
    {
     "name": "stderr",
     "output_type": "stream",
     "text": [
      "0: 640x640 1 Yellow Light, 419.6ms\n",
      "Speed: 1.0ms preprocess, 419.6ms inference, 0.0ms postprocess per image at shape (1, 3, 640, 640)\n",
      "\n",
      "\n",
      "\n",
      " 55%|██████████████████████████████████████████▍                                  | 152/276 [01:06<00:54,  2.27frame/s]\u001b[A\u001b[A\u001b[A\n"
     ]
    },
    {
     "name": "stdout",
     "output_type": "stream",
     "text": [
      "[329.4171142578125, 254.04823303222656, 341.4486083984375, 267.5814208984375]\n"
     ]
    },
    {
     "name": "stderr",
     "output_type": "stream",
     "text": [
      "0: 640x640 1 Yellow Light, 440.2ms\n",
      "Speed: 0.0ms preprocess, 440.2ms inference, 0.0ms postprocess per image at shape (1, 3, 640, 640)\n",
      "\n",
      "\n",
      "\n",
      " 55%|██████████████████████████████████████████▋                                  | 153/276 [01:06<00:54,  2.25frame/s]\u001b[A\u001b[A\u001b[A\n"
     ]
    },
    {
     "name": "stdout",
     "output_type": "stream",
     "text": [
      "[329.4429626464844, 254.05459594726562, 341.4367370605469, 267.5798034667969]\n"
     ]
    },
    {
     "name": "stderr",
     "output_type": "stream",
     "text": [
      "0: 640x640 1 Yellow Light, 422.8ms\n",
      "Speed: 0.0ms preprocess, 422.8ms inference, 0.0ms postprocess per image at shape (1, 3, 640, 640)\n",
      "\n",
      "\n",
      "\n",
      " 56%|██████████████████████████████████████████▉                                  | 154/276 [01:07<00:53,  2.26frame/s]\u001b[A\u001b[A\u001b[A\n"
     ]
    },
    {
     "name": "stdout",
     "output_type": "stream",
     "text": [
      "[329.42156982421875, 254.0526123046875, 341.44708251953125, 267.5806884765625]\n"
     ]
    },
    {
     "name": "stderr",
     "output_type": "stream",
     "text": [
      "0: 640x640 1 Yellow Light, 417.9ms\n",
      "Speed: 0.0ms preprocess, 417.9ms inference, 0.0ms postprocess per image at shape (1, 3, 640, 640)\n",
      "\n",
      "\n",
      "\n",
      " 56%|███████████████████████████████████████████▏                                 | 155/276 [01:07<00:53,  2.28frame/s]\u001b[A\u001b[A\u001b[A\n"
     ]
    },
    {
     "name": "stdout",
     "output_type": "stream",
     "text": [
      "[329.4402770996094, 254.05368041992188, 341.4432678222656, 267.5799255371094]\n"
     ]
    },
    {
     "name": "stderr",
     "output_type": "stream",
     "text": [
      "0: 640x640 1 Yellow Light, 431.6ms\n",
      "Speed: 0.0ms preprocess, 431.6ms inference, 0.0ms postprocess per image at shape (1, 3, 640, 640)\n",
      "\n",
      "\n",
      "\n",
      " 57%|███████████████████████████████████████████▌                                 | 156/276 [01:07<00:53,  2.26frame/s]\u001b[A\u001b[A\u001b[A\n"
     ]
    },
    {
     "name": "stdout",
     "output_type": "stream",
     "text": [
      "[329.42144775390625, 254.05258178710938, 341.44720458984375, 267.5806579589844]\n"
     ]
    },
    {
     "name": "stderr",
     "output_type": "stream",
     "text": [
      "0: 640x640 1 Yellow Light, 439.1ms\n",
      "Speed: 0.0ms preprocess, 439.1ms inference, 0.0ms postprocess per image at shape (1, 3, 640, 640)\n",
      "\n",
      "\n",
      "\n",
      " 57%|███████████████████████████████████████████▊                                 | 157/276 [01:08<00:52,  2.25frame/s]\u001b[A\u001b[A\u001b[A\n"
     ]
    },
    {
     "name": "stdout",
     "output_type": "stream",
     "text": [
      "[329.44024658203125, 254.05368041992188, 341.44329833984375, 267.5799255371094]\n"
     ]
    },
    {
     "name": "stderr",
     "output_type": "stream",
     "text": [
      "0: 640x640 1 Yellow Light, 431.1ms\n",
      "Speed: 0.0ms preprocess, 431.1ms inference, 0.0ms postprocess per image at shape (1, 3, 640, 640)\n",
      "\n",
      "\n",
      "\n",
      " 57%|████████████████████████████████████████████                                 | 158/276 [01:08<00:52,  2.26frame/s]\u001b[A\u001b[A\u001b[A\n"
     ]
    },
    {
     "name": "stdout",
     "output_type": "stream",
     "text": [
      "[329.4434509277344, 254.05001831054688, 341.4610290527344, 267.5812683105469]\n"
     ]
    },
    {
     "name": "stderr",
     "output_type": "stream",
     "text": [
      "0: 640x640 1 Yellow Light, 425.5ms\n",
      "Speed: 1.0ms preprocess, 425.5ms inference, 0.0ms postprocess per image at shape (1, 3, 640, 640)\n",
      "\n",
      "\n",
      "\n",
      " 58%|████████████████████████████████████████████▎                                | 159/276 [01:09<00:51,  2.25frame/s]\u001b[A\u001b[A\u001b[A\n"
     ]
    },
    {
     "name": "stdout",
     "output_type": "stream",
     "text": [
      "[329.40570068359375, 254.0381317138672, 341.45501708984375, 267.57086181640625]\n"
     ]
    },
    {
     "name": "stderr",
     "output_type": "stream",
     "text": [
      "0: 640x640 1 Yellow Light, 415.0ms\n",
      "Speed: 0.0ms preprocess, 415.0ms inference, 0.0ms postprocess per image at shape (1, 3, 640, 640)\n",
      "\n",
      "\n",
      "\n",
      " 58%|████████████████████████████████████████████▋                                | 160/276 [01:09<00:51,  2.27frame/s]\u001b[A\u001b[A\u001b[A\n"
     ]
    },
    {
     "name": "stdout",
     "output_type": "stream",
     "text": [
      "[329.4193115234375, 254.05580139160156, 341.413330078125, 267.56103515625]\n"
     ]
    },
    {
     "name": "stderr",
     "output_type": "stream",
     "text": [
      "0: 640x640 1 Yellow Light, 414.1ms\n",
      "Speed: 0.0ms preprocess, 414.1ms inference, 15.6ms postprocess per image at shape (1, 3, 640, 640)\n",
      "\n",
      "\n",
      "\n",
      " 58%|████████████████████████████████████████████▉                                | 161/276 [01:10<00:50,  2.27frame/s]\u001b[A\u001b[A\u001b[A\n"
     ]
    },
    {
     "name": "stdout",
     "output_type": "stream",
     "text": [
      "[329.4258728027344, 254.0328369140625, 341.4149475097656, 267.5582275390625]\n"
     ]
    },
    {
     "name": "stderr",
     "output_type": "stream",
     "text": [
      "0: 640x640 1 Yellow Light, 434.6ms\n",
      "Speed: 2.0ms preprocess, 434.6ms inference, 0.0ms postprocess per image at shape (1, 3, 640, 640)\n",
      "\n",
      "\n",
      "\n",
      " 59%|█████████████████████████████████████████████▏                               | 162/276 [01:10<00:50,  2.26frame/s]\u001b[A\u001b[A\u001b[A\n"
     ]
    },
    {
     "name": "stdout",
     "output_type": "stream",
     "text": [
      "[329.42437744140625, 254.02676391601562, 341.40875244140625, 267.5600891113281]\n"
     ]
    },
    {
     "name": "stderr",
     "output_type": "stream",
     "text": [
      "0: 640x640 1 Yellow Light, 501.0ms\n",
      "Speed: 1.0ms preprocess, 501.0ms inference, 0.0ms postprocess per image at shape (1, 3, 640, 640)\n",
      "\n",
      "\n",
      "\n",
      " 59%|█████████████████████████████████████████████▍                               | 163/276 [01:11<00:52,  2.16frame/s]\u001b[A\u001b[A\u001b[A\n"
     ]
    },
    {
     "name": "stdout",
     "output_type": "stream",
     "text": [
      "[329.4185791015625, 254.02685546875, 341.43536376953125, 267.56719970703125]\n"
     ]
    },
    {
     "name": "stderr",
     "output_type": "stream",
     "text": [
      "0: 640x640 1 Yellow Light, 428.2ms\n",
      "Speed: 1.0ms preprocess, 428.2ms inference, 14.7ms postprocess per image at shape (1, 3, 640, 640)\n",
      "\n",
      "\n",
      "\n",
      " 59%|█████████████████████████████████████████████▊                               | 164/276 [01:11<00:52,  2.15frame/s]\u001b[A\u001b[A\u001b[A\n"
     ]
    },
    {
     "name": "stdout",
     "output_type": "stream",
     "text": [
      "[329.4642639160156, 254.02700805664062, 341.3752136230469, 267.5528869628906]\n"
     ]
    },
    {
     "name": "stderr",
     "output_type": "stream",
     "text": [
      "0: 640x640 1 Yellow Light, 395.1ms\n",
      "Speed: 1.0ms preprocess, 395.1ms inference, 0.0ms postprocess per image at shape (1, 3, 640, 640)\n",
      "\n",
      "\n",
      "\n",
      " 60%|██████████████████████████████████████████████                               | 165/276 [01:12<00:50,  2.21frame/s]\u001b[A\u001b[A\u001b[A\n"
     ]
    },
    {
     "name": "stdout",
     "output_type": "stream",
     "text": [
      "[329.49053955078125, 254.0612335205078, 341.385986328125, 267.56988525390625]\n"
     ]
    },
    {
     "name": "stderr",
     "output_type": "stream",
     "text": [
      "0: 640x640 1 Yellow Light, 404.3ms\n",
      "Speed: 1.0ms preprocess, 404.3ms inference, 0.0ms postprocess per image at shape (1, 3, 640, 640)\n",
      "\n",
      "\n",
      "\n",
      " 60%|██████████████████████████████████████████████▎                              | 166/276 [01:12<00:49,  2.24frame/s]\u001b[A\u001b[A\u001b[A\n"
     ]
    },
    {
     "name": "stdout",
     "output_type": "stream",
     "text": [
      "[329.4366760253906, 254.04905700683594, 341.4101257324219, 267.5648193359375]\n"
     ]
    },
    {
     "name": "stderr",
     "output_type": "stream",
     "text": [
      "0: 640x640 1 Yellow Light, 407.0ms\n",
      "Speed: 5.4ms preprocess, 407.0ms inference, 0.0ms postprocess per image at shape (1, 3, 640, 640)\n",
      "\n",
      "\n",
      "\n",
      " 61%|██████████████████████████████████████████████▌                              | 167/276 [01:12<00:47,  2.27frame/s]\u001b[A\u001b[A\u001b[A\n"
     ]
    },
    {
     "name": "stdout",
     "output_type": "stream",
     "text": [
      "[329.4569091796875, 254.03907775878906, 341.392822265625, 267.55224609375]\n"
     ]
    },
    {
     "name": "stderr",
     "output_type": "stream",
     "text": [
      "0: 640x640 1 Yellow Light, 416.3ms\n",
      "Speed: 0.0ms preprocess, 416.3ms inference, 0.0ms postprocess per image at shape (1, 3, 640, 640)\n",
      "\n",
      "\n",
      "\n",
      " 61%|██████████████████████████████████████████████▊                              | 168/276 [01:13<00:47,  2.28frame/s]\u001b[A\u001b[A\u001b[A\n"
     ]
    },
    {
     "name": "stdout",
     "output_type": "stream",
     "text": [
      "[329.4247741699219, 254.00332641601562, 341.4706726074219, 267.5796203613281]\n"
     ]
    },
    {
     "name": "stderr",
     "output_type": "stream",
     "text": [
      "0: 640x640 1 Yellow Light, 414.3ms\n",
      "Speed: 0.0ms preprocess, 414.3ms inference, 0.0ms postprocess per image at shape (1, 3, 640, 640)\n",
      "\n",
      "\n",
      "\n",
      " 61%|███████████████████████████████████████████████▏                             | 169/276 [01:13<00:46,  2.29frame/s]\u001b[A\u001b[A\u001b[A\n"
     ]
    },
    {
     "name": "stdout",
     "output_type": "stream",
     "text": [
      "[329.3778991699219, 253.98895263671875, 341.4384460449219, 267.5660400390625]\n"
     ]
    },
    {
     "name": "stderr",
     "output_type": "stream",
     "text": [
      "0: 640x640 1 Yellow Light, 438.7ms\n",
      "Speed: 0.0ms preprocess, 438.7ms inference, 0.0ms postprocess per image at shape (1, 3, 640, 640)\n",
      "\n",
      "\n",
      "\n",
      " 62%|███████████████████████████████████████████████▍                             | 170/276 [01:14<00:46,  2.27frame/s]\u001b[A\u001b[A\u001b[A\n"
     ]
    },
    {
     "name": "stdout",
     "output_type": "stream",
     "text": [
      "[329.3313293457031, 253.99002075195312, 341.5296325683594, 267.5641174316406]\n"
     ]
    },
    {
     "name": "stderr",
     "output_type": "stream",
     "text": [
      "0: 640x640 1 Yellow Light, 438.4ms\n",
      "Speed: 0.0ms preprocess, 438.4ms inference, 1.0ms postprocess per image at shape (1, 3, 640, 640)\n",
      "\n",
      "\n",
      "\n",
      " 62%|███████████████████████████████████████████████▋                             | 171/276 [01:14<00:46,  2.26frame/s]\u001b[A\u001b[A\u001b[A\n"
     ]
    },
    {
     "name": "stdout",
     "output_type": "stream",
     "text": [
      "[329.27362060546875, 253.98822021484375, 341.60076904296875, 267.57501220703125]\n"
     ]
    },
    {
     "name": "stderr",
     "output_type": "stream",
     "text": [
      "0: 640x640 1 Yellow Light, 400.3ms\n",
      "Speed: 0.0ms preprocess, 400.3ms inference, 0.0ms postprocess per image at shape (1, 3, 640, 640)\n",
      "\n",
      "\n",
      "\n",
      " 62%|███████████████████████████████████████████████▉                             | 172/276 [01:15<00:45,  2.29frame/s]\u001b[A\u001b[A\u001b[A\n"
     ]
    },
    {
     "name": "stdout",
     "output_type": "stream",
     "text": [
      "[329.26806640625, 253.95770263671875, 341.68182373046875, 267.56475830078125]\n"
     ]
    },
    {
     "name": "stderr",
     "output_type": "stream",
     "text": [
      "0: 640x640 1 Yellow Light, 421.1ms\n",
      "Speed: 1.0ms preprocess, 421.1ms inference, 1.0ms postprocess per image at shape (1, 3, 640, 640)\n",
      "\n",
      "\n",
      "\n",
      " 63%|████████████████████████████████████████████████▎                            | 173/276 [01:15<00:45,  2.29frame/s]\u001b[A\u001b[A\u001b[A\n"
     ]
    },
    {
     "name": "stdout",
     "output_type": "stream",
     "text": [
      "[329.2377624511719, 253.91476440429688, 341.7098083496094, 267.5411071777344]\n"
     ]
    },
    {
     "name": "stderr",
     "output_type": "stream",
     "text": [
      "0: 640x640 1 Yellow Light, 409.1ms\n",
      "Speed: 1.0ms preprocess, 409.1ms inference, 0.0ms postprocess per image at shape (1, 3, 640, 640)\n",
      "\n",
      "\n",
      "\n",
      " 63%|████████████████████████████████████████████████▌                            | 174/276 [01:15<00:44,  2.29frame/s]\u001b[A\u001b[A\u001b[A\n"
     ]
    },
    {
     "name": "stdout",
     "output_type": "stream",
     "text": [
      "[329.2579345703125, 253.95657348632812, 341.699462890625, 267.5533142089844]\n"
     ]
    },
    {
     "name": "stderr",
     "output_type": "stream",
     "text": [
      "0: 640x640 1 Yellow Light, 425.2ms\n",
      "Speed: 1.0ms preprocess, 425.2ms inference, 1.0ms postprocess per image at shape (1, 3, 640, 640)\n",
      "\n",
      "\n",
      "\n",
      " 63%|████████████████████████████████████████████████▊                            | 175/276 [01:16<00:44,  2.28frame/s]\u001b[A\u001b[A\u001b[A\n"
     ]
    },
    {
     "name": "stdout",
     "output_type": "stream",
     "text": [
      "[329.17242431640625, 253.931884765625, 341.72137451171875, 267.53704833984375]\n"
     ]
    },
    {
     "name": "stderr",
     "output_type": "stream",
     "text": [
      "0: 640x640 1 Yellow Light, 424.6ms\n",
      "Speed: 2.0ms preprocess, 424.6ms inference, 0.0ms postprocess per image at shape (1, 3, 640, 640)\n",
      "\n",
      "\n",
      "\n",
      " 64%|█████████████████████████████████████████████████                            | 176/276 [01:16<00:43,  2.28frame/s]\u001b[A\u001b[A\u001b[A\n"
     ]
    },
    {
     "name": "stdout",
     "output_type": "stream",
     "text": [
      "[329.1434326171875, 253.91537475585938, 341.71978759765625, 267.5399475097656]\n"
     ]
    },
    {
     "name": "stderr",
     "output_type": "stream",
     "text": [
      "0: 640x640 1 Yellow Light, 428.4ms\n",
      "Speed: 0.0ms preprocess, 428.4ms inference, 0.0ms postprocess per image at shape (1, 3, 640, 640)\n",
      "\n",
      "\n",
      "\n",
      " 64%|█████████████████████████████████████████████████▍                           | 177/276 [01:17<00:43,  2.27frame/s]\u001b[A\u001b[A\u001b[A\n"
     ]
    },
    {
     "name": "stdout",
     "output_type": "stream",
     "text": [
      "[329.21533203125, 253.92898559570312, 341.6690673828125, 267.5424499511719]\n"
     ]
    },
    {
     "name": "stderr",
     "output_type": "stream",
     "text": [
      "0: 640x640 1 Yellow Light, 422.4ms\n",
      "Speed: 0.0ms preprocess, 422.4ms inference, 1.0ms postprocess per image at shape (1, 3, 640, 640)\n",
      "\n",
      "\n",
      "\n",
      " 64%|█████████████████████████████████████████████████▋                           | 178/276 [01:17<00:42,  2.28frame/s]\u001b[A\u001b[A\u001b[A\n"
     ]
    },
    {
     "name": "stdout",
     "output_type": "stream",
     "text": [
      "[329.2421875, 253.9590301513672, 341.6986083984375, 267.52777099609375]\n"
     ]
    },
    {
     "name": "stderr",
     "output_type": "stream",
     "text": [
      "0: 640x640 1 Yellow Light, 423.0ms\n",
      "Speed: 1.0ms preprocess, 423.0ms inference, 0.0ms postprocess per image at shape (1, 3, 640, 640)\n",
      "\n",
      "\n",
      "\n",
      " 65%|█████████████████████████████████████████████████▉                           | 179/276 [01:18<00:42,  2.28frame/s]\u001b[A\u001b[A\u001b[A\n"
     ]
    },
    {
     "name": "stdout",
     "output_type": "stream",
     "text": [
      "[329.18975830078125, 253.9263916015625, 341.75640869140625, 267.53717041015625]\n"
     ]
    },
    {
     "name": "stderr",
     "output_type": "stream",
     "text": [
      "0: 640x640 1 Yellow Light, 406.2ms\n",
      "Speed: 0.0ms preprocess, 406.2ms inference, 0.0ms postprocess per image at shape (1, 3, 640, 640)\n",
      "\n",
      "\n",
      "\n",
      " 65%|██████████████████████████████████████████████████▏                          | 180/276 [01:18<00:41,  2.29frame/s]\u001b[A\u001b[A\u001b[A\n"
     ]
    },
    {
     "name": "stdout",
     "output_type": "stream",
     "text": [
      "[329.21258544921875, 253.9593048095703, 341.6873779296875, 267.51995849609375]\n"
     ]
    },
    {
     "name": "stderr",
     "output_type": "stream",
     "text": [
      "0: 640x640 1 Yellow Light, 429.7ms\n",
      "Speed: 1.0ms preprocess, 429.7ms inference, 1.0ms postprocess per image at shape (1, 3, 640, 640)\n",
      "\n",
      "\n",
      "\n",
      " 66%|██████████████████████████████████████████████████▍                          | 181/276 [01:19<00:41,  2.28frame/s]\u001b[A\u001b[A\u001b[A\n"
     ]
    },
    {
     "name": "stdout",
     "output_type": "stream",
     "text": [
      "[329.20294189453125, 253.98753356933594, 341.62335205078125, 267.5042724609375]\n"
     ]
    },
    {
     "name": "stderr",
     "output_type": "stream",
     "text": [
      "0: 640x640 1 Yellow Light, 412.5ms\n",
      "Speed: 1.0ms preprocess, 412.5ms inference, 0.0ms postprocess per image at shape (1, 3, 640, 640)\n",
      "\n",
      "\n",
      "\n",
      " 66%|██████████████████████████████████████████████████▊                          | 182/276 [01:19<00:40,  2.29frame/s]\u001b[A\u001b[A\u001b[A\n"
     ]
    },
    {
     "name": "stdout",
     "output_type": "stream",
     "text": [
      "[329.210205078125, 253.98593139648438, 341.556396484375, 267.4903259277344]\n"
     ]
    },
    {
     "name": "stderr",
     "output_type": "stream",
     "text": [
      "0: 640x640 1 Yellow Light, 433.7ms\n",
      "Speed: 0.0ms preprocess, 433.7ms inference, 0.0ms postprocess per image at shape (1, 3, 640, 640)\n",
      "\n",
      "\n",
      "\n",
      " 66%|███████████████████████████████████████████████████                          | 183/276 [01:19<00:40,  2.28frame/s]\u001b[A\u001b[A\u001b[A\n"
     ]
    },
    {
     "name": "stdout",
     "output_type": "stream",
     "text": [
      "[329.2100830078125, 253.99203491210938, 341.604736328125, 267.4967346191406]\n"
     ]
    },
    {
     "name": "stderr",
     "output_type": "stream",
     "text": [
      "0: 640x640 1 Yellow Light, 416.7ms\n",
      "Speed: 0.0ms preprocess, 416.7ms inference, 0.0ms postprocess per image at shape (1, 3, 640, 640)\n",
      "\n",
      "\n",
      "\n",
      " 67%|███████████████████████████████████████████████████▎                         | 184/276 [01:20<00:40,  2.28frame/s]\u001b[A\u001b[A\u001b[A\n"
     ]
    },
    {
     "name": "stdout",
     "output_type": "stream",
     "text": [
      "[329.2040100097656, 253.958251953125, 341.6784362792969, 267.4873046875]\n"
     ]
    },
    {
     "name": "stderr",
     "output_type": "stream",
     "text": [
      "0: 640x640 1 Yellow Light, 451.7ms\n",
      "Speed: 0.0ms preprocess, 451.7ms inference, 1.0ms postprocess per image at shape (1, 3, 640, 640)\n",
      "\n",
      "\n",
      "\n",
      " 67%|███████████████████████████████████████████████████▌                         | 185/276 [01:20<00:40,  2.24frame/s]\u001b[A\u001b[A\u001b[A\n"
     ]
    },
    {
     "name": "stdout",
     "output_type": "stream",
     "text": [
      "[329.1612548828125, 253.94729614257812, 341.63690185546875, 267.4736022949219]\n"
     ]
    },
    {
     "name": "stderr",
     "output_type": "stream",
     "text": [
      "0: 640x640 1 Yellow Light, 440.9ms\n",
      "Speed: 1.2ms preprocess, 440.9ms inference, 1.0ms postprocess per image at shape (1, 3, 640, 640)\n",
      "\n",
      "\n",
      "\n",
      " 67%|███████████████████████████████████████████████████▉                         | 186/276 [01:21<00:40,  2.23frame/s]\u001b[A\u001b[A\u001b[A\n"
     ]
    },
    {
     "name": "stdout",
     "output_type": "stream",
     "text": [
      "[329.1788635253906, 254.00140380859375, 341.6144714355469, 267.48052978515625]\n"
     ]
    },
    {
     "name": "stderr",
     "output_type": "stream",
     "text": [
      "0: 640x640 1 Yellow Light, 438.5ms\n",
      "Speed: 1.0ms preprocess, 438.5ms inference, 0.6ms postprocess per image at shape (1, 3, 640, 640)\n",
      "\n",
      "\n",
      "\n",
      " 68%|████████████████████████████████████████████████████▏                        | 187/276 [01:21<00:39,  2.23frame/s]\u001b[A\u001b[A\u001b[A\n"
     ]
    },
    {
     "name": "stdout",
     "output_type": "stream",
     "text": [
      "[329.127197265625, 253.9888916015625, 341.5699462890625, 267.46478271484375]\n"
     ]
    },
    {
     "name": "stderr",
     "output_type": "stream",
     "text": [
      "0: 640x640 1 Yellow Light, 452.8ms\n",
      "Speed: 0.0ms preprocess, 452.8ms inference, 0.0ms postprocess per image at shape (1, 3, 640, 640)\n",
      "\n",
      "\n",
      "\n",
      " 68%|████████████████████████████████████████████████████▍                        | 188/276 [01:22<00:39,  2.20frame/s]\u001b[A\u001b[A\u001b[A\n"
     ]
    },
    {
     "name": "stdout",
     "output_type": "stream",
     "text": [
      "[329.15203857421875, 253.90921020507812, 341.62982177734375, 267.4328308105469]\n"
     ]
    },
    {
     "name": "stderr",
     "output_type": "stream",
     "text": [
      "0: 640x640 1 Yellow Light, 424.6ms\n",
      "Speed: 0.0ms preprocess, 424.6ms inference, 0.0ms postprocess per image at shape (1, 3, 640, 640)\n",
      "\n",
      "\n",
      "\n",
      " 68%|████████████████████████████████████████████████████▋                        | 189/276 [01:22<00:39,  2.22frame/s]\u001b[A\u001b[A\u001b[A\n"
     ]
    },
    {
     "name": "stdout",
     "output_type": "stream",
     "text": [
      "[329.077880859375, 253.90982055664062, 341.5906982421875, 267.4507141113281]\n"
     ]
    },
    {
     "name": "stderr",
     "output_type": "stream",
     "text": [
      "0: 640x640 1 Yellow Light, 431.6ms\n",
      "Speed: 1.7ms preprocess, 431.6ms inference, 1.0ms postprocess per image at shape (1, 3, 640, 640)\n",
      "\n",
      "\n",
      "\n",
      " 69%|█████████████████████████████████████████████████████                        | 190/276 [01:23<00:38,  2.22frame/s]\u001b[A\u001b[A\u001b[A\n"
     ]
    },
    {
     "name": "stdout",
     "output_type": "stream",
     "text": [
      "[329.1001281738281, 253.932373046875, 341.5904235839844, 267.44525146484375]\n"
     ]
    },
    {
     "name": "stderr",
     "output_type": "stream",
     "text": [
      "0: 640x640 1 Yellow Light, 421.8ms\n",
      "Speed: 1.9ms preprocess, 421.8ms inference, 0.0ms postprocess per image at shape (1, 3, 640, 640)\n",
      "\n",
      "\n",
      "\n",
      " 69%|█████████████████████████████████████████████████████▎                       | 191/276 [01:23<00:38,  2.24frame/s]\u001b[A\u001b[A\u001b[A\n"
     ]
    },
    {
     "name": "stdout",
     "output_type": "stream",
     "text": [
      "[329.0841979980469, 253.9597930908203, 341.5470275878906, 267.43963623046875]\n"
     ]
    },
    {
     "name": "stderr",
     "output_type": "stream",
     "text": [
      "0: 640x640 1 Yellow Light, 419.6ms\n",
      "Speed: 0.0ms preprocess, 419.6ms inference, 0.0ms postprocess per image at shape (1, 3, 640, 640)\n",
      "\n",
      "\n",
      "\n",
      " 70%|█████████████████████████████████████████████████████▌                       | 192/276 [01:23<00:37,  2.25frame/s]\u001b[A\u001b[A\u001b[A\n"
     ]
    },
    {
     "name": "stdout",
     "output_type": "stream",
     "text": [
      "[329.10040283203125, 253.955322265625, 341.59564208984375, 267.44427490234375]\n"
     ]
    },
    {
     "name": "stderr",
     "output_type": "stream",
     "text": [
      "0: 640x640 1 Yellow Light, 423.8ms\n",
      "Speed: 0.0ms preprocess, 423.8ms inference, 0.0ms postprocess per image at shape (1, 3, 640, 640)\n",
      "\n",
      "\n",
      "\n",
      " 70%|█████████████████████████████████████████████████████▊                       | 193/276 [01:24<00:36,  2.26frame/s]\u001b[A\u001b[A\u001b[A\n"
     ]
    },
    {
     "name": "stdout",
     "output_type": "stream",
     "text": [
      "[329.09637451171875, 253.987060546875, 341.60601806640625, 267.42156982421875]\n"
     ]
    },
    {
     "name": "stderr",
     "output_type": "stream",
     "text": [
      "0: 640x640 1 Yellow Light, 421.0ms\n",
      "Speed: 1.0ms preprocess, 421.0ms inference, 1.0ms postprocess per image at shape (1, 3, 640, 640)\n",
      "\n",
      "\n",
      "\n",
      " 70%|██████████████████████████████████████████████████████                       | 194/276 [01:24<00:36,  2.27frame/s]\u001b[A\u001b[A\u001b[A\n"
     ]
    },
    {
     "name": "stdout",
     "output_type": "stream",
     "text": [
      "[329.2220458984375, 254.01527404785156, 341.55072021484375, 267.427978515625]\n"
     ]
    },
    {
     "name": "stderr",
     "output_type": "stream",
     "text": [
      "0: 640x640 1 Yellow Light, 419.7ms\n",
      "Speed: 0.0ms preprocess, 419.7ms inference, 0.0ms postprocess per image at shape (1, 3, 640, 640)\n",
      "\n",
      "\n",
      "\n",
      " 71%|██████████████████████████████████████████████████████▍                      | 195/276 [01:25<00:35,  2.26frame/s]\u001b[A\u001b[A\u001b[A\n"
     ]
    },
    {
     "name": "stdout",
     "output_type": "stream",
     "text": [
      "[329.1843566894531, 253.99118041992188, 341.5547180175781, 267.4293518066406]\n"
     ]
    },
    {
     "name": "stderr",
     "output_type": "stream",
     "text": [
      "0: 640x640 1 Yellow Light, 423.3ms\n",
      "Speed: 5.1ms preprocess, 423.3ms inference, 0.0ms postprocess per image at shape (1, 3, 640, 640)\n",
      "\n",
      "\n",
      "\n",
      " 71%|██████████████████████████████████████████████████████▋                      | 196/276 [01:25<00:35,  2.27frame/s]\u001b[A\u001b[A\u001b[A\n"
     ]
    },
    {
     "name": "stdout",
     "output_type": "stream",
     "text": [
      "[329.2132263183594, 253.97174072265625, 341.5291442871094, 267.42620849609375]\n"
     ]
    },
    {
     "name": "stderr",
     "output_type": "stream",
     "text": [
      "0: 640x640 1 Yellow Light, 424.5ms\n",
      "Speed: 0.0ms preprocess, 424.5ms inference, 0.0ms postprocess per image at shape (1, 3, 640, 640)\n",
      "\n",
      "\n",
      "\n",
      " 71%|██████████████████████████████████████████████████████▉                      | 197/276 [01:26<00:34,  2.27frame/s]\u001b[A\u001b[A\u001b[A\n"
     ]
    },
    {
     "name": "stdout",
     "output_type": "stream",
     "text": [
      "[329.3038024902344, 254.03457641601562, 341.4988708496094, 267.3827209472656]\n"
     ]
    },
    {
     "name": "stderr",
     "output_type": "stream",
     "text": [
      "0: 640x640 1 Yellow Light, 430.0ms\n",
      "Speed: 0.0ms preprocess, 430.0ms inference, 0.0ms postprocess per image at shape (1, 3, 640, 640)\n",
      "\n",
      "\n",
      "\n",
      " 72%|███████████████████████████████████████████████████████▏                     | 198/276 [01:26<00:34,  2.26frame/s]\u001b[A\u001b[A\u001b[A\n"
     ]
    },
    {
     "name": "stdout",
     "output_type": "stream",
     "text": [
      "[329.3189697265625, 254.01608276367188, 341.6044921875, 267.4125061035156]\n"
     ]
    },
    {
     "name": "stderr",
     "output_type": "stream",
     "text": [
      "0: 640x640 1 Yellow Light, 414.0ms\n",
      "Speed: 1.0ms preprocess, 414.0ms inference, 0.0ms postprocess per image at shape (1, 3, 640, 640)\n",
      "\n",
      "\n",
      "\n",
      " 72%|███████████████████████████████████████████████████████▌                     | 199/276 [01:27<00:33,  2.27frame/s]\u001b[A\u001b[A\u001b[A\n"
     ]
    },
    {
     "name": "stdout",
     "output_type": "stream",
     "text": [
      "[329.2544250488281, 254.0029754638672, 341.6155700683594, 267.44061279296875]\n"
     ]
    },
    {
     "name": "stderr",
     "output_type": "stream",
     "text": [
      "0: 640x640 1 Yellow Light, 417.0ms\n",
      "Speed: 0.0ms preprocess, 417.0ms inference, 0.0ms postprocess per image at shape (1, 3, 640, 640)\n",
      "\n",
      "\n",
      "\n",
      " 72%|███████████████████████████████████████████████████████▊                     | 200/276 [01:27<00:33,  2.27frame/s]\u001b[A\u001b[A\u001b[A\n"
     ]
    },
    {
     "name": "stdout",
     "output_type": "stream",
     "text": [
      "[329.34674072265625, 254.05911254882812, 341.50543212890625, 267.4321594238281]\n"
     ]
    },
    {
     "name": "stderr",
     "output_type": "stream",
     "text": [
      "0: 640x640 1 Yellow Light, 406.2ms\n",
      "Speed: 1.0ms preprocess, 406.2ms inference, 0.0ms postprocess per image at shape (1, 3, 640, 640)\n",
      "\n",
      "\n",
      "\n",
      " 73%|████████████████████████████████████████████████████████                     | 201/276 [01:27<00:32,  2.29frame/s]\u001b[A\u001b[A\u001b[A\n"
     ]
    },
    {
     "name": "stdout",
     "output_type": "stream",
     "text": [
      "[329.23602294921875, 254.02035522460938, 341.60992431640625, 267.4432678222656]\n"
     ]
    },
    {
     "name": "stderr",
     "output_type": "stream",
     "text": [
      "0: 640x640 1 Yellow Light, 416.6ms\n",
      "Speed: 0.0ms preprocess, 416.6ms inference, 0.0ms postprocess per image at shape (1, 3, 640, 640)\n",
      "\n",
      "\n",
      "\n",
      " 73%|████████████████████████████████████████████████████████▎                    | 202/276 [01:28<00:32,  2.29frame/s]\u001b[A\u001b[A\u001b[A\n"
     ]
    },
    {
     "name": "stdout",
     "output_type": "stream",
     "text": [
      "[329.3076171875, 254.05126953125, 341.5457763671875, 267.454345703125]\n"
     ]
    },
    {
     "name": "stderr",
     "output_type": "stream",
     "text": [
      "0: 640x640 1 Yellow Light, 431.8ms\n",
      "Speed: 0.0ms preprocess, 431.8ms inference, 0.0ms postprocess per image at shape (1, 3, 640, 640)\n",
      "\n",
      "\n",
      "\n",
      " 74%|████████████████████████████████████████████████████████▋                    | 203/276 [01:28<00:32,  2.27frame/s]\u001b[A\u001b[A\u001b[A\n"
     ]
    },
    {
     "name": "stdout",
     "output_type": "stream",
     "text": [
      "[329.32232666015625, 254.05484008789062, 341.54083251953125, 267.4297180175781]\n"
     ]
    },
    {
     "name": "stderr",
     "output_type": "stream",
     "text": [
      "0: 640x640 1 Yellow Light, 429.5ms\n",
      "Speed: 0.0ms preprocess, 429.5ms inference, 0.0ms postprocess per image at shape (1, 3, 640, 640)\n",
      "\n",
      "\n",
      "\n",
      " 74%|████████████████████████████████████████████████████████▉                    | 204/276 [01:29<00:31,  2.26frame/s]\u001b[A\u001b[A\u001b[A\n"
     ]
    },
    {
     "name": "stdout",
     "output_type": "stream",
     "text": [
      "[329.2919921875, 254.02841186523438, 341.6639404296875, 267.4233093261719]\n"
     ]
    },
    {
     "name": "stderr",
     "output_type": "stream",
     "text": [
      "0: 640x640 1 Yellow Light, 413.7ms\n",
      "Speed: 0.0ms preprocess, 413.7ms inference, 15.6ms postprocess per image at shape (1, 3, 640, 640)\n",
      "\n",
      "\n",
      "\n",
      " 74%|█████████████████████████████████████████████████████████▏                   | 205/276 [01:29<00:31,  2.26frame/s]\u001b[A\u001b[A\u001b[A\n"
     ]
    },
    {
     "name": "stdout",
     "output_type": "stream",
     "text": [
      "[329.4165344238281, 254.02056884765625, 341.6141052246094, 267.428466796875]\n"
     ]
    },
    {
     "name": "stderr",
     "output_type": "stream",
     "text": [
      "0: 640x640 1 Yellow Light, 513.2ms\n",
      "Speed: 1.0ms preprocess, 513.2ms inference, 0.0ms postprocess per image at shape (1, 3, 640, 640)\n",
      "\n",
      "\n",
      "\n",
      " 75%|█████████████████████████████████████████████████████████▍                   | 206/276 [01:30<00:32,  2.13frame/s]\u001b[A\u001b[A\u001b[A\n"
     ]
    },
    {
     "name": "stdout",
     "output_type": "stream",
     "text": [
      "[329.42138671875, 254.02783203125, 341.578125, 267.43121337890625]\n"
     ]
    },
    {
     "name": "stderr",
     "output_type": "stream",
     "text": [
      "0: 640x640 1 Yellow Light, 404.7ms\n",
      "Speed: 1.0ms preprocess, 404.7ms inference, 0.0ms postprocess per image at shape (1, 3, 640, 640)\n",
      "\n",
      "\n",
      "\n",
      " 75%|█████████████████████████████████████████████████████████▊                   | 207/276 [01:30<00:31,  2.19frame/s]\u001b[A\u001b[A\u001b[A\n"
     ]
    },
    {
     "name": "stdout",
     "output_type": "stream",
     "text": [
      "[329.376953125, 253.98382568359375, 341.56201171875, 267.43341064453125]\n"
     ]
    },
    {
     "name": "stderr",
     "output_type": "stream",
     "text": [
      "0: 640x640 1 Yellow Light, 398.8ms\n",
      "Speed: 0.0ms preprocess, 398.8ms inference, 0.0ms postprocess per image at shape (1, 3, 640, 640)\n",
      "\n",
      "\n",
      "\n",
      " 75%|██████████████████████████████████████████████████████████                   | 208/276 [01:31<00:30,  2.24frame/s]\u001b[A\u001b[A\u001b[A\n"
     ]
    },
    {
     "name": "stdout",
     "output_type": "stream",
     "text": [
      "[329.38726806640625, 254.02078247070312, 341.49151611328125, 267.4394226074219]\n"
     ]
    },
    {
     "name": "stderr",
     "output_type": "stream",
     "text": [
      "0: 640x640 1 Yellow Light, 405.1ms\n",
      "Speed: 1.0ms preprocess, 405.1ms inference, 0.0ms postprocess per image at shape (1, 3, 640, 640)\n",
      "\n",
      "\n",
      "\n",
      " 76%|██████████████████████████████████████████████████████████▎                  | 209/276 [01:31<00:29,  2.26frame/s]\u001b[A\u001b[A\u001b[A\n"
     ]
    },
    {
     "name": "stdout",
     "output_type": "stream",
     "text": [
      "[329.3349609375, 254.02651977539062, 341.547119140625, 267.4938049316406]\n"
     ]
    },
    {
     "name": "stderr",
     "output_type": "stream",
     "text": [
      "0: 640x640 1 Yellow Light, 422.0ms\n",
      "Speed: 1.0ms preprocess, 422.0ms inference, 1.0ms postprocess per image at shape (1, 3, 640, 640)\n",
      "\n",
      "\n",
      "\n",
      " 76%|██████████████████████████████████████████████████████████▌                  | 210/276 [01:31<00:29,  2.27frame/s]\u001b[A\u001b[A\u001b[A\n"
     ]
    },
    {
     "name": "stdout",
     "output_type": "stream",
     "text": [
      "[329.4126281738281, 254.00897216796875, 341.4897766113281, 267.45770263671875]\n"
     ]
    },
    {
     "name": "stderr",
     "output_type": "stream",
     "text": [
      "0: 640x640 1 Yellow Light, 456.4ms\n",
      "Speed: 0.0ms preprocess, 456.4ms inference, 1.3ms postprocess per image at shape (1, 3, 640, 640)\n",
      "\n",
      "\n",
      "\n",
      " 76%|██████████████████████████████████████████████████████████▊                  | 211/276 [01:32<00:29,  2.22frame/s]\u001b[A\u001b[A\u001b[A\n"
     ]
    },
    {
     "name": "stdout",
     "output_type": "stream",
     "text": [
      "[329.39642333984375, 254.1405487060547, 341.61627197265625, 267.50445556640625]\n"
     ]
    },
    {
     "name": "stderr",
     "output_type": "stream",
     "text": [
      "0: 640x640 1 Yellow Light, 467.2ms\n",
      "Speed: 0.0ms preprocess, 467.2ms inference, 1.0ms postprocess per image at shape (1, 3, 640, 640)\n",
      "\n",
      "\n",
      "\n",
      " 77%|███████████████████████████████████████████████████████████▏                 | 212/276 [01:32<00:29,  2.18frame/s]\u001b[A\u001b[A\u001b[A\n"
     ]
    },
    {
     "name": "stdout",
     "output_type": "stream",
     "text": [
      "[329.439453125, 254.1297607421875, 341.531494140625, 267.5018310546875]\n"
     ]
    },
    {
     "name": "stderr",
     "output_type": "stream",
     "text": [
      "0: 640x640 1 Yellow Light, 437.5ms\n",
      "Speed: 2.0ms preprocess, 437.5ms inference, 1.0ms postprocess per image at shape (1, 3, 640, 640)\n",
      "\n",
      "\n",
      "\n",
      " 77%|███████████████████████████████████████████████████████████▍                 | 213/276 [01:33<00:28,  2.19frame/s]\u001b[A\u001b[A\u001b[A\n"
     ]
    },
    {
     "name": "stdout",
     "output_type": "stream",
     "text": [
      "[329.6583251953125, 254.13092041015625, 341.56243896484375, 267.463623046875]\n"
     ]
    },
    {
     "name": "stderr",
     "output_type": "stream",
     "text": [
      "0: 640x640 1 Yellow Light, 427.4ms\n",
      "Speed: 1.0ms preprocess, 427.4ms inference, 1.0ms postprocess per image at shape (1, 3, 640, 640)\n",
      "\n",
      "\n",
      "\n",
      " 78%|███████████████████████████████████████████████████████████▋                 | 214/276 [01:33<00:27,  2.22frame/s]\u001b[A\u001b[A\u001b[A\n"
     ]
    },
    {
     "name": "stdout",
     "output_type": "stream",
     "text": [
      "[329.6767578125, 254.11123657226562, 341.5045166015625, 267.4983825683594]\n"
     ]
    },
    {
     "name": "stderr",
     "output_type": "stream",
     "text": [
      "0: 640x640 1 Yellow Light, 478.0ms\n",
      "Speed: 0.0ms preprocess, 478.0ms inference, 1.0ms postprocess per image at shape (1, 3, 640, 640)\n",
      "\n",
      "\n",
      "\n",
      " 78%|███████████████████████████████████████████████████████████▉                 | 215/276 [01:34<00:28,  2.17frame/s]\u001b[A\u001b[A\u001b[A\n"
     ]
    },
    {
     "name": "stdout",
     "output_type": "stream",
     "text": [
      "[329.796142578125, 254.14544677734375, 341.56640625, 267.5233154296875]\n"
     ]
    },
    {
     "name": "stderr",
     "output_type": "stream",
     "text": [
      "0: 640x640 1 Yellow Light, 432.5ms\n",
      "Speed: 1.0ms preprocess, 432.5ms inference, 1.0ms postprocess per image at shape (1, 3, 640, 640)\n",
      "\n",
      "\n",
      "\n",
      " 78%|████████████████████████████████████████████████████████████▎                | 216/276 [01:34<00:27,  2.19frame/s]\u001b[A\u001b[A\u001b[A\n"
     ]
    },
    {
     "name": "stdout",
     "output_type": "stream",
     "text": [
      "[329.87469482421875, 254.14581298828125, 341.57196044921875, 267.519287109375]\n"
     ]
    },
    {
     "name": "stderr",
     "output_type": "stream",
     "text": [
      "0: 640x640 1 Yellow Light, 437.2ms\n",
      "Speed: 1.0ms preprocess, 437.2ms inference, 0.7ms postprocess per image at shape (1, 3, 640, 640)\n",
      "\n",
      "\n",
      "\n",
      " 79%|████████████████████████████████████████████████████████████▌                | 217/276 [01:35<00:26,  2.20frame/s]\u001b[A\u001b[A\u001b[A\n"
     ]
    },
    {
     "name": "stdout",
     "output_type": "stream",
     "text": [
      "[329.80084228515625, 254.173583984375, 341.50115966796875, 267.50018310546875]\n"
     ]
    },
    {
     "name": "stderr",
     "output_type": "stream",
     "text": [
      "0: 640x640 1 Yellow Light, 430.3ms\n",
      "Speed: 2.0ms preprocess, 430.3ms inference, 1.0ms postprocess per image at shape (1, 3, 640, 640)\n",
      "\n",
      "\n",
      "\n",
      " 79%|████████████████████████████████████████████████████████████▊                | 218/276 [01:35<00:26,  2.21frame/s]\u001b[A\u001b[A\u001b[A\n"
     ]
    },
    {
     "name": "stdout",
     "output_type": "stream",
     "text": [
      "[329.79742431640625, 254.11285400390625, 341.51141357421875, 267.52117919921875]\n"
     ]
    },
    {
     "name": "stderr",
     "output_type": "stream",
     "text": [
      "0: 640x640 1 Yellow Light, 527.7ms\n",
      "Speed: 1.0ms preprocess, 527.7ms inference, 1.0ms postprocess per image at shape (1, 3, 640, 640)\n",
      "\n",
      "\n",
      "\n",
      " 79%|█████████████████████████████████████████████████████████████                | 219/276 [01:36<00:27,  2.09frame/s]\u001b[A\u001b[A\u001b[A\n"
     ]
    },
    {
     "name": "stdout",
     "output_type": "stream",
     "text": [
      "[329.8028869628906, 254.21310424804688, 341.4034729003906, 267.5103454589844]\n"
     ]
    },
    {
     "name": "stderr",
     "output_type": "stream",
     "text": [
      "0: 640x640 1 Yellow Light, 420.4ms\n",
      "Speed: 1.0ms preprocess, 420.4ms inference, 1.0ms postprocess per image at shape (1, 3, 640, 640)\n",
      "\n",
      "\n",
      "\n",
      " 80%|█████████████████████████████████████████████████████████████▍               | 220/276 [01:36<00:26,  2.15frame/s]\u001b[A\u001b[A\u001b[A\n"
     ]
    },
    {
     "name": "stdout",
     "output_type": "stream",
     "text": [
      "[330.1397705078125, 254.30807495117188, 341.48876953125, 267.5434875488281]\n"
     ]
    },
    {
     "name": "stderr",
     "output_type": "stream",
     "text": [
      "0: 640x640 1 Yellow Light, 419.8ms\n",
      "Speed: 2.0ms preprocess, 419.8ms inference, 1.0ms postprocess per image at shape (1, 3, 640, 640)\n",
      "\n",
      "\n",
      "\n",
      " 80%|█████████████████████████████████████████████████████████████▋               | 221/276 [01:37<00:25,  2.19frame/s]\u001b[A\u001b[A\u001b[A\n"
     ]
    },
    {
     "name": "stdout",
     "output_type": "stream",
     "text": [
      "[329.8526611328125, 254.1770477294922, 341.4154052734375, 267.52740478515625]\n"
     ]
    },
    {
     "name": "stderr",
     "output_type": "stream",
     "text": [
      "0: 640x640 1 Yellow Light, 427.6ms\n",
      "Speed: 1.4ms preprocess, 427.6ms inference, 0.0ms postprocess per image at shape (1, 3, 640, 640)\n",
      "\n",
      "\n",
      "\n",
      " 80%|█████████████████████████████████████████████████████████████▉               | 222/276 [01:37<00:24,  2.21frame/s]\u001b[A\u001b[A\u001b[A\n"
     ]
    },
    {
     "name": "stdout",
     "output_type": "stream",
     "text": [
      "[329.99383544921875, 254.22518920898438, 341.38616943359375, 267.5542907714844]\n"
     ]
    },
    {
     "name": "stderr",
     "output_type": "stream",
     "text": [
      "0: 640x640 1 Yellow Light, 426.6ms\n",
      "Speed: 2.0ms preprocess, 426.6ms inference, 1.0ms postprocess per image at shape (1, 3, 640, 640)\n",
      "\n",
      "\n",
      "\n",
      " 81%|██████████████████████████████████████████████████████████████▏              | 223/276 [01:37<00:23,  2.23frame/s]\u001b[A\u001b[A\u001b[A\n"
     ]
    },
    {
     "name": "stdout",
     "output_type": "stream",
     "text": [
      "[330.05572509765625, 254.25955200195312, 341.40777587890625, 267.5730895996094]\n"
     ]
    },
    {
     "name": "stderr",
     "output_type": "stream",
     "text": [
      "0: 640x640 1 Yellow Light, 427.8ms\n",
      "Speed: 2.2ms preprocess, 427.8ms inference, 0.0ms postprocess per image at shape (1, 3, 640, 640)\n",
      "\n",
      "\n",
      "\n",
      " 81%|██████████████████████████████████████████████████████████████▍              | 224/276 [01:38<00:23,  2.24frame/s]\u001b[A\u001b[A\u001b[A\n"
     ]
    },
    {
     "name": "stdout",
     "output_type": "stream",
     "text": [
      "[330.060546875, 254.26998901367188, 341.40399169921875, 267.5981140136719]\n"
     ]
    },
    {
     "name": "stderr",
     "output_type": "stream",
     "text": [
      "0: 640x640 1 Yellow Light, 430.7ms\n",
      "Speed: 1.0ms preprocess, 430.7ms inference, 0.0ms postprocess per image at shape (1, 3, 640, 640)\n",
      "\n",
      "\n",
      "\n",
      " 82%|██████████████████████████████████████████████████████████████▊              | 225/276 [01:38<00:22,  2.24frame/s]\u001b[A\u001b[A\u001b[A\n"
     ]
    },
    {
     "name": "stdout",
     "output_type": "stream",
     "text": [
      "[330.08197021484375, 254.24630737304688, 341.44024658203125, 267.6561584472656]\n"
     ]
    },
    {
     "name": "stderr",
     "output_type": "stream",
     "text": [
      "0: 640x640 1 Yellow Light, 423.9ms\n",
      "Speed: 2.0ms preprocess, 423.9ms inference, 1.0ms postprocess per image at shape (1, 3, 640, 640)\n",
      "\n",
      "\n",
      "\n",
      " 82%|███████████████████████████████████████████████████████████████              | 226/276 [01:39<00:22,  2.25frame/s]\u001b[A\u001b[A\u001b[A\n"
     ]
    },
    {
     "name": "stdout",
     "output_type": "stream",
     "text": [
      "[330.1639404296875, 254.1606903076172, 341.3935546875, 267.62518310546875]\n"
     ]
    },
    {
     "name": "stderr",
     "output_type": "stream",
     "text": [
      "0: 640x640 1 Yellow Light, 421.9ms\n",
      "Speed: 1.0ms preprocess, 421.9ms inference, 1.0ms postprocess per image at shape (1, 3, 640, 640)\n",
      "\n",
      "\n",
      "\n",
      " 82%|███████████████████████████████████████████████████████████████▎             | 227/276 [01:39<00:21,  2.26frame/s]\u001b[A\u001b[A\u001b[A\n"
     ]
    },
    {
     "name": "stdout",
     "output_type": "stream",
     "text": [
      "[330.13214111328125, 254.19602966308594, 341.41693115234375, 267.6951904296875]\n"
     ]
    },
    {
     "name": "stderr",
     "output_type": "stream",
     "text": [
      "0: 640x640 1 Yellow Light, 417.3ms\n",
      "Speed: 1.0ms preprocess, 417.3ms inference, 1.0ms postprocess per image at shape (1, 3, 640, 640)\n",
      "\n",
      "\n",
      "\n",
      " 83%|███████████████████████████████████████████████████████████████▌             | 228/276 [01:40<00:21,  2.28frame/s]\u001b[A\u001b[A\u001b[A\n"
     ]
    },
    {
     "name": "stdout",
     "output_type": "stream",
     "text": [
      "[330.3131103515625, 254.08938598632812, 341.3785400390625, 267.6236267089844]\n"
     ]
    },
    {
     "name": "stderr",
     "output_type": "stream",
     "text": [
      "0: 640x640 1 Yellow Light, 439.1ms\n",
      "Speed: 0.0ms preprocess, 439.1ms inference, 0.7ms postprocess per image at shape (1, 3, 640, 640)\n",
      "\n",
      "\n",
      "\n",
      " 83%|███████████████████████████████████████████████████████████████▉             | 229/276 [01:40<00:20,  2.26frame/s]\u001b[A\u001b[A\u001b[A\n"
     ]
    },
    {
     "name": "stdout",
     "output_type": "stream",
     "text": [
      "[330.2340087890625, 254.18418884277344, 341.3203125, 267.613525390625]\n"
     ]
    },
    {
     "name": "stderr",
     "output_type": "stream",
     "text": [
      "0: 640x640 1 Yellow Light, 421.9ms\n",
      "Speed: 1.0ms preprocess, 421.9ms inference, 0.0ms postprocess per image at shape (1, 3, 640, 640)\n",
      "\n",
      "\n",
      "\n",
      " 83%|████████████████████████████████████████████████████████████████▏            | 230/276 [01:40<00:20,  2.27frame/s]\u001b[A\u001b[A\u001b[A\n"
     ]
    },
    {
     "name": "stdout",
     "output_type": "stream",
     "text": [
      "[330.22930908203125, 254.23123168945312, 341.406005859375, 267.7972717285156]\n"
     ]
    },
    {
     "name": "stderr",
     "output_type": "stream",
     "text": [
      "0: 640x640 (no detections), 433.9ms\n",
      "Speed: 1.0ms preprocess, 433.9ms inference, 1.0ms postprocess per image at shape (1, 3, 640, 640)\n",
      "\n",
      "\n",
      "\n",
      " 84%|████████████████████████████████████████████████████████████████▍            | 231/276 [01:41<00:19,  2.26frame/s]\u001b[A\u001b[A\u001b[A\n",
      "0: 640x640 (no detections), 422.5ms\n",
      "Speed: 1.0ms preprocess, 422.5ms inference, 0.7ms postprocess per image at shape (1, 3, 640, 640)\n",
      "\n",
      "\n",
      "\n",
      " 84%|████████████████████████████████████████████████████████████████▋            | 232/276 [01:41<00:19,  2.27frame/s]\u001b[A\u001b[A\u001b[A\n",
      "0: 640x640 (no detections), 426.9ms\n",
      "Speed: 1.0ms preprocess, 426.9ms inference, 1.0ms postprocess per image at shape (1, 3, 640, 640)\n",
      "\n",
      "\n",
      "\n",
      " 84%|█████████████████████████████████████████████████████████████████            | 233/276 [01:42<00:18,  2.27frame/s]\u001b[A\u001b[A\u001b[A\n",
      "0: 640x640 (no detections), 425.7ms\n",
      "Speed: 1.0ms preprocess, 425.7ms inference, 0.8ms postprocess per image at shape (1, 3, 640, 640)\n",
      "\n",
      "\n",
      "\n",
      " 85%|█████████████████████████████████████████████████████████████████▎           | 234/276 [01:42<00:18,  2.27frame/s]\u001b[A\u001b[A\u001b[A\n",
      "0: 640x640 (no detections), 428.0ms\n",
      "Speed: 1.0ms preprocess, 428.0ms inference, 0.0ms postprocess per image at shape (1, 3, 640, 640)\n",
      "\n",
      "\n",
      "\n",
      " 85%|█████████████████████████████████████████████████████████████████▌           | 235/276 [01:43<00:18,  2.27frame/s]\u001b[A\u001b[A\u001b[A\n",
      "0: 640x640 (no detections), 436.9ms\n",
      "Speed: 1.0ms preprocess, 436.9ms inference, 0.0ms postprocess per image at shape (1, 3, 640, 640)\n",
      "\n",
      "\n",
      "\n",
      " 86%|█████████████████████████████████████████████████████████████████▊           | 236/276 [01:43<00:17,  2.25frame/s]\u001b[A\u001b[A\u001b[A\n",
      "0: 640x640 (no detections), 430.7ms\n",
      "Speed: 1.9ms preprocess, 430.7ms inference, 0.0ms postprocess per image at shape (1, 3, 640, 640)\n",
      "\n",
      "\n",
      "\n",
      " 86%|██████████████████████████████████████████████████████████████████           | 237/276 [01:44<00:17,  2.25frame/s]\u001b[A\u001b[A\u001b[A\n",
      "0: 640x640 (no detections), 439.4ms\n",
      "Speed: 1.0ms preprocess, 439.4ms inference, 0.0ms postprocess per image at shape (1, 3, 640, 640)\n",
      "\n",
      "\n",
      "\n",
      " 86%|██████████████████████████████████████████████████████████████████▍          | 238/276 [01:44<00:16,  2.24frame/s]\u001b[A\u001b[A\u001b[A\n",
      "0: 640x640 (no detections), 432.8ms\n",
      "Speed: 1.0ms preprocess, 432.8ms inference, 0.0ms postprocess per image at shape (1, 3, 640, 640)\n",
      "\n",
      "\n",
      "\n",
      " 87%|██████████████████████████████████████████████████████████████████▋          | 239/276 [01:44<00:16,  2.24frame/s]\u001b[A\u001b[A\u001b[A\n",
      "0: 640x640 (no detections), 474.8ms\n",
      "Speed: 4.3ms preprocess, 474.8ms inference, 0.0ms postprocess per image at shape (1, 3, 640, 640)\n",
      "\n",
      "\n",
      "\n",
      " 87%|██████████████████████████████████████████████████████████████████▉          | 240/276 [01:45<00:16,  2.17frame/s]\u001b[A\u001b[A\u001b[A\n",
      "0: 640x640 (no detections), 410.4ms\n",
      "Speed: 0.0ms preprocess, 410.4ms inference, 7.0ms postprocess per image at shape (1, 3, 640, 640)\n",
      "\n",
      "\n",
      "\n",
      " 87%|███████████████████████████████████████████████████████████████████▏         | 241/276 [01:45<00:15,  2.22frame/s]\u001b[A\u001b[A\u001b[A\n",
      "0: 640x640 (no detections), 415.4ms\n",
      "Speed: 0.0ms preprocess, 415.4ms inference, 0.0ms postprocess per image at shape (1, 3, 640, 640)\n",
      "\n",
      "\n",
      "\n",
      " 88%|███████████████████████████████████████████████████████████████████▌         | 242/276 [01:46<00:15,  2.24frame/s]\u001b[A\u001b[A\u001b[A\n",
      "0: 640x640 (no detections), 409.6ms\n",
      "Speed: 1.0ms preprocess, 409.6ms inference, 0.0ms postprocess per image at shape (1, 3, 640, 640)\n",
      "\n",
      "\n",
      "\n",
      " 88%|███████████████████████████████████████████████████████████████████▊         | 243/276 [01:46<00:14,  2.26frame/s]\u001b[A\u001b[A\u001b[A\n",
      "0: 640x640 (no detections), 419.1ms\n",
      "Speed: 1.0ms preprocess, 419.1ms inference, 0.0ms postprocess per image at shape (1, 3, 640, 640)\n",
      "\n",
      "\n",
      "\n",
      " 88%|████████████████████████████████████████████████████████████████████         | 244/276 [01:47<00:14,  2.27frame/s]\u001b[A\u001b[A\u001b[A\n",
      "0: 640x640 (no detections), 408.8ms\n",
      "Speed: 0.0ms preprocess, 408.8ms inference, 0.0ms postprocess per image at shape (1, 3, 640, 640)\n",
      "\n",
      "\n",
      "\n",
      " 89%|████████████████████████████████████████████████████████████████████▎        | 245/276 [01:47<00:13,  2.29frame/s]\u001b[A\u001b[A\u001b[A\n",
      "0: 640x640 (no detections), 428.1ms\n",
      "Speed: 0.0ms preprocess, 428.1ms inference, 0.0ms postprocess per image at shape (1, 3, 640, 640)\n",
      "\n",
      "\n",
      "\n",
      " 89%|████████████████████████████████████████████████████████████████████▋        | 246/276 [01:48<00:13,  2.26frame/s]\u001b[A\u001b[A\u001b[A\n",
      "0: 640x640 (no detections), 410.9ms\n",
      "Speed: 0.0ms preprocess, 410.9ms inference, 0.0ms postprocess per image at shape (1, 3, 640, 640)\n",
      "\n",
      "\n",
      "\n",
      " 89%|████████████████████████████████████████████████████████████████████▉        | 247/276 [01:48<00:12,  2.27frame/s]\u001b[A\u001b[A\u001b[A\n",
      "0: 640x640 (no detections), 485.7ms\n",
      "Speed: 0.0ms preprocess, 485.7ms inference, 0.0ms postprocess per image at shape (1, 3, 640, 640)\n",
      "\n",
      "\n",
      "\n",
      " 90%|█████████████████████████████████████████████████████████████████████▏       | 248/276 [01:49<00:12,  2.17frame/s]\u001b[A\u001b[A\u001b[A\n",
      "0: 640x640 (no detections), 414.0ms\n",
      "Speed: 0.0ms preprocess, 414.0ms inference, 0.0ms postprocess per image at shape (1, 3, 640, 640)\n",
      "\n",
      "\n",
      "\n",
      " 90%|█████████████████████████████████████████████████████████████████████▍       | 249/276 [01:49<00:12,  2.21frame/s]\u001b[A\u001b[A\u001b[A\n",
      "0: 640x640 (no detections), 435.3ms\n",
      "Speed: 1.9ms preprocess, 435.3ms inference, 0.0ms postprocess per image at shape (1, 3, 640, 640)\n",
      "\n",
      "\n",
      "\n",
      " 91%|█████████████████████████████████████████████████████████████████████▋       | 250/276 [01:49<00:11,  2.22frame/s]\u001b[A\u001b[A\u001b[A\n",
      "0: 640x640 (no detections), 410.7ms\n",
      "Speed: 1.0ms preprocess, 410.7ms inference, 0.0ms postprocess per image at shape (1, 3, 640, 640)\n",
      "\n",
      "\n",
      "\n",
      " 91%|██████████████████████████████████████████████████████████████████████       | 251/276 [01:50<00:11,  2.23frame/s]\u001b[A\u001b[A\u001b[A\n",
      "0: 640x640 (no detections), 436.1ms\n",
      "Speed: 0.2ms preprocess, 436.1ms inference, 0.0ms postprocess per image at shape (1, 3, 640, 640)\n",
      "\n",
      "\n",
      "\n",
      " 91%|██████████████████████████████████████████████████████████████████████▎      | 252/276 [01:50<00:10,  2.23frame/s]\u001b[A\u001b[A\u001b[A\n",
      "0: 640x640 (no detections), 410.2ms\n",
      "Speed: 1.0ms preprocess, 410.2ms inference, 0.0ms postprocess per image at shape (1, 3, 640, 640)\n",
      "\n",
      "\n",
      "\n",
      " 92%|██████████████████████████████████████████████████████████████████████▌      | 253/276 [01:51<00:10,  2.26frame/s]\u001b[A\u001b[A\u001b[A\n",
      "0: 640x640 (no detections), 394.3ms\n",
      "Speed: 2.2ms preprocess, 394.3ms inference, 0.0ms postprocess per image at shape (1, 3, 640, 640)\n",
      "\n",
      "\n",
      "\n",
      " 92%|██████████████████████████████████████████████████████████████████████▊      | 254/276 [01:51<00:09,  2.29frame/s]\u001b[A\u001b[A\u001b[A\n",
      "0: 640x640 (no detections), 408.6ms\n",
      "Speed: 0.0ms preprocess, 408.6ms inference, 0.0ms postprocess per image at shape (1, 3, 640, 640)\n",
      "\n",
      "\n",
      "\n",
      " 92%|███████████████████████████████████████████████████████████████████████▏     | 255/276 [01:52<00:09,  2.32frame/s]\u001b[A\u001b[A\u001b[A\n",
      "0: 640x640 (no detections), 404.7ms\n",
      "Speed: 1.0ms preprocess, 404.7ms inference, 0.0ms postprocess per image at shape (1, 3, 640, 640)\n",
      "\n",
      "\n",
      "\n",
      " 93%|███████████████████████████████████████████████████████████████████████▍     | 256/276 [01:52<00:08,  2.32frame/s]\u001b[A\u001b[A\u001b[A\n",
      "0: 640x640 (no detections), 406.5ms\n",
      "Speed: 0.0ms preprocess, 406.5ms inference, 0.0ms postprocess per image at shape (1, 3, 640, 640)\n",
      "\n",
      "\n",
      "\n",
      " 93%|███████████████████████████████████████████████████████████████████████▋     | 257/276 [01:52<00:08,  2.32frame/s]\u001b[A\u001b[A\u001b[A\n",
      "0: 640x640 (no detections), 410.9ms\n",
      "Speed: 0.2ms preprocess, 410.9ms inference, 0.0ms postprocess per image at shape (1, 3, 640, 640)\n",
      "\n",
      "\n",
      "\n",
      " 93%|███████████████████████████████████████████████████████████████████████▉     | 258/276 [01:53<00:07,  2.32frame/s]\u001b[A\u001b[A\u001b[A\n",
      "0: 640x640 (no detections), 396.2ms\n",
      "Speed: 1.3ms preprocess, 396.2ms inference, 0.0ms postprocess per image at shape (1, 3, 640, 640)\n",
      "\n",
      "\n",
      "\n",
      " 94%|████████████████████████████████████████████████████████████████████████▎    | 259/276 [01:53<00:07,  2.33frame/s]\u001b[A\u001b[A\u001b[A\n",
      "0: 640x640 (no detections), 423.8ms\n",
      "Speed: 0.1ms preprocess, 423.8ms inference, 0.0ms postprocess per image at shape (1, 3, 640, 640)\n",
      "\n",
      "\n",
      "\n",
      " 94%|████████████████████████████████████████████████████████████████████████▌    | 260/276 [01:54<00:06,  2.32frame/s]\u001b[A\u001b[A\u001b[A\n",
      "0: 640x640 (no detections), 459.8ms\n",
      "Speed: 0.0ms preprocess, 459.8ms inference, 0.0ms postprocess per image at shape (1, 3, 640, 640)\n",
      "\n",
      "\n",
      "\n",
      " 95%|████████████████████████████████████████████████████████████████████████▊    | 261/276 [01:54<00:06,  2.26frame/s]\u001b[A\u001b[A\u001b[A\n",
      "0: 640x640 (no detections), 447.3ms\n",
      "Speed: 0.4ms preprocess, 447.3ms inference, 0.0ms postprocess per image at shape (1, 3, 640, 640)\n",
      "\n",
      "\n",
      "\n",
      " 95%|█████████████████████████████████████████████████████████████████████████    | 262/276 [01:55<00:06,  2.23frame/s]\u001b[A\u001b[A\u001b[A\n",
      "0: 640x640 (no detections), 393.7ms\n",
      "Speed: 0.0ms preprocess, 393.7ms inference, 0.0ms postprocess per image at shape (1, 3, 640, 640)\n",
      "\n",
      "\n",
      "\n",
      " 95%|█████████████████████████████████████████████████████████████████████████▎   | 263/276 [01:55<00:05,  2.28frame/s]\u001b[A\u001b[A\u001b[A\n",
      "0: 640x640 (no detections), 391.8ms\n",
      "Speed: 0.0ms preprocess, 391.8ms inference, 0.0ms postprocess per image at shape (1, 3, 640, 640)\n",
      "\n",
      "\n",
      "\n",
      " 96%|█████████████████████████████████████████████████████████████████████████▋   | 264/276 [01:55<00:05,  2.31frame/s]\u001b[A\u001b[A\u001b[A\n",
      "0: 640x640 (no detections), 405.8ms\n",
      "Speed: 1.0ms preprocess, 405.8ms inference, 0.0ms postprocess per image at shape (1, 3, 640, 640)\n",
      "\n",
      "\n",
      "\n",
      " 96%|█████████████████████████████████████████████████████████████████████████▉   | 265/276 [01:56<00:04,  2.32frame/s]\u001b[A\u001b[A\u001b[A\n",
      "0: 640x640 (no detections), 410.6ms\n",
      "Speed: 0.0ms preprocess, 410.6ms inference, 0.0ms postprocess per image at shape (1, 3, 640, 640)\n",
      "\n",
      "\n",
      "\n",
      " 96%|██████████████████████████████████████████████████████████████████████████▏  | 266/276 [01:56<00:04,  2.33frame/s]\u001b[A\u001b[A\u001b[A\n",
      "0: 640x640 (no detections), 390.2ms\n",
      "Speed: 0.0ms preprocess, 390.2ms inference, 0.0ms postprocess per image at shape (1, 3, 640, 640)\n",
      "\n",
      "\n",
      "\n",
      " 97%|██████████████████████████████████████████████████████████████████████████▍  | 267/276 [01:57<00:03,  2.36frame/s]\u001b[A\u001b[A\u001b[A\n",
      "0: 640x640 (no detections), 404.0ms\n",
      "Speed: 0.0ms preprocess, 404.0ms inference, 0.0ms postprocess per image at shape (1, 3, 640, 640)\n",
      "\n",
      "\n",
      "\n",
      " 97%|██████████████████████████████████████████████████████████████████████████▊  | 268/276 [01:57<00:03,  2.36frame/s]\u001b[A\u001b[A\u001b[A\n",
      "0: 640x640 (no detections), 388.6ms\n",
      "Speed: 0.0ms preprocess, 388.6ms inference, 15.6ms postprocess per image at shape (1, 3, 640, 640)\n",
      "\n",
      "\n",
      "\n",
      " 97%|███████████████████████████████████████████████████████████████████████████  | 269/276 [01:58<00:02,  2.37frame/s]\u001b[A\u001b[A\u001b[A\n",
      "0: 640x640 (no detections), 404.8ms\n",
      "Speed: 0.0ms preprocess, 404.8ms inference, 0.0ms postprocess per image at shape (1, 3, 640, 640)\n",
      "\n",
      "\n",
      "\n",
      " 98%|███████████████████████████████████████████████████████████████████████████▎ | 270/276 [01:58<00:02,  2.36frame/s]\u001b[A\u001b[A\u001b[A\n",
      "0: 640x640 (no detections), 409.8ms\n",
      "Speed: 0.0ms preprocess, 409.8ms inference, 0.0ms postprocess per image at shape (1, 3, 640, 640)\n",
      "\n",
      "\n",
      "\n",
      " 98%|███████████████████████████████████████████████████████████████████████████▌ | 271/276 [01:58<00:02,  2.36frame/s]\u001b[A\u001b[A\u001b[A\n",
      "0: 640x640 (no detections), 417.8ms\n",
      "Speed: 0.0ms preprocess, 417.8ms inference, 0.0ms postprocess per image at shape (1, 3, 640, 640)\n",
      "\n",
      "\n",
      "\n",
      " 99%|███████████████████████████████████████████████████████████████████████████▉ | 272/276 [01:59<00:01,  2.35frame/s]\u001b[A\u001b[A\u001b[A\n",
      "0: 640x640 (no detections), 402.8ms\n",
      "Speed: 0.0ms preprocess, 402.8ms inference, 0.0ms postprocess per image at shape (1, 3, 640, 640)\n",
      "\n",
      "\n",
      "\n",
      " 99%|████████████████████████████████████████████████████████████████████████████▏| 273/276 [01:59<00:01,  2.35frame/s]\u001b[A\u001b[A\u001b[A\n",
      "0: 640x640 (no detections), 411.4ms\n",
      "Speed: 0.0ms preprocess, 411.4ms inference, 0.0ms postprocess per image at shape (1, 3, 640, 640)\n",
      "\n",
      "\n",
      "\n",
      " 99%|████████████████████████████████████████████████████████████████████████████▍| 274/276 [02:00<00:00,  2.35frame/s]\u001b[A\u001b[A\u001b[A\n",
      "0: 640x640 (no detections), 402.6ms\n",
      "Speed: 0.0ms preprocess, 402.6ms inference, 0.0ms postprocess per image at shape (1, 3, 640, 640)\n",
      "\n",
      "\n",
      "\n",
      "100%|████████████████████████████████████████████████████████████████████████████▋| 275/276 [02:00<00:00,  2.37frame/s]\u001b[A\u001b[A\u001b[A\n",
      "0: 640x640 (no detections), 403.2ms\n",
      "Speed: 0.0ms preprocess, 403.2ms inference, 0.0ms postprocess per image at shape (1, 3, 640, 640)\n",
      "\n",
      "\n",
      "\n",
      "100%|█████████████████████████████████████████████████████████████████████████████| 276/276 [02:01<00:00,  2.37frame/s]\u001b[A\u001b[A\u001b[A"
     ]
    }
   ],
   "source": [
    "# 입력 동영상 캡처\n",
    "cap = cv2.VideoCapture(input_video_path)\n",
    "\n",
    "# 출력 동영상 코덱 및 VideoWriter 설정\n",
    "fourcc = cv2.VideoWriter_fourcc(*'mp4v')  # 또는 'XVID'\n",
    "out = cv2.VideoWriter(output_video_path, fourcc, fps, (640, 640))\n",
    "\n",
    "# 초기화 최적화\n",
    "ret, frame = cap.read()\n",
    "\n",
    "# tqdm을 사용하여 진행 상황 표시\n",
    "pbar = tqdm(total=int(cap.get(cv2.CAP_PROP_FRAME_COUNT)), unit='frame')\n",
    "\n",
    "def process_frame(frame, pbar):\n",
    "    resized_frame = cv2.resize(frame, (640, 640))\n",
    "    results = model(resized_frame)\n",
    "\n",
    "    if isinstance(results, list):  # Check if results is a list\n",
    "        results = results[0]\n",
    "          \n",
    "    if results.boxes.data.tolist():\n",
    "        for det in results.boxes.xyxy:\n",
    "            print(det.tolist())\n",
    "            x1, y1, x2, y2, conf, cls = det.tolist()+['', results.boxes.cls.data[0].cpu()]\n",
    "            x1, y1, x2, y2 = int(x1), int(y1), int(x2), int(y2)\n",
    "            cv2.rectangle(resized_frame, (x1, y1), (x2, y2), (0, 0, 255), 3)  # 두께를 3으로 설정\n",
    "            # text = f'{model.names[int(cls)]}: {conf:.2f}'\n",
    "            \n",
    "            text = results.names[int(cls)]\n",
    "            cv2.putText(resized_frame, text, (x1, y1 - 15),  # 높이 조절\n",
    "                        cv2.FONT_HERSHEY_SIMPLEX, 1, (0, 0, 255), 3)  # 글자 크기를 1로 설정\n",
    "\n",
    "    out.write(resized_frame)\n",
    "    cv2.imshow('Object Detection', resized_frame)\n",
    "    pbar.update(1)\n",
    "\n",
    "# 프레임 처리\n",
    "while ret:\n",
    "    process_frame(frame, pbar)\n",
    "    ret, frame = cap.read()\n",
    "\n",
    "# 자원 해제\n",
    "cap.release()\n",
    "out.release()\n",
    "cv2.destroyAllWindows()"
   ]
  },
  {
   "cell_type": "code",
   "execution_count": 91,
   "id": "e668c775",
   "metadata": {},
   "outputs": [
    {
     "data": {
      "text/plain": [
       "{0: 'Green Light', 1: 'Left turn', 2: 'Red Light', 3: 'Yellow Light'}"
      ]
     },
     "execution_count": 91,
     "metadata": {},
     "output_type": "execute_result"
    }
   ],
   "source": [
    "results[0].names"
   ]
  },
  {
   "cell_type": "code",
   "execution_count": 93,
   "id": "f51d1506",
   "metadata": {},
   "outputs": [
    {
     "data": {
      "text/plain": [
       "'Green Light'"
      ]
     },
     "execution_count": 93,
     "metadata": {},
     "output_type": "execute_result"
    }
   ],
   "source": [
    "results[0].names[0]"
   ]
  },
  {
   "cell_type": "markdown",
   "id": "7e6808d8",
   "metadata": {},
   "source": [
    "# Test"
   ]
  },
  {
   "cell_type": "code",
   "execution_count": 63,
   "id": "fda4b2ed",
   "metadata": {},
   "outputs": [
    {
     "data": {
      "text/plain": [
       "[[582.88623046875,\n",
       "  374.11798095703125,\n",
       "  595.02197265625,\n",
       "  386.14202880859375,\n",
       "  0.5253190994262695,\n",
       "  0.0]]"
      ]
     },
     "execution_count": 63,
     "metadata": {},
     "output_type": "execute_result"
    }
   ],
   "source": [
    "results[0].boxes.data.tolist()"
   ]
  },
  {
   "cell_type": "code",
   "execution_count": 75,
   "id": "48c07ac5",
   "metadata": {},
   "outputs": [
    {
     "data": {
      "text/plain": [
       "ultralytics.yolo.engine.results.Boxes object with attributes:\n",
       "\n",
       "boxes: tensor([[5.8289e+02, 3.7412e+02, 5.9502e+02, 3.8614e+02, 5.2532e-01, 0.0000e+00]])\n",
       "cls: tensor([0.])\n",
       "conf: tensor([0.5253])\n",
       "data: tensor([[5.8289e+02, 3.7412e+02, 5.9502e+02, 3.8614e+02, 5.2532e-01, 0.0000e+00]])\n",
       "id: None\n",
       "is_track: False\n",
       "orig_shape: tensor([ 720, 1280])\n",
       "shape: torch.Size([1, 6])\n",
       "xywh: tensor([[588.9541, 380.1300,  12.1357,  12.0240]])\n",
       "xywhn: tensor([[0.4601, 0.5280, 0.0095, 0.0167]])\n",
       "xyxy: tensor([[582.8862, 374.1180, 595.0220, 386.1420]])\n",
       "xyxyn: tensor([[0.4554, 0.5196, 0.4649, 0.5363]])"
      ]
     },
     "execution_count": 75,
     "metadata": {},
     "output_type": "execute_result"
    }
   ],
   "source": [
    "results[0].boxes"
   ]
  },
  {
   "cell_type": "code",
   "execution_count": 79,
   "id": "91d9117c",
   "metadata": {},
   "outputs": [
    {
     "data": {
      "text/plain": [
       "tensor(0.)"
      ]
     },
     "execution_count": 79,
     "metadata": {},
     "output_type": "execute_result"
    }
   ],
   "source": [
    "results[0].boxes.cls.data[0].cpu()"
   ]
  },
  {
   "cell_type": "code",
   "execution_count": 66,
   "id": "a7f389e6",
   "metadata": {},
   "outputs": [
    {
     "data": {
      "text/plain": [
       "tensor([[582.8862, 374.1180, 595.0220, 386.1420]])"
      ]
     },
     "execution_count": 66,
     "metadata": {},
     "output_type": "execute_result"
    }
   ],
   "source": [
    "results[0].boxes.xyxy.cpu()"
   ]
  },
  {
   "cell_type": "code",
   "execution_count": 29,
   "id": "4cb8769f",
   "metadata": {},
   "outputs": [
    {
     "name": "stderr",
     "output_type": "stream",
     "text": [
      "\n",
      "0: 384x640 1 Green Light, 276.3ms\n",
      "Speed: 1.0ms preprocess, 276.3ms inference, 0.0ms postprocess per image at shape (1, 3, 640, 640)\n"
     ]
    }
   ],
   "source": [
    "results = model(frame)"
   ]
  },
  {
   "cell_type": "code",
   "execution_count": 58,
   "id": "679d1b49",
   "metadata": {},
   "outputs": [
    {
     "data": {
      "text/plain": [
       "tensor([582.8862, 374.1180, 595.0220, 386.1420])"
      ]
     },
     "execution_count": 58,
     "metadata": {},
     "output_type": "execute_result"
    }
   ],
   "source": [
    "results[0].boxes.xyxy[0]"
   ]
  },
  {
   "cell_type": "code",
   "execution_count": 31,
   "id": "aa5fee41",
   "metadata": {},
   "outputs": [
    {
     "data": {
      "text/plain": [
       "ultralytics.yolo.engine.results.Boxes object with attributes:\n",
       "\n",
       "boxes: tensor([[5.8289e+02, 3.7412e+02, 5.9502e+02, 3.8614e+02, 5.2532e-01, 0.0000e+00]])\n",
       "cls: tensor([0.])\n",
       "conf: tensor([0.5253])\n",
       "data: tensor([[5.8289e+02, 3.7412e+02, 5.9502e+02, 3.8614e+02, 5.2532e-01, 0.0000e+00]])\n",
       "id: None\n",
       "is_track: False\n",
       "orig_shape: tensor([ 720, 1280])\n",
       "shape: torch.Size([1, 6])\n",
       "xywh: tensor([[588.9541, 380.1300,  12.1357,  12.0240]])\n",
       "xywhn: tensor([[0.4601, 0.5280, 0.0095, 0.0167]])\n",
       "xyxy: tensor([[582.8862, 374.1180, 595.0220, 386.1420]])\n",
       "xyxyn: tensor([[0.4554, 0.5196, 0.4649, 0.5363]])"
      ]
     },
     "execution_count": 31,
     "metadata": {},
     "output_type": "execute_result"
    }
   ],
   "source": [
    "results[0].boxes"
   ]
  },
  {
   "cell_type": "code",
   "execution_count": 50,
   "id": "c08fea51",
   "metadata": {},
   "outputs": [
    {
     "data": {
      "text/plain": [
       "[ultralytics.yolo.engine.results.Results object with attributes:\n",
       " \n",
       " _keys: ('boxes', 'masks', 'probs', 'keypoints')\n",
       " boxes: ultralytics.yolo.engine.results.Boxes object\n",
       " keypoints: None\n",
       " keys: ['boxes']\n",
       " masks: None\n",
       " names: {0: 'Green Light', 1: 'Left turn', 2: 'Red Light', 3: 'Yellow Light'}\n",
       " orig_img: array([[[218, 150,  73],\n",
       "         [218, 150,  73],\n",
       "         [218, 150,  73],\n",
       "         ...,\n",
       "         [240, 184, 119],\n",
       "         [243, 187, 122],\n",
       "         [229, 173, 108]],\n",
       " \n",
       "        [[218, 150,  73],\n",
       "         [218, 150,  73],\n",
       "         [218, 150,  73],\n",
       "         ...,\n",
       "         [221, 165, 100],\n",
       "         [242, 186, 121],\n",
       "         [244, 188, 123]],\n",
       " \n",
       "        [[217, 149,  72],\n",
       "         [217, 149,  72],\n",
       "         [217, 149,  72],\n",
       "         ...,\n",
       "         [200, 144,  79],\n",
       "         [226, 170, 105],\n",
       "         [246, 190, 125]],\n",
       " \n",
       "        ...,\n",
       " \n",
       "        [[ 14,   9,   8],\n",
       "         [ 14,   9,   8],\n",
       "         [ 14,   9,   8],\n",
       "         ...,\n",
       "         [  8,   5,   6],\n",
       "         [  8,   5,   6],\n",
       "         [  8,   5,   6]],\n",
       " \n",
       "        [[ 14,   9,   8],\n",
       "         [ 14,   9,   8],\n",
       "         [ 14,   9,   8],\n",
       "         ...,\n",
       "         [  8,   5,   6],\n",
       "         [  8,   5,   6],\n",
       "         [  8,   5,   6]],\n",
       " \n",
       "        [[ 14,   9,   8],\n",
       "         [ 14,   9,   8],\n",
       "         [ 14,   9,   8],\n",
       "         ...,\n",
       "         [  8,   5,   6],\n",
       "         [  8,   5,   6],\n",
       "         [  8,   5,   6]]], dtype=uint8)\n",
       " orig_shape: (720, 1280)\n",
       " path: 'image0.jpg'\n",
       " probs: None\n",
       " speed: {'preprocess': 0.9894371032714844, 'inference': 307.9080581665039, 'postprocess': 0.9984970092773438}]"
      ]
     },
     "execution_count": 50,
     "metadata": {},
     "output_type": "execute_result"
    }
   ],
   "source": [
    "results"
   ]
  }
 ],
 "metadata": {
  "kernelspec": {
   "display_name": "Python 3 (ipykernel)",
   "language": "python",
   "name": "python3"
  },
  "language_info": {
   "codemirror_mode": {
    "name": "ipython",
    "version": 3
   },
   "file_extension": ".py",
   "mimetype": "text/x-python",
   "name": "python",
   "nbconvert_exporter": "python",
   "pygments_lexer": "ipython3",
   "version": "3.11.5"
  }
 },
 "nbformat": 4,
 "nbformat_minor": 5
}
