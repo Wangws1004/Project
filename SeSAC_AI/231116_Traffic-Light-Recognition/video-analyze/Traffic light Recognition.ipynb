{
 "cells": [
  {
   "cell_type": "code",
   "execution_count": 1,
   "id": "ff83737d",
   "metadata": {},
   "outputs": [],
   "source": [
    "# !nvidia-smi"
   ]
  },
  {
   "cell_type": "code",
   "execution_count": 2,
   "id": "5d86141f",
   "metadata": {},
   "outputs": [
    {
     "name": "stdout",
     "output_type": "stream",
     "text": [
      "Requirement already satisfied: ultralytics in /home/ubuntu/anaconda3/lib/python3.10/site-packages (8.0.73)\n",
      "Requirement already satisfied: PyYAML>=5.3.1 in /home/ubuntu/anaconda3/lib/python3.10/site-packages (from ultralytics) (6.0)\n",
      "Requirement already satisfied: torch>=1.7.0 in /home/ubuntu/anaconda3/lib/python3.10/site-packages (from ultralytics) (2.0.1)\n",
      "Requirement already satisfied: requests>=2.23.0 in /home/ubuntu/anaconda3/lib/python3.10/site-packages (from ultralytics) (2.28.1)\n",
      "Requirement already satisfied: Pillow>=7.1.2 in /home/ubuntu/anaconda3/lib/python3.10/site-packages (from ultralytics) (9.4.0)\n",
      "Requirement already satisfied: numpy>=1.21.6 in /home/ubuntu/anaconda3/lib/python3.10/site-packages (from ultralytics) (1.23.5)\n",
      "Requirement already satisfied: tqdm>=4.64.0 in /home/ubuntu/anaconda3/lib/python3.10/site-packages (from ultralytics) (4.64.1)\n",
      "Requirement already satisfied: thop>=0.1.1 in /home/ubuntu/anaconda3/lib/python3.10/site-packages (from ultralytics) (0.1.1.post2209072238)\n",
      "Requirement already satisfied: pandas>=1.1.4 in /home/ubuntu/anaconda3/lib/python3.10/site-packages (from ultralytics) (1.5.3)\n",
      "Requirement already satisfied: seaborn>=0.11.0 in /home/ubuntu/anaconda3/lib/python3.10/site-packages (from ultralytics) (0.12.2)\n",
      "Requirement already satisfied: matplotlib>=3.2.2 in /home/ubuntu/anaconda3/lib/python3.10/site-packages (from ultralytics) (3.8.1)\n",
      "Requirement already satisfied: psutil in /home/ubuntu/anaconda3/lib/python3.10/site-packages (from ultralytics) (5.9.0)\n",
      "Requirement already satisfied: torchvision>=0.8.1 in /home/ubuntu/anaconda3/lib/python3.10/site-packages (from ultralytics) (0.15.2)\n",
      "Requirement already satisfied: sentry-sdk in /home/ubuntu/anaconda3/lib/python3.10/site-packages (from ultralytics) (1.34.0)\n",
      "Requirement already satisfied: opencv-python>=4.6.0 in /home/ubuntu/anaconda3/lib/python3.10/site-packages (from ultralytics) (4.7.0.72)\n",
      "Requirement already satisfied: scipy>=1.4.1 in /home/ubuntu/anaconda3/lib/python3.10/site-packages (from ultralytics) (1.10.0)\n",
      "Requirement already satisfied: cycler>=0.10 in /home/ubuntu/anaconda3/lib/python3.10/site-packages (from matplotlib>=3.2.2->ultralytics) (0.10.0)\n",
      "Requirement already satisfied: fonttools>=4.22.0 in /home/ubuntu/anaconda3/lib/python3.10/site-packages (from matplotlib>=3.2.2->ultralytics) (4.25.0)\n",
      "Requirement already satisfied: pyparsing>=2.3.1 in /home/ubuntu/anaconda3/lib/python3.10/site-packages (from matplotlib>=3.2.2->ultralytics) (2.4.7)\n",
      "Requirement already satisfied: kiwisolver>=1.3.1 in /home/ubuntu/anaconda3/lib/python3.10/site-packages (from matplotlib>=3.2.2->ultralytics) (1.4.4)\n",
      "Requirement already satisfied: contourpy>=1.0.1 in /home/ubuntu/anaconda3/lib/python3.10/site-packages (from matplotlib>=3.2.2->ultralytics) (1.0.5)\n",
      "Requirement already satisfied: packaging>=20.0 in /home/ubuntu/anaconda3/lib/python3.10/site-packages (from matplotlib>=3.2.2->ultralytics) (22.0)\n",
      "Requirement already satisfied: python-dateutil>=2.7 in /home/ubuntu/anaconda3/lib/python3.10/site-packages (from matplotlib>=3.2.2->ultralytics) (2.8.2)\n",
      "Requirement already satisfied: pytz>=2020.1 in /home/ubuntu/anaconda3/lib/python3.10/site-packages (from pandas>=1.1.4->ultralytics) (2022.7)\n",
      "Requirement already satisfied: charset-normalizer<3,>=2 in /home/ubuntu/anaconda3/lib/python3.10/site-packages (from requests>=2.23.0->ultralytics) (2.0.4)\n",
      "Requirement already satisfied: idna<4,>=2.5 in /home/ubuntu/anaconda3/lib/python3.10/site-packages (from requests>=2.23.0->ultralytics) (2.10)\n",
      "Requirement already satisfied: certifi>=2017.4.17 in /home/ubuntu/anaconda3/lib/python3.10/site-packages (from requests>=2.23.0->ultralytics) (2023.7.22)\n",
      "Requirement already satisfied: urllib3<1.27,>=1.21.1 in /home/ubuntu/anaconda3/lib/python3.10/site-packages (from requests>=2.23.0->ultralytics) (1.26.14)\n",
      "Requirement already satisfied: filelock in /home/ubuntu/anaconda3/lib/python3.10/site-packages (from torch>=1.7.0->ultralytics) (3.9.0)\n",
      "Requirement already satisfied: typing-extensions in /home/ubuntu/anaconda3/lib/python3.10/site-packages (from torch>=1.7.0->ultralytics) (4.4.0)\n",
      "Requirement already satisfied: sympy in /home/ubuntu/anaconda3/lib/python3.10/site-packages (from torch>=1.7.0->ultralytics) (1.11.1)\n",
      "Requirement already satisfied: networkx in /home/ubuntu/anaconda3/lib/python3.10/site-packages (from torch>=1.7.0->ultralytics) (2.8.4)\n",
      "Requirement already satisfied: jinja2 in /home/ubuntu/anaconda3/lib/python3.10/site-packages (from torch>=1.7.0->ultralytics) (3.1.2)\n",
      "Requirement already satisfied: six in /home/ubuntu/anaconda3/lib/python3.10/site-packages (from cycler>=0.10->matplotlib>=3.2.2->ultralytics) (1.16.0)\n",
      "Requirement already satisfied: MarkupSafe>=2.0 in /home/ubuntu/anaconda3/lib/python3.10/site-packages (from jinja2->torch>=1.7.0->ultralytics) (2.1.1)\n",
      "Requirement already satisfied: mpmath>=0.19 in /home/ubuntu/anaconda3/lib/python3.10/site-packages/mpmath-1.2.1-py3.10.egg (from sympy->torch>=1.7.0->ultralytics) (1.2.1)\n",
      "Note: you may need to restart the kernel to use updated packages.\n"
     ]
    }
   ],
   "source": [
    "pip install ultralytics"
   ]
  },
  {
   "cell_type": "code",
   "execution_count": 3,
   "id": "8143a96d",
   "metadata": {},
   "outputs": [
    {
     "name": "stdout",
     "output_type": "stream",
     "text": [
      "Requirement already satisfied: roboflow in /home/ubuntu/anaconda3/lib/python3.10/site-packages (1.1.9)\n",
      "Requirement already satisfied: requests-toolbelt in /home/ubuntu/anaconda3/lib/python3.10/site-packages (from roboflow) (0.9.1)\n",
      "Requirement already satisfied: urllib3>=1.26.6 in /home/ubuntu/anaconda3/lib/python3.10/site-packages (from roboflow) (1.26.14)\n",
      "Requirement already satisfied: chardet==4.0.0 in /home/ubuntu/anaconda3/lib/python3.10/site-packages (from roboflow) (4.0.0)\n",
      "Requirement already satisfied: PyYAML>=5.3.1 in /home/ubuntu/anaconda3/lib/python3.10/site-packages (from roboflow) (6.0)\n",
      "Requirement already satisfied: tqdm>=4.41.0 in /home/ubuntu/anaconda3/lib/python3.10/site-packages (from roboflow) (4.64.1)\n",
      "Requirement already satisfied: opencv-python-headless==4.8.0.74 in /home/ubuntu/anaconda3/lib/python3.10/site-packages (from roboflow) (4.8.0.74)\n",
      "Requirement already satisfied: matplotlib in /home/ubuntu/anaconda3/lib/python3.10/site-packages (from roboflow) (3.8.1)\n",
      "Requirement already satisfied: idna==2.10 in /home/ubuntu/anaconda3/lib/python3.10/site-packages (from roboflow) (2.10)\n",
      "Requirement already satisfied: python-magic in /home/ubuntu/anaconda3/lib/python3.10/site-packages (from roboflow) (0.4.27)\n",
      "Requirement already satisfied: pyparsing==2.4.7 in /home/ubuntu/anaconda3/lib/python3.10/site-packages (from roboflow) (2.4.7)\n",
      "Requirement already satisfied: kiwisolver>=1.3.1 in /home/ubuntu/anaconda3/lib/python3.10/site-packages (from roboflow) (1.4.4)\n",
      "Requirement already satisfied: numpy>=1.18.5 in /home/ubuntu/anaconda3/lib/python3.10/site-packages (from roboflow) (1.23.5)\n",
      "Requirement already satisfied: supervision in /home/ubuntu/anaconda3/lib/python3.10/site-packages (from roboflow) (0.16.0)\n",
      "Requirement already satisfied: python-dateutil in /home/ubuntu/anaconda3/lib/python3.10/site-packages (from roboflow) (2.8.2)\n",
      "Requirement already satisfied: certifi==2023.7.22 in /home/ubuntu/anaconda3/lib/python3.10/site-packages (from roboflow) (2023.7.22)\n",
      "Requirement already satisfied: Pillow>=7.1.2 in /home/ubuntu/anaconda3/lib/python3.10/site-packages (from roboflow) (9.4.0)\n",
      "Requirement already satisfied: cycler==0.10.0 in /home/ubuntu/anaconda3/lib/python3.10/site-packages (from roboflow) (0.10.0)\n",
      "Requirement already satisfied: six in /home/ubuntu/anaconda3/lib/python3.10/site-packages (from roboflow) (1.16.0)\n",
      "Requirement already satisfied: requests in /home/ubuntu/anaconda3/lib/python3.10/site-packages (from roboflow) (2.28.1)\n",
      "Requirement already satisfied: python-dotenv in /home/ubuntu/anaconda3/lib/python3.10/site-packages (from roboflow) (1.0.0)\n",
      "Requirement already satisfied: packaging>=20.0 in /home/ubuntu/anaconda3/lib/python3.10/site-packages (from matplotlib->roboflow) (22.0)\n",
      "Requirement already satisfied: contourpy>=1.0.1 in /home/ubuntu/anaconda3/lib/python3.10/site-packages (from matplotlib->roboflow) (1.0.5)\n",
      "Requirement already satisfied: fonttools>=4.22.0 in /home/ubuntu/anaconda3/lib/python3.10/site-packages (from matplotlib->roboflow) (4.25.0)\n",
      "Requirement already satisfied: charset-normalizer<3,>=2 in /home/ubuntu/anaconda3/lib/python3.10/site-packages (from requests->roboflow) (2.0.4)\n",
      "Requirement already satisfied: scipy<2.0.0,>=1.9.0 in /home/ubuntu/anaconda3/lib/python3.10/site-packages (from supervision->roboflow) (1.10.0)\n",
      "Note: you may need to restart the kernel to use updated packages.\n"
     ]
    }
   ],
   "source": [
    "pip install roboflow"
   ]
  },
  {
   "cell_type": "code",
   "execution_count": 4,
   "id": "3b69baf4",
   "metadata": {},
   "outputs": [
    {
     "name": "stdout",
     "output_type": "stream",
     "text": [
      "Requirement already satisfied: ipython in /home/ubuntu/anaconda3/lib/python3.10/site-packages (8.17.2)\n",
      "Requirement already satisfied: pygments>=2.4.0 in /home/ubuntu/anaconda3/lib/python3.10/site-packages (from ipython) (2.11.2)\n",
      "Requirement already satisfied: traitlets>=5 in /home/ubuntu/anaconda3/lib/python3.10/site-packages (from ipython) (5.7.1)\n",
      "Requirement already satisfied: exceptiongroup in /home/ubuntu/anaconda3/lib/python3.10/site-packages (from ipython) (1.1.3)\n",
      "Requirement already satisfied: decorator in /home/ubuntu/anaconda3/lib/python3.10/site-packages (from ipython) (5.1.1)\n",
      "Requirement already satisfied: jedi>=0.16 in /home/ubuntu/anaconda3/lib/python3.10/site-packages (from ipython) (0.18.1)\n",
      "Requirement already satisfied: pexpect>4.3 in /home/ubuntu/anaconda3/lib/python3.10/site-packages (from ipython) (4.8.0)\n",
      "Requirement already satisfied: prompt-toolkit!=3.0.37,<3.1.0,>=3.0.30 in /home/ubuntu/anaconda3/lib/python3.10/site-packages (from ipython) (3.0.36)\n",
      "Requirement already satisfied: matplotlib-inline in /home/ubuntu/anaconda3/lib/python3.10/site-packages (from ipython) (0.1.6)\n",
      "Requirement already satisfied: stack-data in /home/ubuntu/anaconda3/lib/python3.10/site-packages (from ipython) (0.2.0)\n",
      "Requirement already satisfied: parso<0.9.0,>=0.8.0 in /home/ubuntu/anaconda3/lib/python3.10/site-packages (from jedi>=0.16->ipython) (0.8.3)\n",
      "Requirement already satisfied: ptyprocess>=0.5 in /home/ubuntu/anaconda3/lib/python3.10/site-packages (from pexpect>4.3->ipython) (0.7.0)\n",
      "Requirement already satisfied: wcwidth in /home/ubuntu/anaconda3/lib/python3.10/site-packages (from prompt-toolkit!=3.0.37,<3.1.0,>=3.0.30->ipython) (0.2.5)\n",
      "Requirement already satisfied: pure-eval in /home/ubuntu/anaconda3/lib/python3.10/site-packages (from stack-data->ipython) (0.2.2)\n",
      "Requirement already satisfied: asttokens in /home/ubuntu/anaconda3/lib/python3.10/site-packages (from stack-data->ipython) (2.0.5)\n",
      "Requirement already satisfied: executing in /home/ubuntu/anaconda3/lib/python3.10/site-packages (from stack-data->ipython) (0.8.3)\n",
      "Requirement already satisfied: six in /home/ubuntu/anaconda3/lib/python3.10/site-packages (from asttokens->stack-data->ipython) (1.16.0)\n",
      "Note: you may need to restart the kernel to use updated packages.\n"
     ]
    }
   ],
   "source": [
    "pip install --upgrade ipython"
   ]
  },
  {
   "cell_type": "code",
   "execution_count": 5,
   "id": "7cd8592f",
   "metadata": {},
   "outputs": [
    {
     "name": "stdout",
     "output_type": "stream",
     "text": [
      "Requirement already satisfied: ultralytics==8.0.73 in /home/ubuntu/anaconda3/lib/python3.10/site-packages (8.0.73)\n",
      "Requirement already satisfied: opencv-python>=4.6.0 in /home/ubuntu/anaconda3/lib/python3.10/site-packages (from ultralytics==8.0.73) (4.7.0.72)\n",
      "Requirement already satisfied: psutil in /home/ubuntu/anaconda3/lib/python3.10/site-packages (from ultralytics==8.0.73) (5.9.0)\n",
      "Requirement already satisfied: numpy>=1.21.6 in /home/ubuntu/anaconda3/lib/python3.10/site-packages (from ultralytics==8.0.73) (1.23.5)\n",
      "Requirement already satisfied: torchvision>=0.8.1 in /home/ubuntu/anaconda3/lib/python3.10/site-packages (from ultralytics==8.0.73) (0.15.2)\n",
      "Requirement already satisfied: requests>=2.23.0 in /home/ubuntu/anaconda3/lib/python3.10/site-packages (from ultralytics==8.0.73) (2.28.1)\n",
      "Requirement already satisfied: torch>=1.7.0 in /home/ubuntu/anaconda3/lib/python3.10/site-packages (from ultralytics==8.0.73) (2.0.1)\n",
      "Requirement already satisfied: thop>=0.1.1 in /home/ubuntu/anaconda3/lib/python3.10/site-packages (from ultralytics==8.0.73) (0.1.1.post2209072238)\n",
      "Requirement already satisfied: tqdm>=4.64.0 in /home/ubuntu/anaconda3/lib/python3.10/site-packages (from ultralytics==8.0.73) (4.64.1)\n",
      "Requirement already satisfied: scipy>=1.4.1 in /home/ubuntu/anaconda3/lib/python3.10/site-packages (from ultralytics==8.0.73) (1.10.0)\n",
      "Requirement already satisfied: PyYAML>=5.3.1 in /home/ubuntu/anaconda3/lib/python3.10/site-packages (from ultralytics==8.0.73) (6.0)\n",
      "Requirement already satisfied: sentry-sdk in /home/ubuntu/anaconda3/lib/python3.10/site-packages (from ultralytics==8.0.73) (1.34.0)\n",
      "Requirement already satisfied: Pillow>=7.1.2 in /home/ubuntu/anaconda3/lib/python3.10/site-packages (from ultralytics==8.0.73) (9.4.0)\n",
      "Requirement already satisfied: matplotlib>=3.2.2 in /home/ubuntu/anaconda3/lib/python3.10/site-packages (from ultralytics==8.0.73) (3.8.1)\n",
      "Requirement already satisfied: seaborn>=0.11.0 in /home/ubuntu/anaconda3/lib/python3.10/site-packages (from ultralytics==8.0.73) (0.12.2)\n",
      "Requirement already satisfied: pandas>=1.1.4 in /home/ubuntu/anaconda3/lib/python3.10/site-packages (from ultralytics==8.0.73) (1.5.3)\n",
      "Requirement already satisfied: pyparsing>=2.3.1 in /home/ubuntu/anaconda3/lib/python3.10/site-packages (from matplotlib>=3.2.2->ultralytics==8.0.73) (2.4.7)\n",
      "Requirement already satisfied: python-dateutil>=2.7 in /home/ubuntu/anaconda3/lib/python3.10/site-packages (from matplotlib>=3.2.2->ultralytics==8.0.73) (2.8.2)\n",
      "Requirement already satisfied: contourpy>=1.0.1 in /home/ubuntu/anaconda3/lib/python3.10/site-packages (from matplotlib>=3.2.2->ultralytics==8.0.73) (1.0.5)\n",
      "Requirement already satisfied: packaging>=20.0 in /home/ubuntu/anaconda3/lib/python3.10/site-packages (from matplotlib>=3.2.2->ultralytics==8.0.73) (22.0)\n",
      "Requirement already satisfied: cycler>=0.10 in /home/ubuntu/anaconda3/lib/python3.10/site-packages (from matplotlib>=3.2.2->ultralytics==8.0.73) (0.10.0)\n",
      "Requirement already satisfied: kiwisolver>=1.3.1 in /home/ubuntu/anaconda3/lib/python3.10/site-packages (from matplotlib>=3.2.2->ultralytics==8.0.73) (1.4.4)\n",
      "Requirement already satisfied: fonttools>=4.22.0 in /home/ubuntu/anaconda3/lib/python3.10/site-packages (from matplotlib>=3.2.2->ultralytics==8.0.73) (4.25.0)\n",
      "Requirement already satisfied: pytz>=2020.1 in /home/ubuntu/anaconda3/lib/python3.10/site-packages (from pandas>=1.1.4->ultralytics==8.0.73) (2022.7)\n",
      "Requirement already satisfied: certifi>=2017.4.17 in /home/ubuntu/anaconda3/lib/python3.10/site-packages (from requests>=2.23.0->ultralytics==8.0.73) (2023.7.22)\n",
      "Requirement already satisfied: charset-normalizer<3,>=2 in /home/ubuntu/anaconda3/lib/python3.10/site-packages (from requests>=2.23.0->ultralytics==8.0.73) (2.0.4)\n",
      "Requirement already satisfied: urllib3<1.27,>=1.21.1 in /home/ubuntu/anaconda3/lib/python3.10/site-packages (from requests>=2.23.0->ultralytics==8.0.73) (1.26.14)\n",
      "Requirement already satisfied: idna<4,>=2.5 in /home/ubuntu/anaconda3/lib/python3.10/site-packages (from requests>=2.23.0->ultralytics==8.0.73) (2.10)\n",
      "Requirement already satisfied: filelock in /home/ubuntu/anaconda3/lib/python3.10/site-packages (from torch>=1.7.0->ultralytics==8.0.73) (3.9.0)\n",
      "Requirement already satisfied: typing-extensions in /home/ubuntu/anaconda3/lib/python3.10/site-packages (from torch>=1.7.0->ultralytics==8.0.73) (4.4.0)\n",
      "Requirement already satisfied: sympy in /home/ubuntu/anaconda3/lib/python3.10/site-packages (from torch>=1.7.0->ultralytics==8.0.73) (1.11.1)\n",
      "Requirement already satisfied: networkx in /home/ubuntu/anaconda3/lib/python3.10/site-packages (from torch>=1.7.0->ultralytics==8.0.73) (2.8.4)\n",
      "Requirement already satisfied: jinja2 in /home/ubuntu/anaconda3/lib/python3.10/site-packages (from torch>=1.7.0->ultralytics==8.0.73) (3.1.2)\n",
      "Requirement already satisfied: six in /home/ubuntu/anaconda3/lib/python3.10/site-packages (from cycler>=0.10->matplotlib>=3.2.2->ultralytics==8.0.73) (1.16.0)\n",
      "Requirement already satisfied: MarkupSafe>=2.0 in /home/ubuntu/anaconda3/lib/python3.10/site-packages (from jinja2->torch>=1.7.0->ultralytics==8.0.73) (2.1.1)\n",
      "Requirement already satisfied: mpmath>=0.19 in /home/ubuntu/anaconda3/lib/python3.10/site-packages/mpmath-1.2.1-py3.10.egg (from sympy->torch>=1.7.0->ultralytics==8.0.73) (1.2.1)\n",
      "Note: you may need to restart the kernel to use updated packages.\n"
     ]
    }
   ],
   "source": [
    "pip install ultralytics==8.0.73"
   ]
  },
  {
   "cell_type": "code",
   "execution_count": 6,
   "id": "0e3a438d",
   "metadata": {},
   "outputs": [
    {
     "name": "stdout",
     "output_type": "stream",
     "text": [
      "Requirement already satisfied: wandb in /home/ubuntu/anaconda3/lib/python3.10/site-packages (0.15.3)\n",
      "Requirement already satisfied: pathtools in /home/ubuntu/anaconda3/lib/python3.10/site-packages (from wandb) (0.1.2)\n",
      "Requirement already satisfied: setuptools in /home/ubuntu/anaconda3/lib/python3.10/site-packages (from wandb) (65.6.3)\n",
      "Requirement already satisfied: appdirs>=1.4.3 in /home/ubuntu/anaconda3/lib/python3.10/site-packages (from wandb) (1.4.4)\n",
      "Requirement already satisfied: setproctitle in /home/ubuntu/anaconda3/lib/python3.10/site-packages (from wandb) (1.3.3)\n",
      "Requirement already satisfied: GitPython!=3.1.29,>=1.0.0 in /home/ubuntu/anaconda3/lib/python3.10/site-packages (from wandb) (3.1.40)\n",
      "Requirement already satisfied: psutil>=5.0.0 in /home/ubuntu/anaconda3/lib/python3.10/site-packages (from wandb) (5.9.0)\n",
      "Requirement already satisfied: PyYAML in /home/ubuntu/anaconda3/lib/python3.10/site-packages (from wandb) (6.0)\n",
      "Requirement already satisfied: requests<3,>=2.0.0 in /home/ubuntu/anaconda3/lib/python3.10/site-packages (from wandb) (2.28.1)\n",
      "Requirement already satisfied: sentry-sdk>=1.0.0 in /home/ubuntu/anaconda3/lib/python3.10/site-packages (from wandb) (1.34.0)\n",
      "Requirement already satisfied: docker-pycreds>=0.4.0 in /home/ubuntu/anaconda3/lib/python3.10/site-packages (from wandb) (0.4.0)\n",
      "Requirement already satisfied: protobuf!=4.21.0,<5,>=3.19.0 in /home/ubuntu/anaconda3/lib/python3.10/site-packages (from wandb) (4.23.4)\n",
      "Requirement already satisfied: Click!=8.0.0,>=7.0 in /home/ubuntu/anaconda3/lib/python3.10/site-packages (from wandb) (8.0.4)\n",
      "Requirement already satisfied: six>=1.4.0 in /home/ubuntu/anaconda3/lib/python3.10/site-packages (from docker-pycreds>=0.4.0->wandb) (1.16.0)\n",
      "Requirement already satisfied: gitdb<5,>=4.0.1 in /home/ubuntu/anaconda3/lib/python3.10/site-packages (from GitPython!=3.1.29,>=1.0.0->wandb) (4.0.11)\n",
      "Requirement already satisfied: idna<4,>=2.5 in /home/ubuntu/anaconda3/lib/python3.10/site-packages (from requests<3,>=2.0.0->wandb) (2.10)\n",
      "Requirement already satisfied: urllib3<1.27,>=1.21.1 in /home/ubuntu/anaconda3/lib/python3.10/site-packages (from requests<3,>=2.0.0->wandb) (1.26.14)\n",
      "Requirement already satisfied: charset-normalizer<3,>=2 in /home/ubuntu/anaconda3/lib/python3.10/site-packages (from requests<3,>=2.0.0->wandb) (2.0.4)\n",
      "Requirement already satisfied: certifi>=2017.4.17 in /home/ubuntu/anaconda3/lib/python3.10/site-packages (from requests<3,>=2.0.0->wandb) (2023.7.22)\n",
      "Requirement already satisfied: smmap<6,>=3.0.1 in /home/ubuntu/anaconda3/lib/python3.10/site-packages (from gitdb<5,>=4.0.1->GitPython!=3.1.29,>=1.0.0->wandb) (5.0.1)\n",
      "Note: you may need to restart the kernel to use updated packages.\n"
     ]
    }
   ],
   "source": [
    "pip install wandb"
   ]
  },
  {
   "cell_type": "code",
   "execution_count": 7,
   "id": "d2aad8e6",
   "metadata": {},
   "outputs": [
    {
     "name": "stdout",
     "output_type": "stream",
     "text": [
      "/bin/bash: line 1: wandb: command not found\r\n"
     ]
    }
   ],
   "source": [
    "!wandb login"
   ]
  },
  {
   "cell_type": "code",
   "execution_count": 8,
   "id": "459d6b62",
   "metadata": {},
   "outputs": [],
   "source": [
    "# import wandb\n",
    "# import random\n",
    "\n",
    "# # start a new wandb run to track this script\n",
    "# wandb.init(\n",
    "#     # set the wandb project where this run will be logged\n",
    "#     project=\"my-awesome-project\",\n",
    "    \n",
    "#     # track hyperparameters and run metadata\n",
    "#     config={\n",
    "#     \"learning_rate\": 0.02,\n",
    "#     \"architecture\": \"CNN\",\n",
    "#     \"dataset\": \"CIFAR-100\",\n",
    "#     \"epochs\": 10,\n",
    "#     }\n",
    "# )\n",
    "\n",
    "# # simulate training\n",
    "# epochs = 10\n",
    "# offset = random.random() / 5\n",
    "# for epoch in range(2, epochs):\n",
    "#     acc = 1 - 2 ** -epoch - random.random() / epoch - offset\n",
    "#     loss = 2 ** -epoch + random.random() / epoch + offset\n",
    "    \n",
    "#     # log metrics to wandb\n",
    "#     wandb.log({\"acc\": acc, \"loss\": loss})\n",
    "    \n",
    "# # [optional] finish the wandb run, necessary in notebooks\n",
    "# wandb.finish()"
   ]
  },
  {
   "cell_type": "code",
   "execution_count": 9,
   "id": "467e11b4",
   "metadata": {},
   "outputs": [],
   "source": [
    "from IPython import display\n",
    "from IPython.display import display, Image\n",
    "from ultralytics import YOLO\n",
    "\n",
    "# display.clear_output()\n",
    "\n",
    "# YOLO 객체 생성\n",
    "# yolo = YOLO()\n",
    "\n",
    "# verify 메서드 실행\n",
    "# yolo.check()"
   ]
  },
  {
   "cell_type": "code",
   "execution_count": 10,
   "id": "019d7afb",
   "metadata": {},
   "outputs": [
    {
     "name": "stdout",
     "output_type": "stream",
     "text": [
      "/content\n"
     ]
    }
   ],
   "source": [
    "import os\n",
    "HOME = os.getcwd()\n",
    "print(HOME)"
   ]
  },
  {
   "cell_type": "code",
   "execution_count": 26,
   "id": "f8c01c1e",
   "metadata": {},
   "outputs": [
    {
     "name": "stdout",
     "output_type": "stream",
     "text": [
      "Error in callback <bound method _WandbInit._resume_backend of <wandb.sdk.wandb_init._WandbInit object at 0x7f439f852d70>> (for pre_run_cell), with arguments args (<ExecutionInfo object at 7f439e511270, raw_cell=\"import torch\" store_history=True silent=False shell_futures=True cell_id=None>,),kwargs {}:\n"
     ]
    },
    {
     "ename": "TypeError",
     "evalue": "_WandbInit._resume_backend() takes 1 positional argument but 2 were given",
     "output_type": "error",
     "traceback": [
      "\u001b[0;31m---------------------------------------------------------------------------\u001b[0m",
      "\u001b[0;31mTypeError\u001b[0m                                 Traceback (most recent call last)",
      "\u001b[0;31mTypeError\u001b[0m: _WandbInit._resume_backend() takes 1 positional argument but 2 were given"
     ]
    },
    {
     "name": "stdout",
     "output_type": "stream",
     "text": [
      "Error in callback <bound method _WandbInit._pause_backend of <wandb.sdk.wandb_init._WandbInit object at 0x7f439f852d70>> (for post_run_cell), with arguments args (<ExecutionResult object at 7f439e511090, execution_count=26 error_before_exec=None error_in_exec=None info=<ExecutionInfo object at 7f439e511270, raw_cell=\"import torch\" store_history=True silent=False shell_futures=True cell_id=None> result=None>,),kwargs {}:\n"
     ]
    },
    {
     "ename": "TypeError",
     "evalue": "_WandbInit._pause_backend() takes 1 positional argument but 2 were given",
     "output_type": "error",
     "traceback": [
      "\u001b[0;31m---------------------------------------------------------------------------\u001b[0m",
      "\u001b[0;31mTypeError\u001b[0m                                 Traceback (most recent call last)",
      "\u001b[0;31mTypeError\u001b[0m: _WandbInit._pause_backend() takes 1 positional argument but 2 were given"
     ]
    }
   ],
   "source": [
    "import torch"
   ]
  },
  {
   "cell_type": "code",
   "execution_count": null,
   "id": "f352033f",
   "metadata": {},
   "outputs": [],
   "source": []
  },
  {
   "cell_type": "code",
   "execution_count": 11,
   "id": "dac75a7b",
   "metadata": {},
   "outputs": [
    {
     "name": "stderr",
     "output_type": "stream",
     "text": [
      "Ultralytics YOLOv8.0.73 🚀 Python-3.10.9 torch-2.0.1 CPU\n",
      "Setup complete ✅ (8 CPUs, 30.9 GB RAM, 96.1/96.7 GB disk)\n"
     ]
    }
   ],
   "source": [
    "# Pip install method (recommended)\n",
    "\n",
    "from IPython import display\n",
    "display.clear_output()\n",
    "\n",
    "import ultralytics\n",
    "ultralytics.checks()"
   ]
  },
  {
   "cell_type": "code",
   "execution_count": 12,
   "id": "ae63a0fe",
   "metadata": {},
   "outputs": [],
   "source": [
    "from ultralytics import YOLO\n",
    "from IPython.display import display, Image"
   ]
  },
  {
   "cell_type": "code",
   "execution_count": 13,
   "id": "307c4e85",
   "metadata": {},
   "outputs": [
    {
     "data": {
      "text/plain": [
       "'\\nfrom roboflow import Roboflow\\nrf = Roboflow(api_key=\"fKb9dbGyZlla5Zp3h5eZ\")\\nproject = rf.workspace(\"trafficlightdetect\").project(\"traffic-light-ke5b5\")\\ndataset = project.version(10).download(\"yolov8\")\\n'"
      ]
     },
     "execution_count": 13,
     "metadata": {},
     "output_type": "execute_result"
    }
   ],
   "source": [
    "\"\"\"\n",
    "from roboflow import Roboflow\n",
    "rf = Roboflow(api_key=\"fKb9dbGyZlla5Zp3h5eZ\")\n",
    "project = rf.workspace(\"trafficlightdetect\").project(\"traffic-light-ke5b5\")\n",
    "dataset = project.version(10).download(\"yolov8\")\n",
    "\"\"\""
   ]
  },
  {
   "cell_type": "code",
   "execution_count": 14,
   "id": "aea6d953",
   "metadata": {},
   "outputs": [
    {
     "data": {
      "text/plain": [
       "'\\n↓ Pre-Trained Model download\\n\\nfrom roboflow import Roboflow\\nrf = Roboflow(api_key=\"fKb9dbGyZlla5Zp3h5eZ\")\\nproject = rf.workspace().project(\"traffic-light-ke5b5\")\\nmodel = project.version(8).model\\n'"
      ]
     },
     "execution_count": 14,
     "metadata": {},
     "output_type": "execute_result"
    }
   ],
   "source": [
    "\"\"\"\n",
    "↓ Pre-Trained Model download\n",
    "\n",
    "from roboflow import Roboflow\n",
    "rf = Roboflow(api_key=\"fKb9dbGyZlla5Zp3h5eZ\")\n",
    "project = rf.workspace().project(\"traffic-light-ke5b5\")\n",
    "model = project.version(8).model\n",
    "\"\"\""
   ]
  },
  {
   "cell_type": "code",
   "execution_count": 15,
   "id": "30adbdbd",
   "metadata": {},
   "outputs": [],
   "source": [
    "import yaml\n",
    "import torch\n",
    "from torchvision import transforms\n",
    "from PIL import Image as PILImage\n",
    "from tqdm import tqdm\n",
    "from PIL import Image"
   ]
  },
  {
   "cell_type": "code",
   "execution_count": 16,
   "id": "352ec71a",
   "metadata": {},
   "outputs": [],
   "source": [
    "# # 원래 이미지가 RGBA 형식인지 RGB 형식인지 판별하는 코드\n",
    "# original_image_path = '/content/Traffic_light/train/images/-3-_jpg.rf.04a86cd5626655ea5bb84f86189cea46.jpg'  # 원래 이미지 파일 경로 설정\n",
    "# original_image = Image.open(original_image_path)\n",
    "# image_mode = original_image.mode  # 이미지의 모드를 가져옵니다. 'RGBA' 또는 'RGB'일 수 있습니다.\n",
    "# print(f\"원래 이미지의 모드: {image_mode}\")"
   ]
  },
  {
   "cell_type": "code",
   "execution_count": 17,
   "id": "caf74730",
   "metadata": {},
   "outputs": [],
   "source": [
    "# # 데이터 증강을 위한 변환 정의\n",
    "# transform = transforms.Compose([\n",
    "#     transforms.RandomResizedCrop(640),  # 이미지 크기를 무작위로 자르고 640x640 크기로 조절합니다.\n",
    "#     transforms.RandomHorizontalFlip(),  # 50% 확률로 좌우 반전을 수행합니다.\n",
    "#     transforms.ColorJitter(brightness=0.2, contrast=0.2, saturation=0.2, hue=0.1),  # 색상, 대비, 채도 및 색조를 무작위로 조절합니다.\n",
    "#     transforms.RandomRotation(10),  # 최대 10도까지 무작위로 회전시킵니다.\n",
    "#     transforms.RandomAffine(degrees=0, translate=(0.1, 0.1), scale=(0.9, 1.1), shear=10),  # 무작위로 이동, 크기 조절, 기울임 변환을 수행합니다.\n",
    "#     transforms.GaussianBlur(kernel_size=3),  # 가우시안 블러를 적용합니다.\n",
    "#     transforms.ToTensor(),  # 이미지를 텐서로 변환합니다.\n",
    "# ])"
   ]
  },
  {
   "cell_type": "code",
   "execution_count": 18,
   "id": "c6a3deba",
   "metadata": {},
   "outputs": [],
   "source": [
    "# 원본 이미지 경로 및 증강된 이미지 저장 경로 설정\n",
    "original_data_dir = '/content/Traffic_light/train/images'\n",
    "augmented_data_dir = '/content/Traffic_light/augmented_images'\n",
    "\n",
    "# 기존 'data.yaml' 파일의 경로\n",
    "data_yaml_path = '/content/Traffic_light/data.yaml'"
   ]
  },
  {
   "cell_type": "code",
   "execution_count": 19,
   "id": "a878a768",
   "metadata": {},
   "outputs": [],
   "source": [
    "# # 기존 'data.yaml' 파일을 로드합니다.\n",
    "# with open(data_yaml_path, 'r') as file:\n",
    "#     data_yaml = yaml.safe_load(file)\n",
    "\n",
    "# # 'train' 섹션에 이미지 경로를 추가합니다.\n",
    "# data_yaml['train'] = []  # 'train' 섹션을 빈 리스트로 초기화합니다.\n",
    "\n",
    "# for image_file in tqdm(os.listdir(original_data_dir), desc='Augmenting Images'):\n",
    "#     original_image_path = os.path.join(original_data_dir, image_file)\n",
    "#     original_image = Image.open(original_image_path).convert(\"RGB\")\n",
    "    \n",
    "#     # 6가지의 데이터 증강 방법을 적용하여 이미지를 6번 증강합니다.\n",
    "#     for i in range(6):\n",
    "#         augmented_image = transform(original_image)\n",
    "#         augmented_image_path = os.path.join(augmented_data_dir, f\"{os.path.splitext(image_file)[0]}_{i}.jpg\")\n",
    "#         augmented_image_pil = transforms.ToPILImage()(augmented_image)\n",
    "#         augmented_image_pil.save(augmented_image_path)\n",
    "        \n",
    "#         # 업데이트된 이미지 경로를 'train' 섹션에 추가합니다.\n",
    "#         data_yaml['train'].append(os.path.relpath(augmented_image_path, '/content/Traffic_light'))\n",
    "\n",
    "# # 업데이트된 'data.yaml' 파일을 저장합니다.\n",
    "# with open(data_yaml_path, 'w') as file:\n",
    "#     yaml.dump(data_yaml, file, default_flow_style=False)\n",
    "\n",
    "# print(f\"Augmented data saved to {augmented_data_dir}\")\n",
    "# print(f\"Updated paths in {data_yaml_path}\")"
   ]
  },
  {
   "cell_type": "code",
   "execution_count": 20,
   "id": "e8104e40",
   "metadata": {
    "scrolled": true
   },
   "outputs": [],
   "source": [
    "# # data.yaml에서 'train' 키의 값을 리스트로 초기화\n",
    "# data_yaml['train'] = []\n",
    "\n",
    "# # 데이터 증강 및 저장\n",
    "# for image_file in tqdm(image_files, desc='데이터 증강 중', unit='이미지'):\n",
    "#     # 원본 이미지 불러오기\n",
    "#     original_image_path = os.path.join(original_data_dir, image_file)\n",
    "#     original_image = Image.open(original_image_path).convert(\"RGB\")\n",
    "    \n",
    "#     # 변환 적용\n",
    "#     augmented_image = transform(original_image)\n",
    "    \n",
    "#     # 저장할 경로 설정\n",
    "#     augmented_image_filename = f\"augmented_{image_file}\"\n",
    "#     augmented_image_path = os.path.join(augmented_data_dir, augmented_image_filename)\n",
    "    \n",
    "#     # 이미지 저장\n",
    "#     transforms.ToPILImage()(augmented_image).save(augmented_image_path)\n",
    "    \n",
    "#     # data.yaml 파일 업데이트 (증강된 이미지 경로 추가)\n",
    "#     data_yaml['train'].append(os.path.relpath(augmented_image_path, '/content/Traffic_light'))\n",
    "\n",
    "# # 업데이트된 data.yaml 파일 저장\n",
    "# with open(data_yaml_path, 'w') as file:\n",
    "#     yaml.dump(data_yaml, file, default_flow_style=False)\n",
    "\n",
    "# print(f\"Updated data.yaml with augmented images.\")"
   ]
  },
  {
   "cell_type": "code",
   "execution_count": 21,
   "id": "b8e0abab",
   "metadata": {},
   "outputs": [
    {
     "name": "stdout",
     "output_type": "stream",
     "text": [
      "Updated paths in /content/Traffic_light/data.yaml\n"
     ]
    }
   ],
   "source": [
    "# data.yaml 파일의 경로를 업데이트합니다.\n",
    "new_paths = {\n",
    "    'test': '/content/Traffic_light/test/images',  # 테스트 이미지의 저장 경로를 설정합니다.\n",
    "    'train': '/content/Traffic_light/train/images',  # 훈련 이미지의 저장 경로를 설정합니다.\n",
    "    'val': '/content/Traffic_light/valid/images'  # 검증 이미지의 저장 경로를 설정합니다.\n",
    "}\n",
    "\n",
    "# data.yaml 파일을 읽어옵니다.\n",
    "with open(data_yaml_path, 'r') as file:\n",
    "    data_yaml = yaml.safe_load(file)\n",
    "\n",
    "# 이미지 저장 경로를 업데이트합니다.\n",
    "data_yaml['test'] = new_paths['test']\n",
    "data_yaml['train'] = new_paths['train']\n",
    "data_yaml['val'] = new_paths['val']\n",
    "\n",
    "# 업데이트된 data.yaml 파일을 저장합니다.\n",
    "with open(data_yaml_path, 'w') as file:\n",
    "    yaml.dump(data_yaml, file, default_flow_style=False)\n",
    "\n",
    "print(f\"Updated paths in {data_yaml_path}\")  # 업데이트된 data.yaml 파일의 경로를 출력합니다."
   ]
  },
  {
   "cell_type": "code",
   "execution_count": 22,
   "id": "9877b1ea",
   "metadata": {},
   "outputs": [],
   "source": [
    "# # Define the new paths relative to the location of data.yaml\n",
    "# new_paths = {\n",
    "#     'test': '/content/Traffic_light/test/images',\n",
    "#     'train': '/content/Traffic_light/train/images',\n",
    "#     'val': '/content/Traffic_light/valid/images'\n",
    "# }\n",
    "\n",
    "# # Path to your data.yaml file\n",
    "# data_yaml_path = '/content/Traffic_light/data.yaml'\n",
    "\n",
    "# # Read in the existing data.yaml file\n",
    "# with open(data_yaml_path, 'r') as file:\n",
    "#     data_yaml = yaml.safe_load(file)\n",
    "\n",
    "# # Update the paths\n",
    "# data_yaml['test'] = new_paths['test']\n",
    "# data_yaml['train'] = new_paths['train']\n",
    "# data_yaml['val'] = new_paths['val']\n",
    "\n",
    "# # Write the updated data.yaml back to the file\n",
    "# with open(data_yaml_path, 'w') as file:\n",
    "#     yaml.dump(data_yaml, file, default_flow_style=False)\n",
    "\n",
    "# print(f\"Updated paths in {data_yaml_path}\")"
   ]
  },
  {
   "cell_type": "code",
   "execution_count": 23,
   "id": "37bf1700",
   "metadata": {},
   "outputs": [
    {
     "ename": "NameError",
     "evalue": "name 'stop' is not defined",
     "output_type": "error",
     "traceback": [
      "\u001b[0;31m---------------------------------------------------------------------------\u001b[0m",
      "\u001b[0;31mNameError\u001b[0m                                 Traceback (most recent call last)",
      "Cell \u001b[0;32mIn[23], line 1\u001b[0m\n\u001b[0;32m----> 1\u001b[0m \u001b[43mstop\u001b[49m\n",
      "\u001b[0;31mNameError\u001b[0m: name 'stop' is not defined"
     ]
    }
   ],
   "source": [
    "stop"
   ]
  },
  {
   "cell_type": "code",
   "execution_count": 24,
   "id": "38e939b8",
   "metadata": {},
   "outputs": [],
   "source": [
    "import wandb"
   ]
  },
  {
   "cell_type": "code",
   "execution_count": 25,
   "id": "2fb08f55",
   "metadata": {},
   "outputs": [
    {
     "name": "stderr",
     "output_type": "stream",
     "text": [
      "\u001b[34m\u001b[1mwandb\u001b[0m: Currently logged in as: \u001b[33mwangws1004\u001b[0m (\u001b[33mbuzz__\u001b[0m). Use \u001b[1m`wandb login --relogin`\u001b[0m to force relogin\n"
     ]
    },
    {
     "data": {
      "text/html": [
       "wandb version 0.16.0 is available!  To upgrade, please run:\n",
       " $ pip install wandb --upgrade"
      ],
      "text/plain": [
       "<IPython.core.display.HTML object>"
      ]
     },
     "metadata": {},
     "output_type": "display_data"
    },
    {
     "data": {
      "text/html": [
       "Tracking run with wandb version 0.15.3"
      ],
      "text/plain": [
       "<IPython.core.display.HTML object>"
      ]
     },
     "metadata": {},
     "output_type": "display_data"
    },
    {
     "data": {
      "text/html": [
       "Run data is saved locally in <code>/content/wandb/run-20231110_053922-n1trxjce</code>"
      ],
      "text/plain": [
       "<IPython.core.display.HTML object>"
      ]
     },
     "metadata": {},
     "output_type": "display_data"
    },
    {
     "data": {
      "text/html": [
       "Syncing run <strong><a href='https://wandb.ai/buzz__/awesome_project_test/runs/n1trxjce' target=\"_blank\">wild-oath-8</a></strong> to <a href='https://wandb.ai/buzz__/awesome_project_test' target=\"_blank\">Weights & Biases</a> (<a href='https://wandb.me/run' target=\"_blank\">docs</a>)<br/>"
      ],
      "text/plain": [
       "<IPython.core.display.HTML object>"
      ]
     },
     "metadata": {},
     "output_type": "display_data"
    },
    {
     "data": {
      "text/html": [
       " View project at <a href='https://wandb.ai/buzz__/awesome_project_test' target=\"_blank\">https://wandb.ai/buzz__/awesome_project_test</a>"
      ],
      "text/plain": [
       "<IPython.core.display.HTML object>"
      ]
     },
     "metadata": {},
     "output_type": "display_data"
    },
    {
     "data": {
      "text/html": [
       " View run at <a href='https://wandb.ai/buzz__/awesome_project_test/runs/n1trxjce' target=\"_blank\">https://wandb.ai/buzz__/awesome_project_test/runs/n1trxjce</a>"
      ],
      "text/plain": [
       "<IPython.core.display.HTML object>"
      ]
     },
     "metadata": {},
     "output_type": "display_data"
    },
    {
     "data": {
      "text/html": [
       "<button onClick=\"this.nextSibling.style.display='block';this.style.display='none';\">Display W&B run</button><iframe src='https://wandb.ai/buzz__/awesome_project_test/runs/n1trxjce?jupyter=true' style='border:none;width:100%;height:420px;display:none;'></iframe>"
      ],
      "text/plain": [
       "<wandb.sdk.wandb_run.Run at 0x7f439ee85600>"
      ]
     },
     "execution_count": 25,
     "metadata": {},
     "output_type": "execute_result"
    },
    {
     "name": "stdout",
     "output_type": "stream",
     "text": [
      "Error in callback <bound method _WandbInit._pause_backend of <wandb.sdk.wandb_init._WandbInit object at 0x7f439f852d70>> (for post_run_cell), with arguments args (<ExecutionResult object at 7f439f852d10, execution_count=25 error_before_exec=None error_in_exec=None info=<ExecutionInfo object at 7f439f852f50, raw_cell=\"# WandB 초기화\n",
      "wandb.init(project='awesome_project_te..\" store_history=True silent=False shell_futures=True cell_id=None> result=<wandb.sdk.wandb_run.Run object at 0x7f439ee85600>>,),kwargs {}:\n"
     ]
    },
    {
     "ename": "TypeError",
     "evalue": "_WandbInit._pause_backend() takes 1 positional argument but 2 were given",
     "output_type": "error",
     "traceback": [
      "\u001b[0;31m---------------------------------------------------------------------------\u001b[0m",
      "\u001b[0;31mTypeError\u001b[0m                                 Traceback (most recent call last)",
      "\u001b[0;31mTypeError\u001b[0m: _WandbInit._pause_backend() takes 1 positional argument but 2 were given"
     ]
    }
   ],
   "source": [
    "# WandB 초기화\n",
    "wandb.init(project='awesome_project_test')"
   ]
  },
  {
   "cell_type": "code",
   "execution_count": null,
   "id": "45be6ba7",
   "metadata": {},
   "outputs": [],
   "source": [
    "lrf = 0.001  # final layer의 학습률 조정\n",
    "batch = 32  # 배치 크기 조정\n",
    "epochs = 1  # 에폭 수 조정"
   ]
  },
  {
   "cell_type": "code",
   "execution_count": null,
   "id": "ad401789",
   "metadata": {},
   "outputs": [],
   "source": [
    "# WandB에 학습 파라미터 기록\n",
    "wandb.config.lr = lrf\n",
    "wandb.config.batch_size = batch\n",
    "wandb.config.epochs = epochs"
   ]
  },
  {
   "cell_type": "code",
   "execution_count": null,
   "id": "6a5cdb3c",
   "metadata": {},
   "outputs": [],
   "source": [
    "pip install wandb==0.15.3"
   ]
  },
  {
   "cell_type": "code",
   "execution_count": null,
   "id": "98b5d047",
   "metadata": {},
   "outputs": [],
   "source": [
    "from ultralytics.yolo.engine.model import YOLO"
   ]
  },
  {
   "cell_type": "code",
   "execution_count": null,
   "id": "090c42fc",
   "metadata": {},
   "outputs": [],
   "source": [
    "from wandb.integration.yolov8 import add_callbacks as add_wandb_callbacks"
   ]
  },
  {
   "cell_type": "code",
   "execution_count": null,
   "id": "115c7d7f",
   "metadata": {},
   "outputs": [],
   "source": [
    "model = YOLO('yolov8m.pt')  # 미리 학습된 모델 로드 (학습에 권장됨)\n",
    "add_wandb_callbacks(model, project='awesome_project_test')\n",
    "\n",
    "results = model.train(data='/content/Traffic_light/data.yaml', epochs=epochs, imgsz=640, batch=batch, lrf=lrf)"
   ]
  },
  {
   "cell_type": "code",
   "execution_count": null,
   "id": "486d7c3f",
   "metadata": {},
   "outputs": [],
   "source": [
    "import tensorflow as tf"
   ]
  },
  {
   "cell_type": "code",
   "execution_count": null,
   "id": "60e81cfe",
   "metadata": {},
   "outputs": [],
   "source": [
    "model.summary()"
   ]
  },
  {
   "cell_type": "code",
   "execution_count": null,
   "id": "a771e8e2",
   "metadata": {},
   "outputs": [],
   "source": [
    "import pkg_resources\n",
    "\n",
    "# 현재 설치된 모든 패키지와 버전 가져오기\n",
    "installed_packages = pkg_resources.working_set\n",
    "installed_packages_list = sorted([\"{}=={}\".format(i.key, i.version) for i in installed_packages])\n",
    "\n",
    "# 출력\n",
    "for package in installed_packages_list:\n",
    "    print(package)\n"
   ]
  },
  {
   "cell_type": "code",
   "execution_count": null,
   "id": "5bbe67b5",
   "metadata": {},
   "outputs": [],
   "source": []
  }
 ],
 "metadata": {
  "kernelspec": {
   "display_name": "Python 3 (ipykernel)",
   "language": "python",
   "name": "python3"
  },
  "language_info": {
   "codemirror_mode": {
    "name": "ipython",
    "version": 3
   },
   "file_extension": ".py",
   "mimetype": "text/x-python",
   "name": "python",
   "nbconvert_exporter": "python",
   "pygments_lexer": "ipython3",
   "version": "3.11.5"
  }
 },
 "nbformat": 4,
 "nbformat_minor": 5
}
